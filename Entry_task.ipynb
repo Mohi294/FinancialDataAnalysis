{
 "cells": [
  {
   "cell_type": "code",
   "execution_count": 32,
   "metadata": {},
   "outputs": [
    {
     "name": "stdout",
     "output_type": "stream",
     "text": [
      "\n",
      "Simulating API Downtime:\n"
     ]
    },
    {
     "name": "stdout",
     "output_type": "stream",
     "text": [
      "              t             c         v\n",
      "0    1701346200  1.918500e+09  0.001246\n",
      "1    1701346260  1.919396e+09  0.030425\n",
      "2    1701346320  1.917735e+09  0.002350\n",
      "3    1701346380  1.917735e+09  0.019920\n",
      "4    1701346440  1.916361e+09  0.012854\n",
      "..          ...           ...       ...\n",
      "495  1701375900  1.910616e+09  0.026834\n",
      "496  1701375960  1.913609e+09  0.007366\n",
      "497  1701376020  1.914271e+09  0.047383\n",
      "498  1701376080  1.914000e+09  0.013993\n",
      "499  1701376140  1.915000e+09  0.039812\n",
      "\n",
      "[500 rows x 3 columns]\n",
      "\n",
      "Simulating Rate Limit Exceeded:\n",
      "              t             c         v\n",
      "0    1701346200  1.918500e+09  0.001246\n",
      "1    1701346260  1.919396e+09  0.030425\n",
      "2    1701346320  1.917735e+09  0.002350\n",
      "3    1701346380  1.917735e+09  0.019920\n",
      "4    1701346440  1.916361e+09  0.012854\n",
      "..          ...           ...       ...\n",
      "495  1701375900  1.910616e+09  0.026834\n",
      "496  1701375960  1.913609e+09  0.007366\n",
      "497  1701376020  1.914271e+09  0.047383\n",
      "498  1701376080  1.914000e+09  0.013993\n",
      "499  1701376140  1.915000e+09  0.039812\n",
      "\n",
      "[500 rows x 3 columns]\n",
      "\n",
      "Simulating Data Inconsistency:\n",
      "No data inconsistencies found.\n",
      "              t             c         v\n",
      "0    1701346200  1.918500e+09  0.001246\n",
      "1    1701346260  1.919396e+09  0.030425\n",
      "2    1701346320  1.917735e+09  0.002350\n",
      "3    1701346380  1.917735e+09  0.019920\n",
      "4    1701346440  1.916361e+09  0.012854\n",
      "..          ...           ...       ...\n",
      "495  1701375900  1.910616e+09  0.026834\n",
      "496  1701375960  1.913609e+09  0.007366\n",
      "497  1701376020  1.914271e+09  0.047383\n",
      "498  1701376080  1.914000e+09  0.013993\n",
      "499  1701376140  1.915000e+09  0.039812\n",
      "\n",
      "[500 rows x 3 columns]\n",
      "\n",
      "Simulating API Downtime:\n",
      "              t            c        v\n",
      "0    1701346200  104100000.0  0.06837\n",
      "1    1701346260  103772111.0  0.06450\n",
      "2    1701346320  103772111.0  0.00000\n",
      "3    1701346380  103772123.0  0.01212\n",
      "4    1701346440  103772123.0  0.00000\n",
      "..          ...          ...      ...\n",
      "495  1701375900  103670000.0  0.00000\n",
      "496  1701375960  103670000.0  0.00000\n",
      "497  1701376020  103666665.0  0.00482\n",
      "498  1701376080  103666665.0  0.00053\n",
      "499  1701376140  103666000.0  0.01157\n",
      "\n",
      "[500 rows x 3 columns]\n",
      "\n",
      "Simulating Rate Limit Exceeded:\n",
      "              t            c        v\n",
      "0    1701346200  104100000.0  0.06837\n",
      "1    1701346260  103772111.0  0.06450\n",
      "2    1701346320  103772111.0  0.00000\n",
      "3    1701346380  103772123.0  0.01212\n",
      "4    1701346440  103772123.0  0.00000\n",
      "..          ...          ...      ...\n",
      "495  1701375900  103670000.0  0.00000\n",
      "496  1701375960  103670000.0  0.00000\n",
      "497  1701376020  103666665.0  0.00482\n",
      "498  1701376080  103666665.0  0.00053\n",
      "499  1701376140  103666000.0  0.01157\n",
      "\n",
      "[500 rows x 3 columns]\n",
      "\n",
      "Simulating Data Inconsistency:\n",
      "No data inconsistencies found.\n",
      "              t            c        v\n",
      "0    1701346200  104100000.0  0.06837\n",
      "1    1701346260  103772111.0  0.06450\n",
      "2    1701346320  103772111.0  0.00000\n",
      "3    1701346380  103772123.0  0.01212\n",
      "4    1701346440  103772123.0  0.00000\n",
      "..          ...          ...      ...\n",
      "495  1701375900  103670000.0  0.00000\n",
      "496  1701375960  103670000.0  0.00000\n",
      "497  1701376020  103666665.0  0.00482\n",
      "498  1701376080  103666665.0  0.00053\n",
      "499  1701376140  103666000.0  0.01157\n",
      "\n",
      "[500 rows x 3 columns]\n"
     ]
    }
   ],
   "source": [
    "import requests\n",
    "import time\n",
    "import pandas as pd\n",
    "from requests.exceptions import HTTPError, Timeout\n",
    "\n",
    "\n",
    "# I chose the closing price since it provides a better overview of the market by the end of the day. However, \n",
    "# I believe that this choice entirely depends on the purpose of the task. For instance, in a market with significant \n",
    "# fluctuations throughout the day, a weighted average might offer more insightful information.\n",
    "\n",
    "# I chose to use BTCIRT and ETHIRT because Nobitex did not have other required data, and accessing additional \n",
    "# resources involved too many authentication steps, including selfies. I did not want to provide my data for \n",
    "# an entry task, considering that the purpose of this task is different and can be fulfilled with any data.\n",
    "\n",
    "# API URL\n",
    "api_url1 = \"https://api.nobitex.ir/market/udf/history?symbol=BTCIRT&resolution=1&from=1669843800&to=1701376200\"\n",
    "api_url2 = \"https://api.nobitex.ir/market/udf/history?symbol=ETHIRT&resolution=1&from=1669843800&to=1701376200\"\n",
    "\n",
    "def simulate_api_downtime(api):\n",
    "    print(\"\\nSimulating API Downtime:\")\n",
    "    try:\n",
    "        # Simulate API Downtime\n",
    "        response = requests.get(api)\n",
    "        response.raise_for_status()  # Raise an exception for 4xx and 5xx status codes\n",
    "\n",
    "        # Process the API response if successful\n",
    "        data = pd.DataFrame(response.json())\n",
    "        columns = ['t', 'c', 'v']\n",
    "        price = data[columns]\n",
    "        return price\n",
    "\n",
    "    except requests.exceptions.RequestException as e:\n",
    "        print(f\"Error during API request: {e}\")\n",
    "\n",
    "def simulate_rate_limit_exceeded(api):\n",
    "    print(\"\\nSimulating Rate Limit Exceeded:\")\n",
    "    try:\n",
    "        # Simulate Rate Limit Exceeded\n",
    "        for _ in range(6):  # Exceeding the rate limit (assuming rate limit is 5 requests per second)\n",
    "            response = requests.get(api)\n",
    "            response.raise_for_status()\n",
    "            data = pd.DataFrame(response.json())\n",
    "            columns = ['t','c', 'v']\n",
    "            price = data[columns]\n",
    "            return price\n",
    "            time.sleep(0.2)  # Introduce a delay between requests\n",
    "\n",
    "    except requests.exceptions.RequestException as e:\n",
    "        print(f\"Error during API request: {e}\")\n",
    "\n",
    "def simulate_data_inconsistency(api):\n",
    "    print(\"\\nSimulating Data Inconsistency:\")\n",
    "    try:\n",
    "        # Simulate Data Inconsistency \n",
    "        response = requests.get(api)\n",
    "        response.raise_for_status()\n",
    "\n",
    "        data = pd.DataFrame(response.json())\n",
    "        columns = ['t', 'c', 'v']\n",
    "        price = data[columns]\n",
    "\n",
    "        # Check for missing values\n",
    "        if price.isnull().any().any():\n",
    "            raise ValueError(\"DataFrame contains missing values.\")\n",
    "\n",
    "        # Check if all values in each column have the same type\n",
    "        for column in price.columns:\n",
    "            if price[column].apply(type).nunique() != 1:\n",
    "                raise TypeError(f\"Column '{column}' has inconsistent data types.\")\n",
    "\n",
    "        # Add more checks as needed...\n",
    "\n",
    "        print(\"No data inconsistencies found.\")\n",
    "\n",
    "\n",
    "        # Modify the API response to introduce inconsistency\n",
    "        \n",
    "        \n",
    "        return price\n",
    "\n",
    "    except requests.exceptions.RequestException as e:\n",
    "        print(f\"Error during API request: {e}\")\n",
    "\n",
    "# Simulate API downtime\n",
    "print(simulate_api_downtime(api_url1))\n",
    "\n",
    "# Simulate rate limit exceeded\n",
    "print(simulate_rate_limit_exceeded(api_url1))\n",
    "\n",
    "# Simulate data inconsistency\n",
    "print(simulate_data_inconsistency(api_url1))\n",
    "\n",
    "# Simulate API downtime\n",
    "print(simulate_api_downtime(api_url2))\n",
    "\n",
    "# Simulate rate limit exceeded\n",
    "print(simulate_rate_limit_exceeded(api_url2))\n",
    "\n",
    "# Simulate data inconsistency\n",
    "print(simulate_data_inconsistency(api_url2))"
   ]
  },
  {
   "cell_type": "code",
   "execution_count": 33,
   "metadata": {},
   "outputs": [
    {
     "name": "stdout",
     "output_type": "stream",
     "text": [
      "\n",
      "Simulating API Downtime:\n",
      "\n",
      "Simulating API Downtime:\n",
      "     closed_price   open_time\n",
      "0       18.429395  1701346200\n",
      "1       18.496261  1701346260\n",
      "2       18.480258  1701346320\n",
      "3       18.480256  1701346380\n",
      "4       18.467012  1701346440\n",
      "..            ...         ...\n",
      "495     18.429783  1701375900\n",
      "496     18.458654  1701375960\n",
      "497     18.465637  1701376020\n",
      "498     18.463023  1701376080\n",
      "499     18.472788  1701376140\n",
      "\n",
      "[500 rows x 2 columns]\n"
     ]
    }
   ],
   "source": [
    "# Extracting the BCT-ETH pairs from the primary BTCIRT and ETHIRT pairs using \"triangular arbitage-cross rate\" process.\n",
    "\n",
    "# Let's say the data retreval was done with no errors. Let's use one of them to get our needed data.\n",
    "\n",
    "dataBTC = simulate_api_downtime(api_url1)\n",
    "dataETH = simulate_api_downtime(api_url2)\n",
    "\n",
    "def cross_rate(df1, df2):\n",
    "    finalClosedPrice = pd.DataFrame({'closed_price': df1.c.values / df2.c.values, 'open_time': df1.t.values})\n",
    "\n",
    "    return finalClosedPrice\n",
    "\n",
    "dataBTCETH =cross_rate(dataBTC, dataETH)\n",
    "\n",
    "print(dataBTCETH)\n"
   ]
  },
  {
   "cell_type": "code",
   "execution_count": 34,
   "metadata": {},
   "outputs": [
    {
     "name": "stdout",
     "output_type": "stream",
     "text": [
      "                     closed_price\n",
      "open_time                        \n",
      "2023-11-30 12:10:00     18.470636\n",
      "2023-11-30 12:15:00     18.448979\n",
      "2023-11-30 12:20:00     18.435386\n",
      "2023-11-30 12:25:00     18.442809\n",
      "2023-11-30 12:30:00     18.439533\n",
      "...                           ...\n",
      "2023-11-30 20:05:00     18.436954\n",
      "2023-11-30 20:10:00     18.430534\n",
      "2023-11-30 20:15:00     18.483962\n",
      "2023-11-30 20:20:00     18.474615\n",
      "2023-11-30 20:25:00     18.457977\n",
      "\n",
      "[100 rows x 1 columns]\n",
      "                     closed_price\n",
      "open_time                        \n",
      "2023-11-30 12:00:00     18.459808\n",
      "2023-11-30 12:20:00     18.438541\n",
      "2023-11-30 12:40:00     18.449367\n",
      "2023-11-30 13:00:00     18.501283\n",
      "2023-11-30 13:20:00     18.458225\n",
      "2023-11-30 13:40:00     18.478223\n",
      "2023-11-30 14:00:00     18.505371\n",
      "2023-11-30 14:20:00     18.560873\n",
      "2023-11-30 14:40:00     18.529450\n",
      "2023-11-30 15:00:00     18.522984\n",
      "2023-11-30 15:20:00     18.486893\n",
      "2023-11-30 15:40:00     18.508039\n",
      "2023-11-30 16:00:00     18.508069\n",
      "2023-11-30 16:20:00     18.508689\n",
      "2023-11-30 16:40:00     18.525620\n",
      "2023-11-30 17:00:00     18.516890\n",
      "2023-11-30 17:20:00     18.508910\n",
      "2023-11-30 17:40:00     18.496765\n",
      "2023-11-30 18:00:00     18.497298\n",
      "2023-11-30 18:20:00     18.473380\n",
      "2023-11-30 18:40:00     18.431446\n",
      "2023-11-30 19:00:00     18.452054\n",
      "2023-11-30 19:20:00     18.469818\n",
      "2023-11-30 19:40:00     18.472802\n",
      "2023-11-30 20:00:00     18.445449\n",
      "2023-11-30 20:20:00     18.466296\n",
      "                     closed_price\n",
      "open_time                        \n",
      "2023-11-30 12:06:00     18.462828\n",
      "2023-11-30 12:12:00     18.464814\n",
      "2023-11-30 12:18:00     18.443285\n",
      "2023-11-30 12:24:00     18.435801\n",
      "2023-11-30 12:30:00     18.436790\n",
      "...                           ...\n",
      "2023-11-30 20:00:00     18.434527\n",
      "2023-11-30 20:06:00     18.429775\n",
      "2023-11-30 20:12:00     18.457563\n",
      "2023-11-30 20:18:00     18.482036\n",
      "2023-11-30 20:24:00     18.458090\n",
      "\n",
      "[84 rows x 1 columns]\n"
     ]
    }
   ],
   "source": [
    "# 1.2 Resampling: \n",
    "# Resampling data by averaging every 5, 20, and 60 rows (note: we lack data for 1440 rows).\n",
    "# Since the time intervals are equal, TWAP is like a normal average. Additionally, given that only\n",
    "# the closing price is available and there is no means of obtaining the traded volume for\n",
    "# BTC-ETC (none that I can think of), VWAP is deemed useless.\n",
    "\n",
    "class Resampling:\n",
    "    def __init__(self, resample_to):\n",
    "        self.resample_to = resample_to\n",
    "\n",
    "    def resampling(self, df):\n",
    "        # Make a copy of the DataFrame to avoid modifying the original\n",
    "        dummy_dataframe = df.copy()\n",
    "\n",
    "        dummy_dataframe['open_time'] = pd.to_datetime(df['open_time'], unit='s')\n",
    "        dummy_dataframe.set_index('open_time', inplace=True)\n",
    "\n",
    "        new_dataframe = dummy_dataframe.resample(self.resample_to).mean()\n",
    "\n",
    "        return new_dataframe\n",
    "\n",
    "\n",
    "class ResamplingTo5(Resampling):\n",
    "    def __init__(self):\n",
    "        # Unique number for this subclass\n",
    "        super().__init__('5T')\n",
    "\n",
    "class ResamplingTo20(Resampling):\n",
    "    def __init__(self):\n",
    "        # Unique number for this subclass\n",
    "        super().__init__('20T')\n",
    "\n",
    "class ResamplingTo60(Resampling):\n",
    "    def __init__(self):\n",
    "        # Unique number for this subclass\n",
    "        super().__init__('6T')\n",
    "\n",
    "dataBTCETH_5t_self = ResamplingTo5()\n",
    "dataBTCETH_5t = dataBTCETH_5t_self.resampling(dataBTCETH)\n",
    "print(dataBTCETH_5t)\n",
    "\n",
    "\n",
    "dataBTCETH_20t_self = ResamplingTo20()\n",
    "dataBTCETH_20t = dataBTCETH_20t_self.resampling(dataBTCETH)\n",
    "print(dataBTCETH_20t)\n",
    "\n",
    "dataBTCETH_60t_self = ResamplingTo60()\n",
    "dataBTCETH_60t = dataBTCETH_60t_self.resampling(dataBTCETH)\n",
    "print(dataBTCETH_60t)"
   ]
  },
  {
   "cell_type": "code",
   "execution_count": 35,
   "metadata": {},
   "outputs": [
    {
     "name": "stdout",
     "output_type": "stream",
     "text": [
      "     closed_price   open_time\n",
      "0       18.429395  1701346200\n",
      "1       18.496261  1701346260\n",
      "2       18.480258  1701346320\n",
      "3       18.480256  1701346380\n",
      "4       18.467012  1701346440\n",
      "..            ...         ...\n",
      "495     18.429783  1701375900\n",
      "496     18.458654  1701375960\n",
      "497     18.465637  1701376020\n",
      "498     18.463023  1701376080\n",
      "499     18.472788  1701376140\n",
      "\n",
      "[500 rows x 2 columns]\n"
     ]
    }
   ],
   "source": [
    "# 1.3 Handling Market Anomalies:\n",
    "# The good old-school anomaly handling. This step should have been done first thing before other parts.\n",
    "# But I am just going to do it for the final result for the sake of fulfilling the task needs.\n",
    "\n",
    "# I cannot just fill it with zeros nor can I drop them since it would cause \n",
    "# problems in calculating other time intervals.\n",
    "\n",
    "# Since the data is minutely and probably not much changes in a 5 min interval\n",
    "# I am just going to fill missing data using forward-fill.\n",
    "\n",
    "\n",
    "# Depending on the purpose of our analysis and our goals, various scenarios and anomalies can be addressed, \n",
    "# such as data spikes and seasonal changes. However, for the sake of this task, I have opted for \n",
    "# the simplest approach.\n",
    "\n",
    "from scipy.stats import zscore\n",
    "import numpy as np\n",
    "\n",
    "def anomaly_handling(df):\n",
    "    df = df.ffill()\n",
    "\n",
    "    z_scores = np.abs(zscore(df['closed_price']))\n",
    "    df_no_outliers = df[(z_scores < 3)]\n",
    "\n",
    "    return df_no_outliers\n",
    "\n",
    "\n",
    "no_anomalies = anomaly_handling(dataBTCETH)\n",
    "print(no_anomalies)"
   ]
  },
  {
   "cell_type": "code",
   "execution_count": 36,
   "metadata": {},
   "outputs": [
    {
     "name": "stdout",
     "output_type": "stream",
     "text": [
      "     closed_price   open_time    Log_Return\n",
      "0       18.429395  1701346200           NaN\n",
      "1       18.496261  1701346260  3.621644e-03\n",
      "2       18.480258  1701346320 -8.655284e-04\n",
      "3       18.480256  1701346380 -1.156380e-07\n",
      "4       18.467012  1701346440 -7.169497e-04\n",
      "..            ...         ...           ...\n",
      "495     18.429783  1701375900 -1.565267e-03\n",
      "496     18.458654  1701375960  1.565266e-03\n",
      "497     18.465637  1701376020  3.782524e-04\n",
      "498     18.463023  1701376080 -1.415783e-04\n",
      "499     18.472788  1701376140  5.287444e-04\n",
      "\n",
      "[500 rows x 3 columns]\n",
      "                     closed_price  Log_Return\n",
      "open_time                                    \n",
      "2023-11-30 12:10:00     18.470636         NaN\n",
      "2023-11-30 12:15:00     18.448979   -0.001173\n",
      "2023-11-30 12:20:00     18.435386   -0.000737\n",
      "2023-11-30 12:25:00     18.442809    0.000403\n",
      "2023-11-30 12:30:00     18.439533   -0.000178\n",
      "...                           ...         ...\n",
      "2023-11-30 20:05:00     18.436954    0.000358\n",
      "2023-11-30 20:10:00     18.430534   -0.000348\n",
      "2023-11-30 20:15:00     18.483962    0.002895\n",
      "2023-11-30 20:20:00     18.474615   -0.000506\n",
      "2023-11-30 20:25:00     18.457977   -0.000901\n",
      "\n",
      "[100 rows x 2 columns]\n",
      "                     closed_price  Log_Return\n",
      "open_time                                    \n",
      "2023-11-30 12:00:00     18.459808         NaN\n",
      "2023-11-30 12:20:00     18.438541   -0.001153\n",
      "2023-11-30 12:40:00     18.449367    0.000587\n",
      "2023-11-30 13:00:00     18.501283    0.002810\n",
      "2023-11-30 13:20:00     18.458225   -0.002330\n",
      "2023-11-30 13:40:00     18.478223    0.001083\n",
      "2023-11-30 14:00:00     18.505371    0.001468\n",
      "2023-11-30 14:20:00     18.560873    0.002995\n",
      "2023-11-30 14:40:00     18.529450   -0.001694\n",
      "2023-11-30 15:00:00     18.522984   -0.000349\n",
      "2023-11-30 15:20:00     18.486893   -0.001950\n",
      "2023-11-30 15:40:00     18.508039    0.001143\n",
      "2023-11-30 16:00:00     18.508069    0.000002\n",
      "2023-11-30 16:20:00     18.508689    0.000033\n",
      "2023-11-30 16:40:00     18.525620    0.000914\n",
      "2023-11-30 17:00:00     18.516890   -0.000471\n",
      "2023-11-30 17:20:00     18.508910   -0.000431\n",
      "2023-11-30 17:40:00     18.496765   -0.000656\n",
      "2023-11-30 18:00:00     18.497298    0.000029\n",
      "2023-11-30 18:20:00     18.473380   -0.001294\n",
      "2023-11-30 18:40:00     18.431446   -0.002273\n",
      "2023-11-30 19:00:00     18.452054    0.001117\n",
      "2023-11-30 19:20:00     18.469818    0.000962\n",
      "2023-11-30 19:40:00     18.472802    0.000162\n",
      "2023-11-30 20:00:00     18.445449   -0.001482\n",
      "2023-11-30 20:20:00     18.466296    0.001130\n",
      "                     closed_price  Log_Return\n",
      "open_time                                    \n",
      "2023-11-30 12:06:00     18.462828         NaN\n",
      "2023-11-30 12:12:00     18.464814    0.000108\n",
      "2023-11-30 12:18:00     18.443285   -0.001167\n",
      "2023-11-30 12:24:00     18.435801   -0.000406\n",
      "2023-11-30 12:30:00     18.436790    0.000054\n",
      "...                           ...         ...\n",
      "2023-11-30 20:00:00     18.434527   -0.002562\n",
      "2023-11-30 20:06:00     18.429775   -0.000258\n",
      "2023-11-30 20:12:00     18.457563    0.001507\n",
      "2023-11-30 20:18:00     18.482036    0.001325\n",
      "2023-11-30 20:24:00     18.458090   -0.001297\n",
      "\n",
      "[84 rows x 2 columns]\n"
     ]
    }
   ],
   "source": [
    "# 2 EDA\n",
    "# 2.1 log returns\n",
    "\n",
    "import numpy as np\n",
    "\n",
    "def log_reurns(df):\n",
    "    price_data = df.copy()\n",
    "    price_data['Log_Return'] = np.log(price_data['closed_price'] / price_data['closed_price'].shift(1))\n",
    "\n",
    "    return price_data\n",
    "\n",
    "logReturns = log_reurns(dataBTCETH) \n",
    "print(logReturns)\n",
    "\n",
    "logReturns_5 = log_reurns(dataBTCETH_5t)\n",
    "print(logReturns_5)\n",
    "\n",
    "logReturns_20 = log_reurns(dataBTCETH_20t)\n",
    "print(logReturns_20)\n",
    "\n",
    "logReturns_60 = log_reurns(dataBTCETH_60t)\n",
    "print(logReturns_60)\n",
    "\n",
    "# I did not know prices change more minutely than they do hourly."
   ]
  },
  {
   "cell_type": "code",
   "execution_count": 37,
   "metadata": {},
   "outputs": [
    {
     "name": "stdout",
     "output_type": "stream",
     "text": [
      "     closed_price   open_time    Log_Return  Volatility\n",
      "0       18.429395  1701346200           NaN         NaN\n",
      "1       18.496261  1701346260  3.621644e-03         NaN\n",
      "2       18.480258  1701346320 -8.655284e-04    0.003173\n",
      "3       18.480256  1701346380 -1.156380e-07    0.000883\n",
      "4       18.467012  1701346440 -7.169497e-04    0.000527\n",
      "..            ...         ...           ...         ...\n",
      "495     18.429783  1701375900 -1.565267e-03    0.002200\n",
      "496     18.458654  1701375960  1.565266e-03    0.002159\n",
      "497     18.465637  1701376020  3.782524e-04    0.000887\n",
      "498     18.463023  1701376080 -1.415783e-04    0.000464\n",
      "499     18.472788  1701376140  5.287444e-04    0.000463\n",
      "\n",
      "[500 rows x 4 columns]\n",
      "                     closed_price  Log_Return  Volatility\n",
      "open_time                                                \n",
      "2023-11-30 12:10:00     18.470636         NaN         NaN\n",
      "2023-11-30 12:15:00     18.448979   -0.001173         NaN\n",
      "2023-11-30 12:20:00     18.435386   -0.000737    0.000308\n",
      "2023-11-30 12:25:00     18.442809    0.000403    0.000826\n",
      "2023-11-30 12:30:00     18.439533   -0.000178    0.000413\n",
      "...                           ...         ...         ...\n",
      "2023-11-30 20:05:00     18.436954    0.000358    0.001976\n",
      "2023-11-30 20:10:00     18.430534   -0.000348    0.000618\n",
      "2023-11-30 20:15:00     18.483962    0.002895    0.002271\n",
      "2023-11-30 20:20:00     18.474615   -0.000506    0.002332\n",
      "2023-11-30 20:25:00     18.457977   -0.000901    0.000706\n",
      "\n",
      "[100 rows x 3 columns]\n"
     ]
    }
   ],
   "source": [
    "# 2.1 Volatility\n",
    "\n",
    "def EWMA(df, lambda_param = 0.94):\n",
    "\n",
    "    price_data = df.copy()\n",
    "\n",
    "    # Calculate EWMA volatility\n",
    "    price_data['Volatility'] = price_data['Log_Return'].ewm(min_periods=1, alpha=lambda_param, adjust=False).std()\n",
    "\n",
    "    # Exactly one of com, span, halflife, or alpha must be provided if times is not provided. If times is provided,\n",
    "    # halflife and one of com, span or alpha may be provided. The choice of which parameter to use \n",
    "    # depends on our specific needs and understanding of the time series data. Adjusting these parameters \n",
    "    # can impact the sensitivity of the EWMA to recent observations.\n",
    "\n",
    "    return price_data\n",
    "\n",
    "calculateEWMA = EWMA(logReturns)\n",
    "print(calculateEWMA)\n",
    "\n",
    "calculateEWMA_5 = EWMA(logReturns_5)\n",
    "print(calculateEWMA_5)\n"
   ]
  },
  {
   "cell_type": "code",
   "execution_count": 38,
   "metadata": {},
   "outputs": [
    {
     "data": {
      "application/vnd.plotly.v1+json": {
       "config": {
        "plotlyServerURL": "https://plot.ly"
       },
       "data": [
        {
         "hovertemplate": "open_time=%{x}<br>EWMA Volatility=%{y}<extra></extra>",
         "legendgroup": "",
         "line": {
          "color": "#636efa",
          "dash": "solid"
         },
         "marker": {
          "symbol": "circle"
         },
         "mode": "lines",
         "name": "",
         "orientation": "v",
         "showlegend": false,
         "type": "scatter",
         "x": [
          1701346200,
          1701346260,
          1701346320,
          1701346380,
          1701346440,
          1701346500,
          1701346560,
          1701346620,
          1701346680,
          1701346740,
          1701346800,
          1701346860,
          1701346920,
          1701346980,
          1701347040,
          1701347100,
          1701347160,
          1701347220,
          1701347280,
          1701347340,
          1701347400,
          1701347460,
          1701347520,
          1701347580,
          1701347640,
          1701347700,
          1701347760,
          1701347820,
          1701347880,
          1701347940,
          1701348000,
          1701348060,
          1701348120,
          1701348180,
          1701348240,
          1701348300,
          1701348360,
          1701348420,
          1701348480,
          1701348540,
          1701348600,
          1701348660,
          1701348720,
          1701348780,
          1701348840,
          1701348900,
          1701348960,
          1701349020,
          1701349080,
          1701349140,
          1701349200,
          1701349260,
          1701349320,
          1701349380,
          1701349440,
          1701349500,
          1701349560,
          1701349620,
          1701349680,
          1701349740,
          1701349800,
          1701349860,
          1701349920,
          1701349980,
          1701350040,
          1701350100,
          1701350160,
          1701350220,
          1701350280,
          1701350340,
          1701350400,
          1701350460,
          1701350520,
          1701350580,
          1701350640,
          1701350700,
          1701350760,
          1701350820,
          1701350880,
          1701350940,
          1701351000,
          1701351060,
          1701351120,
          1701351180,
          1701351240,
          1701351300,
          1701351360,
          1701351420,
          1701351480,
          1701351540,
          1701351600,
          1701351660,
          1701351720,
          1701351780,
          1701351840,
          1701351900,
          1701351960,
          1701352020,
          1701352080,
          1701352140,
          1701352200,
          1701352260,
          1701352320,
          1701352380,
          1701352440,
          1701352500,
          1701352560,
          1701352620,
          1701352680,
          1701352740,
          1701352800,
          1701352860,
          1701352920,
          1701352980,
          1701353040,
          1701353100,
          1701353160,
          1701353220,
          1701353280,
          1701353340,
          1701353400,
          1701353460,
          1701353520,
          1701353580,
          1701353640,
          1701353700,
          1701353760,
          1701353820,
          1701353880,
          1701353940,
          1701354000,
          1701354060,
          1701354120,
          1701354180,
          1701354240,
          1701354300,
          1701354360,
          1701354420,
          1701354480,
          1701354540,
          1701354600,
          1701354660,
          1701354720,
          1701354780,
          1701354840,
          1701354900,
          1701354960,
          1701355020,
          1701355080,
          1701355140,
          1701355200,
          1701355260,
          1701355320,
          1701355380,
          1701355440,
          1701355500,
          1701355560,
          1701355620,
          1701355680,
          1701355740,
          1701355800,
          1701355860,
          1701355920,
          1701355980,
          1701356040,
          1701356100,
          1701356160,
          1701356220,
          1701356280,
          1701356340,
          1701356400,
          1701356460,
          1701356520,
          1701356580,
          1701356640,
          1701356700,
          1701356760,
          1701356820,
          1701356880,
          1701356940,
          1701357000,
          1701357060,
          1701357120,
          1701357180,
          1701357240,
          1701357300,
          1701357360,
          1701357420,
          1701357480,
          1701357540,
          1701357600,
          1701357660,
          1701357720,
          1701357780,
          1701357840,
          1701357900,
          1701357960,
          1701358020,
          1701358080,
          1701358140,
          1701358200,
          1701358260,
          1701358320,
          1701358380,
          1701358440,
          1701358500,
          1701358560,
          1701358620,
          1701358680,
          1701358740,
          1701358800,
          1701358860,
          1701358920,
          1701358980,
          1701359040,
          1701359100,
          1701359160,
          1701359220,
          1701359280,
          1701359340,
          1701359400,
          1701359460,
          1701359520,
          1701359580,
          1701359640,
          1701359700,
          1701359760,
          1701359820,
          1701359880,
          1701359940,
          1701360000,
          1701360060,
          1701360120,
          1701360180,
          1701360240,
          1701360300,
          1701360360,
          1701360420,
          1701360480,
          1701360540,
          1701360600,
          1701360660,
          1701360720,
          1701360780,
          1701360840,
          1701360900,
          1701360960,
          1701361020,
          1701361080,
          1701361140,
          1701361200,
          1701361260,
          1701361320,
          1701361380,
          1701361440,
          1701361500,
          1701361560,
          1701361620,
          1701361680,
          1701361740,
          1701361800,
          1701361860,
          1701361920,
          1701361980,
          1701362040,
          1701362100,
          1701362160,
          1701362220,
          1701362280,
          1701362340,
          1701362400,
          1701362460,
          1701362520,
          1701362580,
          1701362640,
          1701362700,
          1701362760,
          1701362820,
          1701362880,
          1701362940,
          1701363000,
          1701363060,
          1701363120,
          1701363180,
          1701363240,
          1701363300,
          1701363360,
          1701363420,
          1701363480,
          1701363540,
          1701363600,
          1701363660,
          1701363720,
          1701363780,
          1701363840,
          1701363900,
          1701363960,
          1701364020,
          1701364080,
          1701364140,
          1701364200,
          1701364260,
          1701364320,
          1701364380,
          1701364440,
          1701364500,
          1701364560,
          1701364620,
          1701364680,
          1701364740,
          1701364800,
          1701364860,
          1701364920,
          1701364980,
          1701365040,
          1701365100,
          1701365160,
          1701365220,
          1701365280,
          1701365340,
          1701365400,
          1701365460,
          1701365520,
          1701365580,
          1701365640,
          1701365700,
          1701365760,
          1701365820,
          1701365880,
          1701365940,
          1701366000,
          1701366060,
          1701366120,
          1701366180,
          1701366240,
          1701366300,
          1701366360,
          1701366420,
          1701366480,
          1701366540,
          1701366600,
          1701366660,
          1701366720,
          1701366780,
          1701366840,
          1701366900,
          1701366960,
          1701367020,
          1701367080,
          1701367140,
          1701367200,
          1701367260,
          1701367320,
          1701367380,
          1701367440,
          1701367500,
          1701367560,
          1701367620,
          1701367680,
          1701367740,
          1701367800,
          1701367860,
          1701367920,
          1701367980,
          1701368040,
          1701368100,
          1701368160,
          1701368220,
          1701368280,
          1701368340,
          1701368400,
          1701368460,
          1701368520,
          1701368580,
          1701368640,
          1701368700,
          1701368760,
          1701368820,
          1701368880,
          1701368940,
          1701369000,
          1701369060,
          1701369120,
          1701369180,
          1701369240,
          1701369300,
          1701369360,
          1701369420,
          1701369480,
          1701369540,
          1701369600,
          1701369660,
          1701369720,
          1701369780,
          1701369840,
          1701369900,
          1701369960,
          1701370020,
          1701370080,
          1701370140,
          1701370200,
          1701370260,
          1701370320,
          1701370380,
          1701370440,
          1701370500,
          1701370560,
          1701370620,
          1701370680,
          1701370740,
          1701370800,
          1701370860,
          1701370920,
          1701370980,
          1701371040,
          1701371100,
          1701371160,
          1701371220,
          1701371280,
          1701371340,
          1701371400,
          1701371460,
          1701371520,
          1701371580,
          1701371640,
          1701371700,
          1701371760,
          1701371820,
          1701371880,
          1701371940,
          1701372000,
          1701372060,
          1701372120,
          1701372180,
          1701372240,
          1701372300,
          1701372360,
          1701372420,
          1701372480,
          1701372540,
          1701372600,
          1701372660,
          1701372720,
          1701372780,
          1701372840,
          1701372900,
          1701372960,
          1701373020,
          1701373080,
          1701373140,
          1701373200,
          1701373260,
          1701373320,
          1701373380,
          1701373440,
          1701373500,
          1701373560,
          1701373620,
          1701373680,
          1701373740,
          1701373800,
          1701373860,
          1701373920,
          1701373980,
          1701374040,
          1701374100,
          1701374160,
          1701374220,
          1701374280,
          1701374340,
          1701374400,
          1701374460,
          1701374520,
          1701374580,
          1701374640,
          1701374700,
          1701374760,
          1701374820,
          1701374880,
          1701374940,
          1701375000,
          1701375060,
          1701375120,
          1701375180,
          1701375240,
          1701375300,
          1701375360,
          1701375420,
          1701375480,
          1701375540,
          1701375600,
          1701375660,
          1701375720,
          1701375780,
          1701375840,
          1701375900,
          1701375960,
          1701376020,
          1701376080,
          1701376140
         ],
         "xaxis": "x",
         "y": [
          null,
          null,
          0.0031729097845711205,
          0.0008825836524822602,
          0.0005270912364994151,
          0.00014109497465381783,
          0.00029764744293877865,
          0.00016302134794601075,
          0.0003076557968707634,
          0.00011651884147023895,
          0.001866880838383378,
          0.0028443489082434284,
          0.0011282436593414837,
          0.0014143785451883062,
          0.0016037888144149234,
          0.0017853835557979263,
          0.0030437834603887024,
          0.0026488952300672028,
          0.000662754664586585,
          0.0009889140320183845,
          0.0003085100753513568,
          0.0019643401157938413,
          0.0020256109180621044,
          0.0023965826211892576,
          0.0021669456909657317,
          0.0017555345552983574,
          0.0011977034087360355,
          0.0007839811848767289,
          0.0024411995748877873,
          0.005165253970052182,
          0.002298344854033938,
          0.000717673416209469,
          0.00039764954375022006,
          0.0002551580004274027,
          0.001605371033625648,
          0.0031634879923545813,
          0.0011869278188404876,
          0.002220844237079543,
          0.0009781681834951923,
          0.00029825665696398045,
          0.002299615616641651,
          0.0022430831137082805,
          0.000564671942925991,
          0.0005049826323117857,
          0.0009347694857856318,
          0.0033224378421101235,
          0.0032182182826655126,
          0.0009924817421831432,
          0.00028389003546372475,
          0.0007697491901647825,
          0.0027809645977780193,
          0.0031922248119130936,
          0.001553540527994699,
          0.0012892360690160856,
          0.0008378772705284364,
          0.002364829792872352,
          0.0007562490896734045,
          0.0008656135989007928,
          0.0007376546278228635,
          0.0025499602775163506,
          0.0057765021465324045,
          0.00738565386007408,
          0.004211160166566205,
          0.0010559222207680422,
          0.0014977451990723911,
          0.0012580575554002075,
          0.0018693412064259968,
          0.003980341810459081,
          0.0022715204522455084,
          0.0016834096156563504,
          0.0024657938955504172,
          0.0006427682216943344,
          0.0007443329731263344,
          0.00033951060822887206,
          0.0008584641260516064,
          0.00022655910486852541,
          0.0022562279667016853,
          0.0023915473748188404,
          0.0006169695287770019,
          0.001625334534103058,
          0.0008372835783197514,
          0.0017014727394018398,
          0.0015998275891711735,
          0.002176610516730858,
          0.0009909747919821764,
          0.001161441591720393,
          0.0014184747888204337,
          0.0028534543732842785,
          0.00224037864606868,
          0.001681421500539461,
          0.0020969062925879647,
          0.005576356892304911,
          0.002884924352616903,
          0.0007150927775234505,
          0.00017652810377874432,
          0.002605223627588104,
          0.004889426848482223,
          0.001206156974043672,
          0.0022555532754090133,
          0.0010121500738779576,
          0.003005955367686646,
          0.0010711976431905968,
          0.001183483481370267,
          0.00029787701520117863,
          0.00007308034475035198,
          0.0000850650083370546,
          0.0007575019095669485,
          0.0006604582174735029,
          0.0016489491297692874,
          0.0016658409833236372,
          0.0016294517479648642,
          0.001551235971924668,
          0.001835723220900875,
          0.0016666936443447404,
          0.0004888465927326526,
          0.00019750373863627717,
          0.00018541894171155373,
          0.0019417489732068015,
          0.006143180214524019,
          0.004381256971589575,
          0.0015468448456112613,
          0.003146427892322575,
          0.005844566324727083,
          0.004886908471961157,
          0.0024503203724660816,
          0.0006737625315900156,
          0.0007699358541687123,
          0.0018269544129644046,
          0.002078683176916126,
          0.0005235358572393899,
          0.00012844762106267133,
          0.0021383983968009225,
          0.002936773106072308,
          0.0010085311710338481,
          0.0003658284233323781,
          0.00022944637391165515,
          0.00047895614117257135,
          0.00170700061508808,
          0.003084958258002711,
          0.003479880466023494,
          0.00160338507185972,
          0.0017764330712485505,
          0.0028479381575919845,
          0.0014113040703875787,
          0.00035367687664969184,
          0.00008669852576608386,
          0.0003258540103001165,
          0.00393626586598871,
          0.005634057984969293,
          0.0022875817662240633,
          0.0005709257790719382,
          0.00047836170429595804,
          0.0004520675073578404,
          0.0011686553868197756,
          0.0011051156359082883,
          0.0010252745175950186,
          0.00138664520339705,
          0.0008293014214345559,
          0.0008374174748485226,
          0.006454931329277411,
          0.006218076877797121,
          0.003955098477448749,
          0.004191308300982656,
          0.005192808902770695,
          0.006370599434886741,
          0.0015668172932994386,
          0.003628472302512971,
          0.006108672317786976,
          0.005041176739307252,
          0.0016172003984775633,
          0.00039647988960280937,
          0.00009787542044706663,
          0.00003991542802753504,
          0.0025235665386692265,
          0.007151627445661303,
          0.00641669061350226,
          0.0017720064327947371,
          0.0012232708381339815,
          0.0036793119195774075,
          0.0032592646398534706,
          0.0047994731585999035,
          0.0033811415796347454,
          0.0008498518198923668,
          0.0017859511019682817,
          0.0015941003894504354,
          0.00040471567499442373,
          0.00211232356114949,
          0.0038595456909576494,
          0.0017476805750894252,
          0.0028737328047893505,
          0.002773232697673698,
          0.0018403029575145614,
          0.001934505774452121,
          0.0005484584732320538,
          0.00032385795455240146,
          0.00215946464638859,
          0.0005289600038487354,
          0.004061368253913724,
          0.0020617122304457287,
          0.0017194976376090378,
          0.0029659904805184175,
          0.0010875140115915972,
          0.0021034827252016104,
          0.0035361653963814285,
          0.003327291835742652,
          0.0008429682180262656,
          0.00021372419867569763,
          0.000052537557431237144,
          0.000012871749806764865,
          0.0015004539633468746,
          0.00292774164624422,
          0.0021217739855007916,
          0.0027115779870426093,
          0.0020547168743363818,
          0.0005166451525596439,
          0.005328302263846958,
          0.006498356282776216,
          0.002837978183690887,
          0.0014083810115979793,
          0.0004750816767413451,
          0.00011954755029001825,
          0.00045937435990226286,
          0.0018095872532051759,
          0.0021690065171844643,
          0.0011221495336916725,
          0.0002811940362004049,
          0.0011199995608203658,
          0.0021789293048186213,
          0.0007434354555965556,
          0.001482347586677693,
          0.0012970914894421387,
          0.001274256833578926,
          0.0011966914591019547,
          0.001876490939473996,
          0.001546887910189292,
          0.0007561697620947007,
          0.0008038995180137238,
          0.0009008462172272902,
          0.00042721240631312914,
          0.0016862078637968978,
          0.00184429240086817,
          0.0004772435327549345,
          0.002279099453753041,
          0.0016183956144142724,
          0.0006079919777823949,
          0.0006944037679217321,
          0.0006331669429226015,
          0.0015031879926907413,
          0.005011341832831528,
          0.005352069974116132,
          0.0036559354506339107,
          0.005858694598626812,
          0.005717174225499691,
          0.001980113652103509,
          0.002425120955159636,
          0.0023924685167459204,
          0.0006023039553867078,
          0.002117117010974652,
          0.0005197699579507091,
          0.000365483971537665,
          0.0013228076143708375,
          0.0023942671098780583,
          0.0018726790388530867,
          0.0007108700915812662,
          0.00148019403313262,
          0.002035643592224532,
          0.0011058828792173928,
          0.0010825108188089827,
          0.0008826903135628751,
          0.0002470961885552939,
          0.0008431567397032147,
          0.0018075160563868799,
          0.0036117730376636625,
          0.0038658369113846697,
          0.001270706240128364,
          0.005329739249960606,
          0.0041046818609187154,
          0.0010321950112098493,
          0.0002532225892693574,
          0.0015902938386769094,
          0.0009662304424001486,
          0.0009221017881420878,
          0.0030607415624386903,
          0.0018976290466347565,
          0.007542130984048816,
          0.004494887141041636,
          0.002968144786360018,
          0.0045528586135405195,
          0.0018122011714562709,
          0.0007070959764671433,
          0.002000836721502981,
          0.0014817683596691834,
          0.0034982789488968344,
          0.0032549370075606577,
          0.0019083881042622627,
          0.0015012738667661482,
          0.0009215970006143948,
          0.0018652215648820496,
          0.002295338646935288,
          0.0020625403185372962,
          0.0005081574601400002,
          0.0038578747856074925,
          0.0010264129499475848,
          0.002083068297161616,
          0.0005251132025222995,
          0.001698104153848822,
          0.0006275324576810043,
          0.0037292796499137047,
          0.0033041737217187374,
          0.0017116390822427556,
          0.003721772700792034,
          0.005085925161756093,
          0.0018133279353927565,
          0.00046811914558530924,
          0.00024631498380919614,
          0.001952724051336209,
          0.0019097396769828005,
          0.0005434727742414446,
          0.0015212985871165471,
          0.0017206905496716985,
          0.0004215033151750319,
          0.0016274916930090185,
          0.005066337677438241,
          0.0034527754859671276,
          0.0009438667319092984,
          0.0015705288558975328,
          0.0032694863814683745,
          0.0029353515666089747,
          0.002773419716903881,
          0.0014253555527609138,
          0.0015293324252687113,
          0.0027636951196862995,
          0.0027450670193425964,
          0.0014204274414220492,
          0.0003553285295902285,
          0.00008734107665809612,
          0.000021398562636658232,
          0.001537203812424628,
          0.0015164013479900729,
          0.001328806848014545,
          0.0011808178827091486,
          0.00029648761863245175,
          0.00030533860125670577,
          0.00029313144866673806,
          0.00007432948877793434,
          0.000018243406770333574,
          0.0003057490425391131,
          0.0002969051407773574,
          0.00007474166928560325,
          0.00001840787066330791,
          0.000005326309919582772,
          0.000003382086671989162,
          0.0000028845021931316826,
          0.000042506372459176324,
          0.00007985093834718509,
          0.00003723516346860042,
          0.000012002080680809145,
          0.000037019337156569684,
          0.00003826046344656594,
          0.00004265699306216744,
          0.00003550953825726261,
          0.00183152552220714,
          0.0020811780253144163,
          0.0005437018949649086,
          0.000546895603342471,
          0.0005703188292255352,
          0.0003665720871569938,
          0.0007822830860292836,
          0.0010737048861919987,
          0.00035757057884971353,
          0.00008845020465725083,
          0.000022272510551657862,
          0.0007993610440366149,
          0.0015592699822780276,
          0.0015498776933700739,
          0.0008893451925072588,
          0.00022370663918051614,
          0.0012660297997880506,
          0.0012295442702327521,
          0.0003095205000618566,
          0.0013667744824425237,
          0.0026622396897766957,
          0.0011101920673376633,
          0.0007186363666351508,
          0.00031874437883990344,
          0.0000796873942976187,
          0.000019542772987459276,
          0.00030574170728616404,
          0.00029690503637956795,
          0.0007536813893845783,
          0.0002414469438729665,
          0.0008659568824570302,
          0.003703470803304797,
          0.0022759366344902313,
          0.0017220252760359307,
          0.0014681811976357056,
          0.0017075110011910684,
          0.0015424623034981273,
          0.003544256643513736,
          0.0068576745177881945,
          0.003431854669990467,
          0.0008593077497672641,
          0.00021083170940176173,
          0.0016605216335937574,
          0.0014150438279859874,
          0.0019451489715898327,
          0.0031754390073181985,
          0.001635585187670646,
          0.0004098302297850292,
          0.00010052103249121426,
          0.0028987910051287607,
          0.0013763994365750744,
          0.005934296598711161,
          0.004211916155100448,
          0.0029445276267016573,
          0.0024631516183742145,
          0.0014558717248016005,
          0.0029486357797449446,
          0.0015439314140780524,
          0.00246923320329358,
          0.0024513770852476985,
          0.0026595539910618904,
          0.004548973552429212,
          0.004295308321919438,
          0.004279430445946405,
          0.003596394318118107,
          0.002931801021518485,
          0.0029245006345089706,
          0.0009631256007693104,
          0.0008015349145133574,
          0.0001964173689368755,
          0.00004811747878981735,
          0.000011786914777604825,
          0.0013561893966215477,
          0.0026517538049710366,
          0.0027198653205527767,
          0.0014210135070040746,
          0.0015100545711198901,
          0.00039625870909394526,
          0.0012216886817572362,
          0.0003016706863403147,
          0.001941242203475741,
          0.0031075694775552338,
          0.0024756484989957948,
          0.002125314239290549,
          0.0009538277967766188,
          0.00023821685667296572,
          0.0003057959283331237,
          0.00029463547265425977,
          0.0006704072337500544,
          0.0003829505051453488,
          0.0020324887393911493,
          0.0030471050133026585,
          0.0027548214274046275,
          0.001426638417016902,
          0.00039449111069758273,
          0.0014139062048149137,
          0.002710010354202254,
          0.0015929594058988923,
          0.00047438364944831093,
          0.0022504321610752327,
          0.0018558650630987714,
          0.0012455652642311063,
          0.003096827409733022,
          0.0008636507107028696,
          0.0013293006363702163,
          0.002000107847951147,
          0.001842654420960072,
          0.0020323551516719953,
          0.0036650612757293355,
          0.0009744282411086587,
          0.0013226262175155743,
          0.0013258372255592298,
          0.0023317530731403148,
          0.0011923615395382386,
          0.001268731136321761,
          0.001147298610413431,
          0.0012761664080454707,
          0.0011472905659816897,
          0.00028909956527126726,
          0.00007085753594827949,
          0.000017417517772625196,
          0.0011163186968673924,
          0.00217307388158937,
          0.0011140327765574553,
          0.003105177359409565,
          0.00426411285409016,
          0.0015133623798960043,
          0.00042490835145508177,
          0.0011177205972469017,
          0.0012070638405989726,
          0.0012836265288664426,
          0.002303759237345305,
          0.0039633319220312175,
          0.003874352850617458,
          0.0021998244419635135,
          0.0021588851921258436,
          0.0008872208122589949,
          0.0004637336957872736,
          0.0004627155761350641
         ],
         "yaxis": "y"
        }
       ],
       "layout": {
        "legend": {
         "tracegroupgap": 0
        },
        "template": {
         "data": {
          "bar": [
           {
            "error_x": {
             "color": "#2a3f5f"
            },
            "error_y": {
             "color": "#2a3f5f"
            },
            "marker": {
             "line": {
              "color": "#E5ECF6",
              "width": 0.5
             },
             "pattern": {
              "fillmode": "overlay",
              "size": 10,
              "solidity": 0.2
             }
            },
            "type": "bar"
           }
          ],
          "barpolar": [
           {
            "marker": {
             "line": {
              "color": "#E5ECF6",
              "width": 0.5
             },
             "pattern": {
              "fillmode": "overlay",
              "size": 10,
              "solidity": 0.2
             }
            },
            "type": "barpolar"
           }
          ],
          "carpet": [
           {
            "aaxis": {
             "endlinecolor": "#2a3f5f",
             "gridcolor": "white",
             "linecolor": "white",
             "minorgridcolor": "white",
             "startlinecolor": "#2a3f5f"
            },
            "baxis": {
             "endlinecolor": "#2a3f5f",
             "gridcolor": "white",
             "linecolor": "white",
             "minorgridcolor": "white",
             "startlinecolor": "#2a3f5f"
            },
            "type": "carpet"
           }
          ],
          "choropleth": [
           {
            "colorbar": {
             "outlinewidth": 0,
             "ticks": ""
            },
            "type": "choropleth"
           }
          ],
          "contour": [
           {
            "colorbar": {
             "outlinewidth": 0,
             "ticks": ""
            },
            "colorscale": [
             [
              0,
              "#0d0887"
             ],
             [
              0.1111111111111111,
              "#46039f"
             ],
             [
              0.2222222222222222,
              "#7201a8"
             ],
             [
              0.3333333333333333,
              "#9c179e"
             ],
             [
              0.4444444444444444,
              "#bd3786"
             ],
             [
              0.5555555555555556,
              "#d8576b"
             ],
             [
              0.6666666666666666,
              "#ed7953"
             ],
             [
              0.7777777777777778,
              "#fb9f3a"
             ],
             [
              0.8888888888888888,
              "#fdca26"
             ],
             [
              1,
              "#f0f921"
             ]
            ],
            "type": "contour"
           }
          ],
          "contourcarpet": [
           {
            "colorbar": {
             "outlinewidth": 0,
             "ticks": ""
            },
            "type": "contourcarpet"
           }
          ],
          "heatmap": [
           {
            "colorbar": {
             "outlinewidth": 0,
             "ticks": ""
            },
            "colorscale": [
             [
              0,
              "#0d0887"
             ],
             [
              0.1111111111111111,
              "#46039f"
             ],
             [
              0.2222222222222222,
              "#7201a8"
             ],
             [
              0.3333333333333333,
              "#9c179e"
             ],
             [
              0.4444444444444444,
              "#bd3786"
             ],
             [
              0.5555555555555556,
              "#d8576b"
             ],
             [
              0.6666666666666666,
              "#ed7953"
             ],
             [
              0.7777777777777778,
              "#fb9f3a"
             ],
             [
              0.8888888888888888,
              "#fdca26"
             ],
             [
              1,
              "#f0f921"
             ]
            ],
            "type": "heatmap"
           }
          ],
          "heatmapgl": [
           {
            "colorbar": {
             "outlinewidth": 0,
             "ticks": ""
            },
            "colorscale": [
             [
              0,
              "#0d0887"
             ],
             [
              0.1111111111111111,
              "#46039f"
             ],
             [
              0.2222222222222222,
              "#7201a8"
             ],
             [
              0.3333333333333333,
              "#9c179e"
             ],
             [
              0.4444444444444444,
              "#bd3786"
             ],
             [
              0.5555555555555556,
              "#d8576b"
             ],
             [
              0.6666666666666666,
              "#ed7953"
             ],
             [
              0.7777777777777778,
              "#fb9f3a"
             ],
             [
              0.8888888888888888,
              "#fdca26"
             ],
             [
              1,
              "#f0f921"
             ]
            ],
            "type": "heatmapgl"
           }
          ],
          "histogram": [
           {
            "marker": {
             "pattern": {
              "fillmode": "overlay",
              "size": 10,
              "solidity": 0.2
             }
            },
            "type": "histogram"
           }
          ],
          "histogram2d": [
           {
            "colorbar": {
             "outlinewidth": 0,
             "ticks": ""
            },
            "colorscale": [
             [
              0,
              "#0d0887"
             ],
             [
              0.1111111111111111,
              "#46039f"
             ],
             [
              0.2222222222222222,
              "#7201a8"
             ],
             [
              0.3333333333333333,
              "#9c179e"
             ],
             [
              0.4444444444444444,
              "#bd3786"
             ],
             [
              0.5555555555555556,
              "#d8576b"
             ],
             [
              0.6666666666666666,
              "#ed7953"
             ],
             [
              0.7777777777777778,
              "#fb9f3a"
             ],
             [
              0.8888888888888888,
              "#fdca26"
             ],
             [
              1,
              "#f0f921"
             ]
            ],
            "type": "histogram2d"
           }
          ],
          "histogram2dcontour": [
           {
            "colorbar": {
             "outlinewidth": 0,
             "ticks": ""
            },
            "colorscale": [
             [
              0,
              "#0d0887"
             ],
             [
              0.1111111111111111,
              "#46039f"
             ],
             [
              0.2222222222222222,
              "#7201a8"
             ],
             [
              0.3333333333333333,
              "#9c179e"
             ],
             [
              0.4444444444444444,
              "#bd3786"
             ],
             [
              0.5555555555555556,
              "#d8576b"
             ],
             [
              0.6666666666666666,
              "#ed7953"
             ],
             [
              0.7777777777777778,
              "#fb9f3a"
             ],
             [
              0.8888888888888888,
              "#fdca26"
             ],
             [
              1,
              "#f0f921"
             ]
            ],
            "type": "histogram2dcontour"
           }
          ],
          "mesh3d": [
           {
            "colorbar": {
             "outlinewidth": 0,
             "ticks": ""
            },
            "type": "mesh3d"
           }
          ],
          "parcoords": [
           {
            "line": {
             "colorbar": {
              "outlinewidth": 0,
              "ticks": ""
             }
            },
            "type": "parcoords"
           }
          ],
          "pie": [
           {
            "automargin": true,
            "type": "pie"
           }
          ],
          "scatter": [
           {
            "fillpattern": {
             "fillmode": "overlay",
             "size": 10,
             "solidity": 0.2
            },
            "type": "scatter"
           }
          ],
          "scatter3d": [
           {
            "line": {
             "colorbar": {
              "outlinewidth": 0,
              "ticks": ""
             }
            },
            "marker": {
             "colorbar": {
              "outlinewidth": 0,
              "ticks": ""
             }
            },
            "type": "scatter3d"
           }
          ],
          "scattercarpet": [
           {
            "marker": {
             "colorbar": {
              "outlinewidth": 0,
              "ticks": ""
             }
            },
            "type": "scattercarpet"
           }
          ],
          "scattergeo": [
           {
            "marker": {
             "colorbar": {
              "outlinewidth": 0,
              "ticks": ""
             }
            },
            "type": "scattergeo"
           }
          ],
          "scattergl": [
           {
            "marker": {
             "colorbar": {
              "outlinewidth": 0,
              "ticks": ""
             }
            },
            "type": "scattergl"
           }
          ],
          "scattermapbox": [
           {
            "marker": {
             "colorbar": {
              "outlinewidth": 0,
              "ticks": ""
             }
            },
            "type": "scattermapbox"
           }
          ],
          "scatterpolar": [
           {
            "marker": {
             "colorbar": {
              "outlinewidth": 0,
              "ticks": ""
             }
            },
            "type": "scatterpolar"
           }
          ],
          "scatterpolargl": [
           {
            "marker": {
             "colorbar": {
              "outlinewidth": 0,
              "ticks": ""
             }
            },
            "type": "scatterpolargl"
           }
          ],
          "scatterternary": [
           {
            "marker": {
             "colorbar": {
              "outlinewidth": 0,
              "ticks": ""
             }
            },
            "type": "scatterternary"
           }
          ],
          "surface": [
           {
            "colorbar": {
             "outlinewidth": 0,
             "ticks": ""
            },
            "colorscale": [
             [
              0,
              "#0d0887"
             ],
             [
              0.1111111111111111,
              "#46039f"
             ],
             [
              0.2222222222222222,
              "#7201a8"
             ],
             [
              0.3333333333333333,
              "#9c179e"
             ],
             [
              0.4444444444444444,
              "#bd3786"
             ],
             [
              0.5555555555555556,
              "#d8576b"
             ],
             [
              0.6666666666666666,
              "#ed7953"
             ],
             [
              0.7777777777777778,
              "#fb9f3a"
             ],
             [
              0.8888888888888888,
              "#fdca26"
             ],
             [
              1,
              "#f0f921"
             ]
            ],
            "type": "surface"
           }
          ],
          "table": [
           {
            "cells": {
             "fill": {
              "color": "#EBF0F8"
             },
             "line": {
              "color": "white"
             }
            },
            "header": {
             "fill": {
              "color": "#C8D4E3"
             },
             "line": {
              "color": "white"
             }
            },
            "type": "table"
           }
          ]
         },
         "layout": {
          "annotationdefaults": {
           "arrowcolor": "#2a3f5f",
           "arrowhead": 0,
           "arrowwidth": 1
          },
          "autotypenumbers": "strict",
          "coloraxis": {
           "colorbar": {
            "outlinewidth": 0,
            "ticks": ""
           }
          },
          "colorscale": {
           "diverging": [
            [
             0,
             "#8e0152"
            ],
            [
             0.1,
             "#c51b7d"
            ],
            [
             0.2,
             "#de77ae"
            ],
            [
             0.3,
             "#f1b6da"
            ],
            [
             0.4,
             "#fde0ef"
            ],
            [
             0.5,
             "#f7f7f7"
            ],
            [
             0.6,
             "#e6f5d0"
            ],
            [
             0.7,
             "#b8e186"
            ],
            [
             0.8,
             "#7fbc41"
            ],
            [
             0.9,
             "#4d9221"
            ],
            [
             1,
             "#276419"
            ]
           ],
           "sequential": [
            [
             0,
             "#0d0887"
            ],
            [
             0.1111111111111111,
             "#46039f"
            ],
            [
             0.2222222222222222,
             "#7201a8"
            ],
            [
             0.3333333333333333,
             "#9c179e"
            ],
            [
             0.4444444444444444,
             "#bd3786"
            ],
            [
             0.5555555555555556,
             "#d8576b"
            ],
            [
             0.6666666666666666,
             "#ed7953"
            ],
            [
             0.7777777777777778,
             "#fb9f3a"
            ],
            [
             0.8888888888888888,
             "#fdca26"
            ],
            [
             1,
             "#f0f921"
            ]
           ],
           "sequentialminus": [
            [
             0,
             "#0d0887"
            ],
            [
             0.1111111111111111,
             "#46039f"
            ],
            [
             0.2222222222222222,
             "#7201a8"
            ],
            [
             0.3333333333333333,
             "#9c179e"
            ],
            [
             0.4444444444444444,
             "#bd3786"
            ],
            [
             0.5555555555555556,
             "#d8576b"
            ],
            [
             0.6666666666666666,
             "#ed7953"
            ],
            [
             0.7777777777777778,
             "#fb9f3a"
            ],
            [
             0.8888888888888888,
             "#fdca26"
            ],
            [
             1,
             "#f0f921"
            ]
           ]
          },
          "colorway": [
           "#636efa",
           "#EF553B",
           "#00cc96",
           "#ab63fa",
           "#FFA15A",
           "#19d3f3",
           "#FF6692",
           "#B6E880",
           "#FF97FF",
           "#FECB52"
          ],
          "font": {
           "color": "#2a3f5f"
          },
          "geo": {
           "bgcolor": "white",
           "lakecolor": "white",
           "landcolor": "#E5ECF6",
           "showlakes": true,
           "showland": true,
           "subunitcolor": "white"
          },
          "hoverlabel": {
           "align": "left"
          },
          "hovermode": "closest",
          "mapbox": {
           "style": "light"
          },
          "paper_bgcolor": "white",
          "plot_bgcolor": "#E5ECF6",
          "polar": {
           "angularaxis": {
            "gridcolor": "white",
            "linecolor": "white",
            "ticks": ""
           },
           "bgcolor": "#E5ECF6",
           "radialaxis": {
            "gridcolor": "white",
            "linecolor": "white",
            "ticks": ""
           }
          },
          "scene": {
           "xaxis": {
            "backgroundcolor": "#E5ECF6",
            "gridcolor": "white",
            "gridwidth": 2,
            "linecolor": "white",
            "showbackground": true,
            "ticks": "",
            "zerolinecolor": "white"
           },
           "yaxis": {
            "backgroundcolor": "#E5ECF6",
            "gridcolor": "white",
            "gridwidth": 2,
            "linecolor": "white",
            "showbackground": true,
            "ticks": "",
            "zerolinecolor": "white"
           },
           "zaxis": {
            "backgroundcolor": "#E5ECF6",
            "gridcolor": "white",
            "gridwidth": 2,
            "linecolor": "white",
            "showbackground": true,
            "ticks": "",
            "zerolinecolor": "white"
           }
          },
          "shapedefaults": {
           "line": {
            "color": "#2a3f5f"
           }
          },
          "ternary": {
           "aaxis": {
            "gridcolor": "white",
            "linecolor": "white",
            "ticks": ""
           },
           "baxis": {
            "gridcolor": "white",
            "linecolor": "white",
            "ticks": ""
           },
           "bgcolor": "#E5ECF6",
           "caxis": {
            "gridcolor": "white",
            "linecolor": "white",
            "ticks": ""
           }
          },
          "title": {
           "x": 0.05
          },
          "xaxis": {
           "automargin": true,
           "gridcolor": "white",
           "linecolor": "white",
           "ticks": "",
           "title": {
            "standoff": 15
           },
           "zerolinecolor": "white",
           "zerolinewidth": 2
          },
          "yaxis": {
           "automargin": true,
           "gridcolor": "white",
           "linecolor": "white",
           "ticks": "",
           "title": {
            "standoff": 15
           },
           "zerolinecolor": "white",
           "zerolinewidth": 2
          }
         }
        },
        "title": {
         "text": "Volatility Estimation with EWMA"
        },
        "xaxis": {
         "anchor": "y",
         "domain": [
          0,
          1
         ],
         "title": {
          "text": "open_time"
         }
        },
        "yaxis": {
         "anchor": "x",
         "domain": [
          0,
          1
         ],
         "title": {
          "text": "EWMA Volatility"
         }
        }
       }
      }
     },
     "metadata": {},
     "output_type": "display_data"
    }
   ],
   "source": [
    "import plotly.express as px\n",
    "\n",
    "fig = px.line(calculateEWMA, x='open_time', y='Volatility', title='Volatility Estimation with EWMA',\n",
    "              labels={'Volatility': 'EWMA Volatility'})\n",
    "\n",
    "fig.show()"
   ]
  },
  {
   "cell_type": "code",
   "execution_count": 39,
   "metadata": {},
   "outputs": [
    {
     "name": "stdout",
     "output_type": "stream",
     "text": [
      "     closed_price   open_time    Log_Return  Volatility  ScaledVolatility  \\\n",
      "2       18.480258  1701346320 -8.655284e-04    0.003173          0.927759   \n",
      "3       18.480256  1701346380 -1.156380e-07    0.000883         -0.607753   \n",
      "4       18.467012  1701346440 -7.169497e-04    0.000527         -0.846087   \n",
      "5       18.456018  1701346500 -5.954635e-04    0.000141         -1.104871   \n",
      "6       18.452670  1701346560 -1.814565e-04    0.000298         -0.999913   \n",
      "..            ...         ...           ...         ...               ...   \n",
      "495     18.429783  1701375900 -1.565267e-03    0.002200          0.275370   \n",
      "496     18.458654  1701375960  1.565266e-03    0.002159          0.247923   \n",
      "497     18.465637  1701376020  3.782524e-04    0.000887         -0.604644   \n",
      "498     18.463023  1701376080 -1.415783e-04    0.000464         -0.888564   \n",
      "499     18.472788  1701376140  5.287444e-04    0.000463         -0.889246   \n",
      "\n",
      "     Cluster  \n",
      "2          0  \n",
      "3          2  \n",
      "4          2  \n",
      "5          2  \n",
      "6          2  \n",
      "..       ...  \n",
      "495        0  \n",
      "496        0  \n",
      "497        2  \n",
      "498        2  \n",
      "499        2  \n",
      "\n",
      "[498 rows x 6 columns]\n",
      "                     closed_price  Log_Return  Volatility  ScaledVolatility  \\\n",
      "open_time                                                                     \n",
      "2023-11-30 12:20:00     18.435386   -0.000737    0.000308         -0.961640   \n",
      "2023-11-30 12:25:00     18.442809    0.000403    0.000826         -0.561219   \n",
      "2023-11-30 12:30:00     18.439533   -0.000178    0.000413         -0.880688   \n",
      "2023-11-30 12:35:00     18.436435   -0.000168    0.000102         -1.121067   \n",
      "2023-11-30 12:40:00     18.423978   -0.000676    0.000360         -0.921617   \n",
      "...                           ...         ...         ...               ...   \n",
      "2023-11-30 20:05:00     18.436954    0.000358    0.001976          0.327754   \n",
      "2023-11-30 20:10:00     18.430534   -0.000348    0.000618         -0.721982   \n",
      "2023-11-30 20:15:00     18.483962    0.002895    0.002271          0.555945   \n",
      "2023-11-30 20:20:00     18.474615   -0.000506    0.002332          0.602787   \n",
      "2023-11-30 20:25:00     18.457977   -0.000901    0.000706         -0.654334   \n",
      "\n",
      "                     Cluster  \n",
      "open_time                     \n",
      "2023-11-30 12:20:00        0  \n",
      "2023-11-30 12:25:00        0  \n",
      "2023-11-30 12:30:00        0  \n",
      "2023-11-30 12:35:00        0  \n",
      "2023-11-30 12:40:00        0  \n",
      "...                      ...  \n",
      "2023-11-30 20:05:00        2  \n",
      "2023-11-30 20:10:00        0  \n",
      "2023-11-30 20:15:00        2  \n",
      "2023-11-30 20:20:00        2  \n",
      "2023-11-30 20:25:00        0  \n",
      "\n",
      "[98 rows x 5 columns]\n"
     ]
    },
    {
     "name": "stderr",
     "output_type": "stream",
     "text": [
      "/home/mohi/.local/lib/python3.10/site-packages/sklearn/cluster/_kmeans.py:1416: FutureWarning:\n",
      "\n",
      "The default value of `n_init` will change from 10 to 'auto' in 1.4. Set the value of `n_init` explicitly to suppress the warning\n",
      "\n",
      "/home/mohi/.local/lib/python3.10/site-packages/sklearn/cluster/_kmeans.py:1416: FutureWarning:\n",
      "\n",
      "The default value of `n_init` will change from 10 to 'auto' in 1.4. Set the value of `n_init` explicitly to suppress the warning\n",
      "\n"
     ]
    }
   ],
   "source": [
    "# 2.1 Clustering Analysis\n",
    "\n",
    "from sklearn.preprocessing import StandardScaler\n",
    "from sklearn.cluster import KMeans\n",
    "\n",
    "def Clustering(df, num_clusters = 3):\n",
    "    price_data = df.copy()\n",
    "    price_data = price_data.dropna()\n",
    "    scaler = StandardScaler()\n",
    "    price_data['ScaledVolatility'] = scaler.fit_transform(price_data[['Volatility']])\n",
    "\n",
    "\n",
    "    # Create a feature matrix\n",
    "    X = price_data[['ScaledVolatility']].values\n",
    "\n",
    "    # Apply K-means clustering\n",
    "    kmeans = KMeans(n_clusters=num_clusters, random_state=42)\n",
    "    price_data['Cluster'] = kmeans.fit_predict(X)\n",
    "\n",
    "    return price_data\n",
    "\n",
    "clusterData = Clustering(calculateEWMA)\n",
    "print(clusterData)\n",
    "\n",
    "clusterData_5 = Clustering(calculateEWMA_5)\n",
    "print(clusterData_5)"
   ]
  },
  {
   "cell_type": "code",
   "execution_count": 40,
   "metadata": {},
   "outputs": [
    {
     "data": {
      "application/vnd.plotly.v1+json": {
       "config": {
        "plotlyServerURL": "https://plot.ly"
       },
       "data": [
        {
         "hovertemplate": "open_time=%{x}<br>closed_price=%{y}<br>Cluster=%{marker.color}<extra></extra>",
         "legendgroup": "",
         "marker": {
          "color": [
           0,
           2,
           2,
           2,
           2,
           2,
           2,
           2,
           0,
           0,
           2,
           2,
           0,
           0,
           0,
           0,
           2,
           2,
           2,
           0,
           0,
           0,
           0,
           0,
           2,
           2,
           0,
           1,
           0,
           2,
           2,
           2,
           0,
           0,
           2,
           0,
           2,
           2,
           0,
           0,
           2,
           2,
           2,
           0,
           0,
           2,
           2,
           2,
           0,
           0,
           0,
           2,
           2,
           0,
           2,
           2,
           2,
           0,
           1,
           1,
           1,
           2,
           0,
           2,
           0,
           1,
           0,
           0,
           0,
           2,
           2,
           2,
           2,
           2,
           0,
           0,
           2,
           0,
           2,
           0,
           0,
           0,
           2,
           2,
           2,
           0,
           0,
           0,
           0,
           1,
           0,
           2,
           2,
           0,
           1,
           2,
           0,
           2,
           0,
           2,
           2,
           2,
           2,
           2,
           2,
           2,
           0,
           0,
           0,
           0,
           0,
           0,
           2,
           2,
           2,
           0,
           1,
           1,
           0,
           0,
           1,
           1,
           0,
           2,
           2,
           0,
           0,
           2,
           2,
           0,
           0,
           2,
           2,
           2,
           2,
           0,
           0,
           0,
           0,
           0,
           0,
           2,
           2,
           2,
           2,
           1,
           1,
           0,
           2,
           2,
           2,
           2,
           2,
           2,
           2,
           2,
           2,
           1,
           1,
           1,
           1,
           1,
           1,
           0,
           1,
           1,
           1,
           0,
           2,
           2,
           2,
           0,
           1,
           1,
           0,
           2,
           1,
           0,
           1,
           0,
           2,
           0,
           0,
           2,
           0,
           1,
           0,
           0,
           0,
           0,
           0,
           2,
           2,
           0,
           2,
           1,
           0,
           0,
           0,
           2,
           0,
           0,
           0,
           2,
           2,
           2,
           2,
           0,
           0,
           0,
           0,
           0,
           2,
           1,
           1,
           0,
           2,
           2,
           2,
           2,
           0,
           0,
           2,
           2,
           2,
           0,
           2,
           0,
           2,
           2,
           2,
           0,
           0,
           2,
           2,
           2,
           2,
           0,
           0,
           2,
           0,
           0,
           2,
           2,
           2,
           0,
           1,
           1,
           1,
           1,
           1,
           0,
           0,
           0,
           2,
           0,
           2,
           2,
           2,
           0,
           0,
           2,
           0,
           0,
           2,
           2,
           2,
           2,
           2,
           0,
           1,
           1,
           2,
           1,
           1,
           2,
           2,
           0,
           2,
           2,
           0,
           0,
           1,
           1,
           0,
           1,
           0,
           2,
           0,
           0,
           0,
           0,
           0,
           0,
           2,
           0,
           0,
           0,
           2,
           1,
           2,
           0,
           2,
           0,
           2,
           1,
           0,
           0,
           1,
           1,
           0,
           2,
           2,
           0,
           0,
           2,
           0,
           0,
           2,
           0,
           1,
           0,
           2,
           0,
           0,
           0,
           0,
           2,
           0,
           0,
           0,
           2,
           2,
           2,
           2,
           0,
           0,
           2,
           2,
           2,
           2,
           2,
           2,
           2,
           2,
           2,
           2,
           2,
           2,
           2,
           2,
           2,
           2,
           2,
           2,
           2,
           2,
           2,
           2,
           0,
           0,
           2,
           2,
           2,
           2,
           2,
           2,
           2,
           2,
           2,
           2,
           0,
           0,
           2,
           2,
           2,
           2,
           2,
           2,
           0,
           2,
           2,
           2,
           2,
           2,
           2,
           2,
           2,
           2,
           2,
           1,
           0,
           0,
           0,
           0,
           0,
           0,
           1,
           0,
           2,
           2,
           0,
           2,
           0,
           0,
           0,
           2,
           2,
           0,
           2,
           1,
           1,
           0,
           0,
           0,
           0,
           0,
           0,
           0,
           0,
           1,
           1,
           1,
           1,
           0,
           0,
           2,
           2,
           2,
           2,
           2,
           2,
           0,
           0,
           2,
           0,
           2,
           2,
           2,
           0,
           0,
           0,
           0,
           2,
           2,
           2,
           2,
           2,
           2,
           0,
           0,
           0,
           2,
           2,
           2,
           0,
           0,
           2,
           0,
           0,
           2,
           0,
           2,
           2,
           0,
           0,
           0,
           1,
           2,
           2,
           2,
           0,
           2,
           2,
           2,
           2,
           2,
           2,
           2,
           2,
           2,
           0,
           2,
           0,
           1,
           0,
           2,
           2,
           2,
           2,
           0,
           1,
           1,
           0,
           0,
           2,
           2,
           2
          ],
          "coloraxis": "coloraxis",
          "symbol": "circle"
         },
         "mode": "markers",
         "name": "",
         "orientation": "v",
         "showlegend": false,
         "type": "scatter",
         "x": [
          1701346320,
          1701346380,
          1701346440,
          1701346500,
          1701346560,
          1701346620,
          1701346680,
          1701346740,
          1701346800,
          1701346860,
          1701346920,
          1701346980,
          1701347040,
          1701347100,
          1701347160,
          1701347220,
          1701347280,
          1701347340,
          1701347400,
          1701347460,
          1701347520,
          1701347580,
          1701347640,
          1701347700,
          1701347760,
          1701347820,
          1701347880,
          1701347940,
          1701348000,
          1701348060,
          1701348120,
          1701348180,
          1701348240,
          1701348300,
          1701348360,
          1701348420,
          1701348480,
          1701348540,
          1701348600,
          1701348660,
          1701348720,
          1701348780,
          1701348840,
          1701348900,
          1701348960,
          1701349020,
          1701349080,
          1701349140,
          1701349200,
          1701349260,
          1701349320,
          1701349380,
          1701349440,
          1701349500,
          1701349560,
          1701349620,
          1701349680,
          1701349740,
          1701349800,
          1701349860,
          1701349920,
          1701349980,
          1701350040,
          1701350100,
          1701350160,
          1701350220,
          1701350280,
          1701350340,
          1701350400,
          1701350460,
          1701350520,
          1701350580,
          1701350640,
          1701350700,
          1701350760,
          1701350820,
          1701350880,
          1701350940,
          1701351000,
          1701351060,
          1701351120,
          1701351180,
          1701351240,
          1701351300,
          1701351360,
          1701351420,
          1701351480,
          1701351540,
          1701351600,
          1701351660,
          1701351720,
          1701351780,
          1701351840,
          1701351900,
          1701351960,
          1701352020,
          1701352080,
          1701352140,
          1701352200,
          1701352260,
          1701352320,
          1701352380,
          1701352440,
          1701352500,
          1701352560,
          1701352620,
          1701352680,
          1701352740,
          1701352800,
          1701352860,
          1701352920,
          1701352980,
          1701353040,
          1701353100,
          1701353160,
          1701353220,
          1701353280,
          1701353340,
          1701353400,
          1701353460,
          1701353520,
          1701353580,
          1701353640,
          1701353700,
          1701353760,
          1701353820,
          1701353880,
          1701353940,
          1701354000,
          1701354060,
          1701354120,
          1701354180,
          1701354240,
          1701354300,
          1701354360,
          1701354420,
          1701354480,
          1701354540,
          1701354600,
          1701354660,
          1701354720,
          1701354780,
          1701354840,
          1701354900,
          1701354960,
          1701355020,
          1701355080,
          1701355140,
          1701355200,
          1701355260,
          1701355320,
          1701355380,
          1701355440,
          1701355500,
          1701355560,
          1701355620,
          1701355680,
          1701355740,
          1701355800,
          1701355860,
          1701355920,
          1701355980,
          1701356040,
          1701356100,
          1701356160,
          1701356220,
          1701356280,
          1701356340,
          1701356400,
          1701356460,
          1701356520,
          1701356580,
          1701356640,
          1701356700,
          1701356760,
          1701356820,
          1701356880,
          1701356940,
          1701357000,
          1701357060,
          1701357120,
          1701357180,
          1701357240,
          1701357300,
          1701357360,
          1701357420,
          1701357480,
          1701357540,
          1701357600,
          1701357660,
          1701357720,
          1701357780,
          1701357840,
          1701357900,
          1701357960,
          1701358020,
          1701358080,
          1701358140,
          1701358200,
          1701358260,
          1701358320,
          1701358380,
          1701358440,
          1701358500,
          1701358560,
          1701358620,
          1701358680,
          1701358740,
          1701358800,
          1701358860,
          1701358920,
          1701358980,
          1701359040,
          1701359100,
          1701359160,
          1701359220,
          1701359280,
          1701359340,
          1701359400,
          1701359460,
          1701359520,
          1701359580,
          1701359640,
          1701359700,
          1701359760,
          1701359820,
          1701359880,
          1701359940,
          1701360000,
          1701360060,
          1701360120,
          1701360180,
          1701360240,
          1701360300,
          1701360360,
          1701360420,
          1701360480,
          1701360540,
          1701360600,
          1701360660,
          1701360720,
          1701360780,
          1701360840,
          1701360900,
          1701360960,
          1701361020,
          1701361080,
          1701361140,
          1701361200,
          1701361260,
          1701361320,
          1701361380,
          1701361440,
          1701361500,
          1701361560,
          1701361620,
          1701361680,
          1701361740,
          1701361800,
          1701361860,
          1701361920,
          1701361980,
          1701362040,
          1701362100,
          1701362160,
          1701362220,
          1701362280,
          1701362340,
          1701362400,
          1701362460,
          1701362520,
          1701362580,
          1701362640,
          1701362700,
          1701362760,
          1701362820,
          1701362880,
          1701362940,
          1701363000,
          1701363060,
          1701363120,
          1701363180,
          1701363240,
          1701363300,
          1701363360,
          1701363420,
          1701363480,
          1701363540,
          1701363600,
          1701363660,
          1701363720,
          1701363780,
          1701363840,
          1701363900,
          1701363960,
          1701364020,
          1701364080,
          1701364140,
          1701364200,
          1701364260,
          1701364320,
          1701364380,
          1701364440,
          1701364500,
          1701364560,
          1701364620,
          1701364680,
          1701364740,
          1701364800,
          1701364860,
          1701364920,
          1701364980,
          1701365040,
          1701365100,
          1701365160,
          1701365220,
          1701365280,
          1701365340,
          1701365400,
          1701365460,
          1701365520,
          1701365580,
          1701365640,
          1701365700,
          1701365760,
          1701365820,
          1701365880,
          1701365940,
          1701366000,
          1701366060,
          1701366120,
          1701366180,
          1701366240,
          1701366300,
          1701366360,
          1701366420,
          1701366480,
          1701366540,
          1701366600,
          1701366660,
          1701366720,
          1701366780,
          1701366840,
          1701366900,
          1701366960,
          1701367020,
          1701367080,
          1701367140,
          1701367200,
          1701367260,
          1701367320,
          1701367380,
          1701367440,
          1701367500,
          1701367560,
          1701367620,
          1701367680,
          1701367740,
          1701367800,
          1701367860,
          1701367920,
          1701367980,
          1701368040,
          1701368100,
          1701368160,
          1701368220,
          1701368280,
          1701368340,
          1701368400,
          1701368460,
          1701368520,
          1701368580,
          1701368640,
          1701368700,
          1701368760,
          1701368820,
          1701368880,
          1701368940,
          1701369000,
          1701369060,
          1701369120,
          1701369180,
          1701369240,
          1701369300,
          1701369360,
          1701369420,
          1701369480,
          1701369540,
          1701369600,
          1701369660,
          1701369720,
          1701369780,
          1701369840,
          1701369900,
          1701369960,
          1701370020,
          1701370080,
          1701370140,
          1701370200,
          1701370260,
          1701370320,
          1701370380,
          1701370440,
          1701370500,
          1701370560,
          1701370620,
          1701370680,
          1701370740,
          1701370800,
          1701370860,
          1701370920,
          1701370980,
          1701371040,
          1701371100,
          1701371160,
          1701371220,
          1701371280,
          1701371340,
          1701371400,
          1701371460,
          1701371520,
          1701371580,
          1701371640,
          1701371700,
          1701371760,
          1701371820,
          1701371880,
          1701371940,
          1701372000,
          1701372060,
          1701372120,
          1701372180,
          1701372240,
          1701372300,
          1701372360,
          1701372420,
          1701372480,
          1701372540,
          1701372600,
          1701372660,
          1701372720,
          1701372780,
          1701372840,
          1701372900,
          1701372960,
          1701373020,
          1701373080,
          1701373140,
          1701373200,
          1701373260,
          1701373320,
          1701373380,
          1701373440,
          1701373500,
          1701373560,
          1701373620,
          1701373680,
          1701373740,
          1701373800,
          1701373860,
          1701373920,
          1701373980,
          1701374040,
          1701374100,
          1701374160,
          1701374220,
          1701374280,
          1701374340,
          1701374400,
          1701374460,
          1701374520,
          1701374580,
          1701374640,
          1701374700,
          1701374760,
          1701374820,
          1701374880,
          1701374940,
          1701375000,
          1701375060,
          1701375120,
          1701375180,
          1701375240,
          1701375300,
          1701375360,
          1701375420,
          1701375480,
          1701375540,
          1701375600,
          1701375660,
          1701375720,
          1701375780,
          1701375840,
          1701375900,
          1701375960,
          1701376020,
          1701376080,
          1701376140
         ],
         "xaxis": "x",
         "y": [
          18.480258409699307,
          18.48025627267932,
          18.46701160773207,
          18.45601844943099,
          18.45266978921048,
          18.452669611528975,
          18.444467498507283,
          18.439068541732777,
          18.4823461971586,
          18.44926064473871,
          18.443803928914505,
          18.400760887615377,
          18.400760710854946,
          18.443764816942984,
          18.405418130695658,
          18.438133702575733,
          18.463383231935428,
          18.463344676694454,
          18.459839871679833,
          18.405379796453023,
          18.40537944284342,
          18.463531850637853,
          18.46353167271405,
          18.423076923076923,
          18.414466259615384,
          18.423077009615383,
          18.49420893811214,
          18.427343384628447,
          18.418730727088246,
          18.418730727088246,
          18.427343471186948,
          18.441561989718515,
          18.41352528398755,
          18.46999515063687,
          18.49811783822137,
          18.469995189234925,
          18.46662402796399,
          18.466624037613666,
          18.406309727866788,
          18.406309727866788,
          18.40630955083197,
          18.41877482368736,
          18.406309727866788,
          18.48188797652504,
          18.470888529677545,
          18.480563452062558,
          18.493136346138527,
          18.525596816155,
          18.484102608741125,
          18.528739628977064,
          18.53327943302219,
          18.507608824751134,
          18.463596617629825,
          18.482491746197866,
          18.48496458078079,
          18.466066924170104,
          18.466990418563547,
          18.53347215496368,
          18.44548793483346,
          18.556483557524334,
          18.556402700684306,
          18.556386722985376,
          18.517982328819922,
          18.513511836443985,
          18.45886813499601,
          18.510673210273406,
          18.50252634540666,
          18.45601833092137,
          18.475639170284612,
          18.48569985042385,
          18.47705787817209,
          18.47705787817209,
          18.454255228695178,
          18.43061735099486,
          18.46605728131531,
          18.43713903479787,
          18.416958316502203,
          18.438723757862544,
          18.438723757862544,
          18.39580419642296,
          18.395831775251505,
          18.44932275132275,
          18.477721334521174,
          18.477720358800223,
          18.51592199152392,
          18.477718395235204,
          18.49973867395552,
          18.476782535140995,
          18.402663919728013,
          18.47682980227567,
          18.47590523918557,
          18.476105320445157,
          18.475903464406894,
          18.407677300058644,
          18.470181599473115,
          18.529014105635014,
          18.529014105635014,
          18.554816630692926,
          18.50062795865134,
          18.471645251666505,
          18.471664573471163,
          18.471664573471163,
          18.471664573471163,
          18.473834550581707,
          18.45606394184034,
          18.45606394184034,
          18.498025711343526,
          18.49510042044563,
          18.4534267858869,
          18.45346509514809,
          18.498160231439066,
          18.498025091151465,
          18.493367377195007,
          18.493248178294575,
          18.488192943866824,
          18.53432434763229,
          18.416999399942075,
          18.416999399942075,
          18.439638680691836,
          18.542432310635345,
          18.48846961262656,
          18.566244850018638,
          18.580575923792704,
          18.590233460496293,
          18.580572546298445,
          18.5243507837647,
          18.5243507837647,
          18.5243507837647,
          18.5243507837647,
          18.580539809736546,
          18.557382433841767,
          18.557382433841767,
          18.563362266895723,
          18.56336209639422,
          18.551189737091775,
          18.5845599148331,
          18.534859001454194,
          18.57929313602664,
          18.582668994026342,
          18.542622246393485,
          18.579324216257245,
          18.579323855932316,
          18.579294726345225,
          18.579294726345225,
          18.5878610932543,
          18.49252212320394,
          18.54913332369659,
          18.54913332369659,
          18.54913429383853,
          18.56133385108242,
          18.56133385108242,
          18.531452895223854,
          18.531452895223854,
          18.555750501245644,
          18.54265794900692,
          18.551596835258714,
          18.580720318415686,
          18.439287268201227,
          18.46562800648644,
          18.578381716236393,
          18.578381716236393,
          18.45127535489641,
          18.49582396990462,
          18.526946568381724,
          18.46371818838262,
          18.564630551242235,
          18.529697214673913,
          18.529794254658384,
          18.52868262810559,
          18.527864043090062,
          18.527864043090062,
          18.594174396229622,
          18.469340932210542,
          18.517702369723267,
          18.534950566264534,
          18.58359229772457,
          18.534008018096777,
          18.572553427184467,
          18.481886971208827,
          18.481886971208827,
          18.48189666233464,
          18.528110136653297,
          18.53134933494722,
          18.534209737048776,
          18.48190634377901,
          18.53321101861061,
          18.539966863125127,
          18.474514815164568,
          18.483853029898654,
          18.533835560215685,
          18.531792978685168,
          18.539966683631462,
          18.539966683631462,
          18.48383232216314,
          18.431279953139455,
          18.48487802850141,
          18.484883397311062,
          18.4447244538068,
          18.483949307492086,
          18.53987899278744,
          18.53981121299476,
          18.451351848165377,
          18.452571667318797,
          18.454380366795366,
          18.454409333976834,
          18.454409333976834,
          18.454409333976834,
          18.493681630876377,
          18.454574713412782,
          18.47228489882038,
          18.417301186158305,
          18.417301186158305,
          18.417301186158305,
          18.556635161425884,
          18.520763798090044,
          18.556635521678942,
          18.556633560894646,
          18.549977557755774,
          18.543119598136283,
          18.524271844660195,
          18.5535786407767,
          18.524271844660195,
          18.524271854368934,
          18.524271844660195,
          18.553539805825242,
          18.52427131482705,
          18.484889421392644,
          18.484889421392644,
          18.51521377066113,
          18.51123328675999,
          18.539514796910055,
          18.51732739268241,
          18.536830241532975,
          18.536830241532975,
          18.51732739268241,
          18.522128713701612,
          18.515948129197753,
          18.466262501347586,
          18.466310893020808,
          18.459513338264692,
          18.512560961800116,
          18.522263542469545,
          18.522263542469545,
          18.505198889738473,
          18.505198889738473,
          18.543478594879407,
          18.44838472054841,
          18.497596573048185,
          18.4493074744727,
          18.55809031992644,
          18.512609275774846,
          18.512609275774846,
          18.448197572794022,
          18.448197572794022,
          18.448197572794022,
          18.503261624081656,
          18.556080415877044,
          18.599964418302992,
          18.609666038279176,
          18.55898171566664,
          18.558871750113948,
          18.54168484954276,
          18.48682959874075,
          18.48682959874075,
          18.457851116259814,
          18.45785164198923,
          18.47823560571606,
          18.500453177971917,
          18.500453177971917,
          18.548905265039373,
          18.500453177971917,
          18.55642380635734,
          18.584286657051035,
          18.47374877181604,
          18.47374877181604,
          18.47374895032152,
          18.47374895032152,
          18.515364821632893,
          18.53133831665544,
          18.572154827744455,
          18.53133831665544,
          18.449786839270818,
          18.568297313174963,
          18.567508213457423,
          18.500797947387163,
          18.556430989233228,
          18.567508213457423,
          18.566364586745895,
          18.513731574864234,
          18.50099337631221,
          18.577418311838503,
          18.565862402444864,
          18.513732631885183,
          18.501828933636222,
          18.509838151295128,
          18.565156170336152,
          18.558470997131625,
          18.503241384750734,
          18.452715389174493,
          18.503045939488388,
          18.557964837252637,
          18.557964837252637,
          18.557964837252637,
          18.51369466345023,
          18.45989576002993,
          18.504416312330886,
          18.459935506718896,
          18.459935506718896,
          18.55452781942867,
          18.512047479567528,
          18.512047479567528,
          18.50609846821396,
          18.50609856486033,
          18.454653701117753,
          18.45468269502931,
          18.45904510958838,
          18.502657986762898,
          18.49990334428765,
          18.49990334428765,
          18.457374850183644,
          18.549746869126913,
          18.549708102675776,
          18.543738617994105,
          18.4976763076327,
          18.539248353351415,
          18.501614306428227,
          18.53870964617456,
          18.53870964617456,
          18.501614306428227,
          18.53870964617456,
          18.501691638472693,
          18.501691638472693,
          18.501614306428227,
          18.501614306428227,
          18.501614306428227,
          18.46136380860319,
          18.46198944417593,
          18.493708223816352,
          18.493708223816352,
          18.493785522815404,
          18.501737657342716,
          18.501795631592003,
          18.501795631592003,
          18.501795631592003,
          18.493785522815404,
          18.493785522815404,
          18.493785522815404,
          18.493708223816352,
          18.493708223816352,
          18.493785522815404,
          18.493785522815404,
          18.492676328502416,
          18.493708223816352,
          18.493785522815404,
          18.493708223816352,
          18.492676328502416,
          18.492676328502416,
          18.493708223816352,
          18.493785522815404,
          18.54196675985442,
          18.533939259516835,
          18.524154190913226,
          18.500763285024156,
          18.492753623188406,
          18.492753623188406,
          18.471872376154494,
          18.479872993813757,
          18.479873172161646,
          18.47993107771824,
          18.479873172161646,
          18.500763285024156,
          18.479872993813757,
          18.500763285024156,
          18.498223041119967,
          18.49828100417476,
          18.465140004485438,
          18.465140004485438,
          18.465140004485438,
          18.50076310627282,
          18.465082145275623,
          18.45708793111946,
          18.465081967213116,
          18.465081967213116,
          18.465081967213116,
          18.465081967213116,
          18.457087762777242,
          18.457087762777242,
          18.437031569717597,
          18.42223260480686,
          18.384685515260703,
          18.44493058014442,
          18.44493058014442,
          18.40566842394671,
          18.40566824662813,
          18.44704142581888,
          18.44704142581888,
          18.541713485681147,
          18.45259178054501,
          18.45259178054501,
          18.452556027979824,
          18.452556027979824,
          18.409198188688315,
          18.40383836456843,
          18.446313909058023,
          18.40383836456843,
          18.40383836456843,
          18.40383836456843,
          18.40383836456843,
          18.479565791825017,
          18.52006916811541,
          18.407361372143008,
          18.407361372143008,
          18.473215476506997,
          18.473216012376717,
          18.511632179462385,
          18.471282150454456,
          18.471282150454456,
          18.40540114237822,
          18.405401674377657,
          18.469356529154396,
          18.41164008319038,
          18.469357779255873,
          18.41219994454669,
          18.45140597974246,
          18.41219994454669,
          18.4514059701031,
          18.46938671121347,
          18.468342427976705,
          18.46835209726593,
          18.46835209726593,
          18.468350132931924,
          18.503867526729223,
          18.468350181278364,
          18.506142797028893,
          18.506910359533705,
          18.47115976357199,
          18.441494568867512,
          18.44344898524162,
          18.4424979083835,
          18.492359296936588,
          18.458811630933024,
          18.491748814447295,
          18.467662672901827,
          18.467701338640747,
          18.467701338640747,
          18.45977612021923,
          18.45977612021923,
          18.44190623479973,
          18.434130558568516,
          18.47889431106036,
          18.441858231300948,
          18.478894325753693,
          18.478894504253187,
          18.485662541774328,
          18.455225843780134,
          18.4973520842271,
          18.497351726514577,
          18.506700962993598,
          18.45676874114531,
          18.45676874114531,
          18.423694594249707,
          18.4729723715354,
          18.506701499833586,
          18.50670132088692,
          18.45708977324086,
          18.457090947228902,
          18.50618796289923,
          18.457094684924712,
          18.423701355104654,
          18.423701355104654,
          18.455248956168845,
          18.42445876136829,
          18.424631814387926,
          18.455419984763594,
          18.455419984763594,
          18.424629504623958,
          18.424629504623958,
          18.424671404738714,
          18.424671404738714,
          18.424629514267256,
          18.453752386738415,
          18.424807180466352,
          18.424807180466352,
          18.504187766200772,
          18.468911694994986,
          18.468911694994986,
          18.47262694529884,
          18.505170285382324,
          18.505170285382324,
          18.474296803303726,
          18.505170285382324,
          18.429783495707532,
          18.458653612424037,
          18.429783495707532,
          18.458653602778046,
          18.465636952823747,
          18.46302280487175,
          18.472787606351165
         ],
         "yaxis": "y"
        }
       ],
       "layout": {
        "coloraxis": {
         "colorbar": {
          "title": {
           "text": "Cluster"
          }
         },
         "colorscale": [
          [
           0,
           "#0d0887"
          ],
          [
           0.1111111111111111,
           "#46039f"
          ],
          [
           0.2222222222222222,
           "#7201a8"
          ],
          [
           0.3333333333333333,
           "#9c179e"
          ],
          [
           0.4444444444444444,
           "#bd3786"
          ],
          [
           0.5555555555555556,
           "#d8576b"
          ],
          [
           0.6666666666666666,
           "#ed7953"
          ],
          [
           0.7777777777777778,
           "#fb9f3a"
          ],
          [
           0.8888888888888888,
           "#fdca26"
          ],
          [
           1,
           "#f0f921"
          ]
         ]
        },
        "legend": {
         "tracegroupgap": 0
        },
        "template": {
         "data": {
          "bar": [
           {
            "error_x": {
             "color": "#2a3f5f"
            },
            "error_y": {
             "color": "#2a3f5f"
            },
            "marker": {
             "line": {
              "color": "#E5ECF6",
              "width": 0.5
             },
             "pattern": {
              "fillmode": "overlay",
              "size": 10,
              "solidity": 0.2
             }
            },
            "type": "bar"
           }
          ],
          "barpolar": [
           {
            "marker": {
             "line": {
              "color": "#E5ECF6",
              "width": 0.5
             },
             "pattern": {
              "fillmode": "overlay",
              "size": 10,
              "solidity": 0.2
             }
            },
            "type": "barpolar"
           }
          ],
          "carpet": [
           {
            "aaxis": {
             "endlinecolor": "#2a3f5f",
             "gridcolor": "white",
             "linecolor": "white",
             "minorgridcolor": "white",
             "startlinecolor": "#2a3f5f"
            },
            "baxis": {
             "endlinecolor": "#2a3f5f",
             "gridcolor": "white",
             "linecolor": "white",
             "minorgridcolor": "white",
             "startlinecolor": "#2a3f5f"
            },
            "type": "carpet"
           }
          ],
          "choropleth": [
           {
            "colorbar": {
             "outlinewidth": 0,
             "ticks": ""
            },
            "type": "choropleth"
           }
          ],
          "contour": [
           {
            "colorbar": {
             "outlinewidth": 0,
             "ticks": ""
            },
            "colorscale": [
             [
              0,
              "#0d0887"
             ],
             [
              0.1111111111111111,
              "#46039f"
             ],
             [
              0.2222222222222222,
              "#7201a8"
             ],
             [
              0.3333333333333333,
              "#9c179e"
             ],
             [
              0.4444444444444444,
              "#bd3786"
             ],
             [
              0.5555555555555556,
              "#d8576b"
             ],
             [
              0.6666666666666666,
              "#ed7953"
             ],
             [
              0.7777777777777778,
              "#fb9f3a"
             ],
             [
              0.8888888888888888,
              "#fdca26"
             ],
             [
              1,
              "#f0f921"
             ]
            ],
            "type": "contour"
           }
          ],
          "contourcarpet": [
           {
            "colorbar": {
             "outlinewidth": 0,
             "ticks": ""
            },
            "type": "contourcarpet"
           }
          ],
          "heatmap": [
           {
            "colorbar": {
             "outlinewidth": 0,
             "ticks": ""
            },
            "colorscale": [
             [
              0,
              "#0d0887"
             ],
             [
              0.1111111111111111,
              "#46039f"
             ],
             [
              0.2222222222222222,
              "#7201a8"
             ],
             [
              0.3333333333333333,
              "#9c179e"
             ],
             [
              0.4444444444444444,
              "#bd3786"
             ],
             [
              0.5555555555555556,
              "#d8576b"
             ],
             [
              0.6666666666666666,
              "#ed7953"
             ],
             [
              0.7777777777777778,
              "#fb9f3a"
             ],
             [
              0.8888888888888888,
              "#fdca26"
             ],
             [
              1,
              "#f0f921"
             ]
            ],
            "type": "heatmap"
           }
          ],
          "heatmapgl": [
           {
            "colorbar": {
             "outlinewidth": 0,
             "ticks": ""
            },
            "colorscale": [
             [
              0,
              "#0d0887"
             ],
             [
              0.1111111111111111,
              "#46039f"
             ],
             [
              0.2222222222222222,
              "#7201a8"
             ],
             [
              0.3333333333333333,
              "#9c179e"
             ],
             [
              0.4444444444444444,
              "#bd3786"
             ],
             [
              0.5555555555555556,
              "#d8576b"
             ],
             [
              0.6666666666666666,
              "#ed7953"
             ],
             [
              0.7777777777777778,
              "#fb9f3a"
             ],
             [
              0.8888888888888888,
              "#fdca26"
             ],
             [
              1,
              "#f0f921"
             ]
            ],
            "type": "heatmapgl"
           }
          ],
          "histogram": [
           {
            "marker": {
             "pattern": {
              "fillmode": "overlay",
              "size": 10,
              "solidity": 0.2
             }
            },
            "type": "histogram"
           }
          ],
          "histogram2d": [
           {
            "colorbar": {
             "outlinewidth": 0,
             "ticks": ""
            },
            "colorscale": [
             [
              0,
              "#0d0887"
             ],
             [
              0.1111111111111111,
              "#46039f"
             ],
             [
              0.2222222222222222,
              "#7201a8"
             ],
             [
              0.3333333333333333,
              "#9c179e"
             ],
             [
              0.4444444444444444,
              "#bd3786"
             ],
             [
              0.5555555555555556,
              "#d8576b"
             ],
             [
              0.6666666666666666,
              "#ed7953"
             ],
             [
              0.7777777777777778,
              "#fb9f3a"
             ],
             [
              0.8888888888888888,
              "#fdca26"
             ],
             [
              1,
              "#f0f921"
             ]
            ],
            "type": "histogram2d"
           }
          ],
          "histogram2dcontour": [
           {
            "colorbar": {
             "outlinewidth": 0,
             "ticks": ""
            },
            "colorscale": [
             [
              0,
              "#0d0887"
             ],
             [
              0.1111111111111111,
              "#46039f"
             ],
             [
              0.2222222222222222,
              "#7201a8"
             ],
             [
              0.3333333333333333,
              "#9c179e"
             ],
             [
              0.4444444444444444,
              "#bd3786"
             ],
             [
              0.5555555555555556,
              "#d8576b"
             ],
             [
              0.6666666666666666,
              "#ed7953"
             ],
             [
              0.7777777777777778,
              "#fb9f3a"
             ],
             [
              0.8888888888888888,
              "#fdca26"
             ],
             [
              1,
              "#f0f921"
             ]
            ],
            "type": "histogram2dcontour"
           }
          ],
          "mesh3d": [
           {
            "colorbar": {
             "outlinewidth": 0,
             "ticks": ""
            },
            "type": "mesh3d"
           }
          ],
          "parcoords": [
           {
            "line": {
             "colorbar": {
              "outlinewidth": 0,
              "ticks": ""
             }
            },
            "type": "parcoords"
           }
          ],
          "pie": [
           {
            "automargin": true,
            "type": "pie"
           }
          ],
          "scatter": [
           {
            "fillpattern": {
             "fillmode": "overlay",
             "size": 10,
             "solidity": 0.2
            },
            "type": "scatter"
           }
          ],
          "scatter3d": [
           {
            "line": {
             "colorbar": {
              "outlinewidth": 0,
              "ticks": ""
             }
            },
            "marker": {
             "colorbar": {
              "outlinewidth": 0,
              "ticks": ""
             }
            },
            "type": "scatter3d"
           }
          ],
          "scattercarpet": [
           {
            "marker": {
             "colorbar": {
              "outlinewidth": 0,
              "ticks": ""
             }
            },
            "type": "scattercarpet"
           }
          ],
          "scattergeo": [
           {
            "marker": {
             "colorbar": {
              "outlinewidth": 0,
              "ticks": ""
             }
            },
            "type": "scattergeo"
           }
          ],
          "scattergl": [
           {
            "marker": {
             "colorbar": {
              "outlinewidth": 0,
              "ticks": ""
             }
            },
            "type": "scattergl"
           }
          ],
          "scattermapbox": [
           {
            "marker": {
             "colorbar": {
              "outlinewidth": 0,
              "ticks": ""
             }
            },
            "type": "scattermapbox"
           }
          ],
          "scatterpolar": [
           {
            "marker": {
             "colorbar": {
              "outlinewidth": 0,
              "ticks": ""
             }
            },
            "type": "scatterpolar"
           }
          ],
          "scatterpolargl": [
           {
            "marker": {
             "colorbar": {
              "outlinewidth": 0,
              "ticks": ""
             }
            },
            "type": "scatterpolargl"
           }
          ],
          "scatterternary": [
           {
            "marker": {
             "colorbar": {
              "outlinewidth": 0,
              "ticks": ""
             }
            },
            "type": "scatterternary"
           }
          ],
          "surface": [
           {
            "colorbar": {
             "outlinewidth": 0,
             "ticks": ""
            },
            "colorscale": [
             [
              0,
              "#0d0887"
             ],
             [
              0.1111111111111111,
              "#46039f"
             ],
             [
              0.2222222222222222,
              "#7201a8"
             ],
             [
              0.3333333333333333,
              "#9c179e"
             ],
             [
              0.4444444444444444,
              "#bd3786"
             ],
             [
              0.5555555555555556,
              "#d8576b"
             ],
             [
              0.6666666666666666,
              "#ed7953"
             ],
             [
              0.7777777777777778,
              "#fb9f3a"
             ],
             [
              0.8888888888888888,
              "#fdca26"
             ],
             [
              1,
              "#f0f921"
             ]
            ],
            "type": "surface"
           }
          ],
          "table": [
           {
            "cells": {
             "fill": {
              "color": "#EBF0F8"
             },
             "line": {
              "color": "white"
             }
            },
            "header": {
             "fill": {
              "color": "#C8D4E3"
             },
             "line": {
              "color": "white"
             }
            },
            "type": "table"
           }
          ]
         },
         "layout": {
          "annotationdefaults": {
           "arrowcolor": "#2a3f5f",
           "arrowhead": 0,
           "arrowwidth": 1
          },
          "autotypenumbers": "strict",
          "coloraxis": {
           "colorbar": {
            "outlinewidth": 0,
            "ticks": ""
           }
          },
          "colorscale": {
           "diverging": [
            [
             0,
             "#8e0152"
            ],
            [
             0.1,
             "#c51b7d"
            ],
            [
             0.2,
             "#de77ae"
            ],
            [
             0.3,
             "#f1b6da"
            ],
            [
             0.4,
             "#fde0ef"
            ],
            [
             0.5,
             "#f7f7f7"
            ],
            [
             0.6,
             "#e6f5d0"
            ],
            [
             0.7,
             "#b8e186"
            ],
            [
             0.8,
             "#7fbc41"
            ],
            [
             0.9,
             "#4d9221"
            ],
            [
             1,
             "#276419"
            ]
           ],
           "sequential": [
            [
             0,
             "#0d0887"
            ],
            [
             0.1111111111111111,
             "#46039f"
            ],
            [
             0.2222222222222222,
             "#7201a8"
            ],
            [
             0.3333333333333333,
             "#9c179e"
            ],
            [
             0.4444444444444444,
             "#bd3786"
            ],
            [
             0.5555555555555556,
             "#d8576b"
            ],
            [
             0.6666666666666666,
             "#ed7953"
            ],
            [
             0.7777777777777778,
             "#fb9f3a"
            ],
            [
             0.8888888888888888,
             "#fdca26"
            ],
            [
             1,
             "#f0f921"
            ]
           ],
           "sequentialminus": [
            [
             0,
             "#0d0887"
            ],
            [
             0.1111111111111111,
             "#46039f"
            ],
            [
             0.2222222222222222,
             "#7201a8"
            ],
            [
             0.3333333333333333,
             "#9c179e"
            ],
            [
             0.4444444444444444,
             "#bd3786"
            ],
            [
             0.5555555555555556,
             "#d8576b"
            ],
            [
             0.6666666666666666,
             "#ed7953"
            ],
            [
             0.7777777777777778,
             "#fb9f3a"
            ],
            [
             0.8888888888888888,
             "#fdca26"
            ],
            [
             1,
             "#f0f921"
            ]
           ]
          },
          "colorway": [
           "#636efa",
           "#EF553B",
           "#00cc96",
           "#ab63fa",
           "#FFA15A",
           "#19d3f3",
           "#FF6692",
           "#B6E880",
           "#FF97FF",
           "#FECB52"
          ],
          "font": {
           "color": "#2a3f5f"
          },
          "geo": {
           "bgcolor": "white",
           "lakecolor": "white",
           "landcolor": "#E5ECF6",
           "showlakes": true,
           "showland": true,
           "subunitcolor": "white"
          },
          "hoverlabel": {
           "align": "left"
          },
          "hovermode": "closest",
          "mapbox": {
           "style": "light"
          },
          "paper_bgcolor": "white",
          "plot_bgcolor": "#E5ECF6",
          "polar": {
           "angularaxis": {
            "gridcolor": "white",
            "linecolor": "white",
            "ticks": ""
           },
           "bgcolor": "#E5ECF6",
           "radialaxis": {
            "gridcolor": "white",
            "linecolor": "white",
            "ticks": ""
           }
          },
          "scene": {
           "xaxis": {
            "backgroundcolor": "#E5ECF6",
            "gridcolor": "white",
            "gridwidth": 2,
            "linecolor": "white",
            "showbackground": true,
            "ticks": "",
            "zerolinecolor": "white"
           },
           "yaxis": {
            "backgroundcolor": "#E5ECF6",
            "gridcolor": "white",
            "gridwidth": 2,
            "linecolor": "white",
            "showbackground": true,
            "ticks": "",
            "zerolinecolor": "white"
           },
           "zaxis": {
            "backgroundcolor": "#E5ECF6",
            "gridcolor": "white",
            "gridwidth": 2,
            "linecolor": "white",
            "showbackground": true,
            "ticks": "",
            "zerolinecolor": "white"
           }
          },
          "shapedefaults": {
           "line": {
            "color": "#2a3f5f"
           }
          },
          "ternary": {
           "aaxis": {
            "gridcolor": "white",
            "linecolor": "white",
            "ticks": ""
           },
           "baxis": {
            "gridcolor": "white",
            "linecolor": "white",
            "ticks": ""
           },
           "bgcolor": "#E5ECF6",
           "caxis": {
            "gridcolor": "white",
            "linecolor": "white",
            "ticks": ""
           }
          },
          "title": {
           "x": 0.05
          },
          "xaxis": {
           "automargin": true,
           "gridcolor": "white",
           "linecolor": "white",
           "ticks": "",
           "title": {
            "standoff": 15
           },
           "zerolinecolor": "white",
           "zerolinewidth": 2
          },
          "yaxis": {
           "automargin": true,
           "gridcolor": "white",
           "linecolor": "white",
           "ticks": "",
           "title": {
            "standoff": 15
           },
           "zerolinecolor": "white",
           "zerolinewidth": 2
          }
         }
        },
        "title": {
         "text": "Clustering Analysis with EWMA Volatility"
        },
        "xaxis": {
         "anchor": "y",
         "domain": [
          0,
          1
         ],
         "range": [
          1701346320,
          1701376140
         ],
         "title": {
          "text": "open_time"
         }
        },
        "yaxis": {
         "anchor": "x",
         "domain": [
          0,
          1
         ],
         "title": {
          "text": "closed_price"
         }
        }
       }
      }
     },
     "metadata": {},
     "output_type": "display_data"
    }
   ],
   "source": [
    "fig = px.scatter(clusterData, x='open_time', y='closed_price', color='Cluster',\n",
    "                 title='Clustering Analysis with EWMA Volatility',\n",
    "                 labels={'Close': 'closed_price', 'Cluster': 'Cluster'},\n",
    "                 range_x=[clusterData['open_time'].min(), clusterData['open_time'].max()])\n",
    "\n",
    "fig.show()"
   ]
  },
  {
   "cell_type": "code",
   "execution_count": 41,
   "metadata": {},
   "outputs": [
    {
     "data": {
      "application/vnd.plotly.v1+json": {
       "config": {
        "plotlyServerURL": "https://plot.ly"
       },
       "data": [
        {
         "hovertemplate": "open_time=%{x}<br>closed_price=%{y}<br>Cluster=%{marker.color}<extra></extra>",
         "legendgroup": "",
         "marker": {
          "color": [
           0,
           0,
           0,
           0,
           0,
           2,
           1,
           1,
           2,
           0,
           2,
           2,
           0,
           0,
           0,
           2,
           2,
           2,
           2,
           0,
           0,
           0,
           2,
           0,
           0,
           0,
           0,
           0,
           0,
           0,
           0,
           0,
           0,
           0,
           2,
           2,
           0,
           2,
           2,
           2,
           0,
           1,
           1,
           0,
           0,
           0,
           0,
           0,
           0,
           0,
           0,
           1,
           1,
           1,
           1,
           0,
           0,
           0,
           0,
           2,
           2,
           2,
           2,
           2,
           0,
           0,
           0,
           0,
           0,
           0,
           0,
           2,
           0,
           0,
           0,
           0,
           0,
           2,
           2,
           0,
           2,
           0,
           2,
           2,
           0,
           0,
           0,
           0,
           0,
           0,
           2,
           0,
           2,
           2,
           0,
           2,
           2,
           0
          ],
          "coloraxis": "coloraxis",
          "symbol": "circle"
         },
         "mode": "markers",
         "name": "",
         "orientation": "v",
         "showlegend": false,
         "type": "scatter",
         "x": [
          "2023-11-30T12:20:00",
          "2023-11-30T12:25:00",
          "2023-11-30T12:30:00",
          "2023-11-30T12:35:00",
          "2023-11-30T12:40:00",
          "2023-11-30T12:45:00",
          "2023-11-30T12:50:00",
          "2023-11-30T12:55:00",
          "2023-11-30T13:00:00",
          "2023-11-30T13:05:00",
          "2023-11-30T13:10:00",
          "2023-11-30T13:15:00",
          "2023-11-30T13:20:00",
          "2023-11-30T13:25:00",
          "2023-11-30T13:30:00",
          "2023-11-30T13:35:00",
          "2023-11-30T13:40:00",
          "2023-11-30T13:45:00",
          "2023-11-30T13:50:00",
          "2023-11-30T13:55:00",
          "2023-11-30T14:00:00",
          "2023-11-30T14:05:00",
          "2023-11-30T14:10:00",
          "2023-11-30T14:15:00",
          "2023-11-30T14:20:00",
          "2023-11-30T14:25:00",
          "2023-11-30T14:30:00",
          "2023-11-30T14:35:00",
          "2023-11-30T14:40:00",
          "2023-11-30T14:45:00",
          "2023-11-30T14:50:00",
          "2023-11-30T14:55:00",
          "2023-11-30T15:00:00",
          "2023-11-30T15:05:00",
          "2023-11-30T15:10:00",
          "2023-11-30T15:15:00",
          "2023-11-30T15:20:00",
          "2023-11-30T15:25:00",
          "2023-11-30T15:30:00",
          "2023-11-30T15:35:00",
          "2023-11-30T15:40:00",
          "2023-11-30T15:45:00",
          "2023-11-30T15:50:00",
          "2023-11-30T15:55:00",
          "2023-11-30T16:00:00",
          "2023-11-30T16:05:00",
          "2023-11-30T16:10:00",
          "2023-11-30T16:15:00",
          "2023-11-30T16:20:00",
          "2023-11-30T16:25:00",
          "2023-11-30T16:30:00",
          "2023-11-30T16:35:00",
          "2023-11-30T16:40:00",
          "2023-11-30T16:45:00",
          "2023-11-30T16:50:00",
          "2023-11-30T16:55:00",
          "2023-11-30T17:00:00",
          "2023-11-30T17:05:00",
          "2023-11-30T17:10:00",
          "2023-11-30T17:15:00",
          "2023-11-30T17:20:00",
          "2023-11-30T17:25:00",
          "2023-11-30T17:30:00",
          "2023-11-30T17:35:00",
          "2023-11-30T17:40:00",
          "2023-11-30T17:45:00",
          "2023-11-30T17:50:00",
          "2023-11-30T17:55:00",
          "2023-11-30T18:00:00",
          "2023-11-30T18:05:00",
          "2023-11-30T18:10:00",
          "2023-11-30T18:15:00",
          "2023-11-30T18:20:00",
          "2023-11-30T18:25:00",
          "2023-11-30T18:30:00",
          "2023-11-30T18:35:00",
          "2023-11-30T18:40:00",
          "2023-11-30T18:45:00",
          "2023-11-30T18:50:00",
          "2023-11-30T18:55:00",
          "2023-11-30T19:00:00",
          "2023-11-30T19:05:00",
          "2023-11-30T19:10:00",
          "2023-11-30T19:15:00",
          "2023-11-30T19:20:00",
          "2023-11-30T19:25:00",
          "2023-11-30T19:30:00",
          "2023-11-30T19:35:00",
          "2023-11-30T19:40:00",
          "2023-11-30T19:45:00",
          "2023-11-30T19:50:00",
          "2023-11-30T19:55:00",
          "2023-11-30T20:00:00",
          "2023-11-30T20:05:00",
          "2023-11-30T20:10:00",
          "2023-11-30T20:15:00",
          "2023-11-30T20:20:00",
          "2023-11-30T20:25:00"
         ],
         "xaxis": "x",
         "y": [
          18.43538647385643,
          18.44280891176885,
          18.439532526865637,
          18.436434503009657,
          18.4239784398139,
          18.474271248734162,
          18.40880271162394,
          18.490414624111736,
          18.503465422624267,
          18.486797164935197,
          18.52654864896948,
          18.488319571608287,
          18.473942001149563,
          18.43789914829456,
          18.431480763076188,
          18.48957639093117,
          18.461481549208262,
          18.498140748298944,
          18.477453386146266,
          18.47581771321031,
          18.479288916164105,
          18.469952853935567,
          18.523472275553015,
          18.548771671617764,
          18.5566035456161,
          18.562652777159986,
          18.572646807790925,
          18.55158891803933,
          18.546941557290218,
          18.534002574425635,
          18.513898152752052,
          18.522957355467774,
          18.52958520854518,
          18.548561335798723,
          18.50102601527056,
          18.51276175554562,
          18.525882987212487,
          18.465919630984374,
          18.493512605751693,
          18.46225799992045,
          18.435752634141615,
          18.548129119969058,
          18.53390275652046,
          18.514372361619557,
          18.524023897709313,
          18.511699395692467,
          18.496582455604944,
          18.49997153359059,
          18.49616278374857,
          18.511140320769947,
          18.551206790468655,
          18.476244228135553,
          18.538104416878316,
          18.482072053181604,
          18.53058312270022,
          18.551721990056226,
          18.534347659469,
          18.52770712742997,
          18.52593116808416,
          18.479575549849766,
          18.518163962327602,
          18.474188567357196,
          18.520094356853615,
          18.523191651952295,
          18.50906430719528,
          18.484058017890383,
          18.498564533431697,
          18.495372084770914,
          18.493532764353183,
          18.493310925490587,
          18.51892180362481,
          18.48342515770134,
          18.488240762748394,
          18.47838481175021,
          18.470619423418828,
          18.45627420593966,
          18.420489540860622,
          18.45881127289841,
          18.43414807795228,
          18.412333473466347,
          18.457514636146687,
          18.466562727025245,
          18.433591202105,
          18.450548206716483,
          18.475454407094276,
          18.473831294848743,
          18.470616064720446,
          18.459372230503938,
          18.46253438618734,
          18.488458631857945,
          18.46338118958186,
          18.476832937836125,
          18.430348448426873,
          18.436954076702765,
          18.430533533335417,
          18.48396167737438,
          18.474614896439988,
          18.457976892506448
         ],
         "yaxis": "y"
        }
       ],
       "layout": {
        "coloraxis": {
         "colorbar": {
          "title": {
           "text": "Cluster"
          }
         },
         "colorscale": [
          [
           0,
           "#0d0887"
          ],
          [
           0.1111111111111111,
           "#46039f"
          ],
          [
           0.2222222222222222,
           "#7201a8"
          ],
          [
           0.3333333333333333,
           "#9c179e"
          ],
          [
           0.4444444444444444,
           "#bd3786"
          ],
          [
           0.5555555555555556,
           "#d8576b"
          ],
          [
           0.6666666666666666,
           "#ed7953"
          ],
          [
           0.7777777777777778,
           "#fb9f3a"
          ],
          [
           0.8888888888888888,
           "#fdca26"
          ],
          [
           1,
           "#f0f921"
          ]
         ]
        },
        "legend": {
         "tracegroupgap": 0
        },
        "template": {
         "data": {
          "bar": [
           {
            "error_x": {
             "color": "#2a3f5f"
            },
            "error_y": {
             "color": "#2a3f5f"
            },
            "marker": {
             "line": {
              "color": "#E5ECF6",
              "width": 0.5
             },
             "pattern": {
              "fillmode": "overlay",
              "size": 10,
              "solidity": 0.2
             }
            },
            "type": "bar"
           }
          ],
          "barpolar": [
           {
            "marker": {
             "line": {
              "color": "#E5ECF6",
              "width": 0.5
             },
             "pattern": {
              "fillmode": "overlay",
              "size": 10,
              "solidity": 0.2
             }
            },
            "type": "barpolar"
           }
          ],
          "carpet": [
           {
            "aaxis": {
             "endlinecolor": "#2a3f5f",
             "gridcolor": "white",
             "linecolor": "white",
             "minorgridcolor": "white",
             "startlinecolor": "#2a3f5f"
            },
            "baxis": {
             "endlinecolor": "#2a3f5f",
             "gridcolor": "white",
             "linecolor": "white",
             "minorgridcolor": "white",
             "startlinecolor": "#2a3f5f"
            },
            "type": "carpet"
           }
          ],
          "choropleth": [
           {
            "colorbar": {
             "outlinewidth": 0,
             "ticks": ""
            },
            "type": "choropleth"
           }
          ],
          "contour": [
           {
            "colorbar": {
             "outlinewidth": 0,
             "ticks": ""
            },
            "colorscale": [
             [
              0,
              "#0d0887"
             ],
             [
              0.1111111111111111,
              "#46039f"
             ],
             [
              0.2222222222222222,
              "#7201a8"
             ],
             [
              0.3333333333333333,
              "#9c179e"
             ],
             [
              0.4444444444444444,
              "#bd3786"
             ],
             [
              0.5555555555555556,
              "#d8576b"
             ],
             [
              0.6666666666666666,
              "#ed7953"
             ],
             [
              0.7777777777777778,
              "#fb9f3a"
             ],
             [
              0.8888888888888888,
              "#fdca26"
             ],
             [
              1,
              "#f0f921"
             ]
            ],
            "type": "contour"
           }
          ],
          "contourcarpet": [
           {
            "colorbar": {
             "outlinewidth": 0,
             "ticks": ""
            },
            "type": "contourcarpet"
           }
          ],
          "heatmap": [
           {
            "colorbar": {
             "outlinewidth": 0,
             "ticks": ""
            },
            "colorscale": [
             [
              0,
              "#0d0887"
             ],
             [
              0.1111111111111111,
              "#46039f"
             ],
             [
              0.2222222222222222,
              "#7201a8"
             ],
             [
              0.3333333333333333,
              "#9c179e"
             ],
             [
              0.4444444444444444,
              "#bd3786"
             ],
             [
              0.5555555555555556,
              "#d8576b"
             ],
             [
              0.6666666666666666,
              "#ed7953"
             ],
             [
              0.7777777777777778,
              "#fb9f3a"
             ],
             [
              0.8888888888888888,
              "#fdca26"
             ],
             [
              1,
              "#f0f921"
             ]
            ],
            "type": "heatmap"
           }
          ],
          "heatmapgl": [
           {
            "colorbar": {
             "outlinewidth": 0,
             "ticks": ""
            },
            "colorscale": [
             [
              0,
              "#0d0887"
             ],
             [
              0.1111111111111111,
              "#46039f"
             ],
             [
              0.2222222222222222,
              "#7201a8"
             ],
             [
              0.3333333333333333,
              "#9c179e"
             ],
             [
              0.4444444444444444,
              "#bd3786"
             ],
             [
              0.5555555555555556,
              "#d8576b"
             ],
             [
              0.6666666666666666,
              "#ed7953"
             ],
             [
              0.7777777777777778,
              "#fb9f3a"
             ],
             [
              0.8888888888888888,
              "#fdca26"
             ],
             [
              1,
              "#f0f921"
             ]
            ],
            "type": "heatmapgl"
           }
          ],
          "histogram": [
           {
            "marker": {
             "pattern": {
              "fillmode": "overlay",
              "size": 10,
              "solidity": 0.2
             }
            },
            "type": "histogram"
           }
          ],
          "histogram2d": [
           {
            "colorbar": {
             "outlinewidth": 0,
             "ticks": ""
            },
            "colorscale": [
             [
              0,
              "#0d0887"
             ],
             [
              0.1111111111111111,
              "#46039f"
             ],
             [
              0.2222222222222222,
              "#7201a8"
             ],
             [
              0.3333333333333333,
              "#9c179e"
             ],
             [
              0.4444444444444444,
              "#bd3786"
             ],
             [
              0.5555555555555556,
              "#d8576b"
             ],
             [
              0.6666666666666666,
              "#ed7953"
             ],
             [
              0.7777777777777778,
              "#fb9f3a"
             ],
             [
              0.8888888888888888,
              "#fdca26"
             ],
             [
              1,
              "#f0f921"
             ]
            ],
            "type": "histogram2d"
           }
          ],
          "histogram2dcontour": [
           {
            "colorbar": {
             "outlinewidth": 0,
             "ticks": ""
            },
            "colorscale": [
             [
              0,
              "#0d0887"
             ],
             [
              0.1111111111111111,
              "#46039f"
             ],
             [
              0.2222222222222222,
              "#7201a8"
             ],
             [
              0.3333333333333333,
              "#9c179e"
             ],
             [
              0.4444444444444444,
              "#bd3786"
             ],
             [
              0.5555555555555556,
              "#d8576b"
             ],
             [
              0.6666666666666666,
              "#ed7953"
             ],
             [
              0.7777777777777778,
              "#fb9f3a"
             ],
             [
              0.8888888888888888,
              "#fdca26"
             ],
             [
              1,
              "#f0f921"
             ]
            ],
            "type": "histogram2dcontour"
           }
          ],
          "mesh3d": [
           {
            "colorbar": {
             "outlinewidth": 0,
             "ticks": ""
            },
            "type": "mesh3d"
           }
          ],
          "parcoords": [
           {
            "line": {
             "colorbar": {
              "outlinewidth": 0,
              "ticks": ""
             }
            },
            "type": "parcoords"
           }
          ],
          "pie": [
           {
            "automargin": true,
            "type": "pie"
           }
          ],
          "scatter": [
           {
            "fillpattern": {
             "fillmode": "overlay",
             "size": 10,
             "solidity": 0.2
            },
            "type": "scatter"
           }
          ],
          "scatter3d": [
           {
            "line": {
             "colorbar": {
              "outlinewidth": 0,
              "ticks": ""
             }
            },
            "marker": {
             "colorbar": {
              "outlinewidth": 0,
              "ticks": ""
             }
            },
            "type": "scatter3d"
           }
          ],
          "scattercarpet": [
           {
            "marker": {
             "colorbar": {
              "outlinewidth": 0,
              "ticks": ""
             }
            },
            "type": "scattercarpet"
           }
          ],
          "scattergeo": [
           {
            "marker": {
             "colorbar": {
              "outlinewidth": 0,
              "ticks": ""
             }
            },
            "type": "scattergeo"
           }
          ],
          "scattergl": [
           {
            "marker": {
             "colorbar": {
              "outlinewidth": 0,
              "ticks": ""
             }
            },
            "type": "scattergl"
           }
          ],
          "scattermapbox": [
           {
            "marker": {
             "colorbar": {
              "outlinewidth": 0,
              "ticks": ""
             }
            },
            "type": "scattermapbox"
           }
          ],
          "scatterpolar": [
           {
            "marker": {
             "colorbar": {
              "outlinewidth": 0,
              "ticks": ""
             }
            },
            "type": "scatterpolar"
           }
          ],
          "scatterpolargl": [
           {
            "marker": {
             "colorbar": {
              "outlinewidth": 0,
              "ticks": ""
             }
            },
            "type": "scatterpolargl"
           }
          ],
          "scatterternary": [
           {
            "marker": {
             "colorbar": {
              "outlinewidth": 0,
              "ticks": ""
             }
            },
            "type": "scatterternary"
           }
          ],
          "surface": [
           {
            "colorbar": {
             "outlinewidth": 0,
             "ticks": ""
            },
            "colorscale": [
             [
              0,
              "#0d0887"
             ],
             [
              0.1111111111111111,
              "#46039f"
             ],
             [
              0.2222222222222222,
              "#7201a8"
             ],
             [
              0.3333333333333333,
              "#9c179e"
             ],
             [
              0.4444444444444444,
              "#bd3786"
             ],
             [
              0.5555555555555556,
              "#d8576b"
             ],
             [
              0.6666666666666666,
              "#ed7953"
             ],
             [
              0.7777777777777778,
              "#fb9f3a"
             ],
             [
              0.8888888888888888,
              "#fdca26"
             ],
             [
              1,
              "#f0f921"
             ]
            ],
            "type": "surface"
           }
          ],
          "table": [
           {
            "cells": {
             "fill": {
              "color": "#EBF0F8"
             },
             "line": {
              "color": "white"
             }
            },
            "header": {
             "fill": {
              "color": "#C8D4E3"
             },
             "line": {
              "color": "white"
             }
            },
            "type": "table"
           }
          ]
         },
         "layout": {
          "annotationdefaults": {
           "arrowcolor": "#2a3f5f",
           "arrowhead": 0,
           "arrowwidth": 1
          },
          "autotypenumbers": "strict",
          "coloraxis": {
           "colorbar": {
            "outlinewidth": 0,
            "ticks": ""
           }
          },
          "colorscale": {
           "diverging": [
            [
             0,
             "#8e0152"
            ],
            [
             0.1,
             "#c51b7d"
            ],
            [
             0.2,
             "#de77ae"
            ],
            [
             0.3,
             "#f1b6da"
            ],
            [
             0.4,
             "#fde0ef"
            ],
            [
             0.5,
             "#f7f7f7"
            ],
            [
             0.6,
             "#e6f5d0"
            ],
            [
             0.7,
             "#b8e186"
            ],
            [
             0.8,
             "#7fbc41"
            ],
            [
             0.9,
             "#4d9221"
            ],
            [
             1,
             "#276419"
            ]
           ],
           "sequential": [
            [
             0,
             "#0d0887"
            ],
            [
             0.1111111111111111,
             "#46039f"
            ],
            [
             0.2222222222222222,
             "#7201a8"
            ],
            [
             0.3333333333333333,
             "#9c179e"
            ],
            [
             0.4444444444444444,
             "#bd3786"
            ],
            [
             0.5555555555555556,
             "#d8576b"
            ],
            [
             0.6666666666666666,
             "#ed7953"
            ],
            [
             0.7777777777777778,
             "#fb9f3a"
            ],
            [
             0.8888888888888888,
             "#fdca26"
            ],
            [
             1,
             "#f0f921"
            ]
           ],
           "sequentialminus": [
            [
             0,
             "#0d0887"
            ],
            [
             0.1111111111111111,
             "#46039f"
            ],
            [
             0.2222222222222222,
             "#7201a8"
            ],
            [
             0.3333333333333333,
             "#9c179e"
            ],
            [
             0.4444444444444444,
             "#bd3786"
            ],
            [
             0.5555555555555556,
             "#d8576b"
            ],
            [
             0.6666666666666666,
             "#ed7953"
            ],
            [
             0.7777777777777778,
             "#fb9f3a"
            ],
            [
             0.8888888888888888,
             "#fdca26"
            ],
            [
             1,
             "#f0f921"
            ]
           ]
          },
          "colorway": [
           "#636efa",
           "#EF553B",
           "#00cc96",
           "#ab63fa",
           "#FFA15A",
           "#19d3f3",
           "#FF6692",
           "#B6E880",
           "#FF97FF",
           "#FECB52"
          ],
          "font": {
           "color": "#2a3f5f"
          },
          "geo": {
           "bgcolor": "white",
           "lakecolor": "white",
           "landcolor": "#E5ECF6",
           "showlakes": true,
           "showland": true,
           "subunitcolor": "white"
          },
          "hoverlabel": {
           "align": "left"
          },
          "hovermode": "closest",
          "mapbox": {
           "style": "light"
          },
          "paper_bgcolor": "white",
          "plot_bgcolor": "#E5ECF6",
          "polar": {
           "angularaxis": {
            "gridcolor": "white",
            "linecolor": "white",
            "ticks": ""
           },
           "bgcolor": "#E5ECF6",
           "radialaxis": {
            "gridcolor": "white",
            "linecolor": "white",
            "ticks": ""
           }
          },
          "scene": {
           "xaxis": {
            "backgroundcolor": "#E5ECF6",
            "gridcolor": "white",
            "gridwidth": 2,
            "linecolor": "white",
            "showbackground": true,
            "ticks": "",
            "zerolinecolor": "white"
           },
           "yaxis": {
            "backgroundcolor": "#E5ECF6",
            "gridcolor": "white",
            "gridwidth": 2,
            "linecolor": "white",
            "showbackground": true,
            "ticks": "",
            "zerolinecolor": "white"
           },
           "zaxis": {
            "backgroundcolor": "#E5ECF6",
            "gridcolor": "white",
            "gridwidth": 2,
            "linecolor": "white",
            "showbackground": true,
            "ticks": "",
            "zerolinecolor": "white"
           }
          },
          "shapedefaults": {
           "line": {
            "color": "#2a3f5f"
           }
          },
          "ternary": {
           "aaxis": {
            "gridcolor": "white",
            "linecolor": "white",
            "ticks": ""
           },
           "baxis": {
            "gridcolor": "white",
            "linecolor": "white",
            "ticks": ""
           },
           "bgcolor": "#E5ECF6",
           "caxis": {
            "gridcolor": "white",
            "linecolor": "white",
            "ticks": ""
           }
          },
          "title": {
           "x": 0.05
          },
          "xaxis": {
           "automargin": true,
           "gridcolor": "white",
           "linecolor": "white",
           "ticks": "",
           "title": {
            "standoff": 15
           },
           "zerolinecolor": "white",
           "zerolinewidth": 2
          },
          "yaxis": {
           "automargin": true,
           "gridcolor": "white",
           "linecolor": "white",
           "ticks": "",
           "title": {
            "standoff": 15
           },
           "zerolinecolor": "white",
           "zerolinewidth": 2
          }
         }
        },
        "title": {
         "text": "Clustering Analysis with EWMA Volatility"
        },
        "xaxis": {
         "anchor": "y",
         "domain": [
          0,
          1
         ],
         "range": [
          1701346320,
          1701376140
         ],
         "title": {
          "text": "open_time"
         }
        },
        "yaxis": {
         "anchor": "x",
         "domain": [
          0,
          1
         ],
         "title": {
          "text": "closed_price"
         }
        }
       }
      }
     },
     "metadata": {},
     "output_type": "display_data"
    }
   ],
   "source": [
    "fig = px.scatter(clusterData_5, x=clusterData_5.index, y='closed_price', color='Cluster',\n",
    "                 title='Clustering Analysis with EWMA Volatility',\n",
    "                 labels={'Close': 'closed_price', 'Cluster': 'Cluster'},\n",
    "                 range_x=[clusterData['open_time'].min(), clusterData['open_time'].max()])\n",
    "\n",
    "fig.show()"
   ]
  },
  {
   "cell_type": "code",
   "execution_count": 42,
   "metadata": {},
   "outputs": [
    {
     "data": {
      "application/vnd.plotly.v1+json": {
       "config": {
        "plotlyServerURL": "https://plot.ly"
       },
       "data": [
        {
         "alignmentgroup": "True",
         "hovertemplate": "Cluster=%{x}<br>Volatility=%{y}<extra></extra>",
         "legendgroup": "",
         "marker": {
          "color": "#636efa"
         },
         "name": "",
         "notched": false,
         "offsetgroup": "",
         "orientation": "v",
         "showlegend": false,
         "type": "box",
         "x": [
          0,
          2,
          2,
          2,
          2,
          2,
          2,
          2,
          0,
          0,
          2,
          2,
          0,
          0,
          0,
          0,
          2,
          2,
          2,
          0,
          0,
          0,
          0,
          0,
          2,
          2,
          0,
          1,
          0,
          2,
          2,
          2,
          0,
          0,
          2,
          0,
          2,
          2,
          0,
          0,
          2,
          2,
          2,
          0,
          0,
          2,
          2,
          2,
          0,
          0,
          0,
          2,
          2,
          0,
          2,
          2,
          2,
          0,
          1,
          1,
          1,
          2,
          0,
          2,
          0,
          1,
          0,
          0,
          0,
          2,
          2,
          2,
          2,
          2,
          0,
          0,
          2,
          0,
          2,
          0,
          0,
          0,
          2,
          2,
          2,
          0,
          0,
          0,
          0,
          1,
          0,
          2,
          2,
          0,
          1,
          2,
          0,
          2,
          0,
          2,
          2,
          2,
          2,
          2,
          2,
          2,
          0,
          0,
          0,
          0,
          0,
          0,
          2,
          2,
          2,
          0,
          1,
          1,
          0,
          0,
          1,
          1,
          0,
          2,
          2,
          0,
          0,
          2,
          2,
          0,
          0,
          2,
          2,
          2,
          2,
          0,
          0,
          0,
          0,
          0,
          0,
          2,
          2,
          2,
          2,
          1,
          1,
          0,
          2,
          2,
          2,
          2,
          2,
          2,
          2,
          2,
          2,
          1,
          1,
          1,
          1,
          1,
          1,
          0,
          1,
          1,
          1,
          0,
          2,
          2,
          2,
          0,
          1,
          1,
          0,
          2,
          1,
          0,
          1,
          0,
          2,
          0,
          0,
          2,
          0,
          1,
          0,
          0,
          0,
          0,
          0,
          2,
          2,
          0,
          2,
          1,
          0,
          0,
          0,
          2,
          0,
          0,
          0,
          2,
          2,
          2,
          2,
          0,
          0,
          0,
          0,
          0,
          2,
          1,
          1,
          0,
          2,
          2,
          2,
          2,
          0,
          0,
          2,
          2,
          2,
          0,
          2,
          0,
          2,
          2,
          2,
          0,
          0,
          2,
          2,
          2,
          2,
          0,
          0,
          2,
          0,
          0,
          2,
          2,
          2,
          0,
          1,
          1,
          1,
          1,
          1,
          0,
          0,
          0,
          2,
          0,
          2,
          2,
          2,
          0,
          0,
          2,
          0,
          0,
          2,
          2,
          2,
          2,
          2,
          0,
          1,
          1,
          2,
          1,
          1,
          2,
          2,
          0,
          2,
          2,
          0,
          0,
          1,
          1,
          0,
          1,
          0,
          2,
          0,
          0,
          0,
          0,
          0,
          0,
          2,
          0,
          0,
          0,
          2,
          1,
          2,
          0,
          2,
          0,
          2,
          1,
          0,
          0,
          1,
          1,
          0,
          2,
          2,
          0,
          0,
          2,
          0,
          0,
          2,
          0,
          1,
          0,
          2,
          0,
          0,
          0,
          0,
          2,
          0,
          0,
          0,
          2,
          2,
          2,
          2,
          0,
          0,
          2,
          2,
          2,
          2,
          2,
          2,
          2,
          2,
          2,
          2,
          2,
          2,
          2,
          2,
          2,
          2,
          2,
          2,
          2,
          2,
          2,
          2,
          0,
          0,
          2,
          2,
          2,
          2,
          2,
          2,
          2,
          2,
          2,
          2,
          0,
          0,
          2,
          2,
          2,
          2,
          2,
          2,
          0,
          2,
          2,
          2,
          2,
          2,
          2,
          2,
          2,
          2,
          2,
          1,
          0,
          0,
          0,
          0,
          0,
          0,
          1,
          0,
          2,
          2,
          0,
          2,
          0,
          0,
          0,
          2,
          2,
          0,
          2,
          1,
          1,
          0,
          0,
          0,
          0,
          0,
          0,
          0,
          0,
          1,
          1,
          1,
          1,
          0,
          0,
          2,
          2,
          2,
          2,
          2,
          2,
          0,
          0,
          2,
          0,
          2,
          2,
          2,
          0,
          0,
          0,
          0,
          2,
          2,
          2,
          2,
          2,
          2,
          0,
          0,
          0,
          2,
          2,
          2,
          0,
          0,
          2,
          0,
          0,
          2,
          0,
          2,
          2,
          0,
          0,
          0,
          1,
          2,
          2,
          2,
          0,
          2,
          2,
          2,
          2,
          2,
          2,
          2,
          2,
          2,
          0,
          2,
          0,
          1,
          0,
          2,
          2,
          2,
          2,
          0,
          1,
          1,
          0,
          0,
          2,
          2,
          2
         ],
         "x0": " ",
         "xaxis": "x",
         "y": [
          0.0031729097845711205,
          0.0008825836524822602,
          0.0005270912364994151,
          0.00014109497465381783,
          0.00029764744293877865,
          0.00016302134794601075,
          0.0003076557968707634,
          0.00011651884147023895,
          0.001866880838383378,
          0.0028443489082434284,
          0.0011282436593414837,
          0.0014143785451883062,
          0.0016037888144149234,
          0.0017853835557979263,
          0.0030437834603887024,
          0.0026488952300672028,
          0.000662754664586585,
          0.0009889140320183845,
          0.0003085100753513568,
          0.0019643401157938413,
          0.0020256109180621044,
          0.0023965826211892576,
          0.0021669456909657317,
          0.0017555345552983574,
          0.0011977034087360355,
          0.0007839811848767289,
          0.0024411995748877873,
          0.005165253970052182,
          0.002298344854033938,
          0.000717673416209469,
          0.00039764954375022006,
          0.0002551580004274027,
          0.001605371033625648,
          0.0031634879923545813,
          0.0011869278188404876,
          0.002220844237079543,
          0.0009781681834951923,
          0.00029825665696398045,
          0.002299615616641651,
          0.0022430831137082805,
          0.000564671942925991,
          0.0005049826323117857,
          0.0009347694857856318,
          0.0033224378421101235,
          0.0032182182826655126,
          0.0009924817421831432,
          0.00028389003546372475,
          0.0007697491901647825,
          0.0027809645977780193,
          0.0031922248119130936,
          0.001553540527994699,
          0.0012892360690160856,
          0.0008378772705284364,
          0.002364829792872352,
          0.0007562490896734045,
          0.0008656135989007928,
          0.0007376546278228635,
          0.0025499602775163506,
          0.0057765021465324045,
          0.00738565386007408,
          0.004211160166566205,
          0.0010559222207680422,
          0.0014977451990723911,
          0.0012580575554002075,
          0.0018693412064259968,
          0.003980341810459081,
          0.0022715204522455084,
          0.0016834096156563504,
          0.0024657938955504172,
          0.0006427682216943344,
          0.0007443329731263344,
          0.00033951060822887206,
          0.0008584641260516064,
          0.00022655910486852541,
          0.0022562279667016853,
          0.0023915473748188404,
          0.0006169695287770019,
          0.001625334534103058,
          0.0008372835783197514,
          0.0017014727394018398,
          0.0015998275891711735,
          0.002176610516730858,
          0.0009909747919821764,
          0.001161441591720393,
          0.0014184747888204337,
          0.0028534543732842785,
          0.00224037864606868,
          0.001681421500539461,
          0.0020969062925879647,
          0.005576356892304911,
          0.002884924352616903,
          0.0007150927775234505,
          0.00017652810377874432,
          0.002605223627588104,
          0.004889426848482223,
          0.001206156974043672,
          0.0022555532754090133,
          0.0010121500738779576,
          0.003005955367686646,
          0.0010711976431905968,
          0.001183483481370267,
          0.00029787701520117863,
          0.00007308034475035198,
          0.0000850650083370546,
          0.0007575019095669485,
          0.0006604582174735029,
          0.0016489491297692874,
          0.0016658409833236372,
          0.0016294517479648642,
          0.001551235971924668,
          0.001835723220900875,
          0.0016666936443447404,
          0.0004888465927326526,
          0.00019750373863627717,
          0.00018541894171155373,
          0.0019417489732068015,
          0.006143180214524019,
          0.004381256971589575,
          0.0015468448456112613,
          0.003146427892322575,
          0.005844566324727083,
          0.004886908471961157,
          0.0024503203724660816,
          0.0006737625315900156,
          0.0007699358541687123,
          0.0018269544129644046,
          0.002078683176916126,
          0.0005235358572393899,
          0.00012844762106267133,
          0.0021383983968009225,
          0.002936773106072308,
          0.0010085311710338481,
          0.0003658284233323781,
          0.00022944637391165515,
          0.00047895614117257135,
          0.00170700061508808,
          0.003084958258002711,
          0.003479880466023494,
          0.00160338507185972,
          0.0017764330712485505,
          0.0028479381575919845,
          0.0014113040703875787,
          0.00035367687664969184,
          0.00008669852576608386,
          0.0003258540103001165,
          0.00393626586598871,
          0.005634057984969293,
          0.0022875817662240633,
          0.0005709257790719382,
          0.00047836170429595804,
          0.0004520675073578404,
          0.0011686553868197756,
          0.0011051156359082883,
          0.0010252745175950186,
          0.00138664520339705,
          0.0008293014214345559,
          0.0008374174748485226,
          0.006454931329277411,
          0.006218076877797121,
          0.003955098477448749,
          0.004191308300982656,
          0.005192808902770695,
          0.006370599434886741,
          0.0015668172932994386,
          0.003628472302512971,
          0.006108672317786976,
          0.005041176739307252,
          0.0016172003984775633,
          0.00039647988960280937,
          0.00009787542044706663,
          0.00003991542802753504,
          0.0025235665386692265,
          0.007151627445661303,
          0.00641669061350226,
          0.0017720064327947371,
          0.0012232708381339815,
          0.0036793119195774075,
          0.0032592646398534706,
          0.0047994731585999035,
          0.0033811415796347454,
          0.0008498518198923668,
          0.0017859511019682817,
          0.0015941003894504354,
          0.00040471567499442373,
          0.00211232356114949,
          0.0038595456909576494,
          0.0017476805750894252,
          0.0028737328047893505,
          0.002773232697673698,
          0.0018403029575145614,
          0.001934505774452121,
          0.0005484584732320538,
          0.00032385795455240146,
          0.00215946464638859,
          0.0005289600038487354,
          0.004061368253913724,
          0.0020617122304457287,
          0.0017194976376090378,
          0.0029659904805184175,
          0.0010875140115915972,
          0.0021034827252016104,
          0.0035361653963814285,
          0.003327291835742652,
          0.0008429682180262656,
          0.00021372419867569763,
          0.000052537557431237144,
          0.000012871749806764865,
          0.0015004539633468746,
          0.00292774164624422,
          0.0021217739855007916,
          0.0027115779870426093,
          0.0020547168743363818,
          0.0005166451525596439,
          0.005328302263846958,
          0.006498356282776216,
          0.002837978183690887,
          0.0014083810115979793,
          0.0004750816767413451,
          0.00011954755029001825,
          0.00045937435990226286,
          0.0018095872532051759,
          0.0021690065171844643,
          0.0011221495336916725,
          0.0002811940362004049,
          0.0011199995608203658,
          0.0021789293048186213,
          0.0007434354555965556,
          0.001482347586677693,
          0.0012970914894421387,
          0.001274256833578926,
          0.0011966914591019547,
          0.001876490939473996,
          0.001546887910189292,
          0.0007561697620947007,
          0.0008038995180137238,
          0.0009008462172272902,
          0.00042721240631312914,
          0.0016862078637968978,
          0.00184429240086817,
          0.0004772435327549345,
          0.002279099453753041,
          0.0016183956144142724,
          0.0006079919777823949,
          0.0006944037679217321,
          0.0006331669429226015,
          0.0015031879926907413,
          0.005011341832831528,
          0.005352069974116132,
          0.0036559354506339107,
          0.005858694598626812,
          0.005717174225499691,
          0.001980113652103509,
          0.002425120955159636,
          0.0023924685167459204,
          0.0006023039553867078,
          0.002117117010974652,
          0.0005197699579507091,
          0.000365483971537665,
          0.0013228076143708375,
          0.0023942671098780583,
          0.0018726790388530867,
          0.0007108700915812662,
          0.00148019403313262,
          0.002035643592224532,
          0.0011058828792173928,
          0.0010825108188089827,
          0.0008826903135628751,
          0.0002470961885552939,
          0.0008431567397032147,
          0.0018075160563868799,
          0.0036117730376636625,
          0.0038658369113846697,
          0.001270706240128364,
          0.005329739249960606,
          0.0041046818609187154,
          0.0010321950112098493,
          0.0002532225892693574,
          0.0015902938386769094,
          0.0009662304424001486,
          0.0009221017881420878,
          0.0030607415624386903,
          0.0018976290466347565,
          0.007542130984048816,
          0.004494887141041636,
          0.002968144786360018,
          0.0045528586135405195,
          0.0018122011714562709,
          0.0007070959764671433,
          0.002000836721502981,
          0.0014817683596691834,
          0.0034982789488968344,
          0.0032549370075606577,
          0.0019083881042622627,
          0.0015012738667661482,
          0.0009215970006143948,
          0.0018652215648820496,
          0.002295338646935288,
          0.0020625403185372962,
          0.0005081574601400002,
          0.0038578747856074925,
          0.0010264129499475848,
          0.002083068297161616,
          0.0005251132025222995,
          0.001698104153848822,
          0.0006275324576810043,
          0.0037292796499137047,
          0.0033041737217187374,
          0.0017116390822427556,
          0.003721772700792034,
          0.005085925161756093,
          0.0018133279353927565,
          0.00046811914558530924,
          0.00024631498380919614,
          0.001952724051336209,
          0.0019097396769828005,
          0.0005434727742414446,
          0.0015212985871165471,
          0.0017206905496716985,
          0.0004215033151750319,
          0.0016274916930090185,
          0.005066337677438241,
          0.0034527754859671276,
          0.0009438667319092984,
          0.0015705288558975328,
          0.0032694863814683745,
          0.0029353515666089747,
          0.002773419716903881,
          0.0014253555527609138,
          0.0015293324252687113,
          0.0027636951196862995,
          0.0027450670193425964,
          0.0014204274414220492,
          0.0003553285295902285,
          0.00008734107665809612,
          0.000021398562636658232,
          0.001537203812424628,
          0.0015164013479900729,
          0.001328806848014545,
          0.0011808178827091486,
          0.00029648761863245175,
          0.00030533860125670577,
          0.00029313144866673806,
          0.00007432948877793434,
          0.000018243406770333574,
          0.0003057490425391131,
          0.0002969051407773574,
          0.00007474166928560325,
          0.00001840787066330791,
          0.000005326309919582772,
          0.000003382086671989162,
          0.0000028845021931316826,
          0.000042506372459176324,
          0.00007985093834718509,
          0.00003723516346860042,
          0.000012002080680809145,
          0.000037019337156569684,
          0.00003826046344656594,
          0.00004265699306216744,
          0.00003550953825726261,
          0.00183152552220714,
          0.0020811780253144163,
          0.0005437018949649086,
          0.000546895603342471,
          0.0005703188292255352,
          0.0003665720871569938,
          0.0007822830860292836,
          0.0010737048861919987,
          0.00035757057884971353,
          0.00008845020465725083,
          0.000022272510551657862,
          0.0007993610440366149,
          0.0015592699822780276,
          0.0015498776933700739,
          0.0008893451925072588,
          0.00022370663918051614,
          0.0012660297997880506,
          0.0012295442702327521,
          0.0003095205000618566,
          0.0013667744824425237,
          0.0026622396897766957,
          0.0011101920673376633,
          0.0007186363666351508,
          0.00031874437883990344,
          0.0000796873942976187,
          0.000019542772987459276,
          0.00030574170728616404,
          0.00029690503637956795,
          0.0007536813893845783,
          0.0002414469438729665,
          0.0008659568824570302,
          0.003703470803304797,
          0.0022759366344902313,
          0.0017220252760359307,
          0.0014681811976357056,
          0.0017075110011910684,
          0.0015424623034981273,
          0.003544256643513736,
          0.0068576745177881945,
          0.003431854669990467,
          0.0008593077497672641,
          0.00021083170940176173,
          0.0016605216335937574,
          0.0014150438279859874,
          0.0019451489715898327,
          0.0031754390073181985,
          0.001635585187670646,
          0.0004098302297850292,
          0.00010052103249121426,
          0.0028987910051287607,
          0.0013763994365750744,
          0.005934296598711161,
          0.004211916155100448,
          0.0029445276267016573,
          0.0024631516183742145,
          0.0014558717248016005,
          0.0029486357797449446,
          0.0015439314140780524,
          0.00246923320329358,
          0.0024513770852476985,
          0.0026595539910618904,
          0.004548973552429212,
          0.004295308321919438,
          0.004279430445946405,
          0.003596394318118107,
          0.002931801021518485,
          0.0029245006345089706,
          0.0009631256007693104,
          0.0008015349145133574,
          0.0001964173689368755,
          0.00004811747878981735,
          0.000011786914777604825,
          0.0013561893966215477,
          0.0026517538049710366,
          0.0027198653205527767,
          0.0014210135070040746,
          0.0015100545711198901,
          0.00039625870909394526,
          0.0012216886817572362,
          0.0003016706863403147,
          0.001941242203475741,
          0.0031075694775552338,
          0.0024756484989957948,
          0.002125314239290549,
          0.0009538277967766188,
          0.00023821685667296572,
          0.0003057959283331237,
          0.00029463547265425977,
          0.0006704072337500544,
          0.0003829505051453488,
          0.0020324887393911493,
          0.0030471050133026585,
          0.0027548214274046275,
          0.001426638417016902,
          0.00039449111069758273,
          0.0014139062048149137,
          0.002710010354202254,
          0.0015929594058988923,
          0.00047438364944831093,
          0.0022504321610752327,
          0.0018558650630987714,
          0.0012455652642311063,
          0.003096827409733022,
          0.0008636507107028696,
          0.0013293006363702163,
          0.002000107847951147,
          0.001842654420960072,
          0.0020323551516719953,
          0.0036650612757293355,
          0.0009744282411086587,
          0.0013226262175155743,
          0.0013258372255592298,
          0.0023317530731403148,
          0.0011923615395382386,
          0.001268731136321761,
          0.001147298610413431,
          0.0012761664080454707,
          0.0011472905659816897,
          0.00028909956527126726,
          0.00007085753594827949,
          0.000017417517772625196,
          0.0011163186968673924,
          0.00217307388158937,
          0.0011140327765574553,
          0.003105177359409565,
          0.00426411285409016,
          0.0015133623798960043,
          0.00042490835145508177,
          0.0011177205972469017,
          0.0012070638405989726,
          0.0012836265288664426,
          0.002303759237345305,
          0.0039633319220312175,
          0.003874352850617458,
          0.0021998244419635135,
          0.0021588851921258436,
          0.0008872208122589949,
          0.0004637336957872736,
          0.0004627155761350641
         ],
         "y0": " ",
         "yaxis": "y"
        }
       ],
       "layout": {
        "boxmode": "group",
        "legend": {
         "tracegroupgap": 0
        },
        "template": {
         "data": {
          "bar": [
           {
            "error_x": {
             "color": "#2a3f5f"
            },
            "error_y": {
             "color": "#2a3f5f"
            },
            "marker": {
             "line": {
              "color": "#E5ECF6",
              "width": 0.5
             },
             "pattern": {
              "fillmode": "overlay",
              "size": 10,
              "solidity": 0.2
             }
            },
            "type": "bar"
           }
          ],
          "barpolar": [
           {
            "marker": {
             "line": {
              "color": "#E5ECF6",
              "width": 0.5
             },
             "pattern": {
              "fillmode": "overlay",
              "size": 10,
              "solidity": 0.2
             }
            },
            "type": "barpolar"
           }
          ],
          "carpet": [
           {
            "aaxis": {
             "endlinecolor": "#2a3f5f",
             "gridcolor": "white",
             "linecolor": "white",
             "minorgridcolor": "white",
             "startlinecolor": "#2a3f5f"
            },
            "baxis": {
             "endlinecolor": "#2a3f5f",
             "gridcolor": "white",
             "linecolor": "white",
             "minorgridcolor": "white",
             "startlinecolor": "#2a3f5f"
            },
            "type": "carpet"
           }
          ],
          "choropleth": [
           {
            "colorbar": {
             "outlinewidth": 0,
             "ticks": ""
            },
            "type": "choropleth"
           }
          ],
          "contour": [
           {
            "colorbar": {
             "outlinewidth": 0,
             "ticks": ""
            },
            "colorscale": [
             [
              0,
              "#0d0887"
             ],
             [
              0.1111111111111111,
              "#46039f"
             ],
             [
              0.2222222222222222,
              "#7201a8"
             ],
             [
              0.3333333333333333,
              "#9c179e"
             ],
             [
              0.4444444444444444,
              "#bd3786"
             ],
             [
              0.5555555555555556,
              "#d8576b"
             ],
             [
              0.6666666666666666,
              "#ed7953"
             ],
             [
              0.7777777777777778,
              "#fb9f3a"
             ],
             [
              0.8888888888888888,
              "#fdca26"
             ],
             [
              1,
              "#f0f921"
             ]
            ],
            "type": "contour"
           }
          ],
          "contourcarpet": [
           {
            "colorbar": {
             "outlinewidth": 0,
             "ticks": ""
            },
            "type": "contourcarpet"
           }
          ],
          "heatmap": [
           {
            "colorbar": {
             "outlinewidth": 0,
             "ticks": ""
            },
            "colorscale": [
             [
              0,
              "#0d0887"
             ],
             [
              0.1111111111111111,
              "#46039f"
             ],
             [
              0.2222222222222222,
              "#7201a8"
             ],
             [
              0.3333333333333333,
              "#9c179e"
             ],
             [
              0.4444444444444444,
              "#bd3786"
             ],
             [
              0.5555555555555556,
              "#d8576b"
             ],
             [
              0.6666666666666666,
              "#ed7953"
             ],
             [
              0.7777777777777778,
              "#fb9f3a"
             ],
             [
              0.8888888888888888,
              "#fdca26"
             ],
             [
              1,
              "#f0f921"
             ]
            ],
            "type": "heatmap"
           }
          ],
          "heatmapgl": [
           {
            "colorbar": {
             "outlinewidth": 0,
             "ticks": ""
            },
            "colorscale": [
             [
              0,
              "#0d0887"
             ],
             [
              0.1111111111111111,
              "#46039f"
             ],
             [
              0.2222222222222222,
              "#7201a8"
             ],
             [
              0.3333333333333333,
              "#9c179e"
             ],
             [
              0.4444444444444444,
              "#bd3786"
             ],
             [
              0.5555555555555556,
              "#d8576b"
             ],
             [
              0.6666666666666666,
              "#ed7953"
             ],
             [
              0.7777777777777778,
              "#fb9f3a"
             ],
             [
              0.8888888888888888,
              "#fdca26"
             ],
             [
              1,
              "#f0f921"
             ]
            ],
            "type": "heatmapgl"
           }
          ],
          "histogram": [
           {
            "marker": {
             "pattern": {
              "fillmode": "overlay",
              "size": 10,
              "solidity": 0.2
             }
            },
            "type": "histogram"
           }
          ],
          "histogram2d": [
           {
            "colorbar": {
             "outlinewidth": 0,
             "ticks": ""
            },
            "colorscale": [
             [
              0,
              "#0d0887"
             ],
             [
              0.1111111111111111,
              "#46039f"
             ],
             [
              0.2222222222222222,
              "#7201a8"
             ],
             [
              0.3333333333333333,
              "#9c179e"
             ],
             [
              0.4444444444444444,
              "#bd3786"
             ],
             [
              0.5555555555555556,
              "#d8576b"
             ],
             [
              0.6666666666666666,
              "#ed7953"
             ],
             [
              0.7777777777777778,
              "#fb9f3a"
             ],
             [
              0.8888888888888888,
              "#fdca26"
             ],
             [
              1,
              "#f0f921"
             ]
            ],
            "type": "histogram2d"
           }
          ],
          "histogram2dcontour": [
           {
            "colorbar": {
             "outlinewidth": 0,
             "ticks": ""
            },
            "colorscale": [
             [
              0,
              "#0d0887"
             ],
             [
              0.1111111111111111,
              "#46039f"
             ],
             [
              0.2222222222222222,
              "#7201a8"
             ],
             [
              0.3333333333333333,
              "#9c179e"
             ],
             [
              0.4444444444444444,
              "#bd3786"
             ],
             [
              0.5555555555555556,
              "#d8576b"
             ],
             [
              0.6666666666666666,
              "#ed7953"
             ],
             [
              0.7777777777777778,
              "#fb9f3a"
             ],
             [
              0.8888888888888888,
              "#fdca26"
             ],
             [
              1,
              "#f0f921"
             ]
            ],
            "type": "histogram2dcontour"
           }
          ],
          "mesh3d": [
           {
            "colorbar": {
             "outlinewidth": 0,
             "ticks": ""
            },
            "type": "mesh3d"
           }
          ],
          "parcoords": [
           {
            "line": {
             "colorbar": {
              "outlinewidth": 0,
              "ticks": ""
             }
            },
            "type": "parcoords"
           }
          ],
          "pie": [
           {
            "automargin": true,
            "type": "pie"
           }
          ],
          "scatter": [
           {
            "fillpattern": {
             "fillmode": "overlay",
             "size": 10,
             "solidity": 0.2
            },
            "type": "scatter"
           }
          ],
          "scatter3d": [
           {
            "line": {
             "colorbar": {
              "outlinewidth": 0,
              "ticks": ""
             }
            },
            "marker": {
             "colorbar": {
              "outlinewidth": 0,
              "ticks": ""
             }
            },
            "type": "scatter3d"
           }
          ],
          "scattercarpet": [
           {
            "marker": {
             "colorbar": {
              "outlinewidth": 0,
              "ticks": ""
             }
            },
            "type": "scattercarpet"
           }
          ],
          "scattergeo": [
           {
            "marker": {
             "colorbar": {
              "outlinewidth": 0,
              "ticks": ""
             }
            },
            "type": "scattergeo"
           }
          ],
          "scattergl": [
           {
            "marker": {
             "colorbar": {
              "outlinewidth": 0,
              "ticks": ""
             }
            },
            "type": "scattergl"
           }
          ],
          "scattermapbox": [
           {
            "marker": {
             "colorbar": {
              "outlinewidth": 0,
              "ticks": ""
             }
            },
            "type": "scattermapbox"
           }
          ],
          "scatterpolar": [
           {
            "marker": {
             "colorbar": {
              "outlinewidth": 0,
              "ticks": ""
             }
            },
            "type": "scatterpolar"
           }
          ],
          "scatterpolargl": [
           {
            "marker": {
             "colorbar": {
              "outlinewidth": 0,
              "ticks": ""
             }
            },
            "type": "scatterpolargl"
           }
          ],
          "scatterternary": [
           {
            "marker": {
             "colorbar": {
              "outlinewidth": 0,
              "ticks": ""
             }
            },
            "type": "scatterternary"
           }
          ],
          "surface": [
           {
            "colorbar": {
             "outlinewidth": 0,
             "ticks": ""
            },
            "colorscale": [
             [
              0,
              "#0d0887"
             ],
             [
              0.1111111111111111,
              "#46039f"
             ],
             [
              0.2222222222222222,
              "#7201a8"
             ],
             [
              0.3333333333333333,
              "#9c179e"
             ],
             [
              0.4444444444444444,
              "#bd3786"
             ],
             [
              0.5555555555555556,
              "#d8576b"
             ],
             [
              0.6666666666666666,
              "#ed7953"
             ],
             [
              0.7777777777777778,
              "#fb9f3a"
             ],
             [
              0.8888888888888888,
              "#fdca26"
             ],
             [
              1,
              "#f0f921"
             ]
            ],
            "type": "surface"
           }
          ],
          "table": [
           {
            "cells": {
             "fill": {
              "color": "#EBF0F8"
             },
             "line": {
              "color": "white"
             }
            },
            "header": {
             "fill": {
              "color": "#C8D4E3"
             },
             "line": {
              "color": "white"
             }
            },
            "type": "table"
           }
          ]
         },
         "layout": {
          "annotationdefaults": {
           "arrowcolor": "#2a3f5f",
           "arrowhead": 0,
           "arrowwidth": 1
          },
          "autotypenumbers": "strict",
          "coloraxis": {
           "colorbar": {
            "outlinewidth": 0,
            "ticks": ""
           }
          },
          "colorscale": {
           "diverging": [
            [
             0,
             "#8e0152"
            ],
            [
             0.1,
             "#c51b7d"
            ],
            [
             0.2,
             "#de77ae"
            ],
            [
             0.3,
             "#f1b6da"
            ],
            [
             0.4,
             "#fde0ef"
            ],
            [
             0.5,
             "#f7f7f7"
            ],
            [
             0.6,
             "#e6f5d0"
            ],
            [
             0.7,
             "#b8e186"
            ],
            [
             0.8,
             "#7fbc41"
            ],
            [
             0.9,
             "#4d9221"
            ],
            [
             1,
             "#276419"
            ]
           ],
           "sequential": [
            [
             0,
             "#0d0887"
            ],
            [
             0.1111111111111111,
             "#46039f"
            ],
            [
             0.2222222222222222,
             "#7201a8"
            ],
            [
             0.3333333333333333,
             "#9c179e"
            ],
            [
             0.4444444444444444,
             "#bd3786"
            ],
            [
             0.5555555555555556,
             "#d8576b"
            ],
            [
             0.6666666666666666,
             "#ed7953"
            ],
            [
             0.7777777777777778,
             "#fb9f3a"
            ],
            [
             0.8888888888888888,
             "#fdca26"
            ],
            [
             1,
             "#f0f921"
            ]
           ],
           "sequentialminus": [
            [
             0,
             "#0d0887"
            ],
            [
             0.1111111111111111,
             "#46039f"
            ],
            [
             0.2222222222222222,
             "#7201a8"
            ],
            [
             0.3333333333333333,
             "#9c179e"
            ],
            [
             0.4444444444444444,
             "#bd3786"
            ],
            [
             0.5555555555555556,
             "#d8576b"
            ],
            [
             0.6666666666666666,
             "#ed7953"
            ],
            [
             0.7777777777777778,
             "#fb9f3a"
            ],
            [
             0.8888888888888888,
             "#fdca26"
            ],
            [
             1,
             "#f0f921"
            ]
           ]
          },
          "colorway": [
           "#636efa",
           "#EF553B",
           "#00cc96",
           "#ab63fa",
           "#FFA15A",
           "#19d3f3",
           "#FF6692",
           "#B6E880",
           "#FF97FF",
           "#FECB52"
          ],
          "font": {
           "color": "#2a3f5f"
          },
          "geo": {
           "bgcolor": "white",
           "lakecolor": "white",
           "landcolor": "#E5ECF6",
           "showlakes": true,
           "showland": true,
           "subunitcolor": "white"
          },
          "hoverlabel": {
           "align": "left"
          },
          "hovermode": "closest",
          "mapbox": {
           "style": "light"
          },
          "paper_bgcolor": "white",
          "plot_bgcolor": "#E5ECF6",
          "polar": {
           "angularaxis": {
            "gridcolor": "white",
            "linecolor": "white",
            "ticks": ""
           },
           "bgcolor": "#E5ECF6",
           "radialaxis": {
            "gridcolor": "white",
            "linecolor": "white",
            "ticks": ""
           }
          },
          "scene": {
           "xaxis": {
            "backgroundcolor": "#E5ECF6",
            "gridcolor": "white",
            "gridwidth": 2,
            "linecolor": "white",
            "showbackground": true,
            "ticks": "",
            "zerolinecolor": "white"
           },
           "yaxis": {
            "backgroundcolor": "#E5ECF6",
            "gridcolor": "white",
            "gridwidth": 2,
            "linecolor": "white",
            "showbackground": true,
            "ticks": "",
            "zerolinecolor": "white"
           },
           "zaxis": {
            "backgroundcolor": "#E5ECF6",
            "gridcolor": "white",
            "gridwidth": 2,
            "linecolor": "white",
            "showbackground": true,
            "ticks": "",
            "zerolinecolor": "white"
           }
          },
          "shapedefaults": {
           "line": {
            "color": "#2a3f5f"
           }
          },
          "ternary": {
           "aaxis": {
            "gridcolor": "white",
            "linecolor": "white",
            "ticks": ""
           },
           "baxis": {
            "gridcolor": "white",
            "linecolor": "white",
            "ticks": ""
           },
           "bgcolor": "#E5ECF6",
           "caxis": {
            "gridcolor": "white",
            "linecolor": "white",
            "ticks": ""
           }
          },
          "title": {
           "x": 0.05
          },
          "xaxis": {
           "automargin": true,
           "gridcolor": "white",
           "linecolor": "white",
           "ticks": "",
           "title": {
            "standoff": 15
           },
           "zerolinecolor": "white",
           "zerolinewidth": 2
          },
          "yaxis": {
           "automargin": true,
           "gridcolor": "white",
           "linecolor": "white",
           "ticks": "",
           "title": {
            "standoff": 15
           },
           "zerolinecolor": "white",
           "zerolinewidth": 2
          }
         }
        },
        "title": {
         "text": "Box Plots of Volatility in Different Clusters"
        },
        "xaxis": {
         "anchor": "y",
         "domain": [
          0,
          1
         ],
         "title": {
          "text": "Cluster"
         }
        },
        "yaxis": {
         "anchor": "x",
         "domain": [
          0,
          1
         ],
         "title": {
          "text": "Volatility"
         }
        }
       }
      }
     },
     "metadata": {},
     "output_type": "display_data"
    }
   ],
   "source": [
    "fig = px.box(clusterData, x='Cluster', y='Volatility',\n",
    "             title='Box Plots of Volatility in Different Clusters')\n",
    "fig.show()"
   ]
  },
  {
   "cell_type": "code",
   "execution_count": 43,
   "metadata": {},
   "outputs": [
    {
     "data": {
      "application/vnd.plotly.v1+json": {
       "config": {
        "plotlyServerURL": "https://plot.ly"
       },
       "data": [
        {
         "coloraxis": "coloraxis",
         "hovertemplate": "open_time: %{x}<br>Volatility: %{y}<br>color: %{z}<extra></extra>",
         "name": "0",
         "type": "heatmap",
         "x": [
          2,
          3,
          4,
          5,
          6,
          7,
          8,
          9,
          10,
          11,
          12,
          13,
          14,
          15,
          16,
          17,
          18,
          19,
          20,
          21,
          22,
          23,
          24,
          25,
          26,
          27,
          28,
          29,
          30,
          31,
          32,
          33,
          34,
          35,
          36,
          37,
          38,
          39,
          40,
          41,
          42,
          43,
          44,
          45,
          46,
          47,
          48,
          49,
          50,
          51,
          52,
          53,
          54,
          55,
          56,
          57,
          58,
          59,
          60,
          61,
          62,
          63,
          64,
          65,
          66,
          67,
          68,
          69,
          70,
          71,
          72,
          73,
          74,
          75,
          76,
          77,
          78,
          79,
          80,
          81,
          82,
          83,
          84,
          85,
          86,
          87,
          88,
          89,
          90,
          91,
          92,
          93,
          94,
          95,
          96,
          97,
          98,
          99,
          100,
          101,
          102,
          103,
          104,
          105,
          106,
          107,
          108,
          109,
          110,
          111,
          112,
          113,
          114,
          115,
          116,
          117,
          118,
          119,
          120,
          121,
          122,
          123,
          124,
          125,
          126,
          127,
          128,
          129,
          130,
          131,
          132,
          133,
          134,
          135,
          136,
          137,
          138,
          139,
          140,
          141,
          142,
          143,
          144,
          145,
          146,
          147,
          148,
          149,
          150,
          151,
          152,
          153,
          154,
          155,
          156,
          157,
          158,
          159,
          160,
          161,
          162,
          163,
          164,
          165,
          166,
          167,
          168,
          169,
          170,
          171,
          172,
          173,
          174,
          175,
          176,
          177,
          178,
          179,
          180,
          181,
          182,
          183,
          184,
          185,
          186,
          187,
          188,
          189,
          190,
          191,
          192,
          193,
          194,
          195,
          196,
          197,
          198,
          199,
          200,
          201,
          202,
          203,
          204,
          205,
          206,
          207,
          208,
          209,
          210,
          211,
          212,
          213,
          214,
          215,
          216,
          217,
          218,
          219,
          220,
          221,
          222,
          223,
          224,
          225,
          226,
          227,
          228,
          229,
          230,
          231,
          232,
          233,
          234,
          235,
          236,
          237,
          238,
          239,
          240,
          241,
          242,
          243,
          244,
          245,
          246,
          247,
          248,
          249,
          250,
          251,
          252,
          253,
          254,
          255,
          256,
          257,
          258,
          259,
          260,
          261,
          262,
          263,
          264,
          265,
          266,
          267,
          268,
          269,
          270,
          271,
          272,
          273,
          274,
          275,
          276,
          277,
          278,
          279,
          280,
          281,
          282,
          283,
          284,
          285,
          286,
          287,
          288,
          289,
          290,
          291,
          292,
          293,
          294,
          295,
          296,
          297,
          298,
          299,
          300,
          301,
          302,
          303,
          304,
          305,
          306,
          307,
          308,
          309,
          310,
          311,
          312,
          313,
          314,
          315,
          316,
          317,
          318,
          319,
          320,
          321,
          322,
          323,
          324,
          325,
          326,
          327,
          328,
          329,
          330,
          331,
          332,
          333,
          334,
          335,
          336,
          337,
          338,
          339,
          340,
          341,
          342,
          343,
          344,
          345,
          346,
          347,
          348,
          349,
          350,
          351,
          352,
          353,
          354,
          355,
          356,
          357,
          358,
          359,
          360,
          361,
          362,
          363,
          364,
          365,
          366,
          367,
          368,
          369,
          370,
          371,
          372,
          373,
          374,
          375,
          376,
          377,
          378,
          379,
          380,
          381,
          382,
          383,
          384,
          385,
          386,
          387,
          388,
          389,
          390,
          391,
          392,
          393,
          394,
          395,
          396,
          397,
          398,
          399,
          400,
          401,
          402,
          403,
          404,
          405,
          406,
          407,
          408,
          409,
          410,
          411,
          412,
          413,
          414,
          415,
          416,
          417,
          418,
          419,
          420,
          421,
          422,
          423,
          424,
          425,
          426,
          427,
          428,
          429,
          430,
          431,
          432,
          433,
          434,
          435,
          436,
          437,
          438,
          439,
          440,
          441,
          442,
          443,
          444,
          445,
          446,
          447,
          448,
          449,
          450,
          451,
          452,
          453,
          454,
          455,
          456,
          457,
          458,
          459,
          460,
          461,
          462,
          463,
          464,
          465,
          466,
          467,
          468,
          469,
          470,
          471,
          472,
          473,
          474,
          475,
          476,
          477,
          478,
          479,
          480,
          481,
          482,
          483,
          484,
          485,
          486,
          487,
          488,
          489,
          490,
          491,
          492,
          493,
          494,
          495,
          496,
          497,
          498,
          499
         ],
         "xaxis": "x",
         "y": [
          "Volatility"
         ],
         "yaxis": "y",
         "z": [
          [
           0.0031729097845711205,
           0.0008825836524822602,
           0.0005270912364994151,
           0.00014109497465381783,
           0.00029764744293877865,
           0.00016302134794601075,
           0.0003076557968707634,
           0.00011651884147023895,
           0.001866880838383378,
           0.0028443489082434284,
           0.0011282436593414837,
           0.0014143785451883062,
           0.0016037888144149234,
           0.0017853835557979263,
           0.0030437834603887024,
           0.0026488952300672028,
           0.000662754664586585,
           0.0009889140320183845,
           0.0003085100753513568,
           0.0019643401157938413,
           0.0020256109180621044,
           0.0023965826211892576,
           0.0021669456909657317,
           0.0017555345552983574,
           0.0011977034087360355,
           0.0007839811848767289,
           0.0024411995748877873,
           0.005165253970052182,
           0.002298344854033938,
           0.000717673416209469,
           0.00039764954375022006,
           0.0002551580004274027,
           0.001605371033625648,
           0.0031634879923545813,
           0.0011869278188404876,
           0.002220844237079543,
           0.0009781681834951923,
           0.00029825665696398045,
           0.002299615616641651,
           0.0022430831137082805,
           0.000564671942925991,
           0.0005049826323117857,
           0.0009347694857856318,
           0.0033224378421101235,
           0.0032182182826655126,
           0.0009924817421831432,
           0.00028389003546372475,
           0.0007697491901647825,
           0.0027809645977780193,
           0.0031922248119130936,
           0.001553540527994699,
           0.0012892360690160856,
           0.0008378772705284364,
           0.002364829792872352,
           0.0007562490896734045,
           0.0008656135989007928,
           0.0007376546278228635,
           0.0025499602775163506,
           0.0057765021465324045,
           0.00738565386007408,
           0.004211160166566205,
           0.0010559222207680422,
           0.0014977451990723911,
           0.0012580575554002075,
           0.0018693412064259968,
           0.003980341810459081,
           0.0022715204522455084,
           0.0016834096156563504,
           0.0024657938955504172,
           0.0006427682216943344,
           0.0007443329731263344,
           0.00033951060822887206,
           0.0008584641260516064,
           0.00022655910486852541,
           0.0022562279667016853,
           0.0023915473748188404,
           0.0006169695287770019,
           0.001625334534103058,
           0.0008372835783197514,
           0.0017014727394018398,
           0.0015998275891711735,
           0.002176610516730858,
           0.0009909747919821764,
           0.001161441591720393,
           0.0014184747888204337,
           0.0028534543732842785,
           0.00224037864606868,
           0.001681421500539461,
           0.0020969062925879647,
           0.005576356892304911,
           0.002884924352616903,
           0.0007150927775234505,
           0.00017652810377874432,
           0.002605223627588104,
           0.004889426848482223,
           0.001206156974043672,
           0.0022555532754090133,
           0.0010121500738779576,
           0.003005955367686646,
           0.0010711976431905968,
           0.001183483481370267,
           0.00029787701520117863,
           0.00007308034475035198,
           0.0000850650083370546,
           0.0007575019095669485,
           0.0006604582174735029,
           0.0016489491297692874,
           0.0016658409833236372,
           0.0016294517479648642,
           0.001551235971924668,
           0.001835723220900875,
           0.0016666936443447404,
           0.0004888465927326526,
           0.00019750373863627717,
           0.00018541894171155373,
           0.0019417489732068015,
           0.006143180214524019,
           0.004381256971589575,
           0.0015468448456112613,
           0.003146427892322575,
           0.005844566324727083,
           0.004886908471961157,
           0.0024503203724660816,
           0.0006737625315900156,
           0.0007699358541687123,
           0.0018269544129644046,
           0.002078683176916126,
           0.0005235358572393899,
           0.00012844762106267133,
           0.0021383983968009225,
           0.002936773106072308,
           0.0010085311710338481,
           0.0003658284233323781,
           0.00022944637391165515,
           0.00047895614117257135,
           0.00170700061508808,
           0.003084958258002711,
           0.003479880466023494,
           0.00160338507185972,
           0.0017764330712485505,
           0.0028479381575919845,
           0.0014113040703875787,
           0.00035367687664969184,
           0.00008669852576608386,
           0.0003258540103001165,
           0.00393626586598871,
           0.005634057984969293,
           0.0022875817662240633,
           0.0005709257790719382,
           0.00047836170429595804,
           0.0004520675073578404,
           0.0011686553868197756,
           0.0011051156359082883,
           0.0010252745175950186,
           0.00138664520339705,
           0.0008293014214345559,
           0.0008374174748485226,
           0.006454931329277411,
           0.006218076877797121,
           0.003955098477448749,
           0.004191308300982656,
           0.005192808902770695,
           0.006370599434886741,
           0.0015668172932994386,
           0.003628472302512971,
           0.006108672317786976,
           0.005041176739307252,
           0.0016172003984775633,
           0.00039647988960280937,
           0.00009787542044706663,
           0.00003991542802753504,
           0.0025235665386692265,
           0.007151627445661303,
           0.00641669061350226,
           0.0017720064327947371,
           0.0012232708381339815,
           0.0036793119195774075,
           0.0032592646398534706,
           0.0047994731585999035,
           0.0033811415796347454,
           0.0008498518198923668,
           0.0017859511019682817,
           0.0015941003894504354,
           0.00040471567499442373,
           0.00211232356114949,
           0.0038595456909576494,
           0.0017476805750894252,
           0.0028737328047893505,
           0.002773232697673698,
           0.0018403029575145614,
           0.001934505774452121,
           0.0005484584732320538,
           0.00032385795455240146,
           0.00215946464638859,
           0.0005289600038487354,
           0.004061368253913724,
           0.0020617122304457287,
           0.0017194976376090378,
           0.0029659904805184175,
           0.0010875140115915972,
           0.0021034827252016104,
           0.0035361653963814285,
           0.003327291835742652,
           0.0008429682180262656,
           0.00021372419867569763,
           0.000052537557431237144,
           0.000012871749806764865,
           0.0015004539633468746,
           0.00292774164624422,
           0.0021217739855007916,
           0.0027115779870426093,
           0.0020547168743363818,
           0.0005166451525596439,
           0.005328302263846958,
           0.006498356282776216,
           0.002837978183690887,
           0.0014083810115979793,
           0.0004750816767413451,
           0.00011954755029001825,
           0.00045937435990226286,
           0.0018095872532051759,
           0.0021690065171844643,
           0.0011221495336916725,
           0.0002811940362004049,
           0.0011199995608203658,
           0.0021789293048186213,
           0.0007434354555965556,
           0.001482347586677693,
           0.0012970914894421387,
           0.001274256833578926,
           0.0011966914591019547,
           0.001876490939473996,
           0.001546887910189292,
           0.0007561697620947007,
           0.0008038995180137238,
           0.0009008462172272902,
           0.00042721240631312914,
           0.0016862078637968978,
           0.00184429240086817,
           0.0004772435327549345,
           0.002279099453753041,
           0.0016183956144142724,
           0.0006079919777823949,
           0.0006944037679217321,
           0.0006331669429226015,
           0.0015031879926907413,
           0.005011341832831528,
           0.005352069974116132,
           0.0036559354506339107,
           0.005858694598626812,
           0.005717174225499691,
           0.001980113652103509,
           0.002425120955159636,
           0.0023924685167459204,
           0.0006023039553867078,
           0.002117117010974652,
           0.0005197699579507091,
           0.000365483971537665,
           0.0013228076143708375,
           0.0023942671098780583,
           0.0018726790388530867,
           0.0007108700915812662,
           0.00148019403313262,
           0.002035643592224532,
           0.0011058828792173928,
           0.0010825108188089827,
           0.0008826903135628751,
           0.0002470961885552939,
           0.0008431567397032147,
           0.0018075160563868799,
           0.0036117730376636625,
           0.0038658369113846697,
           0.001270706240128364,
           0.005329739249960606,
           0.0041046818609187154,
           0.0010321950112098493,
           0.0002532225892693574,
           0.0015902938386769094,
           0.0009662304424001486,
           0.0009221017881420878,
           0.0030607415624386903,
           0.0018976290466347565,
           0.007542130984048816,
           0.004494887141041636,
           0.002968144786360018,
           0.0045528586135405195,
           0.0018122011714562709,
           0.0007070959764671433,
           0.002000836721502981,
           0.0014817683596691834,
           0.0034982789488968344,
           0.0032549370075606577,
           0.0019083881042622627,
           0.0015012738667661482,
           0.0009215970006143948,
           0.0018652215648820496,
           0.002295338646935288,
           0.0020625403185372962,
           0.0005081574601400002,
           0.0038578747856074925,
           0.0010264129499475848,
           0.002083068297161616,
           0.0005251132025222995,
           0.001698104153848822,
           0.0006275324576810043,
           0.0037292796499137047,
           0.0033041737217187374,
           0.0017116390822427556,
           0.003721772700792034,
           0.005085925161756093,
           0.0018133279353927565,
           0.00046811914558530924,
           0.00024631498380919614,
           0.001952724051336209,
           0.0019097396769828005,
           0.0005434727742414446,
           0.0015212985871165471,
           0.0017206905496716985,
           0.0004215033151750319,
           0.0016274916930090185,
           0.005066337677438241,
           0.0034527754859671276,
           0.0009438667319092984,
           0.0015705288558975328,
           0.0032694863814683745,
           0.0029353515666089747,
           0.002773419716903881,
           0.0014253555527609138,
           0.0015293324252687113,
           0.0027636951196862995,
           0.0027450670193425964,
           0.0014204274414220492,
           0.0003553285295902285,
           0.00008734107665809612,
           0.000021398562636658232,
           0.001537203812424628,
           0.0015164013479900729,
           0.001328806848014545,
           0.0011808178827091486,
           0.00029648761863245175,
           0.00030533860125670577,
           0.00029313144866673806,
           0.00007432948877793434,
           0.000018243406770333574,
           0.0003057490425391131,
           0.0002969051407773574,
           0.00007474166928560325,
           0.00001840787066330791,
           0.000005326309919582772,
           0.000003382086671989162,
           0.0000028845021931316826,
           0.000042506372459176324,
           0.00007985093834718509,
           0.00003723516346860042,
           0.000012002080680809145,
           0.000037019337156569684,
           0.00003826046344656594,
           0.00004265699306216744,
           0.00003550953825726261,
           0.00183152552220714,
           0.0020811780253144163,
           0.0005437018949649086,
           0.000546895603342471,
           0.0005703188292255352,
           0.0003665720871569938,
           0.0007822830860292836,
           0.0010737048861919987,
           0.00035757057884971353,
           0.00008845020465725083,
           0.000022272510551657862,
           0.0007993610440366149,
           0.0015592699822780276,
           0.0015498776933700739,
           0.0008893451925072588,
           0.00022370663918051614,
           0.0012660297997880506,
           0.0012295442702327521,
           0.0003095205000618566,
           0.0013667744824425237,
           0.0026622396897766957,
           0.0011101920673376633,
           0.0007186363666351508,
           0.00031874437883990344,
           0.0000796873942976187,
           0.000019542772987459276,
           0.00030574170728616404,
           0.00029690503637956795,
           0.0007536813893845783,
           0.0002414469438729665,
           0.0008659568824570302,
           0.003703470803304797,
           0.0022759366344902313,
           0.0017220252760359307,
           0.0014681811976357056,
           0.0017075110011910684,
           0.0015424623034981273,
           0.003544256643513736,
           0.0068576745177881945,
           0.003431854669990467,
           0.0008593077497672641,
           0.00021083170940176173,
           0.0016605216335937574,
           0.0014150438279859874,
           0.0019451489715898327,
           0.0031754390073181985,
           0.001635585187670646,
           0.0004098302297850292,
           0.00010052103249121426,
           0.0028987910051287607,
           0.0013763994365750744,
           0.005934296598711161,
           0.004211916155100448,
           0.0029445276267016573,
           0.0024631516183742145,
           0.0014558717248016005,
           0.0029486357797449446,
           0.0015439314140780524,
           0.00246923320329358,
           0.0024513770852476985,
           0.0026595539910618904,
           0.004548973552429212,
           0.004295308321919438,
           0.004279430445946405,
           0.003596394318118107,
           0.002931801021518485,
           0.0029245006345089706,
           0.0009631256007693104,
           0.0008015349145133574,
           0.0001964173689368755,
           0.00004811747878981735,
           0.000011786914777604825,
           0.0013561893966215477,
           0.0026517538049710366,
           0.0027198653205527767,
           0.0014210135070040746,
           0.0015100545711198901,
           0.00039625870909394526,
           0.0012216886817572362,
           0.0003016706863403147,
           0.001941242203475741,
           0.0031075694775552338,
           0.0024756484989957948,
           0.002125314239290549,
           0.0009538277967766188,
           0.00023821685667296572,
           0.0003057959283331237,
           0.00029463547265425977,
           0.0006704072337500544,
           0.0003829505051453488,
           0.0020324887393911493,
           0.0030471050133026585,
           0.0027548214274046275,
           0.001426638417016902,
           0.00039449111069758273,
           0.0014139062048149137,
           0.002710010354202254,
           0.0015929594058988923,
           0.00047438364944831093,
           0.0022504321610752327,
           0.0018558650630987714,
           0.0012455652642311063,
           0.003096827409733022,
           0.0008636507107028696,
           0.0013293006363702163,
           0.002000107847951147,
           0.001842654420960072,
           0.0020323551516719953,
           0.0036650612757293355,
           0.0009744282411086587,
           0.0013226262175155743,
           0.0013258372255592298,
           0.0023317530731403148,
           0.0011923615395382386,
           0.001268731136321761,
           0.001147298610413431,
           0.0012761664080454707,
           0.0011472905659816897,
           0.00028909956527126726,
           0.00007085753594827949,
           0.000017417517772625196,
           0.0011163186968673924,
           0.00217307388158937,
           0.0011140327765574553,
           0.003105177359409565,
           0.00426411285409016,
           0.0015133623798960043,
           0.00042490835145508177,
           0.0011177205972469017,
           0.0012070638405989726,
           0.0012836265288664426,
           0.002303759237345305,
           0.0039633319220312175,
           0.003874352850617458,
           0.0021998244419635135,
           0.0021588851921258436,
           0.0008872208122589949,
           0.0004637336957872736,
           0.0004627155761350641
          ]
         ]
        }
       ],
       "layout": {
        "coloraxis": {
         "colorscale": [
          [
           0,
           "#0d0887"
          ],
          [
           0.1111111111111111,
           "#46039f"
          ],
          [
           0.2222222222222222,
           "#7201a8"
          ],
          [
           0.3333333333333333,
           "#9c179e"
          ],
          [
           0.4444444444444444,
           "#bd3786"
          ],
          [
           0.5555555555555556,
           "#d8576b"
          ],
          [
           0.6666666666666666,
           "#ed7953"
          ],
          [
           0.7777777777777778,
           "#fb9f3a"
          ],
          [
           0.8888888888888888,
           "#fdca26"
          ],
          [
           1,
           "#f0f921"
          ]
         ]
        },
        "template": {
         "data": {
          "bar": [
           {
            "error_x": {
             "color": "#2a3f5f"
            },
            "error_y": {
             "color": "#2a3f5f"
            },
            "marker": {
             "line": {
              "color": "#E5ECF6",
              "width": 0.5
             },
             "pattern": {
              "fillmode": "overlay",
              "size": 10,
              "solidity": 0.2
             }
            },
            "type": "bar"
           }
          ],
          "barpolar": [
           {
            "marker": {
             "line": {
              "color": "#E5ECF6",
              "width": 0.5
             },
             "pattern": {
              "fillmode": "overlay",
              "size": 10,
              "solidity": 0.2
             }
            },
            "type": "barpolar"
           }
          ],
          "carpet": [
           {
            "aaxis": {
             "endlinecolor": "#2a3f5f",
             "gridcolor": "white",
             "linecolor": "white",
             "minorgridcolor": "white",
             "startlinecolor": "#2a3f5f"
            },
            "baxis": {
             "endlinecolor": "#2a3f5f",
             "gridcolor": "white",
             "linecolor": "white",
             "minorgridcolor": "white",
             "startlinecolor": "#2a3f5f"
            },
            "type": "carpet"
           }
          ],
          "choropleth": [
           {
            "colorbar": {
             "outlinewidth": 0,
             "ticks": ""
            },
            "type": "choropleth"
           }
          ],
          "contour": [
           {
            "colorbar": {
             "outlinewidth": 0,
             "ticks": ""
            },
            "colorscale": [
             [
              0,
              "#0d0887"
             ],
             [
              0.1111111111111111,
              "#46039f"
             ],
             [
              0.2222222222222222,
              "#7201a8"
             ],
             [
              0.3333333333333333,
              "#9c179e"
             ],
             [
              0.4444444444444444,
              "#bd3786"
             ],
             [
              0.5555555555555556,
              "#d8576b"
             ],
             [
              0.6666666666666666,
              "#ed7953"
             ],
             [
              0.7777777777777778,
              "#fb9f3a"
             ],
             [
              0.8888888888888888,
              "#fdca26"
             ],
             [
              1,
              "#f0f921"
             ]
            ],
            "type": "contour"
           }
          ],
          "contourcarpet": [
           {
            "colorbar": {
             "outlinewidth": 0,
             "ticks": ""
            },
            "type": "contourcarpet"
           }
          ],
          "heatmap": [
           {
            "colorbar": {
             "outlinewidth": 0,
             "ticks": ""
            },
            "colorscale": [
             [
              0,
              "#0d0887"
             ],
             [
              0.1111111111111111,
              "#46039f"
             ],
             [
              0.2222222222222222,
              "#7201a8"
             ],
             [
              0.3333333333333333,
              "#9c179e"
             ],
             [
              0.4444444444444444,
              "#bd3786"
             ],
             [
              0.5555555555555556,
              "#d8576b"
             ],
             [
              0.6666666666666666,
              "#ed7953"
             ],
             [
              0.7777777777777778,
              "#fb9f3a"
             ],
             [
              0.8888888888888888,
              "#fdca26"
             ],
             [
              1,
              "#f0f921"
             ]
            ],
            "type": "heatmap"
           }
          ],
          "heatmapgl": [
           {
            "colorbar": {
             "outlinewidth": 0,
             "ticks": ""
            },
            "colorscale": [
             [
              0,
              "#0d0887"
             ],
             [
              0.1111111111111111,
              "#46039f"
             ],
             [
              0.2222222222222222,
              "#7201a8"
             ],
             [
              0.3333333333333333,
              "#9c179e"
             ],
             [
              0.4444444444444444,
              "#bd3786"
             ],
             [
              0.5555555555555556,
              "#d8576b"
             ],
             [
              0.6666666666666666,
              "#ed7953"
             ],
             [
              0.7777777777777778,
              "#fb9f3a"
             ],
             [
              0.8888888888888888,
              "#fdca26"
             ],
             [
              1,
              "#f0f921"
             ]
            ],
            "type": "heatmapgl"
           }
          ],
          "histogram": [
           {
            "marker": {
             "pattern": {
              "fillmode": "overlay",
              "size": 10,
              "solidity": 0.2
             }
            },
            "type": "histogram"
           }
          ],
          "histogram2d": [
           {
            "colorbar": {
             "outlinewidth": 0,
             "ticks": ""
            },
            "colorscale": [
             [
              0,
              "#0d0887"
             ],
             [
              0.1111111111111111,
              "#46039f"
             ],
             [
              0.2222222222222222,
              "#7201a8"
             ],
             [
              0.3333333333333333,
              "#9c179e"
             ],
             [
              0.4444444444444444,
              "#bd3786"
             ],
             [
              0.5555555555555556,
              "#d8576b"
             ],
             [
              0.6666666666666666,
              "#ed7953"
             ],
             [
              0.7777777777777778,
              "#fb9f3a"
             ],
             [
              0.8888888888888888,
              "#fdca26"
             ],
             [
              1,
              "#f0f921"
             ]
            ],
            "type": "histogram2d"
           }
          ],
          "histogram2dcontour": [
           {
            "colorbar": {
             "outlinewidth": 0,
             "ticks": ""
            },
            "colorscale": [
             [
              0,
              "#0d0887"
             ],
             [
              0.1111111111111111,
              "#46039f"
             ],
             [
              0.2222222222222222,
              "#7201a8"
             ],
             [
              0.3333333333333333,
              "#9c179e"
             ],
             [
              0.4444444444444444,
              "#bd3786"
             ],
             [
              0.5555555555555556,
              "#d8576b"
             ],
             [
              0.6666666666666666,
              "#ed7953"
             ],
             [
              0.7777777777777778,
              "#fb9f3a"
             ],
             [
              0.8888888888888888,
              "#fdca26"
             ],
             [
              1,
              "#f0f921"
             ]
            ],
            "type": "histogram2dcontour"
           }
          ],
          "mesh3d": [
           {
            "colorbar": {
             "outlinewidth": 0,
             "ticks": ""
            },
            "type": "mesh3d"
           }
          ],
          "parcoords": [
           {
            "line": {
             "colorbar": {
              "outlinewidth": 0,
              "ticks": ""
             }
            },
            "type": "parcoords"
           }
          ],
          "pie": [
           {
            "automargin": true,
            "type": "pie"
           }
          ],
          "scatter": [
           {
            "fillpattern": {
             "fillmode": "overlay",
             "size": 10,
             "solidity": 0.2
            },
            "type": "scatter"
           }
          ],
          "scatter3d": [
           {
            "line": {
             "colorbar": {
              "outlinewidth": 0,
              "ticks": ""
             }
            },
            "marker": {
             "colorbar": {
              "outlinewidth": 0,
              "ticks": ""
             }
            },
            "type": "scatter3d"
           }
          ],
          "scattercarpet": [
           {
            "marker": {
             "colorbar": {
              "outlinewidth": 0,
              "ticks": ""
             }
            },
            "type": "scattercarpet"
           }
          ],
          "scattergeo": [
           {
            "marker": {
             "colorbar": {
              "outlinewidth": 0,
              "ticks": ""
             }
            },
            "type": "scattergeo"
           }
          ],
          "scattergl": [
           {
            "marker": {
             "colorbar": {
              "outlinewidth": 0,
              "ticks": ""
             }
            },
            "type": "scattergl"
           }
          ],
          "scattermapbox": [
           {
            "marker": {
             "colorbar": {
              "outlinewidth": 0,
              "ticks": ""
             }
            },
            "type": "scattermapbox"
           }
          ],
          "scatterpolar": [
           {
            "marker": {
             "colorbar": {
              "outlinewidth": 0,
              "ticks": ""
             }
            },
            "type": "scatterpolar"
           }
          ],
          "scatterpolargl": [
           {
            "marker": {
             "colorbar": {
              "outlinewidth": 0,
              "ticks": ""
             }
            },
            "type": "scatterpolargl"
           }
          ],
          "scatterternary": [
           {
            "marker": {
             "colorbar": {
              "outlinewidth": 0,
              "ticks": ""
             }
            },
            "type": "scatterternary"
           }
          ],
          "surface": [
           {
            "colorbar": {
             "outlinewidth": 0,
             "ticks": ""
            },
            "colorscale": [
             [
              0,
              "#0d0887"
             ],
             [
              0.1111111111111111,
              "#46039f"
             ],
             [
              0.2222222222222222,
              "#7201a8"
             ],
             [
              0.3333333333333333,
              "#9c179e"
             ],
             [
              0.4444444444444444,
              "#bd3786"
             ],
             [
              0.5555555555555556,
              "#d8576b"
             ],
             [
              0.6666666666666666,
              "#ed7953"
             ],
             [
              0.7777777777777778,
              "#fb9f3a"
             ],
             [
              0.8888888888888888,
              "#fdca26"
             ],
             [
              1,
              "#f0f921"
             ]
            ],
            "type": "surface"
           }
          ],
          "table": [
           {
            "cells": {
             "fill": {
              "color": "#EBF0F8"
             },
             "line": {
              "color": "white"
             }
            },
            "header": {
             "fill": {
              "color": "#C8D4E3"
             },
             "line": {
              "color": "white"
             }
            },
            "type": "table"
           }
          ]
         },
         "layout": {
          "annotationdefaults": {
           "arrowcolor": "#2a3f5f",
           "arrowhead": 0,
           "arrowwidth": 1
          },
          "autotypenumbers": "strict",
          "coloraxis": {
           "colorbar": {
            "outlinewidth": 0,
            "ticks": ""
           }
          },
          "colorscale": {
           "diverging": [
            [
             0,
             "#8e0152"
            ],
            [
             0.1,
             "#c51b7d"
            ],
            [
             0.2,
             "#de77ae"
            ],
            [
             0.3,
             "#f1b6da"
            ],
            [
             0.4,
             "#fde0ef"
            ],
            [
             0.5,
             "#f7f7f7"
            ],
            [
             0.6,
             "#e6f5d0"
            ],
            [
             0.7,
             "#b8e186"
            ],
            [
             0.8,
             "#7fbc41"
            ],
            [
             0.9,
             "#4d9221"
            ],
            [
             1,
             "#276419"
            ]
           ],
           "sequential": [
            [
             0,
             "#0d0887"
            ],
            [
             0.1111111111111111,
             "#46039f"
            ],
            [
             0.2222222222222222,
             "#7201a8"
            ],
            [
             0.3333333333333333,
             "#9c179e"
            ],
            [
             0.4444444444444444,
             "#bd3786"
            ],
            [
             0.5555555555555556,
             "#d8576b"
            ],
            [
             0.6666666666666666,
             "#ed7953"
            ],
            [
             0.7777777777777778,
             "#fb9f3a"
            ],
            [
             0.8888888888888888,
             "#fdca26"
            ],
            [
             1,
             "#f0f921"
            ]
           ],
           "sequentialminus": [
            [
             0,
             "#0d0887"
            ],
            [
             0.1111111111111111,
             "#46039f"
            ],
            [
             0.2222222222222222,
             "#7201a8"
            ],
            [
             0.3333333333333333,
             "#9c179e"
            ],
            [
             0.4444444444444444,
             "#bd3786"
            ],
            [
             0.5555555555555556,
             "#d8576b"
            ],
            [
             0.6666666666666666,
             "#ed7953"
            ],
            [
             0.7777777777777778,
             "#fb9f3a"
            ],
            [
             0.8888888888888888,
             "#fdca26"
            ],
            [
             1,
             "#f0f921"
            ]
           ]
          },
          "colorway": [
           "#636efa",
           "#EF553B",
           "#00cc96",
           "#ab63fa",
           "#FFA15A",
           "#19d3f3",
           "#FF6692",
           "#B6E880",
           "#FF97FF",
           "#FECB52"
          ],
          "font": {
           "color": "#2a3f5f"
          },
          "geo": {
           "bgcolor": "white",
           "lakecolor": "white",
           "landcolor": "#E5ECF6",
           "showlakes": true,
           "showland": true,
           "subunitcolor": "white"
          },
          "hoverlabel": {
           "align": "left"
          },
          "hovermode": "closest",
          "mapbox": {
           "style": "light"
          },
          "paper_bgcolor": "white",
          "plot_bgcolor": "#E5ECF6",
          "polar": {
           "angularaxis": {
            "gridcolor": "white",
            "linecolor": "white",
            "ticks": ""
           },
           "bgcolor": "#E5ECF6",
           "radialaxis": {
            "gridcolor": "white",
            "linecolor": "white",
            "ticks": ""
           }
          },
          "scene": {
           "xaxis": {
            "backgroundcolor": "#E5ECF6",
            "gridcolor": "white",
            "gridwidth": 2,
            "linecolor": "white",
            "showbackground": true,
            "ticks": "",
            "zerolinecolor": "white"
           },
           "yaxis": {
            "backgroundcolor": "#E5ECF6",
            "gridcolor": "white",
            "gridwidth": 2,
            "linecolor": "white",
            "showbackground": true,
            "ticks": "",
            "zerolinecolor": "white"
           },
           "zaxis": {
            "backgroundcolor": "#E5ECF6",
            "gridcolor": "white",
            "gridwidth": 2,
            "linecolor": "white",
            "showbackground": true,
            "ticks": "",
            "zerolinecolor": "white"
           }
          },
          "shapedefaults": {
           "line": {
            "color": "#2a3f5f"
           }
          },
          "ternary": {
           "aaxis": {
            "gridcolor": "white",
            "linecolor": "white",
            "ticks": ""
           },
           "baxis": {
            "gridcolor": "white",
            "linecolor": "white",
            "ticks": ""
           },
           "bgcolor": "#E5ECF6",
           "caxis": {
            "gridcolor": "white",
            "linecolor": "white",
            "ticks": ""
           }
          },
          "title": {
           "x": 0.05
          },
          "xaxis": {
           "automargin": true,
           "gridcolor": "white",
           "linecolor": "white",
           "ticks": "",
           "title": {
            "standoff": 15
           },
           "zerolinecolor": "white",
           "zerolinewidth": 2
          },
          "yaxis": {
           "automargin": true,
           "gridcolor": "white",
           "linecolor": "white",
           "ticks": "",
           "title": {
            "standoff": 15
           },
           "zerolinecolor": "white",
           "zerolinewidth": 2
          }
         }
        },
        "title": {
         "text": "Volatility Heatmap"
        },
        "xaxis": {
         "anchor": "y",
         "constrain": "domain",
         "domain": [
          0,
          1
         ],
         "scaleanchor": "y",
         "title": {
          "text": "open_time"
         }
        },
        "yaxis": {
         "anchor": "x",
         "autorange": "reversed",
         "constrain": "domain",
         "domain": [
          0,
          1
         ],
         "title": {
          "text": "Volatility"
         }
        }
       }
      }
     },
     "metadata": {},
     "output_type": "display_data"
    }
   ],
   "source": [
    "fig = px.imshow(clusterData[['Volatility']].transpose(),\n",
    "                labels={'x': 'open_time', 'y': 'Volatility'},\n",
    "                title='Volatility Heatmap')\n",
    "fig.show()"
   ]
  },
  {
   "cell_type": "code",
   "execution_count": 44,
   "metadata": {},
   "outputs": [],
   "source": [
    "# Based on my extensive research, I understand that high volatility means more significant changes in price, \n",
    "# indicating greater investment risk. Therefore, the yellow parts are considered unfavorable. However, they \n",
    "# can also reveal underlying causes because prices don't change suddenly for no reason. I still believe that \n",
    "# understanding the nature of the data (in this case, the BTC-ETH pair price) has a significant impact on \n",
    "# how to interpret these figures, and simply noticing them isn't enough."
   ]
  },
  {
   "cell_type": "code",
   "execution_count": 45,
   "metadata": {},
   "outputs": [
    {
     "name": "stdout",
     "output_type": "stream",
     "text": [
      "Summary Statistics for Log Returns:\n",
      "count    499.000000\n",
      "mean       0.000005\n",
      "std        0.002053\n",
      "min       -0.007641\n",
      "25%       -0.000944\n",
      "50%        0.000000\n",
      "75%        0.000998\n",
      "max        0.007537\n",
      "Name: Log_Return, dtype: float64\n",
      "\n",
      "Skewness for Log Returns: -0.043747531270133234\n",
      "Kurtosis for Log Returns: 1.4430093050383643\n",
      "\n",
      "\n",
      "Summary Statistics for Volatility:\n",
      "count    498.000000\n",
      "mean       0.001789\n",
      "std        0.001493\n",
      "min        0.000003\n",
      "25%        0.000661\n",
      "50%        0.001507\n",
      "75%        0.002437\n",
      "max        0.007542\n",
      "Name: Volatility, dtype: float64\n",
      "\n",
      "Skewness for Volatility: 1.291648345067256\n",
      "Kurtosis for Volatility: 1.6301947071842653\n"
     ]
    }
   ],
   "source": [
    "import scipy.stats as stats\n",
    "\n",
    "def summary_statistics(df):\n",
    "    price_data = df.copy()\n",
    "    \n",
    "    log_returns_summary = price_data['Log_Return'].describe()\n",
    "\n",
    "    # Generate summary statistics for volatility\n",
    "    volatility_summary = price_data['Volatility'].describe()\n",
    "\n",
    "    # Additional statistics (skewness and kurtosis)\n",
    "    log_returns_skewness = stats.skew(price_data['Log_Return'].dropna())\n",
    "    log_returns_kurtosis = stats.kurtosis(price_data['Log_Return'].dropna())\n",
    "\n",
    "    volatility_skewness = stats.skew(price_data['Volatility'].dropna())\n",
    "    volatility_kurtosis = stats.kurtosis(price_data['Volatility'].dropna())\n",
    "\n",
    "    # Print or use the summary statistics as needed\n",
    "    print(\"Summary Statistics for Log Returns:\")\n",
    "    print(log_returns_summary)\n",
    "\n",
    "    print(\"\\nSkewness for Log Returns:\", log_returns_skewness)\n",
    "    print(\"Kurtosis for Log Returns:\", log_returns_kurtosis)\n",
    "\n",
    "    print(\"\\n\\nSummary Statistics for Volatility:\")\n",
    "    print(volatility_summary)\n",
    "\n",
    "    print(\"\\nSkewness for Volatility:\", volatility_skewness)\n",
    "    print(\"Kurtosis for Volatility:\", volatility_kurtosis)\n",
    "\n",
    "\n",
    "summary = summary_statistics(calculateEWMA)"
   ]
  },
  {
   "cell_type": "code",
   "execution_count": 46,
   "metadata": {},
   "outputs": [
    {
     "data": {
      "application/vnd.plotly.v1+json": {
       "config": {
        "plotlyServerURL": "https://plot.ly"
       },
       "data": [
        {
         "mode": "markers",
         "name": "Q-Q Plot",
         "type": "scatter",
         "x": [
          -0.007640935134900011,
          -0.006865138410922152,
          -0.006736216732592449,
          -0.0063502646216714795,
          -0.0061043048110724215,
          -0.0059656812233317745,
          -0.00514229745592749,
          -0.005141351382707444,
          -0.004893698889685809,
          -0.004818140354532426,
          -0.004782738693871274,
          -0.00475861873595379,
          -0.004410445016793992,
          -0.00408214369553831,
          -0.004019513432504246,
          -0.0036995454752333746,
          -0.0036220376652004696,
          -0.0035993194725774886,
          -0.003573047914486601,
          -0.00353656802483556,
          -0.003485409203929955,
          -0.003418616128890493,
          -0.003271470825913262,
          -0.003129877084784406,
          -0.00309953722114735,
          -0.0030323416823290384,
          -0.003030422947353805,
          -0.002980990529535552,
          -0.0029804156211109202,
          -0.0029628674954218902,
          -0.0029559223007833884,
          -0.0029545525747009483,
          -0.002924736770533348,
          -0.0029144705315482353,
          -0.002910128054754058,
          -0.0028472027463088607,
          -0.002838884074133198,
          -0.002825981416538032,
          -0.002811778545945358,
          -0.0027837581115347297,
          -0.0027343915010398416,
          -0.0027272638145867728,
          -0.002701708071247873,
          -0.002687003123780429,
          -0.002684333828746062,
          -0.0026778944569104493,
          -0.0026717410986219123,
          -0.0026563282979726864,
          -0.0026155440593658356,
          -0.0026139741510915484,
          -0.0025167678782560122,
          -0.0024870720622952895,
          -0.00245374743219091,
          -0.002406687789342342,
          -0.0023883578692013427,
          -0.00238089223142634,
          -0.002352457727977507,
          -0.002336467323999852,
          -0.0023303993968197896,
          -0.0023053127696968227,
          -0.002301495940939679,
          -0.0022921113222348815,
          -0.002255767976749326,
          -0.00224234324758618,
          -0.002200144735429112,
          -0.0021934662684993406,
          -0.0021820911493671056,
          -0.002177882615917152,
          -0.002174892270505775,
          -0.00215738445826636,
          -0.0021308837367722535,
          -0.002128224878137583,
          -0.002127087081963701,
          -0.0021168485842753314,
          -0.002081278173470997,
          -0.0020717497766843257,
          -0.002065414999469701,
          -0.0020402198547464926,
          -0.002032029341138876,
          -0.0020062479571362926,
          -0.0020029712588734458,
          -0.001998791521820683,
          -0.0019349455751691313,
          -0.0019336112988885719,
          -0.0019304832250206562,
          -0.0019212997530777395,
          -0.0019082025810063738,
          -0.0018834872606942946,
          -0.001815784148571296,
          -0.0018108795108073526,
          -0.0017935867812354856,
          -0.0017931786433910207,
          -0.0017917206479877636,
          -0.0016697638815498879,
          -0.0016697638815498879,
          -0.0016697638815497766,
          -0.001647859930381158,
          -0.0016111467993315772,
          -0.001607318770626072,
          -0.0015808253086934574,
          -0.0015787607840293233,
          -0.001569758285329496,
          -0.001568750242960956,
          -0.001567808003399844,
          -0.0015672491991739423,
          -0.0015652667813676271,
          -0.0015214567764336435,
          -0.0015214546866632252,
          -0.0013860689410171547,
          -0.001303383575981699,
          -0.0012817114054137304,
          -0.0012635225461995953,
          -0.0012471014799488483,
          -0.0012416604382030118,
          -0.0012348682164955058,
          -0.0011974796322602437,
          -0.001129796322323096,
          -0.0011297963223229847,
          -0.0010951683401903168,
          -0.0010872299107912314,
          -0.0010526673332600057,
          -0.0010228487535319166,
          -0.0010169453186098917,
          -0.0009685133942912065,
          -0.0009623969108184334,
          -0.0009265037172404149,
          -0.0009217295930268492,
          -0.0008655283954998618,
          -0.0008029984340364964,
          -0.0007169496568706212,
          -0.0007058282729208229,
          -0.0006882773853754234,
          -0.000676989418948943,
          -0.0006559346206568169,
          -0.0006431726633806475,
          -0.0006222341992554382,
          -0.0005954635147162854,
          -0.000595324531054454,
          -0.0005280934834980326,
          -0.0005198119413185024,
          -0.0004676043098666955,
          -0.00046749391378561513,
          -0.00046749391378561513,
          -0.0004445934725144648,
          -0.00044021403694401417,
          -0.00043303057564305654,
          -0.00043303057564294547,
          -0.0004330305756428344,
          -0.0004330305756428344,
          -0.00043303005317705493,
          -0.0004292315147723214,
          -0.00042171974119815047,
          -0.000369770131019833,
          -0.0003681734923680671,
          -0.00036015733304467284,
          -0.0003587502609158254,
          -0.0003337421965748009,
          -0.0003218619600468902,
          -0.00032141055433586264,
          -0.0002958125559400159,
          -0.0002927570072010568,
          -0.0002911916353330422,
          -0.00027339304828815714,
          -0.00025182690730326217,
          -0.00024144272319677292,
          -0.00021500760849690713,
          -0.00018984305216443513,
          -0.0001825376199414183,
          -0.00018145647485749144,
          -0.00015815321438747393,
          -0.0001488892866465269,
          -0.0001415782740840068,
          -0.00013731424346537599,
          -0.00011021432054988195,
          -0.00006159479879957666,
          -0.00005999310531008765,
          -0.00005997839521820114,
          -0.00005654290403766884,
          -0.00005579865816537863,
          -0.000051568520719985406,
          -0.00005004030631335176,
          -0.000044180318415695036,
          -0.00004249805310367194,
          -0.000010925307982001264,
          -0.000007305633617261271,
          -0.000006445515419190465,
          -0.000005925210777315146,
          -0.000004357345826855534,
          -0.000004179737052876757,
          -0.000004179737052876757,
          -0.000004179737052765735,
          -0.0000036558985419223284,
          -0.0000031334341601563,
          -0.000002273610104569835,
          -0.0000020898663426076383,
          -0.000002088202402809554,
          -0.0000019375381110348054,
          -0.0000015678509160451535,
          -8.610346555616196e-7,
          -1.1563799942302317e-7,
          -1.0636217572788392e-7,
          -1.0566486566643003e-7,
          -5.280526533344645e-8,
          -1.939386647874554e-8,
          -1.933858014660608e-8,
          -1.9212296160901378e-8,
          -9.669290193088911e-9,
          -9.636498867561657e-9,
          -9.633911492777837e-9,
          -9.629040500232682e-9,
          -9.618159204263613e-9,
          -9.606147923289346e-9,
          -9.184839597767771e-9,
          -5.241090895987783e-10,
          0,
          0,
          0,
          0,
          0,
          0,
          0,
          0,
          0,
          0,
          0,
          0,
          0,
          0,
          0,
          0,
          0,
          0,
          0,
          0,
          0,
          0,
          0,
          0,
          0,
          0,
          0,
          0,
          0,
          0,
          0,
          0,
          0,
          0,
          0,
          0,
          0,
          0,
          0,
          0,
          0,
          0,
          0,
          0,
          0,
          0,
          0,
          0,
          0,
          0,
          0,
          0,
          0,
          0,
          0,
          0,
          0,
          0,
          0,
          0,
          0,
          0,
          0,
          0,
          0,
          0,
          0,
          0,
          0,
          0,
          0,
          0,
          0,
          0,
          0,
          0,
          0,
          0,
          0,
          0,
          5.225466724623506e-10,
          5.241089783017856e-10,
          5.2224064936069395e-9,
          9.650926011743117e-9,
          9.659641484446879e-9,
          9.662655961974217e-9,
          2.8482698460495914e-8,
          2.890452768659844e-8,
          2.900792852704741e-8,
          5.2301199113900395e-8,
          6.360634416718688e-8,
          2.9044329453591646e-7,
          5.235600723513145e-7,
          5.243578910773729e-7,
          0.0000010460245576722757,
          0.0000014991901182520557,
          0.0000015696630370860616,
          0.0000015710882061623045,
          0.0000020759949828724527,
          0.000002093697460752858,
          0.0000022741334962708133,
          0.0000026205416397618084,
          0.000003133434160115005,
          0.0000031334341603370486,
          0.000003133443978674624,
          0.000004179737052811375,
          0.000004179737052811375,
          0.000004179737052811375,
          0.000004179737052811375,
          0.000005236984136796982,
          0.000009392525944923712,
          0.000010829248885748022,
          0.0000338883399088691,
          0.00004147523316583151,
          0.00005000909537840159,
          0.000055798658165257155,
          0.000055798658165257155,
          0.00006610783015266153,
          0.00009801402599406557,
          0.00010597366771468616,
          0.00011746909174265261,
          0.0001337844056534552,
          0.00015434285513835725,
          0.00017481087681024254,
          0.0001816835180647546,
          0.00020114215342004915,
          0.0002363573033030509,
          0.000244984174242573,
          0.0002592544033207492,
          0.0003221828200857151,
          0.00036445996676341463,
          0.0003661906505923709,
          0.0003782523657940957,
          0.00042989713166419983,
          0.000432794219484599,
          0.0004330209324414777,
          0.0004330305756428265,
          0.00044096666320662687,
          0.0004609643580122509,
          0.0004674986110714035,
          0.0004674986110714035,
          0.00048195530422750224,
          0.0005053087971960515,
          0.0005053369765653285,
          0.0005196301657601214,
          0.0005214574870524457,
          0.0005236558829070847,
          0.0005239706692976227,
          0.0005287444135216031,
          0.0005443893892515864,
          0.0005967698897718911,
          0.000657472583515026,
          0.0006769990371082399,
          0.0006800993478719453,
          0.0007713014020194437,
          0.0007715909026148234,
          0.0008623437261227454,
          0.0009310101393781888,
          0.0009592035148105917,
          0.0009740171445999212,
          0.0010228487535318919,
          0.0010526673332600326,
          0.0010625486391239738,
          0.0011037425626336474,
          0.0011297866713968893,
          0.0011297963223229693,
          0.0011811174107007876,
          0.001191011122376795,
          0.001201642116584225,
          0.0012285050821805269,
          0.0013102961276628636,
          0.001368482132861735,
          0.001391578416223158,
          0.0014274923848006966,
          0.0015003943421156851,
          0.0015214567764339647,
          0.0015266366864705166,
          0.0015380916344676604,
          0.001565266258794887,
          0.0015652667813676113,
          0.0015686330054886935,
          0.0015787321819250712,
          0.0015794011029698323,
          0.0015808253086933574,
          0.0016391498099741352,
          0.0016696385187130848,
          0.0016697638815496268,
          0.0016812683305810767,
          0.0017108734653851305,
          0.0017165844203019982,
          0.0017537325328622557,
          0.0017601561435625608,
          0.0017759189247856606,
          0.001782770915562523,
          0.0017972001123469441,
          0.0018241987622109781,
          0.0019210371434571047,
          0.0019213023708773576,
          0.0019273497908602907,
          0.001934964988874821,
          0.0019773737812715684,
          0.002002971258873456,
          0.002002971258873456,
          0.0020062487522776117,
          0.002044254071794945,
          0.002065308732836886,
          0.002066455342638374,
          0.002077401032018424,
          0.002077552942153003,
          0.0021243583612187166,
          0.002125810057489386,
          0.002127086559544778,
          0.0021270870819635832,
          0.002189394166373597,
          0.0022001447354291943,
          0.002244898222949183,
          0.002245327246781359,
          0.002250169556766403,
          0.0022710226625507627,
          0.0022800173118315095,
          0.0023053127696967936,
          0.002334356325681213,
          0.0023443129442539765,
          0.0023598965286443408,
          0.002362147156776275,
          0.0023944588920075437,
          0.002408840924262156,
          0.002411482222461519,
          0.0024119759076798876,
          0.002419117302297581,
          0.002425364737412218,
          0.002492074068162827,
          0.002497351518371794,
          0.002601878522818191,
          0.002615048987713568,
          0.002615544059365782,
          0.0026208873274908297,
          0.002656530805260571,
          0.0026639910420995453,
          0.0026711250981426623,
          0.0026999654318912245,
          0.002700469024168702,
          0.0027238286871787963,
          0.0027720948272880086,
          0.002802583278057581,
          0.0028505000171184782,
          0.0028696069096496796,
          0.0029035575689039146,
          0.002903775254715608,
          0.0029637042709722058,
          0.0029803473661476044,
          0.0029841169825406337,
          0.0030025495828055757,
          0.003020798054359319,
          0.0030212828012423027,
          0.0030286610753416407,
          0.0030566260544245658,
          0.003062067292215281,
          0.003129944769948752,
          0.0031545523845486934,
          0.003180207278850964,
          0.0032715583274989957,
          0.003389804133511643,
          0.0034687641096304385,
          0.003571211731514425,
          0.0035725637090588663,
          0.0035935663134954473,
          0.0036216436540269102,
          0.0038535886210094347,
          0.004022071620009399,
          0.0040976984030272785,
          0.004106320194538701,
          0.004122347224464333,
          0.004197865385461944,
          0.0042990992909522074,
          0.004992131594578282,
          0.005111111178318848,
          0.005118975581644248,
          0.005450559699516317,
          0.00555912050970893,
          0.005878995295803037,
          0.0059994617119643575,
          0.006087573067877237,
          0.006402863978248784,
          0.007536911057001553
         ],
         "y": [
          -2.991487791996574,
          -2.709495694739613,
          -2.5509282399253803,
          -2.438490878975833,
          -2.3503886608880338,
          -2.2774577679365513,
          -2.2149428089812666,
          -2.160046413230946,
          -2.110978461743591,
          -2.0665216569518683,
          -2.0258092456959194,
          -1.9882013787630897,
          -1.9532117527093074,
          -1.9204617871287886,
          -1.8896507724915046,
          -1.8605357286433335,
          -1.8329174057631554,
          -1.8066303035089977,
          -1.781535395921313,
          -1.757514724821115,
          -1.7344673124174614,
          -1.712306023771172,
          -1.6909551252549833,
          -1.6703483610801726,
          -1.6504274209624437,
          -1.631140706928384,
          -1.6124423316073284,
          -1.5942912975928216,
          -1.5766508198458942,
          -1.5594877621343848,
          -1.542772165154841,
          -1.5264768489448688,
          -1.5105770759333679,
          -1.4950502638227305,
          -1.4798757396838653,
          -1.4650345283393995,
          -1.4505091694339198,
          -1.4362835586317588,
          -1.4223428092084474,
          -1.4086731309607192,
          -1.395261723888972,
          -1.3820966845333542,
          -1.3691669231918173,
          -1.3564620905319495,
          -1.3439725123411461,
          -1.331689131351634,
          -1.319603455235963,
          -1.3077075100009572,
          -1.295993798118797,
          -1.2844552608267772,
          -1.2730852441055016,
          -1.2618774679114204,
          -1.2508259982957208,
          -1.2399252220893904,
          -1.229169823875012,
          -1.2185547650008641,
          -1.208075264422889,
          -1.1977267811860024,
          -1.1875049983785622,
          -1.1774058084132122,
          -1.1674252995041297,
          -1.1575597432253775,
          -1.1478055830478489,
          -1.1381594237634944,
          -1.1286180217153232,
          -1.1191782757603197,
          -1.109837218899981,
          -1.1005920105199185,
          -1.0914399291858583,
          -1.082378365948657,
          -1.0734048181155733,
          -1.0645168834492147,
          -1.0557122547592326,
          -1.0469887148551458,
          -1.0383441318316127,
          -1.0297764546601045,
          -1.0212837090632696,
          -1.0128639936504253,
          -1.0045154762944994,
          -0.9962363907324546,
          -0.9880250333727824,
          -0.9798797602950422,
          -0.9717989844276832,
          -0.96378117289152,
          -0.9558248444972853,
          -0.9479285673865944,
          -0.9400909568065284,
          -0.9323106730088138,
          -0.9245864192652715,
          -0.9169169399918627,
          -0.9093010189742428,
          -0.9017374776882647,
          -0.8942251737093686,
          -0.8867629992052439,
          -0.879349879506557,
          -0.8719847717509136,
          -0.864666663595577,
          -0.8573945719947765,
          -0.8501675420377311,
          -0.8429846458437865,
          -0.8358449815113097,
          -0.8287476721172136,
          -0.8216918647641939,
          -0.8146767296729567,
          -0.8077014593168975,
          -0.8007652675968504,
          -0.7938673890536916,
          -0.7870070781167156,
          -0.7801836083858381,
          -0.7733962719458004,
          -0.7666443787106707,
          -0.7599272557970314,
          -0.7532442469243511,
          -0.7465947118411286,
          -0.7399780257754767,
          -0.7333935789088984,
          -0.7268407758720811,
          -0.7203190352616011,
          -0.7138277891764983,
          -0.707366482773736,
          -0.7009345738416273,
          -0.6945315323903468,
          -0.6881568402587089,
          -0.681809990736438,
          -0.6754904882011865,
          -0.6691978477696165,
          -0.6629315949618819,
          -0.656691265378895,
          -0.6504764043917856,
          -0.644286566842999,
          -0.6381213167585075,
          -0.6319802270706298,
          -0.6258628793509953,
          -0.6197688635531922,
          -0.613697777764685,
          -0.6076492279675899,
          -0.6016228278079256,
          -0.5956181983729782,
          -0.5896349679764298,
          -0.5836727719509229,
          -0.5777312524477493,
          -0.5718100582433614,
          -0.5659088445524266,
          -0.5600272728471533,
          -0.5541650106826287,
          -0.5483217315279287,
          -0.5424971146027616,
          -0.5366908447194256,
          -0.5309026121298684,
          -0.525132112377643,
          -0.5193790461545705,
          -0.5136431191619232,
          -0.5079240419759513,
          -0.5022215299175875,
          -0.496535302926165,
          -0.49086508543699847,
          -0.4852106062626798,
          -0.479571598477946,
          -0.4739477993079894,
          -0.468338950020076,
          -0.4627447958183526,
          -0.45716508574172426,
          -0.4515995725646854,
          -0.44604801270100264,
          -0.440510166110138,
          -0.43498579620632,
          -0.4294746697701626,
          -0.42397655686274127,
          -0.4184912307420396,
          -0.4130184677816816,
          -0.407558047391867,
          -0.402109751942435,
          -0.3966733666879779,
          -0.39124867969493693,
          -0.3858354817706079,
          -0.3804335663939913,
          -0.375042729648425,
          -0.3696627701559348,
          -0.364293489013246,
          -0.35893468972939985,
          -0.35358617816491694,
          -0.3482477624724584,
          -0.3429192530389323,
          -0.33760046242899544,
          -0.33229120532990686,
          -0.3269912984976831,
          -0.3217005607045145,
          -0.31641881268740035,
          -0.3111458770979586,
          -0.30588157845337655,
          -0.3006257430884582,
          -0.2953781991087362,
          -0.2901387763446117,
          -0.2849073063064857,
          -0.27968362214085185,
          -0.27446755858731786,
          -0.26925895193652166,
          -0.2640576399889178,
          -0.2588634620143992,
          -0.25367625871273075,
          -0.24849587217476565,
          -0.2433221458444167,
          -0.23815492448136114,
          -0.23299405412444932,
          -0.22783938205579707,
          -0.22269075676553723,
          -0.2175480279172061,
          -0.212411046313746,
          -0.20727966386410052,
          -0.2021537335503813,
          -0.1970331093955891,
          -0.1919176464318656,
          -0.18680720066926057,
          -0.18170162906499407,
          -0.17660078949319485,
          -0.17150454071510052,
          -0.16641274234969797,
          -0.1613252548447917,
          -0.15624193944848133,
          -0.15116265818103214,
          -0.14608727380712475,
          -0.1410156498084685,
          -0.1359476503567616,
          -0.1308831402869872,
          -0.1258219850710276,
          -0.12076405079158528,
          -0.11570920411639683,
          -0.11065731227272406,
          -0.10560824302211362,
          -0.10056186463540753,
          -0.09551804586799577,
          -0.09047665593529731,
          -0.08543756448845569,
          -0.08040064159024037,
          -0.07536575769114028,
          -0.07033278360563677,
          -0.0653015904886481,
          -0.06027204981212984,
          -0.05524403334182342,
          -0.05021741311414087,
          -0.04519206141317286,
          -0.04016785074781311,
          -0.03514465382898423,
          -0.03012234354695776,
          -0.025100792948756643,
          -0.020079875215628283,
          -0.015059463640580422,
          -0.010039431605968185,
          -0.005019652561120624,
          0,
          0.005019652561120763,
          0.010039431605968045,
          0.015059463640580422,
          0.020079875215628283,
          0.025100792948756504,
          0.03012234354695776,
          0.03514465382898423,
          0.04016785074781325,
          0.04519206141317286,
          0.05021741311414087,
          0.05524403334182356,
          0.06027204981212969,
          0.0653015904886481,
          0.07033278360563691,
          0.07536575769114014,
          0.08040064159024037,
          0.08543756448845569,
          0.09047665593529718,
          0.09551804586799577,
          0.10056186463540753,
          0.10560824302211376,
          0.11065731227272406,
          0.11570920411639683,
          0.12076405079158545,
          0.12582198507102746,
          0.1308831402869872,
          0.13594765035676173,
          0.14101564980846837,
          0.14608727380712475,
          0.15116265818103214,
          0.1562419394484812,
          0.1613252548447917,
          0.16641274234969797,
          0.17150454071510066,
          0.17660078949319485,
          0.18170162906499407,
          0.1868072006692607,
          0.19191764643186546,
          0.1970331093955891,
          0.20215373355038144,
          0.20727966386410038,
          0.212411046313746,
          0.2175480279172061,
          0.2226907567655371,
          0.22783938205579707,
          0.23299405412444932,
          0.23815492448136127,
          0.2433221458444167,
          0.24849587217476565,
          0.2536762587127309,
          0.2588634620143991,
          0.2640576399889178,
          0.26925895193652183,
          0.27446755858731775,
          0.27968362214085185,
          0.2849073063064857,
          0.29013877634461155,
          0.2953781991087362,
          0.3006257430884582,
          0.3058815784533767,
          0.3111458770979586,
          0.31641881268740035,
          0.32170056070451464,
          0.32699129849768294,
          0.33229120532990686,
          0.33760046242899555,
          0.3429192530389321,
          0.3482477624724584,
          0.35358617816491694,
          0.3589346897293997,
          0.364293489013246,
          0.3696627701559348,
          0.37504272964842517,
          0.3804335663939913,
          0.3858354817706079,
          0.3912486796949371,
          0.39667336668797776,
          0.402109751942435,
          0.4075580473918672,
          0.41301846778168144,
          0.4184912307420396,
          0.42397655686274127,
          0.4294746697701624,
          0.43498579620632,
          0.440510166110138,
          0.44604801270100275,
          0.4515995725646854,
          0.45716508574172426,
          0.46274479581835276,
          0.46833895002007575,
          0.4739477993079894,
          0.4795715984779461,
          0.48521060626267964,
          0.49086508543699847,
          0.496535302926165,
          0.5022215299175874,
          0.5079240419759513,
          0.5136431191619232,
          0.5193790461545706,
          0.525132112377643,
          0.5309026121298684,
          0.5366908447194257,
          0.5424971146027614,
          0.5483217315279287,
          0.5541650106826288,
          0.5600272728471531,
          0.5659088445524266,
          0.5718100582433614,
          0.5777312524477491,
          0.5836727719509229,
          0.5896349679764298,
          0.5956181983729784,
          0.6016228278079254,
          0.6076492279675899,
          0.6136977777646851,
          0.619768863553192,
          0.6258628793509953,
          0.6319802270706302,
          0.6381213167585074,
          0.644286566842999,
          0.6504764043917856,
          0.6566912653788949,
          0.6629315949618819,
          0.6691978477696165,
          0.6754904882011866,
          0.681809990736438,
          0.6881568402587089,
          0.6945315323903468,
          0.7009345738416273,
          0.707366482773736,
          0.7138277891764983,
          0.720319035261601,
          0.7268407758720811,
          0.7333935789088984,
          0.7399780257754766,
          0.7465947118411286,
          0.7532442469243511,
          0.7599272557970316,
          0.7666443787106707,
          0.7733962719458004,
          0.7801836083858381,
          0.7870070781167156,
          0.7938673890536916,
          0.8007652675968504,
          0.8077014593168974,
          0.8146767296729567,
          0.8216918647641939,
          0.8287476721172135,
          0.8358449815113097,
          0.8429846458437865,
          0.8501675420377313,
          0.8573945719947765,
          0.864666663595577,
          0.8719847717509136,
          0.879349879506557,
          0.8867629992052439,
          0.8942251737093686,
          0.9017374776882646,
          0.9093010189742428,
          0.9169169399918627,
          0.9245864192652712,
          0.9323106730088138,
          0.9400909568065284,
          0.9479285673865946,
          0.9558248444972853,
          0.96378117289152,
          0.9717989844276832,
          0.9798797602950422,
          0.9880250333727824,
          0.9962363907324546,
          1.004515476294499,
          1.0128639936504253,
          1.0212837090632696,
          1.0297764546601045,
          1.0383441318316127,
          1.0469887148551458,
          1.0557122547592332,
          1.0645168834492147,
          1.0734048181155733,
          1.082378365948657,
          1.0914399291858583,
          1.1005920105199185,
          1.109837218899981,
          1.1191782757603193,
          1.1286180217153232,
          1.1381594237634944,
          1.1478055830478489,
          1.1575597432253775,
          1.1674252995041297,
          1.1774058084132122,
          1.1875049983785613,
          1.197726781186002,
          1.2080752644228894,
          1.2185547650008641,
          1.229169823875012,
          1.2399252220893904,
          1.2508259982957208,
          1.2618774679114204,
          1.2730852441055016,
          1.2844552608267765,
          1.295993798118797,
          1.3077075100009572,
          1.3196034552359635,
          1.3316891313516332,
          1.3439725123411457,
          1.3564620905319495,
          1.3691669231918169,
          1.3820966845333538,
          1.395261723888972,
          1.4086731309607186,
          1.4223428092084474,
          1.4362835586317595,
          1.4505091694339196,
          1.4650345283393995,
          1.4798757396838653,
          1.4950502638227305,
          1.5105770759333674,
          1.5264768489448688,
          1.5427721651548414,
          1.559487762134384,
          1.5766508198458937,
          1.5942912975928216,
          1.612442331607328,
          1.6311407069283834,
          1.6504274209624437,
          1.6703483610801733,
          1.6909551252549826,
          1.712306023771172,
          1.734467312417462,
          1.7575147248211143,
          1.781535395921313,
          1.8066303035089981,
          1.8329174057631548,
          1.8605357286433333,
          1.8896507724915053,
          1.9204617871287875,
          1.9532117527093067,
          1.9882013787630897,
          2.0258092456959202,
          2.066521656951868,
          2.110978461743591,
          2.1600464132309467,
          2.214942808981265,
          2.2774577679365513,
          2.3503886608880347,
          2.43849087897583,
          2.5509282399253794,
          2.7094956947396147,
          2.991487791996574
         ]
        }
       ],
       "layout": {
        "shapes": [
         {
          "line": {
           "color": "red",
           "width": 2
          },
          "type": "line",
          "x0": -0.007640935134900011,
          "x1": 0.007536911057001553,
          "y0": -0.007640935134900011,
          "y1": 0.007536911057001553
         }
        ],
        "template": {
         "data": {
          "bar": [
           {
            "error_x": {
             "color": "#2a3f5f"
            },
            "error_y": {
             "color": "#2a3f5f"
            },
            "marker": {
             "line": {
              "color": "#E5ECF6",
              "width": 0.5
             },
             "pattern": {
              "fillmode": "overlay",
              "size": 10,
              "solidity": 0.2
             }
            },
            "type": "bar"
           }
          ],
          "barpolar": [
           {
            "marker": {
             "line": {
              "color": "#E5ECF6",
              "width": 0.5
             },
             "pattern": {
              "fillmode": "overlay",
              "size": 10,
              "solidity": 0.2
             }
            },
            "type": "barpolar"
           }
          ],
          "carpet": [
           {
            "aaxis": {
             "endlinecolor": "#2a3f5f",
             "gridcolor": "white",
             "linecolor": "white",
             "minorgridcolor": "white",
             "startlinecolor": "#2a3f5f"
            },
            "baxis": {
             "endlinecolor": "#2a3f5f",
             "gridcolor": "white",
             "linecolor": "white",
             "minorgridcolor": "white",
             "startlinecolor": "#2a3f5f"
            },
            "type": "carpet"
           }
          ],
          "choropleth": [
           {
            "colorbar": {
             "outlinewidth": 0,
             "ticks": ""
            },
            "type": "choropleth"
           }
          ],
          "contour": [
           {
            "colorbar": {
             "outlinewidth": 0,
             "ticks": ""
            },
            "colorscale": [
             [
              0,
              "#0d0887"
             ],
             [
              0.1111111111111111,
              "#46039f"
             ],
             [
              0.2222222222222222,
              "#7201a8"
             ],
             [
              0.3333333333333333,
              "#9c179e"
             ],
             [
              0.4444444444444444,
              "#bd3786"
             ],
             [
              0.5555555555555556,
              "#d8576b"
             ],
             [
              0.6666666666666666,
              "#ed7953"
             ],
             [
              0.7777777777777778,
              "#fb9f3a"
             ],
             [
              0.8888888888888888,
              "#fdca26"
             ],
             [
              1,
              "#f0f921"
             ]
            ],
            "type": "contour"
           }
          ],
          "contourcarpet": [
           {
            "colorbar": {
             "outlinewidth": 0,
             "ticks": ""
            },
            "type": "contourcarpet"
           }
          ],
          "heatmap": [
           {
            "colorbar": {
             "outlinewidth": 0,
             "ticks": ""
            },
            "colorscale": [
             [
              0,
              "#0d0887"
             ],
             [
              0.1111111111111111,
              "#46039f"
             ],
             [
              0.2222222222222222,
              "#7201a8"
             ],
             [
              0.3333333333333333,
              "#9c179e"
             ],
             [
              0.4444444444444444,
              "#bd3786"
             ],
             [
              0.5555555555555556,
              "#d8576b"
             ],
             [
              0.6666666666666666,
              "#ed7953"
             ],
             [
              0.7777777777777778,
              "#fb9f3a"
             ],
             [
              0.8888888888888888,
              "#fdca26"
             ],
             [
              1,
              "#f0f921"
             ]
            ],
            "type": "heatmap"
           }
          ],
          "heatmapgl": [
           {
            "colorbar": {
             "outlinewidth": 0,
             "ticks": ""
            },
            "colorscale": [
             [
              0,
              "#0d0887"
             ],
             [
              0.1111111111111111,
              "#46039f"
             ],
             [
              0.2222222222222222,
              "#7201a8"
             ],
             [
              0.3333333333333333,
              "#9c179e"
             ],
             [
              0.4444444444444444,
              "#bd3786"
             ],
             [
              0.5555555555555556,
              "#d8576b"
             ],
             [
              0.6666666666666666,
              "#ed7953"
             ],
             [
              0.7777777777777778,
              "#fb9f3a"
             ],
             [
              0.8888888888888888,
              "#fdca26"
             ],
             [
              1,
              "#f0f921"
             ]
            ],
            "type": "heatmapgl"
           }
          ],
          "histogram": [
           {
            "marker": {
             "pattern": {
              "fillmode": "overlay",
              "size": 10,
              "solidity": 0.2
             }
            },
            "type": "histogram"
           }
          ],
          "histogram2d": [
           {
            "colorbar": {
             "outlinewidth": 0,
             "ticks": ""
            },
            "colorscale": [
             [
              0,
              "#0d0887"
             ],
             [
              0.1111111111111111,
              "#46039f"
             ],
             [
              0.2222222222222222,
              "#7201a8"
             ],
             [
              0.3333333333333333,
              "#9c179e"
             ],
             [
              0.4444444444444444,
              "#bd3786"
             ],
             [
              0.5555555555555556,
              "#d8576b"
             ],
             [
              0.6666666666666666,
              "#ed7953"
             ],
             [
              0.7777777777777778,
              "#fb9f3a"
             ],
             [
              0.8888888888888888,
              "#fdca26"
             ],
             [
              1,
              "#f0f921"
             ]
            ],
            "type": "histogram2d"
           }
          ],
          "histogram2dcontour": [
           {
            "colorbar": {
             "outlinewidth": 0,
             "ticks": ""
            },
            "colorscale": [
             [
              0,
              "#0d0887"
             ],
             [
              0.1111111111111111,
              "#46039f"
             ],
             [
              0.2222222222222222,
              "#7201a8"
             ],
             [
              0.3333333333333333,
              "#9c179e"
             ],
             [
              0.4444444444444444,
              "#bd3786"
             ],
             [
              0.5555555555555556,
              "#d8576b"
             ],
             [
              0.6666666666666666,
              "#ed7953"
             ],
             [
              0.7777777777777778,
              "#fb9f3a"
             ],
             [
              0.8888888888888888,
              "#fdca26"
             ],
             [
              1,
              "#f0f921"
             ]
            ],
            "type": "histogram2dcontour"
           }
          ],
          "mesh3d": [
           {
            "colorbar": {
             "outlinewidth": 0,
             "ticks": ""
            },
            "type": "mesh3d"
           }
          ],
          "parcoords": [
           {
            "line": {
             "colorbar": {
              "outlinewidth": 0,
              "ticks": ""
             }
            },
            "type": "parcoords"
           }
          ],
          "pie": [
           {
            "automargin": true,
            "type": "pie"
           }
          ],
          "scatter": [
           {
            "fillpattern": {
             "fillmode": "overlay",
             "size": 10,
             "solidity": 0.2
            },
            "type": "scatter"
           }
          ],
          "scatter3d": [
           {
            "line": {
             "colorbar": {
              "outlinewidth": 0,
              "ticks": ""
             }
            },
            "marker": {
             "colorbar": {
              "outlinewidth": 0,
              "ticks": ""
             }
            },
            "type": "scatter3d"
           }
          ],
          "scattercarpet": [
           {
            "marker": {
             "colorbar": {
              "outlinewidth": 0,
              "ticks": ""
             }
            },
            "type": "scattercarpet"
           }
          ],
          "scattergeo": [
           {
            "marker": {
             "colorbar": {
              "outlinewidth": 0,
              "ticks": ""
             }
            },
            "type": "scattergeo"
           }
          ],
          "scattergl": [
           {
            "marker": {
             "colorbar": {
              "outlinewidth": 0,
              "ticks": ""
             }
            },
            "type": "scattergl"
           }
          ],
          "scattermapbox": [
           {
            "marker": {
             "colorbar": {
              "outlinewidth": 0,
              "ticks": ""
             }
            },
            "type": "scattermapbox"
           }
          ],
          "scatterpolar": [
           {
            "marker": {
             "colorbar": {
              "outlinewidth": 0,
              "ticks": ""
             }
            },
            "type": "scatterpolar"
           }
          ],
          "scatterpolargl": [
           {
            "marker": {
             "colorbar": {
              "outlinewidth": 0,
              "ticks": ""
             }
            },
            "type": "scatterpolargl"
           }
          ],
          "scatterternary": [
           {
            "marker": {
             "colorbar": {
              "outlinewidth": 0,
              "ticks": ""
             }
            },
            "type": "scatterternary"
           }
          ],
          "surface": [
           {
            "colorbar": {
             "outlinewidth": 0,
             "ticks": ""
            },
            "colorscale": [
             [
              0,
              "#0d0887"
             ],
             [
              0.1111111111111111,
              "#46039f"
             ],
             [
              0.2222222222222222,
              "#7201a8"
             ],
             [
              0.3333333333333333,
              "#9c179e"
             ],
             [
              0.4444444444444444,
              "#bd3786"
             ],
             [
              0.5555555555555556,
              "#d8576b"
             ],
             [
              0.6666666666666666,
              "#ed7953"
             ],
             [
              0.7777777777777778,
              "#fb9f3a"
             ],
             [
              0.8888888888888888,
              "#fdca26"
             ],
             [
              1,
              "#f0f921"
             ]
            ],
            "type": "surface"
           }
          ],
          "table": [
           {
            "cells": {
             "fill": {
              "color": "#EBF0F8"
             },
             "line": {
              "color": "white"
             }
            },
            "header": {
             "fill": {
              "color": "#C8D4E3"
             },
             "line": {
              "color": "white"
             }
            },
            "type": "table"
           }
          ]
         },
         "layout": {
          "annotationdefaults": {
           "arrowcolor": "#2a3f5f",
           "arrowhead": 0,
           "arrowwidth": 1
          },
          "autotypenumbers": "strict",
          "coloraxis": {
           "colorbar": {
            "outlinewidth": 0,
            "ticks": ""
           }
          },
          "colorscale": {
           "diverging": [
            [
             0,
             "#8e0152"
            ],
            [
             0.1,
             "#c51b7d"
            ],
            [
             0.2,
             "#de77ae"
            ],
            [
             0.3,
             "#f1b6da"
            ],
            [
             0.4,
             "#fde0ef"
            ],
            [
             0.5,
             "#f7f7f7"
            ],
            [
             0.6,
             "#e6f5d0"
            ],
            [
             0.7,
             "#b8e186"
            ],
            [
             0.8,
             "#7fbc41"
            ],
            [
             0.9,
             "#4d9221"
            ],
            [
             1,
             "#276419"
            ]
           ],
           "sequential": [
            [
             0,
             "#0d0887"
            ],
            [
             0.1111111111111111,
             "#46039f"
            ],
            [
             0.2222222222222222,
             "#7201a8"
            ],
            [
             0.3333333333333333,
             "#9c179e"
            ],
            [
             0.4444444444444444,
             "#bd3786"
            ],
            [
             0.5555555555555556,
             "#d8576b"
            ],
            [
             0.6666666666666666,
             "#ed7953"
            ],
            [
             0.7777777777777778,
             "#fb9f3a"
            ],
            [
             0.8888888888888888,
             "#fdca26"
            ],
            [
             1,
             "#f0f921"
            ]
           ],
           "sequentialminus": [
            [
             0,
             "#0d0887"
            ],
            [
             0.1111111111111111,
             "#46039f"
            ],
            [
             0.2222222222222222,
             "#7201a8"
            ],
            [
             0.3333333333333333,
             "#9c179e"
            ],
            [
             0.4444444444444444,
             "#bd3786"
            ],
            [
             0.5555555555555556,
             "#d8576b"
            ],
            [
             0.6666666666666666,
             "#ed7953"
            ],
            [
             0.7777777777777778,
             "#fb9f3a"
            ],
            [
             0.8888888888888888,
             "#fdca26"
            ],
            [
             1,
             "#f0f921"
            ]
           ]
          },
          "colorway": [
           "#636efa",
           "#EF553B",
           "#00cc96",
           "#ab63fa",
           "#FFA15A",
           "#19d3f3",
           "#FF6692",
           "#B6E880",
           "#FF97FF",
           "#FECB52"
          ],
          "font": {
           "color": "#2a3f5f"
          },
          "geo": {
           "bgcolor": "white",
           "lakecolor": "white",
           "landcolor": "#E5ECF6",
           "showlakes": true,
           "showland": true,
           "subunitcolor": "white"
          },
          "hoverlabel": {
           "align": "left"
          },
          "hovermode": "closest",
          "mapbox": {
           "style": "light"
          },
          "paper_bgcolor": "white",
          "plot_bgcolor": "#E5ECF6",
          "polar": {
           "angularaxis": {
            "gridcolor": "white",
            "linecolor": "white",
            "ticks": ""
           },
           "bgcolor": "#E5ECF6",
           "radialaxis": {
            "gridcolor": "white",
            "linecolor": "white",
            "ticks": ""
           }
          },
          "scene": {
           "xaxis": {
            "backgroundcolor": "#E5ECF6",
            "gridcolor": "white",
            "gridwidth": 2,
            "linecolor": "white",
            "showbackground": true,
            "ticks": "",
            "zerolinecolor": "white"
           },
           "yaxis": {
            "backgroundcolor": "#E5ECF6",
            "gridcolor": "white",
            "gridwidth": 2,
            "linecolor": "white",
            "showbackground": true,
            "ticks": "",
            "zerolinecolor": "white"
           },
           "zaxis": {
            "backgroundcolor": "#E5ECF6",
            "gridcolor": "white",
            "gridwidth": 2,
            "linecolor": "white",
            "showbackground": true,
            "ticks": "",
            "zerolinecolor": "white"
           }
          },
          "shapedefaults": {
           "line": {
            "color": "#2a3f5f"
           }
          },
          "ternary": {
           "aaxis": {
            "gridcolor": "white",
            "linecolor": "white",
            "ticks": ""
           },
           "baxis": {
            "gridcolor": "white",
            "linecolor": "white",
            "ticks": ""
           },
           "bgcolor": "#E5ECF6",
           "caxis": {
            "gridcolor": "white",
            "linecolor": "white",
            "ticks": ""
           }
          },
          "title": {
           "x": 0.05
          },
          "xaxis": {
           "automargin": true,
           "gridcolor": "white",
           "linecolor": "white",
           "ticks": "",
           "title": {
            "standoff": 15
           },
           "zerolinecolor": "white",
           "zerolinewidth": 2
          },
          "yaxis": {
           "automargin": true,
           "gridcolor": "white",
           "linecolor": "white",
           "ticks": "",
           "title": {
            "standoff": 15
           },
           "zerolinecolor": "white",
           "zerolinewidth": 2
          }
         }
        },
        "title": {
         "text": "Q-Q Plot of Log Returns"
        },
        "xaxis": {
         "title": {
          "text": "Theoretical Quantiles"
         }
        },
        "yaxis": {
         "title": {
          "text": "Sample Quantiles"
         }
        }
       }
      }
     },
     "metadata": {},
     "output_type": "display_data"
    }
   ],
   "source": [
    "import plotly.graph_objects as go\n",
    "import numpy as np\n",
    "import scipy.stats as stats\n",
    "\n",
    "data = calculateEWMA['Log_Return'].dropna()\n",
    "\n",
    "# Calculate quantiles\n",
    "quantiles, theoretical_quantiles = stats.probplot(data, fit=False)\n",
    "\n",
    "# Create a Q-Q plot using Plotly\n",
    "fig = go.Figure()\n",
    "\n",
    "# Scatter plot of quantiles\n",
    "fig.add_trace(go.Scatter(x=theoretical_quantiles, y=quantiles, mode='markers', name='Q-Q Plot'))\n",
    "\n",
    "# Add a diagonal line for reference\n",
    "fig.add_shape(go.layout.Shape(\n",
    "    type='line',\n",
    "    x0=np.min(theoretical_quantiles),\n",
    "    y0=np.min(theoretical_quantiles),\n",
    "    x1=np.max(theoretical_quantiles),\n",
    "    y1=np.max(theoretical_quantiles),\n",
    "    line=dict(color='red', width=2)\n",
    "))\n",
    "\n",
    "fig.update_layout(title='Q-Q Plot of Log Returns', xaxis_title='Theoretical Quantiles', yaxis_title='Sample Quantiles')\n",
    "fig.show()"
   ]
  },
  {
   "cell_type": "code",
   "execution_count": 47,
   "metadata": {},
   "outputs": [
    {
     "data": {
      "application/vnd.plotly.v1+json": {
       "config": {
        "plotlyServerURL": "https://plot.ly"
       },
       "data": [
        {
         "mode": "markers",
         "name": "Q-Q Plot",
         "type": "scatter",
         "x": [
          -3.2412673400690726,
          -2.6968866429415717,
          -2.650969808393012,
          -2.6197451040897444,
          -2.4716445001272893,
          -2.4238793266289567,
          -2.301921164735585,
          -2.211135309007885,
          -2.198805956620082,
          -2.123895724309807,
          -2.081929407883722,
          -2.0733902324081495,
          -2.0674421000398766,
          -2.0417348684242906,
          -2.0392321777601006,
          -2.038124535177854,
          -2.025142586657607,
          -1.9875689146008928,
          -1.9596701238797756,
          -1.9520877995225019,
          -1.9187712152990415,
          -1.913280244657798,
          -1.889540730945531,
          -1.8707919210258557,
          -1.867265192591748,
          -1.8408742313316453,
          -1.804882100664519,
          -1.7787202489042786,
          -1.763040155362734,
          -1.7587394864231143,
          -1.7249178325130328,
          -1.7131345290908775,
          -1.7101683926566256,
          -1.7033824393551547,
          -1.7025836042378404,
          -1.6924646297148194,
          -1.6694052811213718,
          -1.6615200622689599,
          -1.6609609335159914,
          -1.6548566718657693,
          -1.6275424378831627,
          -1.6127158711896517,
          -1.6074832345612275,
          -1.6064463202575725,
          -1.594427658794367,
          -1.5839028234857233,
          -1.5702247198904564,
          -1.5566291735239037,
          -1.5506634310661327,
          -1.5341141707356223,
          -1.5255251709247388,
          -1.5231869047837747,
          -1.5193699659540134,
          -1.515744114997232,
          -1.5151910621985523,
          -1.5148472246858646,
          -1.5031429531181062,
          -1.485560373036972,
          -1.4785862457798415,
          -1.4785219903674274,
          -1.4635149481321186,
          -1.4480843414973241,
          -1.448013900416244,
          -1.4358621511794394,
          -1.4307751021180481,
          -1.4301413779606327,
          -1.4247481862134568,
          -1.4222537095976742,
          -1.4153707420504142,
          -1.4123037013352915,
          -1.4084612963635597,
          -1.4075116947178212,
          -1.4074637743765552,
          -1.4066610968482223,
          -1.4018510627922809,
          -1.3985675738191412,
          -1.382799730964336,
          -1.3801014582148914,
          -1.3793192280145272,
          -1.377669367957091,
          -1.3598561409799192,
          -1.3516846056163336,
          -1.348185422105713,
          -1.344450511034277,
          -1.3353443587101013,
          -1.3281860488984305,
          -1.3204566130842763,
          -1.3202332070206422,
          -1.3044695005048532,
          -1.295078772063616,
          -1.2899608997410539,
          -1.280429352496283,
          -1.2803043986708944,
          -1.2795769667357015,
          -1.2767485758203094,
          -1.2608839543350452,
          -1.251539424190444,
          -1.251113576385303,
          -1.2477831819648495,
          -1.245738778711988,
          -1.244654703311417,
          -1.237815498826849,
          -1.236950710878082,
          -1.2308643164339552,
          -1.2221278088919454,
          -1.2208436499710222,
          -1.2141886127877322,
          -1.2110161997624567,
          -1.2002964070557762,
          -1.1978778925888485,
          -1.1962066240806708,
          -1.1913034972026486,
          -1.183258512665775,
          -1.168678037619532,
          -1.1583646891925428,
          -1.1509935774223028,
          -1.142970297830623,
          -1.129706854657618,
          -1.1290517712172292,
          -1.1254890472983765,
          -1.1246420918378692,
          -1.1227220215622986,
          -1.1105758454658288,
          -1.1065259087416703,
          -1.1063349740060282,
          -1.081548003614395,
          -1.0810633275998973,
          -1.0810565404082624,
          -1.0777447779293061,
          -1.0708924980611123,
          -1.0700847663261526,
          -1.0676204293825944,
          -1.0623037137261049,
          -1.0592135218889516,
          -1.0577109289559004,
          -1.0372461543264564,
          -1.035242322419374,
          -1.0265152994110602,
          -1.0243876413342898,
          -1.0212328171307132,
          -1.0128311203344238,
          -1.0121043752601675,
          -1.008086310917404,
          -1.006017381499702,
          -1.0041407667520679,
          -1.0025293646378088,
          -1.0016200098949155,
          -0.998354040738791,
          -0.9905363251306883,
          -0.9896048202585809,
          -0.9857260463355437,
          -0.9815086510479509,
          -0.9787637157823074,
          -0.978372777615032,
          -0.977555244798551,
          -0.9758732529773327,
          -0.9746816702273214,
          -0.966976143129213,
          -0.9649234605801045,
          -0.9555404406004258,
          -0.949398888831943,
          -0.9398797863273552,
          -0.9378250399151228,
          -0.926930471578083,
          -0.9232332461109043,
          -0.9221653241776254,
          -0.9194242342338032,
          -0.9186519464841982,
          -0.9093874547947389,
          -0.9080240755212109,
          -0.9075636620415979,
          -0.9043166251044086,
          -0.898414671348358,
          -0.8972543714858315,
          -0.8946073022195039,
          -0.8895144296255233,
          -0.883857436201133,
          -0.8756182533847572,
          -0.863990769679816,
          -0.8612842013282637,
          -0.8604133652839524,
          -0.8583577801812136,
          -0.8571575564162826,
          -0.8560838259088672,
          -0.8498443694647918,
          -0.846793718068405,
          -0.8397218421807761,
          -0.8392175232226385,
          -0.8323555731042287,
          -0.8309501164110378,
          -0.8289950109220723,
          -0.827230943552323,
          -0.8254971967925115,
          -0.8222203955664315,
          -0.8206823183517105,
          -0.8182206832334725,
          -0.8169356709872361,
          -0.8158102849654383,
          -0.8084936028931876,
          -0.8082982853551515,
          -0.8022772692216189,
          -0.7982972445384537,
          -0.7968952554704768,
          -0.7928728322623442,
          -0.7925207384327007,
          -0.7904744554453119,
          -0.7832532923362371,
          -0.7783047254023127,
          -0.7778166875908753,
          -0.773789199103573,
          -0.7730097838554665,
          -0.7728252145375718,
          -0.7677975651041284,
          -0.7673475628880495,
          -0.7632591565425169,
          -0.759132661553698,
          -0.7563507452843033,
          -0.7553829323533225,
          -0.7537361643574896,
          -0.7484865365565536,
          -0.7309300399419191,
          -0.7303666317171367,
          -0.7271371758248686,
          -0.7257438131534656,
          -0.7198442083947086,
          -0.718444221252436,
          -0.7153037092599682,
          -0.7143514180263678,
          -0.7128457826771644,
          -0.7076694656187807,
          -0.7043436905427592,
          -0.7031764251258874,
          -0.7020530938773524,
          -0.7001208149391732,
          -0.6997255079925856,
          -0.6929095952606542,
          -0.6919080698812444,
          -0.6819842479977986,
          -0.6810516574748808,
          -0.6800247215784908,
          -0.6771617115121117,
          -0.6769220003059587,
          -0.6763923020592697,
          -0.6626237589458467,
          -0.661786464768388,
          -0.6533292325737119,
          -0.6526239793023909,
          -0.6518361078021592,
          -0.6516003476058171,
          -0.6506425691218269,
          -0.6465728842425266,
          -0.6451197546051243,
          -0.637739984251316,
          -0.6373871273065177,
          -0.6269670577877674,
          -0.6248185776956788,
          -0.6231405264247644,
          -0.6226995198205938,
          -0.6127886904843862,
          -0.6115178029919482,
          -0.6039851867158206,
          -0.6017066122293969,
          -0.600638689918805,
          -0.6002168771587947,
          -0.5993926454440222,
          -0.5993750229537729,
          -0.5923939242388692,
          -0.5915713888358299,
          -0.5893647569442115,
          -0.5769036556624031,
          -0.5768918695231487,
          -0.5767713305683327,
          -0.57581824064468,
          -0.5756378262377739,
          -0.5736620068802363,
          -0.5711789897827968,
          -0.5707462937494763,
          -0.5662977296027719,
          -0.5640786307367284,
          -0.5637245528039747,
          -0.5624667758942676,
          -0.5622875292409727,
          -0.5601810401969696,
          -0.5589218472715883,
          -0.5554771191602547,
          -0.5551995266931984,
          -0.553649305347182,
          -0.5522230442809712,
          -0.5468589412403921,
          -0.5449190868089497,
          -0.5443827245251827,
          -0.543424771133765,
          -0.5397596803093615,
          -0.5309969550018176,
          -0.5308687729203206,
          -0.5305011476105275,
          -0.5302576183724408,
          -0.5297602037670388,
          -0.525755021680761,
          -0.5245202662797737,
          -0.5228600271532683,
          -0.5227230205190395,
          -0.5182702182736474,
          -0.5176112990361714,
          -0.5172884501003722,
          -0.5160447282173739,
          -0.5138669173366935,
          -0.5112156764311852,
          -0.510016398854747,
          -0.5069431753711298,
          -0.5034756541161992,
          -0.5020542243526112,
          -0.5017570435845365,
          -0.4930009346588328,
          -0.48943944251822213,
          -0.48760622407249354,
          -0.48712538376469605,
          -0.48536354782910346,
          -0.48423407286625136,
          -0.47917423784528995,
          -0.4787486216634773,
          -0.4776574467651167,
          -0.4749453111609562,
          -0.47193186578943347,
          -0.4710383056183228,
          -0.4694743859349521,
          -0.4691756521047048,
          -0.46572975357025687,
          -0.46341769281246226,
          -0.4622752887050425,
          -0.4606387709597875,
          -0.4593608995402441,
          -0.4523063192490767,
          -0.45006547147924364,
          -0.4465149520670211,
          -0.44643361455052827,
          -0.4461834332147797,
          -0.4455025214007718,
          -0.4442932600761116,
          -0.44004448669698376,
          -0.4397310582741749,
          -0.4344962274323156,
          -0.4325581878196209,
          -0.42688106994742003,
          -0.42098448082026296,
          -0.42064532276535904,
          -0.42018681709585726,
          -0.4152879139008013,
          -0.4118769661224674,
          -0.4080753730215514,
          -0.40122047188583626,
          -0.3933388123273607,
          -0.39210815313215763,
          -0.38770155993598415,
          -0.3853135968617602,
          -0.38508228041631654,
          -0.38455554422982535,
          -0.3748208075495975,
          -0.37144086599579146,
          -0.36361221221385587,
          -0.36283856043965906,
          -0.3609661658190799,
          -0.35929209078705954,
          -0.35151348404130867,
          -0.3427145165267695,
          -0.34268759408034877,
          -0.3357846992901282,
          -0.3345012358409484,
          -0.3276621465977682,
          -0.32602353216784113,
          -0.3220615162056756,
          -0.32138584165299344,
          -0.3152692446403456,
          -0.31026675659345604,
          -0.3095464393139903,
          -0.3092123758512146,
          -0.30917212346863937,
          -0.30777823495300083,
          -0.3011036955892888,
          -0.29900735046586746,
          -0.2916937497932768,
          -0.2886586389201383,
          -0.2817846088605072,
          -0.2811002928859549,
          -0.275051697151644,
          -0.2727235697476705,
          -0.26987493529337125,
          -0.26940683444455776,
          -0.26888869055483056,
          -0.2646568332379561,
          -0.2595913513636048,
          -0.2549772174208553,
          -0.2525681513931603,
          -0.24903603955637832,
          -0.2489641484790735,
          -0.24751863555150475,
          -0.24717738252059693,
          -0.24574306408594432,
          -0.2453881160028705,
          -0.24123605785632987,
          -0.24032539815813503,
          -0.23894804686640975,
          -0.23681860674000887,
          -0.23458713337514692,
          -0.23415337472333597,
          -0.23413695694918055,
          -0.23093453020867796,
          -0.22577630048653566,
          -0.2234627853258509,
          -0.22096959953322298,
          -0.22096417382966393,
          -0.21967188783751193,
          -0.21910052880886424,
          -0.2176812032272203,
          -0.21398884422550896,
          -0.21344715171184725,
          -0.20812225035727522,
          -0.2030453860429927,
          -0.20219265243389406,
          -0.19236096478112252,
          -0.1903386780836082,
          -0.18687164416135904,
          -0.18565897666381712,
          -0.18490213644298903,
          -0.18398333635267913,
          -0.1769472274940494,
          -0.16711808031685435,
          -0.16128571166600914,
          -0.1599385299634271,
          -0.15800789857898942,
          -0.15567723539207948,
          -0.15178509503558332,
          -0.14705738150213865,
          -0.14436041192394247,
          -0.1423794850212935,
          -0.13826430117118466,
          -0.13014305436768459,
          -0.12791759148076653,
          -0.12578692009964815,
          -0.11564828238824053,
          -0.11473644146689901,
          -0.11453984525261789,
          -0.11232804969082982,
          -0.1087601484568576,
          -0.10703035995455783,
          -0.09917586377938291,
          -0.09671311187039239,
          -0.09605989972464987,
          -0.0952955323869521,
          -0.08973569428722672,
          -0.08912003951278841,
          -0.0821511783925688,
          -0.0771017094141042,
          -0.07444591576616721,
          -0.07443342910004629,
          -0.07282891265687277,
          -0.07201012158033385,
          -0.07016571145864703,
          -0.06607979864731657,
          -0.0657502610729878,
          -0.06267909727317188,
          -0.05952535606180008,
          -0.056945623721067457,
          -0.05558467091045507,
          -0.05554769889661878,
          -0.05429486651781221,
          -0.05023810944913695,
          -0.04946370965243295,
          -0.047711356141979855,
          -0.045586016355497805,
          -0.04015795064434341,
          -0.03955515385665504,
          -0.037634702424848364,
          -0.03582603910995154,
          -0.0349884904969617,
          -0.03471176970524331,
          -0.03468488738678118,
          -0.033126972873797095,
          -0.03275327021599839,
          -0.03269474809409311,
          -0.026513875449216878,
          -0.024125087110003277,
          -0.020901593964148132,
          -0.01901620790268883,
          -0.01851313599238993,
          -0.016422896072752075,
          -0.013497224737933921,
          -0.012246772846914623,
          -0.007972641316617372,
          -0.0036025390905684044,
          0.00511345664246089,
          0.005243699718183166,
          0.010233061019587049,
          0.01259240078179486,
          0.01300189187790702,
          0.013929291912946203,
          0.0184183791895517,
          0.01843393306539316,
          0.02100384163275905,
          0.024510174258942714,
          0.026091050210833786,
          0.02688583899453078,
          0.028318376130461172,
          0.028744822934817487,
          0.02975613949574519,
          0.03526355197172861,
          0.045571839903813784,
          0.04643654815614881,
          0.046980593764742055,
          0.047398671316414016,
          0.048084946661381994,
          0.04852162794482699,
          0.055724912288694604,
          0.058208718445999896,
          0.05921843401448826,
          0.06023020994102644,
          0.06428001909546277,
          0.06751848141010895,
          0.06752820468792384,
          0.06856297480602733,
          0.06980208499001891,
          0.07156623721939247,
          0.07331796718840389,
          0.07409478041977519,
          0.07580455819372633,
          0.0773683076476183,
          0.08187413938632256,
          0.08228398927542419,
          0.08658978747289992,
          0.08704706823817122,
          0.0917607765355023,
          0.09612077694098337,
          0.09699596499271819,
          0.09707754934804039,
          0.09767609854883172,
          0.09933230542922587,
          0.09965136508764122,
          0.10643022769189683,
          0.10939479460489289,
          0.11092258970986608,
          0.11351734525124804,
          0.11422764866203965,
          0.11567463429285867,
          0.117327383308782,
          0.12029563171189886,
          0.12200981464536144,
          0.12810441491078928,
          0.1292211819752275,
          0.13074057728609134,
          0.132969674146876,
          0.14671368643332283,
          0.1503017614618776,
          0.15039378647620763,
          0.1537251059455279,
          0.1664522082130561,
          0.17086543812794186,
          0.1713682811899705,
          0.173180925851182,
          0.17457781283183896,
          0.17770100093325383,
          0.18186625505849516,
          0.18334200573835174,
          0.1846338585323042,
          0.1848361236948739,
          0.18645431476942764,
          0.1866091231563581,
          0.18676676447707832,
          0.19109906801990334,
          0.19408999289830758,
          0.19584525509768155,
          0.19652116970147013,
          0.19655477651157463,
          0.19686123586912352,
          0.19808476076785494,
          0.19905969557347003,
          0.2029230208512997,
          0.2034636358672231,
          0.20768768716311115,
          0.20838280794755248,
          0.2088635950047554,
          0.2110174672026184,
          0.213979910734222,
          0.21409374413020396,
          0.21645858958197486,
          0.21915032766393897,
          0.22213377163371284,
          0.2237879516388985,
          0.22388402427913137,
          0.22409248181041677,
          0.22745993460412942,
          0.2320499373576363,
          0.23225369716100355,
          0.23421473253652075,
          0.23561455810856594,
          0.24196227156603412,
          0.24333944932269183,
          0.2436872114919123,
          0.24380071377119883,
          0.24496657110872277,
          0.24822058630033608,
          0.24938368371075526,
          0.25049285034587654,
          0.2544208433012131,
          0.25602973431387566,
          0.25755039072276437,
          0.25972250172148187,
          0.25988279424842353,
          0.26105527217988933,
          0.26705026586925884,
          0.2704568257798388,
          0.27157883719537346,
          0.27669079933001905,
          0.27902152577033923,
          0.2799686263198203,
          0.28099186773503265,
          0.28586539072490497,
          0.2891686439078181,
          0.2897748568964129,
          0.29307247329868125,
          0.29612027706457605,
          0.29698467323318606,
          0.30154734233361247,
          0.30729952087660933,
          0.3078017688920592,
          0.3109075655980046,
          0.3112501545435361,
          0.3142473325952739,
          0.3227185603380895,
          0.324083969394795,
          0.3241663524884421,
          0.326133022242118,
          0.32692737376416264,
          0.32875110965968446,
          0.33126343140356396,
          0.33231401197959165,
          0.3336621052869483,
          0.334456789987025,
          0.3376026620752022,
          0.3384964074944141,
          0.3411519748166439,
          0.34175597577715944,
          0.34272534637770413,
          0.3436182895684614,
          0.3464482094969757,
          0.34758170536167105,
          0.3520553965142968,
          0.35701548596504734,
          0.3571125715117464,
          0.3577873603482833,
          0.36139560550841393,
          0.36163602504763415,
          0.36659824609684827,
          0.3686733088729012,
          0.37114587337130883,
          0.37569801834567196,
          0.37721187506452086,
          0.3773004930448522,
          0.3801978510059632,
          0.3824097461840506,
          0.3840654489393073,
          0.3853173797288368,
          0.39445214237829684,
          0.39913611435207086,
          0.40171172209894146,
          0.4040508568145384,
          0.40498171096095553,
          0.40825275571447184,
          0.4127809269364983,
          0.41293145427562433,
          0.41343490322370086,
          0.42545756178496474,
          0.42961821913258585,
          0.4400144500533324,
          0.44381942814622843,
          0.44426331148603976,
          0.44770856001731496,
          0.4567532191537839,
          0.4591800792284367,
          0.46210347426327075,
          0.4714155563864041,
          0.4714683571359957,
          0.472597482413043,
          0.47323762457354485,
          0.4735924306351816,
          0.4738329209117875,
          0.47897982574639186,
          0.4810092317367132,
          0.4824724152431853,
          0.48937456122791806,
          0.4919191715065057,
          0.4924512640081491,
          0.4933179008808892,
          0.4967141530112327,
          0.49799829124544975,
          0.5009171876243808,
          0.5040465155178444,
          0.5049872789804571,
          0.5072740311072977,
          0.5132674331133561,
          0.5137859509122088,
          0.514438834058749,
          0.5150352672086598,
          0.5150476863060479,
          0.517659020469123,
          0.5193465142411723,
          0.5219415656168976,
          0.5298041779152828,
          0.5389100436846587,
          0.5425600435859647,
          0.543360192379935,
          0.5470973811700379,
          0.5597904479310398,
          0.5607845263682344,
          0.5629692366905709,
          0.5697672802322039,
          0.5705986685931593,
          0.570890510693167,
          0.5725827813561586,
          0.5765569630557664,
          0.57707212718054,
          0.5839281853259639,
          0.5868570938002703,
          0.5883172064845765,
          0.5906548306923093,
          0.5931012579683838,
          0.5951570254369136,
          0.6060099513456396,
          0.6078965097165392,
          0.6103702654334648,
          0.6105857452838231,
          0.6116762888408679,
          0.6141667000434252,
          0.6159356069442637,
          0.620672097550678,
          0.6218099622171964,
          0.6228499323474987,
          0.6241198170521551,
          0.6256673477650062,
          0.6283455092642799,
          0.6296288419236122,
          0.632407739055521,
          0.6327818661062848,
          0.6329318177555108,
          0.6339190223180112,
          0.6385924587773739,
          0.6408428612670098,
          0.6427227598675439,
          0.6453759495851475,
          0.6454841811410754,
          0.6476885381006925,
          0.6487098875896427,
          0.650201177958661,
          0.651391251305798,
          0.6543656563540577,
          0.6565536086338297,
          0.6585442726728304,
          0.6621306745210467,
          0.6696725488300385,
          0.6748194921666038,
          0.6795977489346758,
          0.6815006973726244,
          0.6818914896263114,
          0.6819529712949639,
          0.6860514599984393,
          0.6862601903745135,
          0.6901439917111125,
          0.6962063648134184,
          0.7003098794089914,
          0.7077519354554754,
          0.7083564472993533,
          0.7090037575885123,
          0.7109599682034915,
          0.7116148780888898,
          0.7129984301723881,
          0.714000494092092,
          0.7175422557959623,
          0.7216720640432351,
          0.725766623898692,
          0.7384665799954104,
          0.743264094022715,
          0.7462535660272207,
          0.7472936051232618,
          0.751387123371789,
          0.7519330326867741,
          0.755391225825756,
          0.7569886166453519,
          0.7575077100473051,
          0.7589692204932674,
          0.7604146561442974,
          0.7674347291529088,
          0.7708651938869668,
          0.7746340534293368,
          0.7818228717773104,
          0.7858001586508322,
          0.787084603742452,
          0.7910319470430469,
          0.7916626939629359,
          0.812525822394198,
          0.8128621188389601,
          0.8135096360006385,
          0.8135172173696698,
          0.820482181197364,
          0.8219025043752238,
          0.82206015999449,
          0.822544912103189,
          0.8231705839619146,
          0.8254163489880298,
          0.8271832490360238,
          0.8294055811834892,
          0.8303358165442456,
          0.8339221545489041,
          0.8356921120651418,
          0.8406435489887241,
          0.8496020970210246,
          0.852433334796224,
          0.8563987943234723,
          0.8576596232020194,
          0.8657551941701215,
          0.8696059201056602,
          0.8711247034316923,
          0.8723206367206782,
          0.8724573282801447,
          0.8773622905756714,
          0.8816397569494505,
          0.889630795623437,
          0.8995998754332507,
          0.9154021177020741,
          0.9178619470547761,
          0.924027019206901,
          0.9261775475316414,
          0.9312801191161986,
          0.9356783931474612,
          0.9382838059759977,
          0.9504238381860503,
          0.9540017634932023,
          0.9551423205012383,
          0.9592708260852069,
          0.9633761292443218,
          0.9686449905328892,
          0.9715709509543554,
          0.9725544496267299,
          0.9751197334177512,
          0.9755451271223592,
          0.9826909839455139,
          0.9843223984765838,
          1.0035328978920242,
          1.0062928092144405,
          1.0143700650181304,
          1.0291556373256436,
          1.030999522495951,
          1.0318445394686349,
          1.0324652605511468,
          1.0375399442578992,
          1.044160877069072,
          1.0490092258368893,
          1.0531528533329035,
          1.0536417966078395,
          1.053802052034903,
          1.0571222262189157,
          1.0584244868495878,
          1.0654803750653512,
          1.066674689589154,
          1.073631749859772,
          1.0807807255546218,
          1.083051243175277,
          1.088950596967366,
          1.0915068519224618,
          1.0941915184709485,
          1.09877685198719,
          1.1033018820165215,
          1.1087035805829077,
          1.1172958315881276,
          1.1195749114345768,
          1.1265650295477574,
          1.135565640180599,
          1.1428228145150205,
          1.143754043206929,
          1.1492733262856758,
          1.1581108735000678,
          1.158595579007404,
          1.159329803364248,
          1.1631637521549596,
          1.1677820616598074,
          1.1692955904456728,
          1.1792971840638264,
          1.179440120721287,
          1.188393273448084,
          1.1890165311075518,
          1.1950466289248425,
          1.2012139221639448,
          1.2065089665083568,
          1.2378163119734618,
          1.246085192497629,
          1.2557561255735208,
          1.2669111491866227,
          1.2715550949941588,
          1.277664895788425,
          1.277676821898509,
          1.2784518626072987,
          1.305478807154329,
          1.307142754282428,
          1.3291525301324314,
          1.3454200461549777,
          1.3538723741654128,
          1.355637858804951,
          1.356240028570823,
          1.3668742674445247,
          1.3686315575323487,
          1.3821589910375272,
          1.4027943109360992,
          1.40934744018558,
          1.4205042479898549,
          1.4401172154494728,
          1.4412732890661155,
          1.4415686206579004,
          1.4437646040732595,
          1.4469778843537329,
          1.4511436077950417,
          1.453384477117701,
          1.4535340771573169,
          1.465648768921554,
          1.475356216949552,
          1.477894044741516,
          1.4799441388900259,
          1.496044311489183,
          1.502357052096028,
          1.5033983017671506,
          1.5039929885826886,
          1.5230298564080254,
          1.5231240772696573,
          1.5295503194606137,
          1.5327389130025777,
          1.5380365664659692,
          1.5475052013300616,
          1.5499344050175394,
          1.5505004928140769,
          1.551151975522523,
          1.5646436558140062,
          1.5655240292343404,
          1.5774532797634744,
          1.5792128155073915,
          1.5795721457307124,
          1.586016816145352,
          1.593186626639397,
          1.6286155455712918,
          1.6324113039316352,
          1.6449677135012837,
          1.6654744444625766,
          1.669021525289393,
          1.6764373122752827,
          1.6871416350725648,
          1.6964563682900382,
          1.7522704434236227,
          1.7547941819843647,
          1.7553408424432044,
          1.7654542402810969,
          1.77080063563551,
          1.7945578635177877,
          1.7958776730955217,
          1.7976865268495226,
          1.8009404329108156,
          1.8124485579969287,
          1.8314587658543537,
          1.8466369960476658,
          1.8467073257360336,
          1.8489560949453452,
          1.8522781845089378,
          1.8657745111447566,
          1.8761708392158862,
          1.876795812558066,
          1.8811570694405901,
          1.8820244964750337,
          1.8861859012105302,
          1.8967929826539474,
          1.9094166404701305,
          1.9647251329163893,
          2.0102045387663496,
          2.060747924881987,
          2.075400798645439,
          2.0923872756854602,
          2.1221561970126332,
          2.1330333746562666,
          2.1439440893253257,
          2.1531824575115563,
          2.16325472330546,
          2.1898029332176723,
          2.1904556258099785,
          2.270692857804396,
          2.2988981236192503,
          2.3146585666735087,
          2.4457519796168263,
          2.4553001399108942,
          2.463242112485286,
          2.5269324258736217,
          2.5600845382687947,
          2.5733598032498604,
          2.632382064837391,
          2.720169166589619,
          3.0788808084552377,
          3.852731490654721
         ],
         "y": [
          -3.1975894953840083,
          -2.932377845016311,
          -2.7843784085372074,
          -2.6799956016422,
          -2.5985594603615385,
          -2.531398994824528,
          -2.4740226252980757,
          -2.4237921425175584,
          -2.379021486968392,
          -2.338565455956601,
          -2.3016094875248356,
          -2.267552839395339,
          -2.235939336429255,
          -2.2064141466198652,
          -2.1786956425426593,
          -2.1525564290272765,
          -2.1278101651999872,
          -2.104302174732936,
          -2.0819026055384353,
          -2.0605013490671262,
          -2.040004201298742,
          -2.020329917338014,
          -2.0014079204828263,
          -1.9831764982311468,
          -1.965581365766842,
          -1.948574510373667,
          -1.9321132531538197,
          -1.916159480657644,
          -1.9006790106896436,
          -1.8856410650437505,
          -1.8710178281770196,
          -1.856784075495328,
          -1.8429168584392988,
          -1.829395236233192,
          -1.816200046213537,
          -1.8033137062453188,
          -1.790720043975983,
          -1.7784041486550217,
          -1.7663522420214828,
          -1.7545515653796662,
          -1.742990280479243,
          -1.7316573822166788,
          -1.72054262150011,
          -1.7096364368855084,
          -1.6989298938099346,
          -1.6884146304275112,
          -1.6780828092026443,
          -1.6679270735390028,
          -1.6579405088263148,
          -1.6481166073739355,
          -1.6384492367733363,
          -1.6289326112934905,
          -1.6195612659656506,
          -1.610330033058623,
          -1.601234020683822,
          -1.5922685933020224,
          -1.5834293539318107,
          -1.5747121278838887,
          -1.5661129478663078,
          -1.557628040323761,
          -1.5492538128898172,
          -1.540986842844641,
          -1.532823866482678,
          -1.5247617693052635,
          -1.51679757696222,
          -1.508928446874604,
          -1.5011516604778194,
          -1.4934646160305602,
          -1.4858648219405988,
          -1.4783498905632946,
          -1.470917532433063,
          -1.4635655508918974,
          -1.4562918370824622,
          -1.4490943652763622,
          -1.4419711885109032,
          -1.4349204345101372,
          -1.427940301868158,
          -1.4210290564745973,
          -1.4141850281640365,
          -1.4074066075726481,
          -1.4006922431868123,
          -1.394040438569754,
          -1.3874497497534246,
          -1.3809187827838965,
          -1.374446191409523,
          -1.3680306749019613,
          -1.3616709760009789,
          -1.3553658789746557,
          -1.3491142077872604,
          -1.342914824367695,
          -1.3367666269719092,
          -1.330668548633217,
          -1.3246195556948948,
          -1.3186186464198353,
          -1.3126648496724567,
          -1.3067572236683667,
          -1.3008948547876424,
          -1.2950768564478596,
          -1.2893023680332818,
          -1.2835705538768745,
          -1.2778806022920293,
          -1.2722317246511088,
          -1.2666231545081015,
          -1.2610541467628753,
          -1.2555239768646689,
          -1.2500319400526214,
          -1.2445773506312938,
          -1.2391595412792393,
          -1.2337778623888436,
          -1.2284316814357266,
          -1.2231203823761367,
          -1.217843365070853,
          -1.212600044734193,
          -1.207389851406829,
          -1.202212229451181,
          -1.1970666370682261,
          -1.1919525458346434,
          -1.1868694402592759,
          -1.181816817357928,
          -1.1767941862456168,
          -1.1718010677454034,
          -1.1668369940130003,
          -1.1619015081764035,
          -1.1569941639898214,
          -1.1521145255012226,
          -1.1472621667328702,
          -1.1424366713742238,
          -1.1376376324866444,
          -1.1328646522193586,
          -1.128117341536171,
          -1.1233953199524254,
          -1.1186982152817748,
          -1.1140256633923058,
          -1.1093773079716156,
          -1.1047528003004363,
          -1.1001517990344496,
          -1.09557396999392,
          -1.0910189859608288,
          -1.086486526483174,
          -1.0819762776861408,
          -1.0774879320898516,
          -1.0730211884334262,
          -1.068575751505081,
          -1.0641513319780245,
          -1.0597476462519146,
          -1.0553644162996505,
          -1.0510013695192764,
          -1.0466582385908088,
          -1.0423347613377743,
          -1.0380306805932853,
          -1.0337457440704647,
          -1.0294797042370634,
          -1.0252323181940937,
          -1.0210033475583333,
          -1.0167925583485538,
          -1.0125997208753235,
          -1.0084246096342568,
          -1.004267003202581,
          -1.0001266841388923,
          -0.9960034388859885,
          -0.9918970576766596,
          -0.9878073344423358,
          -0.9837340667244807,
          -0.9796770555886369,
          -0.9756361055410266,
          -0.9716110244476165,
          -0.9676016234555576,
          -0.9636077169169203,
          -0.9596291223146427,
          -0.9556656601906123,
          -0.9517171540758111,
          -0.9477834304224537,
          -0.9438643185380445,
          -0.9399596505212948,
          -0.9360692611998355,
          -0.932192988069663,
          -0.9283306712362626,
          -0.9244821533573512,
          -0.9206472795871902,
          -0.9168258975224115,
          -0.9130178571493116,
          -0.9092230107925632,
          -0.9054412130653029,
          -0.901672320820542,
          -0.8979161931038684,
          -0.8941726911073933,
          -0.890441678124902,
          -0.8867230195081746,
          -0.8830165826244373,
          -0.8793222368149117,
          -0.8756398533544245,
          -0.8719693054120479,
          -0.8683104680127403,
          -0.8646632179999508,
          -0.8610274339991654,
          -0.8574029963823627,
          -0.8537897872333524,
          -0.8501876903139689,
          -0.8465965910310996,
          -0.8430163764045162,
          -0.8394469350354902,
          -0.8358881570761691,
          -0.8323399341996902,
          -0.8288021595710096,
          -0.8252747278184283,
          -0.8217575350057947,
          -0.8182504786053617,
          -0.8147534574712835,
          -0.8112663718137317,
          -0.8077891231736145,
          -0.8043216143978797,
          -0.8008637496153892,
          -0.7974154342133459,
          -0.7939765748142589,
          -0.7905470792534316,
          -0.7871268565569608,
          -0.7837158169202291,
          -0.7803138716868789,
          -0.7769209333282584,
          -0.7735369154233199,
          -0.7701617326389643,
          -0.7667953007108173,
          -0.7634375364244278,
          -0.7600883575968734,
          -0.7567476830587669,
          -0.7534154326366506,
          -0.750091527135769,
          -0.7467758883232102,
          -0.7434684389114062,
          -0.740169102541985,
          -0.7368778037699587,
          -0.7335944680482501,
          -0.7303190217125388,
          -0.7270513919664245,
          -0.7237915068668976,
          -0.7205392953101107,
          -0.7172946870174417,
          -0.714057612521842,
          -0.7108280031544635,
          -0.7076057910315589,
          -0.7043909090416413,
          -0.7011832908329085,
          -0.697982870800915,
          -0.6947895840764918,
          -0.6916033665139043,
          -0.6884241546792474,
          -0.685251885839067,
          -0.6820864979492046,
          -0.6789279296438604,
          -0.6757761202248698,
          -0.6726310096511862,
          -0.6694925385285672,
          -0.6663606480994595,
          -0.6632352802330768,
          -0.6601163774156651,
          -0.6570038827409567,
          -0.6538977399008002,
          -0.6507978931759696,
          -0.6477042874271443,
          -0.6446168680860574,
          -0.641535581146811,
          -0.6384603731573467,
          -0.6353911912110805,
          -0.6323279829386853,
          -0.6292706965000266,
          -0.6262192805762455,
          -0.6231736843619825,
          -0.6201338575577454,
          -0.6170997503624122,
          -0.6140713134658682,
          -0.611048498041777,
          -0.6080312557404765,
          -0.6050195386820041,
          -0.6020132994492432,
          -0.5990124910811897,
          -0.5960170670663378,
          -0.59302698133618,
          -0.5900421882588208,
          -0.5870626426326998,
          -0.5840882996804241,
          -0.5811191150427062,
          -0.5781550447724044,
          -0.5751960453286673,
          -0.5722420735711738,
          -0.569293086754475,
          -0.5663490425224272,
          -0.5634098989027208,
          -0.5604756143014992,
          -0.5575461474980682,
          -0.5546214576396927,
          -0.551701504236479,
          -0.5487862471563412,
          -0.545875646620051,
          -0.5429696631963665,
          -0.540068257797243,
          -0.5371713916731177,
          -0.5342790264082731,
          -0.5313911239162749,
          -0.5285076464354803,
          -0.5256285565246218,
          -0.5227538170584577,
          -0.5198833912234927,
          -0.5170172425137668,
          -0.5141553347267086,
          -0.5112976319590552,
          -0.5084440986028339,
          -0.5055946993414073,
          -0.5027493991455798,
          -0.49990816326976273,
          -0.49707095724819955,
          -0.49423774689124855,
          -0.49140849828172056,
          -0.4885831777712752,
          -0.4857617519768677,
          -0.48294418777725295,
          -0.4801304523095391,
          -0.47732051296579364,
          -0.4745143373897005,
          -0.471711893473265,
          -0.4689131493535694,
          -0.46611807340957473,
          -0.46332663425896903,
          -0.46053880075506354,
          -0.4577545419837311,
          -0.45497382726039187,
          -0.45219662612703926,
          -0.4494229083493115,
          -0.4466526439136029,
          -0.4438858030242167,
          -0.4411223561005594,
          -0.43836227377437237,
          -0.43560552688700505,
          -0.4328520864867243,
          -0.4301019238260616,
          -0.4273550103591981,
          -0.4246113177393843,
          -0.4218708178163968,
          -0.4191334826340284,
          -0.4163992844276132,
          -0.4136681956215861,
          -0.4109401888270731,
          -0.4082152368395168,
          -0.4054933126363319,
          -0.40277438937459203,
          -0.40005844038874894,
          -0.3973454391883795,
          -0.394635359455965,
          -0.3919281750446978,
          -0.38922385997631653,
          -0.38652238843897135,
          -0.3838237347851144,
          -0.3811278735294197,
          -0.3784347793467281,
          -0.375744427070019,
          -0.3730567916884087,
          -0.3703718483451725,
          -0.36768957233579347,
          -0.36500993910603435,
          -0.3623329242500338,
          -0.3596585035084273,
          -0.3569866527664897,
          -0.35431734805230203,
          -0.3516505655349402,
          -0.348986281522685,
          -0.346324472461256,
          -0.34366511493206386,
          -0.34100818565048613,
          -0.3383536614641623,
          -0.3357015193513095,
          -0.3330517364190585,
          -0.33040428990180787,
          -0.3277591571595998,
          -0.32511631567651234,
          -0.32247574305907206,
          -0.3198374170346843,
          -0.3172013154500808,
          -0.3145674162697867,
          -0.31193569757460293,
          -0.30930613756010733,
          -0.30667871453517187,
          -0.30405340692049576,
          -0.3014301932471565,
          -0.2988090521551748,
          -0.2961899623920975,
          -0.29357290281159404,
          -0.2909578523720684,
          -0.2883447901352876,
          -0.28573369526502224,
          -0.2831245470257043,
          -0.2805173247810968,
          -0.2779120079929784,
          -0.27530857621984217,
          -0.2727070091156067,
          -0.2701072864283417,
          -0.2675093879990059,
          -0.26491329376019723,
          -0.26231898373491763,
          -0.25972643803534723,
          -0.25713563686163393,
          -0.2545465605006927,
          -0.2519591893250168,
          -0.24937350379150253,
          -0.24678948444028237,
          -0.24420711189357205,
          -0.24162636685452718,
          -0.23904723010611018,
          -0.23646968250996978,
          -0.23389370500532866,
          -0.2313192786078833,
          -0.22874638440871267,
          -0.22617500357319692,
          -0.2236051173399469,
          -0.22103670701974132,
          -0.21846975399447577,
          -0.2159042397161182,
          -0.21334014570567614,
          -0.210777453552171,
          -0.20821614491162138,
          -0.2056562015060364,
          -0.20309760512241493,
          -0.20054033761175605,
          -0.1979843808880754,
          -0.1954297169274302,
          -0.19287632776695282,
          -0.19032419550389082,
          -0.18777330229465605,
          -0.18522363035387987,
          -0.18267516195347588,
          -0.1801278794217111,
          -0.17758176514228194,
          -0.17503680155339946,
          -0.17249297114687964,
          -0.16995025646724068,
          -0.167408640110808,
          -0.16486810472482333,
          -0.1623286330065626,
          -0.15979020770245833,
          -0.15725281160722782,
          -0.1547164275630092,
          -0.15218103845850064,
          -0.14964662722810748,
          -0.1471131768510937,
          -0.14458067035073865,
          -0.14204909079350037,
          -0.13951842128818234,
          -0.1369886449851073,
          -0.1344597450752944,
          -0.13193170478964172,
          -0.12940450739811463,
          -0.12687813620893673,
          -0.12435257456778759,
          -0.12182780585700348,
          -0.11930381349478249,
          -0.11678058093439526,
          -0.11425809166339783,
          -0.11173632920285072,
          -0.10921527710653972,
          -0.10669491896020285,
          -0.10417523838075933,
          -0.10165621901554249,
          -0.09913784454153758,
          -0.09662009866462097,
          -0.09410296511880464,
          -0.091586427665483,
          -0.08907047009268242,
          -0.08655507621431553,
          -0.08404022986943656,
          -0.08152591492150126,
          -0.07901211525762872,
          -0.07649881478786578,
          -0.07398599744445533,
          -0.07147364718110531,
          -0.06896174797226222,
          -0.06645028381238555,
          -0.06393923871522465,
          -0.06142859671309913,
          -0.058918341856179314,
          -0.05640845821177095,
          -0.05389892986360029,
          -0.051389740911101274,
          -0.0488808754687058,
          -0.04637231766513361,
          -0.04386405164268598,
          -0.041356061556539515,
          -0.03884833157404144,
          -0.03634084587400769,
          -0.03383358864602018,
          -0.03132654408972747,
          -0.02881969641414509,
          -0.026313029836957023,
          -0.02380652858381953,
          -0.021300176887663808,
          -0.018793958988001545,
          -0.01628785913022986,
          -0.013781861564936911,
          -0.011275950547209458,
          -0.008770110335938906,
          -0.006264325193129806,
          -0.0037585793832073666,
          -0.00125285717232522,
          0.001252857172325359,
          0.0037585793832073666,
          0.006264325193129806,
          0.008770110335939045,
          0.011275950547209458,
          0.013781861564936911,
          0.01628785913022972,
          0.018793958988001687,
          0.021300176887663808,
          0.023806528583819393,
          0.02631302983695716,
          0.02881969641414509,
          0.03132654408972747,
          0.03383358864602032,
          0.03634084587400769,
          0.03884833157404144,
          0.04135606155653938,
          0.04386405164268612,
          0.04637231766513361,
          0.04888087546870566,
          0.05138974091110141,
          0.05389892986360029,
          0.05640845821177095,
          0.058918341856179175,
          0.06142859671309913,
          0.06393923871522465,
          0.06645028381238541,
          0.06896174797226236,
          0.07147364718110531,
          0.07398599744445519,
          0.07649881478786592,
          0.07901211525762872,
          0.08152591492150126,
          0.08404022986943642,
          0.08655507621431553,
          0.08907047009268242,
          0.09158642766548286,
          0.09410296511880478,
          0.09662009866462097,
          0.09913784454153744,
          0.10165621901554263,
          0.10417523838075933,
          0.10669491896020285,
          0.10921527710653958,
          0.11173632920285072,
          0.11425809166339783,
          0.11678058093439513,
          0.11930381349478264,
          0.12182780585700348,
          0.12435257456778759,
          0.12687813620893687,
          0.12940450739811463,
          0.13193170478964172,
          0.13445974507529426,
          0.13698864498510743,
          0.13951842128818234,
          0.14204909079350023,
          0.1445806703507388,
          0.1471131768510937,
          0.14964662722810748,
          0.15218103845850078,
          0.1547164275630092,
          0.15725281160722782,
          0.1597902077024582,
          0.16232863300656275,
          0.16486810472482333,
          0.16740864011080786,
          0.16995025646724082,
          0.17249297114687964,
          0.17503680155339946,
          0.1775817651422818,
          0.1801278794217111,
          0.18267516195347588,
          0.18522363035387973,
          0.1877733022946562,
          0.19032419550389082,
          0.19287632776695268,
          0.19542971692743033,
          0.1979843808880754,
          0.20054033761175605,
          0.2030976051224148,
          0.2056562015060364,
          0.20821614491162138,
          0.21077745355217084,
          0.21334014570567628,
          0.2159042397161182,
          0.21846975399447563,
          0.22103670701974146,
          0.2236051173399469,
          0.22617500357319692,
          0.22874638440871253,
          0.23131927860788343,
          0.23389370500532866,
          0.23646968250996964,
          0.23904723010611031,
          0.24162636685452718,
          0.24420711189357205,
          0.2467894844402825,
          0.24937350379150253,
          0.2519591893250168,
          0.2545465605006925,
          0.2571356368616341,
          0.25972643803534723,
          0.26231898373491747,
          0.2649132937601974,
          0.2675093879990059,
          0.2701072864283417,
          0.2727070091156068,
          0.27530857621984217,
          0.2779120079929784,
          0.2805173247810967,
          0.28312454702570444,
          0.28573369526502224,
          0.2883447901352874,
          0.2909578523720685,
          0.29357290281159404,
          0.2961899623920975,
          0.29880905215517467,
          0.3014301932471565,
          0.30405340692049576,
          0.30667871453517176,
          0.3093061375601075,
          0.31193569757460293,
          0.31456741626978657,
          0.31720131545008096,
          0.3198374170346843,
          0.32247574305907206,
          0.32511631567651217,
          0.3277591571595998,
          0.33040428990180787,
          0.33305173641905833,
          0.33570151935130965,
          0.3383536614641623,
          0.341008185650486,
          0.343665114932064,
          0.346324472461256,
          0.348986281522685,
          0.35165056553494006,
          0.3543173480523022,
          0.3569866527664897,
          0.3596585035084272,
          0.362332924250034,
          0.36500993910603435,
          0.36768957233579347,
          0.37037184834517267,
          0.3730567916884087,
          0.375744427070019,
          0.3784347793467279,
          0.38112787352941985,
          0.3838237347851144,
          0.3865223884389712,
          0.38922385997631664,
          0.3919281750446978,
          0.394635359455965,
          0.3973454391883797,
          0.40005844038874894,
          0.40277438937459203,
          0.4054933126363318,
          0.408215236839517,
          0.4109401888270731,
          0.41366819562158585,
          0.4163992844276133,
          0.4191334826340284,
          0.4218708178163968,
          0.42461131773938415,
          0.4273550103591981,
          0.4301019238260616,
          0.4328520864867242,
          0.4356055268870052,
          0.43836227377437237,
          0.4411223561005592,
          0.4438858030242169,
          0.4466526439136029,
          0.4494229083493115,
          0.45219662612703904,
          0.45497382726039187,
          0.4577545419837311,
          0.46053880075506337,
          0.4633266342589692,
          0.46611807340957473,
          0.4689131493535694,
          0.47171189347326514,
          0.4745143373897005,
          0.47732051296579364,
          0.480130452309539,
          0.48294418777725306,
          0.4857617519768677,
          0.488583177771275,
          0.49140849828172073,
          0.49423774689124855,
          0.49707095724819955,
          0.4999081632697629,
          0.5027493991455798,
          0.5055946993414073,
          0.5084440986028337,
          0.5112976319590553,
          0.5141553347267086,
          0.5170172425137667,
          0.5198833912234928,
          0.5227538170584577,
          0.5256285565246218,
          0.5285076464354805,
          0.5313911239162749,
          0.5342790264082731,
          0.5371713916731174,
          0.5400682577972431,
          0.5429696631963665,
          0.5458756466200507,
          0.5487862471563413,
          0.551701504236479,
          0.5546214576396927,
          0.5575461474980681,
          0.5604756143014992,
          0.5634098989027208,
          0.5663490425224271,
          0.5692930867544752,
          0.5722420735711738,
          0.5751960453286671,
          0.5781550447724046,
          0.5811191150427062,
          0.5840882996804241,
          0.5870626426326996,
          0.5900421882588208,
          0.59302698133618,
          0.5960170670663376,
          0.5990124910811898,
          0.6020132994492432,
          0.6050195386820041,
          0.6080312557404766,
          0.611048498041777,
          0.6140713134658682,
          0.617099750362412,
          0.6201338575577456,
          0.6231736843619825,
          0.6262192805762453,
          0.6292706965000269,
          0.6323279829386853,
          0.6353911912110805,
          0.6384603731573469,
          0.641535581146811,
          0.6446168680860574,
          0.647704287427144,
          0.6507978931759697,
          0.6538977399008002,
          0.6570038827409566,
          0.6601163774156652,
          0.6632352802330768,
          0.6663606480994595,
          0.669492538528567,
          0.6726310096511862,
          0.6757761202248698,
          0.6789279296438602,
          0.6820864979492046,
          0.685251885839067,
          0.6884241546792474,
          0.6916033665139044,
          0.6947895840764918,
          0.697982870800915,
          0.7011832908329084,
          0.7043909090416413,
          0.7076057910315589,
          0.7108280031544635,
          0.714057612521842,
          0.7172946870174417,
          0.7205392953101107,
          0.7237915068668979,
          0.7270513919664245,
          0.7303190217125388,
          0.7335944680482499,
          0.7368778037699587,
          0.740169102541985,
          0.7434684389114062,
          0.7467758883232102,
          0.750091527135769,
          0.7534154326366506,
          0.7567476830587672,
          0.7600883575968734,
          0.7634375364244278,
          0.766795300710817,
          0.7701617326389643,
          0.7735369154233199,
          0.7769209333282584,
          0.7803138716868792,
          0.7837158169202291,
          0.7871268565569608,
          0.7905470792534317,
          0.7939765748142589,
          0.7974154342133459,
          0.8008637496153891,
          0.8043216143978797,
          0.8077891231736145,
          0.8112663718137317,
          0.8147534574712836,
          0.8182504786053617,
          0.8217575350057947,
          0.8252747278184281,
          0.8288021595710096,
          0.8323399341996902,
          0.8358881570761689,
          0.8394469350354902,
          0.8430163764045162,
          0.8465965910310996,
          0.8501876903139692,
          0.8537897872333524,
          0.8574029963823627,
          0.8610274339991651,
          0.8646632179999508,
          0.8683104680127403,
          0.8719693054120479,
          0.8756398533544245,
          0.8793222368149117,
          0.8830165826244373,
          0.8867230195081748,
          0.890441678124902,
          0.8941726911073933,
          0.8979161931038683,
          0.901672320820542,
          0.9054412130653029,
          0.9092230107925632,
          0.9130178571493116,
          0.9168258975224115,
          0.9206472795871902,
          0.9244821533573516,
          0.9283306712362626,
          0.932192988069663,
          0.9360692611998352,
          0.9399596505212948,
          0.9438643185380445,
          0.9477834304224537,
          0.9517171540758113,
          0.9556656601906123,
          0.9596291223146427,
          0.9636077169169205,
          0.9676016234555576,
          0.9716110244476165,
          0.9756361055410266,
          0.9796770555886369,
          0.9837340667244807,
          0.9878073344423358,
          0.9918970576766599,
          0.9960034388859885,
          1.0001266841388923,
          1.0042670032025809,
          1.0084246096342568,
          1.0125997208753235,
          1.016792558348554,
          1.0210033475583333,
          1.0252323181940937,
          1.0294797042370634,
          1.0337457440704652,
          1.0380306805932853,
          1.0423347613377743,
          1.0466582385908085,
          1.0510013695192764,
          1.0553644162996505,
          1.0597476462519146,
          1.0641513319780245,
          1.068575751505081,
          1.0730211884334262,
          1.0774879320898516,
          1.0819762776861408,
          1.086486526483174,
          1.0910189859608288,
          1.09557396999392,
          1.1001517990344496,
          1.1047528003004363,
          1.1093773079716156,
          1.1140256633923058,
          1.1186982152817748,
          1.1233953199524254,
          1.1281173415361714,
          1.1328646522193586,
          1.1376376324866437,
          1.1424366713742238,
          1.1472621667328702,
          1.1521145255012226,
          1.1569941639898214,
          1.1619015081764035,
          1.1668369940130003,
          1.1718010677454043,
          1.1767941862456173,
          1.181816817357928,
          1.186869440259275,
          1.1919525458346434,
          1.1970666370682261,
          1.202212229451181,
          1.207389851406829,
          1.212600044734193,
          1.217843365070853,
          1.2231203823761367,
          1.2284316814357266,
          1.2337778623888436,
          1.2391595412792393,
          1.2445773506312943,
          1.2500319400526214,
          1.2555239768646689,
          1.2610541467628762,
          1.2666231545081015,
          1.2722317246511088,
          1.2778806022920293,
          1.283570553876875,
          1.2893023680332818,
          1.295076856447859,
          1.3008948547876424,
          1.3067572236683667,
          1.3126648496724567,
          1.318618646419836,
          1.3246195556948948,
          1.330668548633217,
          1.3367666269719087,
          1.342914824367695,
          1.3491142077872604,
          1.3553658789746552,
          1.3616709760009789,
          1.3680306749019613,
          1.374446191409523,
          1.3809187827838971,
          1.3874497497534246,
          1.394040438569754,
          1.4006922431868116,
          1.4074066075726481,
          1.4141850281640365,
          1.421029056474597,
          1.427940301868158,
          1.4349204345101372,
          1.4419711885109028,
          1.4490943652763626,
          1.4562918370824622,
          1.4635655508918974,
          1.4709175324330621,
          1.4783498905632946,
          1.4858648219405988,
          1.4934646160305602,
          1.5011516604778197,
          1.5089284468746045,
          1.5167975769622193,
          1.5247617693052629,
          1.532823866482678,
          1.540986842844641,
          1.5492538128898166,
          1.557628040323761,
          1.5661129478663078,
          1.5747121278838887,
          1.5834293539318107,
          1.5922685933020229,
          1.6012340206838214,
          1.6103300330586223,
          1.619561265965651,
          1.6289326112934905,
          1.6384492367733356,
          1.648116607373936,
          1.6579405088263148,
          1.6679270735390028,
          1.6780828092026447,
          1.6884146304275112,
          1.6989298938099342,
          1.7096364368855077,
          1.7205426215001105,
          1.7316573822166788,
          1.742990280479242,
          1.7545515653796668,
          1.7663522420214828,
          1.7784041486550208,
          1.7907200439759832,
          1.8033137062453188,
          1.816200046213537,
          1.8293952362331916,
          1.8429168584392988,
          1.8567840754953275,
          1.8710178281770191,
          1.8856410650437514,
          1.900679010689644,
          1.9161594806576434,
          1.9321132531538185,
          1.9485745103736674,
          1.9655813657668413,
          1.9831764982311464,
          2.0014079204828277,
          2.0203299173380134,
          2.040004201298741,
          2.060501349067127,
          2.0819026055384353,
          2.104302174732936,
          2.127810165199986,
          2.1525564290272774,
          2.178695642542659,
          2.2064141466198643,
          2.235939336429256,
          2.2675528393953384,
          2.3016094875248347,
          2.3385654559566023,
          2.379021486968393,
          2.4237921425175575,
          2.474022625298073,
          2.5313989948245297,
          2.598559460361538,
          2.6799956016421955,
          2.784378408537212,
          2.9323778450163114,
          3.1975894953840083
         ]
        }
       ],
       "layout": {
        "shapes": [
         {
          "line": {
           "color": "red",
           "dash": "dash",
           "width": 2
          },
          "type": "line",
          "x0": -3.2412673400690726,
          "x1": 3.852731490654721,
          "y0": -3.2412673400690726,
          "y1": 3.852731490654721
         }
        ],
        "template": {
         "data": {
          "bar": [
           {
            "error_x": {
             "color": "#2a3f5f"
            },
            "error_y": {
             "color": "#2a3f5f"
            },
            "marker": {
             "line": {
              "color": "#E5ECF6",
              "width": 0.5
             },
             "pattern": {
              "fillmode": "overlay",
              "size": 10,
              "solidity": 0.2
             }
            },
            "type": "bar"
           }
          ],
          "barpolar": [
           {
            "marker": {
             "line": {
              "color": "#E5ECF6",
              "width": 0.5
             },
             "pattern": {
              "fillmode": "overlay",
              "size": 10,
              "solidity": 0.2
             }
            },
            "type": "barpolar"
           }
          ],
          "carpet": [
           {
            "aaxis": {
             "endlinecolor": "#2a3f5f",
             "gridcolor": "white",
             "linecolor": "white",
             "minorgridcolor": "white",
             "startlinecolor": "#2a3f5f"
            },
            "baxis": {
             "endlinecolor": "#2a3f5f",
             "gridcolor": "white",
             "linecolor": "white",
             "minorgridcolor": "white",
             "startlinecolor": "#2a3f5f"
            },
            "type": "carpet"
           }
          ],
          "choropleth": [
           {
            "colorbar": {
             "outlinewidth": 0,
             "ticks": ""
            },
            "type": "choropleth"
           }
          ],
          "contour": [
           {
            "colorbar": {
             "outlinewidth": 0,
             "ticks": ""
            },
            "colorscale": [
             [
              0,
              "#0d0887"
             ],
             [
              0.1111111111111111,
              "#46039f"
             ],
             [
              0.2222222222222222,
              "#7201a8"
             ],
             [
              0.3333333333333333,
              "#9c179e"
             ],
             [
              0.4444444444444444,
              "#bd3786"
             ],
             [
              0.5555555555555556,
              "#d8576b"
             ],
             [
              0.6666666666666666,
              "#ed7953"
             ],
             [
              0.7777777777777778,
              "#fb9f3a"
             ],
             [
              0.8888888888888888,
              "#fdca26"
             ],
             [
              1,
              "#f0f921"
             ]
            ],
            "type": "contour"
           }
          ],
          "contourcarpet": [
           {
            "colorbar": {
             "outlinewidth": 0,
             "ticks": ""
            },
            "type": "contourcarpet"
           }
          ],
          "heatmap": [
           {
            "colorbar": {
             "outlinewidth": 0,
             "ticks": ""
            },
            "colorscale": [
             [
              0,
              "#0d0887"
             ],
             [
              0.1111111111111111,
              "#46039f"
             ],
             [
              0.2222222222222222,
              "#7201a8"
             ],
             [
              0.3333333333333333,
              "#9c179e"
             ],
             [
              0.4444444444444444,
              "#bd3786"
             ],
             [
              0.5555555555555556,
              "#d8576b"
             ],
             [
              0.6666666666666666,
              "#ed7953"
             ],
             [
              0.7777777777777778,
              "#fb9f3a"
             ],
             [
              0.8888888888888888,
              "#fdca26"
             ],
             [
              1,
              "#f0f921"
             ]
            ],
            "type": "heatmap"
           }
          ],
          "heatmapgl": [
           {
            "colorbar": {
             "outlinewidth": 0,
             "ticks": ""
            },
            "colorscale": [
             [
              0,
              "#0d0887"
             ],
             [
              0.1111111111111111,
              "#46039f"
             ],
             [
              0.2222222222222222,
              "#7201a8"
             ],
             [
              0.3333333333333333,
              "#9c179e"
             ],
             [
              0.4444444444444444,
              "#bd3786"
             ],
             [
              0.5555555555555556,
              "#d8576b"
             ],
             [
              0.6666666666666666,
              "#ed7953"
             ],
             [
              0.7777777777777778,
              "#fb9f3a"
             ],
             [
              0.8888888888888888,
              "#fdca26"
             ],
             [
              1,
              "#f0f921"
             ]
            ],
            "type": "heatmapgl"
           }
          ],
          "histogram": [
           {
            "marker": {
             "pattern": {
              "fillmode": "overlay",
              "size": 10,
              "solidity": 0.2
             }
            },
            "type": "histogram"
           }
          ],
          "histogram2d": [
           {
            "colorbar": {
             "outlinewidth": 0,
             "ticks": ""
            },
            "colorscale": [
             [
              0,
              "#0d0887"
             ],
             [
              0.1111111111111111,
              "#46039f"
             ],
             [
              0.2222222222222222,
              "#7201a8"
             ],
             [
              0.3333333333333333,
              "#9c179e"
             ],
             [
              0.4444444444444444,
              "#bd3786"
             ],
             [
              0.5555555555555556,
              "#d8576b"
             ],
             [
              0.6666666666666666,
              "#ed7953"
             ],
             [
              0.7777777777777778,
              "#fb9f3a"
             ],
             [
              0.8888888888888888,
              "#fdca26"
             ],
             [
              1,
              "#f0f921"
             ]
            ],
            "type": "histogram2d"
           }
          ],
          "histogram2dcontour": [
           {
            "colorbar": {
             "outlinewidth": 0,
             "ticks": ""
            },
            "colorscale": [
             [
              0,
              "#0d0887"
             ],
             [
              0.1111111111111111,
              "#46039f"
             ],
             [
              0.2222222222222222,
              "#7201a8"
             ],
             [
              0.3333333333333333,
              "#9c179e"
             ],
             [
              0.4444444444444444,
              "#bd3786"
             ],
             [
              0.5555555555555556,
              "#d8576b"
             ],
             [
              0.6666666666666666,
              "#ed7953"
             ],
             [
              0.7777777777777778,
              "#fb9f3a"
             ],
             [
              0.8888888888888888,
              "#fdca26"
             ],
             [
              1,
              "#f0f921"
             ]
            ],
            "type": "histogram2dcontour"
           }
          ],
          "mesh3d": [
           {
            "colorbar": {
             "outlinewidth": 0,
             "ticks": ""
            },
            "type": "mesh3d"
           }
          ],
          "parcoords": [
           {
            "line": {
             "colorbar": {
              "outlinewidth": 0,
              "ticks": ""
             }
            },
            "type": "parcoords"
           }
          ],
          "pie": [
           {
            "automargin": true,
            "type": "pie"
           }
          ],
          "scatter": [
           {
            "fillpattern": {
             "fillmode": "overlay",
             "size": 10,
             "solidity": 0.2
            },
            "type": "scatter"
           }
          ],
          "scatter3d": [
           {
            "line": {
             "colorbar": {
              "outlinewidth": 0,
              "ticks": ""
             }
            },
            "marker": {
             "colorbar": {
              "outlinewidth": 0,
              "ticks": ""
             }
            },
            "type": "scatter3d"
           }
          ],
          "scattercarpet": [
           {
            "marker": {
             "colorbar": {
              "outlinewidth": 0,
              "ticks": ""
             }
            },
            "type": "scattercarpet"
           }
          ],
          "scattergeo": [
           {
            "marker": {
             "colorbar": {
              "outlinewidth": 0,
              "ticks": ""
             }
            },
            "type": "scattergeo"
           }
          ],
          "scattergl": [
           {
            "marker": {
             "colorbar": {
              "outlinewidth": 0,
              "ticks": ""
             }
            },
            "type": "scattergl"
           }
          ],
          "scattermapbox": [
           {
            "marker": {
             "colorbar": {
              "outlinewidth": 0,
              "ticks": ""
             }
            },
            "type": "scattermapbox"
           }
          ],
          "scatterpolar": [
           {
            "marker": {
             "colorbar": {
              "outlinewidth": 0,
              "ticks": ""
             }
            },
            "type": "scatterpolar"
           }
          ],
          "scatterpolargl": [
           {
            "marker": {
             "colorbar": {
              "outlinewidth": 0,
              "ticks": ""
             }
            },
            "type": "scatterpolargl"
           }
          ],
          "scatterternary": [
           {
            "marker": {
             "colorbar": {
              "outlinewidth": 0,
              "ticks": ""
             }
            },
            "type": "scatterternary"
           }
          ],
          "surface": [
           {
            "colorbar": {
             "outlinewidth": 0,
             "ticks": ""
            },
            "colorscale": [
             [
              0,
              "#0d0887"
             ],
             [
              0.1111111111111111,
              "#46039f"
             ],
             [
              0.2222222222222222,
              "#7201a8"
             ],
             [
              0.3333333333333333,
              "#9c179e"
             ],
             [
              0.4444444444444444,
              "#bd3786"
             ],
             [
              0.5555555555555556,
              "#d8576b"
             ],
             [
              0.6666666666666666,
              "#ed7953"
             ],
             [
              0.7777777777777778,
              "#fb9f3a"
             ],
             [
              0.8888888888888888,
              "#fdca26"
             ],
             [
              1,
              "#f0f921"
             ]
            ],
            "type": "surface"
           }
          ],
          "table": [
           {
            "cells": {
             "fill": {
              "color": "#EBF0F8"
             },
             "line": {
              "color": "white"
             }
            },
            "header": {
             "fill": {
              "color": "#C8D4E3"
             },
             "line": {
              "color": "white"
             }
            },
            "type": "table"
           }
          ]
         },
         "layout": {
          "annotationdefaults": {
           "arrowcolor": "#2a3f5f",
           "arrowhead": 0,
           "arrowwidth": 1
          },
          "autotypenumbers": "strict",
          "coloraxis": {
           "colorbar": {
            "outlinewidth": 0,
            "ticks": ""
           }
          },
          "colorscale": {
           "diverging": [
            [
             0,
             "#8e0152"
            ],
            [
             0.1,
             "#c51b7d"
            ],
            [
             0.2,
             "#de77ae"
            ],
            [
             0.3,
             "#f1b6da"
            ],
            [
             0.4,
             "#fde0ef"
            ],
            [
             0.5,
             "#f7f7f7"
            ],
            [
             0.6,
             "#e6f5d0"
            ],
            [
             0.7,
             "#b8e186"
            ],
            [
             0.8,
             "#7fbc41"
            ],
            [
             0.9,
             "#4d9221"
            ],
            [
             1,
             "#276419"
            ]
           ],
           "sequential": [
            [
             0,
             "#0d0887"
            ],
            [
             0.1111111111111111,
             "#46039f"
            ],
            [
             0.2222222222222222,
             "#7201a8"
            ],
            [
             0.3333333333333333,
             "#9c179e"
            ],
            [
             0.4444444444444444,
             "#bd3786"
            ],
            [
             0.5555555555555556,
             "#d8576b"
            ],
            [
             0.6666666666666666,
             "#ed7953"
            ],
            [
             0.7777777777777778,
             "#fb9f3a"
            ],
            [
             0.8888888888888888,
             "#fdca26"
            ],
            [
             1,
             "#f0f921"
            ]
           ],
           "sequentialminus": [
            [
             0,
             "#0d0887"
            ],
            [
             0.1111111111111111,
             "#46039f"
            ],
            [
             0.2222222222222222,
             "#7201a8"
            ],
            [
             0.3333333333333333,
             "#9c179e"
            ],
            [
             0.4444444444444444,
             "#bd3786"
            ],
            [
             0.5555555555555556,
             "#d8576b"
            ],
            [
             0.6666666666666666,
             "#ed7953"
            ],
            [
             0.7777777777777778,
             "#fb9f3a"
            ],
            [
             0.8888888888888888,
             "#fdca26"
            ],
            [
             1,
             "#f0f921"
            ]
           ]
          },
          "colorway": [
           "#636efa",
           "#EF553B",
           "#00cc96",
           "#ab63fa",
           "#FFA15A",
           "#19d3f3",
           "#FF6692",
           "#B6E880",
           "#FF97FF",
           "#FECB52"
          ],
          "font": {
           "color": "#2a3f5f"
          },
          "geo": {
           "bgcolor": "white",
           "lakecolor": "white",
           "landcolor": "#E5ECF6",
           "showlakes": true,
           "showland": true,
           "subunitcolor": "white"
          },
          "hoverlabel": {
           "align": "left"
          },
          "hovermode": "closest",
          "mapbox": {
           "style": "light"
          },
          "paper_bgcolor": "white",
          "plot_bgcolor": "#E5ECF6",
          "polar": {
           "angularaxis": {
            "gridcolor": "white",
            "linecolor": "white",
            "ticks": ""
           },
           "bgcolor": "#E5ECF6",
           "radialaxis": {
            "gridcolor": "white",
            "linecolor": "white",
            "ticks": ""
           }
          },
          "scene": {
           "xaxis": {
            "backgroundcolor": "#E5ECF6",
            "gridcolor": "white",
            "gridwidth": 2,
            "linecolor": "white",
            "showbackground": true,
            "ticks": "",
            "zerolinecolor": "white"
           },
           "yaxis": {
            "backgroundcolor": "#E5ECF6",
            "gridcolor": "white",
            "gridwidth": 2,
            "linecolor": "white",
            "showbackground": true,
            "ticks": "",
            "zerolinecolor": "white"
           },
           "zaxis": {
            "backgroundcolor": "#E5ECF6",
            "gridcolor": "white",
            "gridwidth": 2,
            "linecolor": "white",
            "showbackground": true,
            "ticks": "",
            "zerolinecolor": "white"
           }
          },
          "shapedefaults": {
           "line": {
            "color": "#2a3f5f"
           }
          },
          "ternary": {
           "aaxis": {
            "gridcolor": "white",
            "linecolor": "white",
            "ticks": ""
           },
           "baxis": {
            "gridcolor": "white",
            "linecolor": "white",
            "ticks": ""
           },
           "bgcolor": "#E5ECF6",
           "caxis": {
            "gridcolor": "white",
            "linecolor": "white",
            "ticks": ""
           }
          },
          "title": {
           "x": 0.05
          },
          "xaxis": {
           "automargin": true,
           "gridcolor": "white",
           "linecolor": "white",
           "ticks": "",
           "title": {
            "standoff": 15
           },
           "zerolinecolor": "white",
           "zerolinewidth": 2
          },
          "yaxis": {
           "automargin": true,
           "gridcolor": "white",
           "linecolor": "white",
           "ticks": "",
           "title": {
            "standoff": 15
           },
           "zerolinecolor": "white",
           "zerolinewidth": 2
          }
         }
        },
        "title": {
         "text": "Q-Q Plot for a Normal Distribution"
        },
        "xaxis": {
         "title": {
          "text": "Theoretical Quantiles"
         }
        },
        "yaxis": {
         "title": {
          "text": "Sample Quantiles"
         }
        }
       }
      }
     },
     "metadata": {},
     "output_type": "display_data"
    }
   ],
   "source": [
    "# Generate a plot from a normally ditributed data, our original data is not normal because it does this weird thing in the middle.\n",
    "\n",
    "# Generate a sample from a normal distribution\n",
    "np.random.seed(42)\n",
    "sample = np.random.normal(size=1000)\n",
    "\n",
    "# Calculate quantiles\n",
    "quantiles, theoretical_quantiles = stats.probplot(sample, fit=False)\n",
    "\n",
    "# Create a Q-Q plot using Plotly\n",
    "fig = go.Figure()\n",
    "\n",
    "# Scatter plot of quantiles\n",
    "fig.add_trace(go.Scatter(x=theoretical_quantiles, y=quantiles, mode='markers', name='Q-Q Plot'))\n",
    "\n",
    "# Add a diagonal line for reference\n",
    "fig.add_shape(go.layout.Shape(\n",
    "    type='line',\n",
    "    x0=np.min(theoretical_quantiles),\n",
    "    y0=np.min(theoretical_quantiles),\n",
    "    x1=np.max(theoretical_quantiles),\n",
    "    y1=np.max(theoretical_quantiles),\n",
    "    line=dict(color='red', width=2, dash='dash')\n",
    "))\n",
    "\n",
    "fig.update_layout(title='Q-Q Plot for a Normal Distribution', xaxis_title='Theoretical Quantiles', yaxis_title='Sample Quantiles')\n",
    "fig.show()"
   ]
  },
  {
   "cell_type": "code",
   "execution_count": 48,
   "metadata": {},
   "outputs": [
    {
     "name": "stdout",
     "output_type": "stream",
     "text": [
      "Shapiro-Wilk Test Statistic: 0.9533731937408447\n",
      "P-value: 1.894283688241849e-11\n",
      "The sample does not look normally distributed (reject the null hypothesis)\n"
     ]
    }
   ],
   "source": [
    "import scipy.stats as stats\n",
    "\n",
    "\n",
    "def is_normal(df):\n",
    "    price_data = df.copy()\n",
    "    log_returns = price_data['Log_Return'].dropna()\n",
    "\n",
    "    # Shapiro-Wilk test for normality\n",
    "    statistic, p_value = stats.shapiro(log_returns)\n",
    "\n",
    "    # Print the results\n",
    "    print(f\"Shapiro-Wilk Test Statistic: {statistic}\")\n",
    "    print(f\"P-value: {p_value}\")\n",
    "\n",
    "    # Interpret the results\n",
    "    alpha = 0.05  # significance level\n",
    "    if p_value > alpha:\n",
    "       print(\"The sample looks normally distributed (fail to reject the null hypothesis)\")\n",
    "    else:\n",
    "        print(\"The sample does not look normally distributed (reject the null hypothesis)\")\n",
    "\n",
    "\n",
    "isNormal = is_normal(calculateEWMA)\n",
    "isNormal"
   ]
  },
  {
   "cell_type": "code",
   "execution_count": 49,
   "metadata": {},
   "outputs": [],
   "source": [
    "# Importance of Normality\n",
    "# Many models including many risk and return models assume our data is normal for simplicity, \n",
    "# so probably if our data is not normal this would be a concern.\n",
    "\n",
    "# Also, non-normal data usually mean that the unpredictable events are more likely to happen\n",
    "# rather than the predictable and safe ones.\n",
    "\n",
    "# So, basically I regret not using the UTSD-TMN data bc it was probably normal :)))"
   ]
  },
  {
   "cell_type": "code",
   "execution_count": 50,
   "metadata": {},
   "outputs": [
    {
     "data": {
      "application/vnd.plotly.v1+json": {
       "config": {
        "plotlyServerURL": "https://plot.ly"
       },
       "data": [
        {
         "name": "ACF",
         "type": "bar",
         "x": [
          0,
          1,
          2,
          3,
          4,
          5,
          6,
          7,
          8,
          9,
          10,
          11,
          12,
          13,
          14,
          15,
          16,
          17,
          18,
          19,
          20
         ],
         "y": [
          1,
          0.6639484982466205,
          0.533607793014194,
          0.47239186127894145,
          0.45510014610050437,
          0.40783844197110214,
          0.4195470318285574,
          0.39121708555074564,
          0.41851985495517446,
          0.4193315316386754,
          0.4113422350051507,
          0.3967921510928801,
          0.4016441943144675,
          0.3844685763100023,
          0.36609732018503927,
          0.359221775241544,
          0.35167582233408173,
          0.3225962392844089,
          0.3089763140940697,
          0.22627841501678417,
          0.2105567576963135
         ]
        }
       ],
       "layout": {
        "template": {
         "data": {
          "bar": [
           {
            "error_x": {
             "color": "#2a3f5f"
            },
            "error_y": {
             "color": "#2a3f5f"
            },
            "marker": {
             "line": {
              "color": "#E5ECF6",
              "width": 0.5
             },
             "pattern": {
              "fillmode": "overlay",
              "size": 10,
              "solidity": 0.2
             }
            },
            "type": "bar"
           }
          ],
          "barpolar": [
           {
            "marker": {
             "line": {
              "color": "#E5ECF6",
              "width": 0.5
             },
             "pattern": {
              "fillmode": "overlay",
              "size": 10,
              "solidity": 0.2
             }
            },
            "type": "barpolar"
           }
          ],
          "carpet": [
           {
            "aaxis": {
             "endlinecolor": "#2a3f5f",
             "gridcolor": "white",
             "linecolor": "white",
             "minorgridcolor": "white",
             "startlinecolor": "#2a3f5f"
            },
            "baxis": {
             "endlinecolor": "#2a3f5f",
             "gridcolor": "white",
             "linecolor": "white",
             "minorgridcolor": "white",
             "startlinecolor": "#2a3f5f"
            },
            "type": "carpet"
           }
          ],
          "choropleth": [
           {
            "colorbar": {
             "outlinewidth": 0,
             "ticks": ""
            },
            "type": "choropleth"
           }
          ],
          "contour": [
           {
            "colorbar": {
             "outlinewidth": 0,
             "ticks": ""
            },
            "colorscale": [
             [
              0,
              "#0d0887"
             ],
             [
              0.1111111111111111,
              "#46039f"
             ],
             [
              0.2222222222222222,
              "#7201a8"
             ],
             [
              0.3333333333333333,
              "#9c179e"
             ],
             [
              0.4444444444444444,
              "#bd3786"
             ],
             [
              0.5555555555555556,
              "#d8576b"
             ],
             [
              0.6666666666666666,
              "#ed7953"
             ],
             [
              0.7777777777777778,
              "#fb9f3a"
             ],
             [
              0.8888888888888888,
              "#fdca26"
             ],
             [
              1,
              "#f0f921"
             ]
            ],
            "type": "contour"
           }
          ],
          "contourcarpet": [
           {
            "colorbar": {
             "outlinewidth": 0,
             "ticks": ""
            },
            "type": "contourcarpet"
           }
          ],
          "heatmap": [
           {
            "colorbar": {
             "outlinewidth": 0,
             "ticks": ""
            },
            "colorscale": [
             [
              0,
              "#0d0887"
             ],
             [
              0.1111111111111111,
              "#46039f"
             ],
             [
              0.2222222222222222,
              "#7201a8"
             ],
             [
              0.3333333333333333,
              "#9c179e"
             ],
             [
              0.4444444444444444,
              "#bd3786"
             ],
             [
              0.5555555555555556,
              "#d8576b"
             ],
             [
              0.6666666666666666,
              "#ed7953"
             ],
             [
              0.7777777777777778,
              "#fb9f3a"
             ],
             [
              0.8888888888888888,
              "#fdca26"
             ],
             [
              1,
              "#f0f921"
             ]
            ],
            "type": "heatmap"
           }
          ],
          "heatmapgl": [
           {
            "colorbar": {
             "outlinewidth": 0,
             "ticks": ""
            },
            "colorscale": [
             [
              0,
              "#0d0887"
             ],
             [
              0.1111111111111111,
              "#46039f"
             ],
             [
              0.2222222222222222,
              "#7201a8"
             ],
             [
              0.3333333333333333,
              "#9c179e"
             ],
             [
              0.4444444444444444,
              "#bd3786"
             ],
             [
              0.5555555555555556,
              "#d8576b"
             ],
             [
              0.6666666666666666,
              "#ed7953"
             ],
             [
              0.7777777777777778,
              "#fb9f3a"
             ],
             [
              0.8888888888888888,
              "#fdca26"
             ],
             [
              1,
              "#f0f921"
             ]
            ],
            "type": "heatmapgl"
           }
          ],
          "histogram": [
           {
            "marker": {
             "pattern": {
              "fillmode": "overlay",
              "size": 10,
              "solidity": 0.2
             }
            },
            "type": "histogram"
           }
          ],
          "histogram2d": [
           {
            "colorbar": {
             "outlinewidth": 0,
             "ticks": ""
            },
            "colorscale": [
             [
              0,
              "#0d0887"
             ],
             [
              0.1111111111111111,
              "#46039f"
             ],
             [
              0.2222222222222222,
              "#7201a8"
             ],
             [
              0.3333333333333333,
              "#9c179e"
             ],
             [
              0.4444444444444444,
              "#bd3786"
             ],
             [
              0.5555555555555556,
              "#d8576b"
             ],
             [
              0.6666666666666666,
              "#ed7953"
             ],
             [
              0.7777777777777778,
              "#fb9f3a"
             ],
             [
              0.8888888888888888,
              "#fdca26"
             ],
             [
              1,
              "#f0f921"
             ]
            ],
            "type": "histogram2d"
           }
          ],
          "histogram2dcontour": [
           {
            "colorbar": {
             "outlinewidth": 0,
             "ticks": ""
            },
            "colorscale": [
             [
              0,
              "#0d0887"
             ],
             [
              0.1111111111111111,
              "#46039f"
             ],
             [
              0.2222222222222222,
              "#7201a8"
             ],
             [
              0.3333333333333333,
              "#9c179e"
             ],
             [
              0.4444444444444444,
              "#bd3786"
             ],
             [
              0.5555555555555556,
              "#d8576b"
             ],
             [
              0.6666666666666666,
              "#ed7953"
             ],
             [
              0.7777777777777778,
              "#fb9f3a"
             ],
             [
              0.8888888888888888,
              "#fdca26"
             ],
             [
              1,
              "#f0f921"
             ]
            ],
            "type": "histogram2dcontour"
           }
          ],
          "mesh3d": [
           {
            "colorbar": {
             "outlinewidth": 0,
             "ticks": ""
            },
            "type": "mesh3d"
           }
          ],
          "parcoords": [
           {
            "line": {
             "colorbar": {
              "outlinewidth": 0,
              "ticks": ""
             }
            },
            "type": "parcoords"
           }
          ],
          "pie": [
           {
            "automargin": true,
            "type": "pie"
           }
          ],
          "scatter": [
           {
            "fillpattern": {
             "fillmode": "overlay",
             "size": 10,
             "solidity": 0.2
            },
            "type": "scatter"
           }
          ],
          "scatter3d": [
           {
            "line": {
             "colorbar": {
              "outlinewidth": 0,
              "ticks": ""
             }
            },
            "marker": {
             "colorbar": {
              "outlinewidth": 0,
              "ticks": ""
             }
            },
            "type": "scatter3d"
           }
          ],
          "scattercarpet": [
           {
            "marker": {
             "colorbar": {
              "outlinewidth": 0,
              "ticks": ""
             }
            },
            "type": "scattercarpet"
           }
          ],
          "scattergeo": [
           {
            "marker": {
             "colorbar": {
              "outlinewidth": 0,
              "ticks": ""
             }
            },
            "type": "scattergeo"
           }
          ],
          "scattergl": [
           {
            "marker": {
             "colorbar": {
              "outlinewidth": 0,
              "ticks": ""
             }
            },
            "type": "scattergl"
           }
          ],
          "scattermapbox": [
           {
            "marker": {
             "colorbar": {
              "outlinewidth": 0,
              "ticks": ""
             }
            },
            "type": "scattermapbox"
           }
          ],
          "scatterpolar": [
           {
            "marker": {
             "colorbar": {
              "outlinewidth": 0,
              "ticks": ""
             }
            },
            "type": "scatterpolar"
           }
          ],
          "scatterpolargl": [
           {
            "marker": {
             "colorbar": {
              "outlinewidth": 0,
              "ticks": ""
             }
            },
            "type": "scatterpolargl"
           }
          ],
          "scatterternary": [
           {
            "marker": {
             "colorbar": {
              "outlinewidth": 0,
              "ticks": ""
             }
            },
            "type": "scatterternary"
           }
          ],
          "surface": [
           {
            "colorbar": {
             "outlinewidth": 0,
             "ticks": ""
            },
            "colorscale": [
             [
              0,
              "#0d0887"
             ],
             [
              0.1111111111111111,
              "#46039f"
             ],
             [
              0.2222222222222222,
              "#7201a8"
             ],
             [
              0.3333333333333333,
              "#9c179e"
             ],
             [
              0.4444444444444444,
              "#bd3786"
             ],
             [
              0.5555555555555556,
              "#d8576b"
             ],
             [
              0.6666666666666666,
              "#ed7953"
             ],
             [
              0.7777777777777778,
              "#fb9f3a"
             ],
             [
              0.8888888888888888,
              "#fdca26"
             ],
             [
              1,
              "#f0f921"
             ]
            ],
            "type": "surface"
           }
          ],
          "table": [
           {
            "cells": {
             "fill": {
              "color": "#EBF0F8"
             },
             "line": {
              "color": "white"
             }
            },
            "header": {
             "fill": {
              "color": "#C8D4E3"
             },
             "line": {
              "color": "white"
             }
            },
            "type": "table"
           }
          ]
         },
         "layout": {
          "annotationdefaults": {
           "arrowcolor": "#2a3f5f",
           "arrowhead": 0,
           "arrowwidth": 1
          },
          "autotypenumbers": "strict",
          "coloraxis": {
           "colorbar": {
            "outlinewidth": 0,
            "ticks": ""
           }
          },
          "colorscale": {
           "diverging": [
            [
             0,
             "#8e0152"
            ],
            [
             0.1,
             "#c51b7d"
            ],
            [
             0.2,
             "#de77ae"
            ],
            [
             0.3,
             "#f1b6da"
            ],
            [
             0.4,
             "#fde0ef"
            ],
            [
             0.5,
             "#f7f7f7"
            ],
            [
             0.6,
             "#e6f5d0"
            ],
            [
             0.7,
             "#b8e186"
            ],
            [
             0.8,
             "#7fbc41"
            ],
            [
             0.9,
             "#4d9221"
            ],
            [
             1,
             "#276419"
            ]
           ],
           "sequential": [
            [
             0,
             "#0d0887"
            ],
            [
             0.1111111111111111,
             "#46039f"
            ],
            [
             0.2222222222222222,
             "#7201a8"
            ],
            [
             0.3333333333333333,
             "#9c179e"
            ],
            [
             0.4444444444444444,
             "#bd3786"
            ],
            [
             0.5555555555555556,
             "#d8576b"
            ],
            [
             0.6666666666666666,
             "#ed7953"
            ],
            [
             0.7777777777777778,
             "#fb9f3a"
            ],
            [
             0.8888888888888888,
             "#fdca26"
            ],
            [
             1,
             "#f0f921"
            ]
           ],
           "sequentialminus": [
            [
             0,
             "#0d0887"
            ],
            [
             0.1111111111111111,
             "#46039f"
            ],
            [
             0.2222222222222222,
             "#7201a8"
            ],
            [
             0.3333333333333333,
             "#9c179e"
            ],
            [
             0.4444444444444444,
             "#bd3786"
            ],
            [
             0.5555555555555556,
             "#d8576b"
            ],
            [
             0.6666666666666666,
             "#ed7953"
            ],
            [
             0.7777777777777778,
             "#fb9f3a"
            ],
            [
             0.8888888888888888,
             "#fdca26"
            ],
            [
             1,
             "#f0f921"
            ]
           ]
          },
          "colorway": [
           "#636efa",
           "#EF553B",
           "#00cc96",
           "#ab63fa",
           "#FFA15A",
           "#19d3f3",
           "#FF6692",
           "#B6E880",
           "#FF97FF",
           "#FECB52"
          ],
          "font": {
           "color": "#2a3f5f"
          },
          "geo": {
           "bgcolor": "white",
           "lakecolor": "white",
           "landcolor": "#E5ECF6",
           "showlakes": true,
           "showland": true,
           "subunitcolor": "white"
          },
          "hoverlabel": {
           "align": "left"
          },
          "hovermode": "closest",
          "mapbox": {
           "style": "light"
          },
          "paper_bgcolor": "white",
          "plot_bgcolor": "#E5ECF6",
          "polar": {
           "angularaxis": {
            "gridcolor": "white",
            "linecolor": "white",
            "ticks": ""
           },
           "bgcolor": "#E5ECF6",
           "radialaxis": {
            "gridcolor": "white",
            "linecolor": "white",
            "ticks": ""
           }
          },
          "scene": {
           "xaxis": {
            "backgroundcolor": "#E5ECF6",
            "gridcolor": "white",
            "gridwidth": 2,
            "linecolor": "white",
            "showbackground": true,
            "ticks": "",
            "zerolinecolor": "white"
           },
           "yaxis": {
            "backgroundcolor": "#E5ECF6",
            "gridcolor": "white",
            "gridwidth": 2,
            "linecolor": "white",
            "showbackground": true,
            "ticks": "",
            "zerolinecolor": "white"
           },
           "zaxis": {
            "backgroundcolor": "#E5ECF6",
            "gridcolor": "white",
            "gridwidth": 2,
            "linecolor": "white",
            "showbackground": true,
            "ticks": "",
            "zerolinecolor": "white"
           }
          },
          "shapedefaults": {
           "line": {
            "color": "#2a3f5f"
           }
          },
          "ternary": {
           "aaxis": {
            "gridcolor": "white",
            "linecolor": "white",
            "ticks": ""
           },
           "baxis": {
            "gridcolor": "white",
            "linecolor": "white",
            "ticks": ""
           },
           "bgcolor": "#E5ECF6",
           "caxis": {
            "gridcolor": "white",
            "linecolor": "white",
            "ticks": ""
           }
          },
          "title": {
           "x": 0.05
          },
          "xaxis": {
           "automargin": true,
           "gridcolor": "white",
           "linecolor": "white",
           "ticks": "",
           "title": {
            "standoff": 15
           },
           "zerolinecolor": "white",
           "zerolinewidth": 2
          },
          "yaxis": {
           "automargin": true,
           "gridcolor": "white",
           "linecolor": "white",
           "ticks": "",
           "title": {
            "standoff": 15
           },
           "zerolinecolor": "white",
           "zerolinewidth": 2
          }
         }
        },
        "title": {
         "text": "ACF Plot for closed_price"
        },
        "xaxis": {
         "title": {
          "text": "Lag"
         }
        },
        "yaxis": {
         "title": {
          "text": "ACF"
         }
        }
       }
      }
     },
     "metadata": {},
     "output_type": "display_data"
    },
    {
     "data": {
      "application/vnd.plotly.v1+json": {
       "config": {
        "plotlyServerURL": "https://plot.ly"
       },
       "data": [
        {
         "name": "PACF",
         "type": "bar",
         "x": [
          0,
          1,
          2,
          3,
          4,
          5,
          6,
          7,
          8,
          9,
          10,
          11,
          12,
          13,
          14,
          15,
          16,
          17,
          18,
          19,
          20
         ],
         "y": [
          1,
          0.6652790563593393,
          0.16712224994533625,
          0.12402830698599751,
          0.13132139300721982,
          0.03400011151727044,
          0.1284397262437998,
          0.028630904277893422,
          0.1314323756765418,
          0.07370789814339304,
          0.047838895039050415,
          0.046110839699380055,
          0.057232595345981976,
          0.02660860988185402,
          0.007643784138611002,
          0.03261337436636152,
          0.01585947728425706,
          -0.026462087815427294,
          -0.004056219573576862,
          -0.15380774234927475,
          -0.02580712503391048
         ]
        }
       ],
       "layout": {
        "template": {
         "data": {
          "bar": [
           {
            "error_x": {
             "color": "#2a3f5f"
            },
            "error_y": {
             "color": "#2a3f5f"
            },
            "marker": {
             "line": {
              "color": "#E5ECF6",
              "width": 0.5
             },
             "pattern": {
              "fillmode": "overlay",
              "size": 10,
              "solidity": 0.2
             }
            },
            "type": "bar"
           }
          ],
          "barpolar": [
           {
            "marker": {
             "line": {
              "color": "#E5ECF6",
              "width": 0.5
             },
             "pattern": {
              "fillmode": "overlay",
              "size": 10,
              "solidity": 0.2
             }
            },
            "type": "barpolar"
           }
          ],
          "carpet": [
           {
            "aaxis": {
             "endlinecolor": "#2a3f5f",
             "gridcolor": "white",
             "linecolor": "white",
             "minorgridcolor": "white",
             "startlinecolor": "#2a3f5f"
            },
            "baxis": {
             "endlinecolor": "#2a3f5f",
             "gridcolor": "white",
             "linecolor": "white",
             "minorgridcolor": "white",
             "startlinecolor": "#2a3f5f"
            },
            "type": "carpet"
           }
          ],
          "choropleth": [
           {
            "colorbar": {
             "outlinewidth": 0,
             "ticks": ""
            },
            "type": "choropleth"
           }
          ],
          "contour": [
           {
            "colorbar": {
             "outlinewidth": 0,
             "ticks": ""
            },
            "colorscale": [
             [
              0,
              "#0d0887"
             ],
             [
              0.1111111111111111,
              "#46039f"
             ],
             [
              0.2222222222222222,
              "#7201a8"
             ],
             [
              0.3333333333333333,
              "#9c179e"
             ],
             [
              0.4444444444444444,
              "#bd3786"
             ],
             [
              0.5555555555555556,
              "#d8576b"
             ],
             [
              0.6666666666666666,
              "#ed7953"
             ],
             [
              0.7777777777777778,
              "#fb9f3a"
             ],
             [
              0.8888888888888888,
              "#fdca26"
             ],
             [
              1,
              "#f0f921"
             ]
            ],
            "type": "contour"
           }
          ],
          "contourcarpet": [
           {
            "colorbar": {
             "outlinewidth": 0,
             "ticks": ""
            },
            "type": "contourcarpet"
           }
          ],
          "heatmap": [
           {
            "colorbar": {
             "outlinewidth": 0,
             "ticks": ""
            },
            "colorscale": [
             [
              0,
              "#0d0887"
             ],
             [
              0.1111111111111111,
              "#46039f"
             ],
             [
              0.2222222222222222,
              "#7201a8"
             ],
             [
              0.3333333333333333,
              "#9c179e"
             ],
             [
              0.4444444444444444,
              "#bd3786"
             ],
             [
              0.5555555555555556,
              "#d8576b"
             ],
             [
              0.6666666666666666,
              "#ed7953"
             ],
             [
              0.7777777777777778,
              "#fb9f3a"
             ],
             [
              0.8888888888888888,
              "#fdca26"
             ],
             [
              1,
              "#f0f921"
             ]
            ],
            "type": "heatmap"
           }
          ],
          "heatmapgl": [
           {
            "colorbar": {
             "outlinewidth": 0,
             "ticks": ""
            },
            "colorscale": [
             [
              0,
              "#0d0887"
             ],
             [
              0.1111111111111111,
              "#46039f"
             ],
             [
              0.2222222222222222,
              "#7201a8"
             ],
             [
              0.3333333333333333,
              "#9c179e"
             ],
             [
              0.4444444444444444,
              "#bd3786"
             ],
             [
              0.5555555555555556,
              "#d8576b"
             ],
             [
              0.6666666666666666,
              "#ed7953"
             ],
             [
              0.7777777777777778,
              "#fb9f3a"
             ],
             [
              0.8888888888888888,
              "#fdca26"
             ],
             [
              1,
              "#f0f921"
             ]
            ],
            "type": "heatmapgl"
           }
          ],
          "histogram": [
           {
            "marker": {
             "pattern": {
              "fillmode": "overlay",
              "size": 10,
              "solidity": 0.2
             }
            },
            "type": "histogram"
           }
          ],
          "histogram2d": [
           {
            "colorbar": {
             "outlinewidth": 0,
             "ticks": ""
            },
            "colorscale": [
             [
              0,
              "#0d0887"
             ],
             [
              0.1111111111111111,
              "#46039f"
             ],
             [
              0.2222222222222222,
              "#7201a8"
             ],
             [
              0.3333333333333333,
              "#9c179e"
             ],
             [
              0.4444444444444444,
              "#bd3786"
             ],
             [
              0.5555555555555556,
              "#d8576b"
             ],
             [
              0.6666666666666666,
              "#ed7953"
             ],
             [
              0.7777777777777778,
              "#fb9f3a"
             ],
             [
              0.8888888888888888,
              "#fdca26"
             ],
             [
              1,
              "#f0f921"
             ]
            ],
            "type": "histogram2d"
           }
          ],
          "histogram2dcontour": [
           {
            "colorbar": {
             "outlinewidth": 0,
             "ticks": ""
            },
            "colorscale": [
             [
              0,
              "#0d0887"
             ],
             [
              0.1111111111111111,
              "#46039f"
             ],
             [
              0.2222222222222222,
              "#7201a8"
             ],
             [
              0.3333333333333333,
              "#9c179e"
             ],
             [
              0.4444444444444444,
              "#bd3786"
             ],
             [
              0.5555555555555556,
              "#d8576b"
             ],
             [
              0.6666666666666666,
              "#ed7953"
             ],
             [
              0.7777777777777778,
              "#fb9f3a"
             ],
             [
              0.8888888888888888,
              "#fdca26"
             ],
             [
              1,
              "#f0f921"
             ]
            ],
            "type": "histogram2dcontour"
           }
          ],
          "mesh3d": [
           {
            "colorbar": {
             "outlinewidth": 0,
             "ticks": ""
            },
            "type": "mesh3d"
           }
          ],
          "parcoords": [
           {
            "line": {
             "colorbar": {
              "outlinewidth": 0,
              "ticks": ""
             }
            },
            "type": "parcoords"
           }
          ],
          "pie": [
           {
            "automargin": true,
            "type": "pie"
           }
          ],
          "scatter": [
           {
            "fillpattern": {
             "fillmode": "overlay",
             "size": 10,
             "solidity": 0.2
            },
            "type": "scatter"
           }
          ],
          "scatter3d": [
           {
            "line": {
             "colorbar": {
              "outlinewidth": 0,
              "ticks": ""
             }
            },
            "marker": {
             "colorbar": {
              "outlinewidth": 0,
              "ticks": ""
             }
            },
            "type": "scatter3d"
           }
          ],
          "scattercarpet": [
           {
            "marker": {
             "colorbar": {
              "outlinewidth": 0,
              "ticks": ""
             }
            },
            "type": "scattercarpet"
           }
          ],
          "scattergeo": [
           {
            "marker": {
             "colorbar": {
              "outlinewidth": 0,
              "ticks": ""
             }
            },
            "type": "scattergeo"
           }
          ],
          "scattergl": [
           {
            "marker": {
             "colorbar": {
              "outlinewidth": 0,
              "ticks": ""
             }
            },
            "type": "scattergl"
           }
          ],
          "scattermapbox": [
           {
            "marker": {
             "colorbar": {
              "outlinewidth": 0,
              "ticks": ""
             }
            },
            "type": "scattermapbox"
           }
          ],
          "scatterpolar": [
           {
            "marker": {
             "colorbar": {
              "outlinewidth": 0,
              "ticks": ""
             }
            },
            "type": "scatterpolar"
           }
          ],
          "scatterpolargl": [
           {
            "marker": {
             "colorbar": {
              "outlinewidth": 0,
              "ticks": ""
             }
            },
            "type": "scatterpolargl"
           }
          ],
          "scatterternary": [
           {
            "marker": {
             "colorbar": {
              "outlinewidth": 0,
              "ticks": ""
             }
            },
            "type": "scatterternary"
           }
          ],
          "surface": [
           {
            "colorbar": {
             "outlinewidth": 0,
             "ticks": ""
            },
            "colorscale": [
             [
              0,
              "#0d0887"
             ],
             [
              0.1111111111111111,
              "#46039f"
             ],
             [
              0.2222222222222222,
              "#7201a8"
             ],
             [
              0.3333333333333333,
              "#9c179e"
             ],
             [
              0.4444444444444444,
              "#bd3786"
             ],
             [
              0.5555555555555556,
              "#d8576b"
             ],
             [
              0.6666666666666666,
              "#ed7953"
             ],
             [
              0.7777777777777778,
              "#fb9f3a"
             ],
             [
              0.8888888888888888,
              "#fdca26"
             ],
             [
              1,
              "#f0f921"
             ]
            ],
            "type": "surface"
           }
          ],
          "table": [
           {
            "cells": {
             "fill": {
              "color": "#EBF0F8"
             },
             "line": {
              "color": "white"
             }
            },
            "header": {
             "fill": {
              "color": "#C8D4E3"
             },
             "line": {
              "color": "white"
             }
            },
            "type": "table"
           }
          ]
         },
         "layout": {
          "annotationdefaults": {
           "arrowcolor": "#2a3f5f",
           "arrowhead": 0,
           "arrowwidth": 1
          },
          "autotypenumbers": "strict",
          "coloraxis": {
           "colorbar": {
            "outlinewidth": 0,
            "ticks": ""
           }
          },
          "colorscale": {
           "diverging": [
            [
             0,
             "#8e0152"
            ],
            [
             0.1,
             "#c51b7d"
            ],
            [
             0.2,
             "#de77ae"
            ],
            [
             0.3,
             "#f1b6da"
            ],
            [
             0.4,
             "#fde0ef"
            ],
            [
             0.5,
             "#f7f7f7"
            ],
            [
             0.6,
             "#e6f5d0"
            ],
            [
             0.7,
             "#b8e186"
            ],
            [
             0.8,
             "#7fbc41"
            ],
            [
             0.9,
             "#4d9221"
            ],
            [
             1,
             "#276419"
            ]
           ],
           "sequential": [
            [
             0,
             "#0d0887"
            ],
            [
             0.1111111111111111,
             "#46039f"
            ],
            [
             0.2222222222222222,
             "#7201a8"
            ],
            [
             0.3333333333333333,
             "#9c179e"
            ],
            [
             0.4444444444444444,
             "#bd3786"
            ],
            [
             0.5555555555555556,
             "#d8576b"
            ],
            [
             0.6666666666666666,
             "#ed7953"
            ],
            [
             0.7777777777777778,
             "#fb9f3a"
            ],
            [
             0.8888888888888888,
             "#fdca26"
            ],
            [
             1,
             "#f0f921"
            ]
           ],
           "sequentialminus": [
            [
             0,
             "#0d0887"
            ],
            [
             0.1111111111111111,
             "#46039f"
            ],
            [
             0.2222222222222222,
             "#7201a8"
            ],
            [
             0.3333333333333333,
             "#9c179e"
            ],
            [
             0.4444444444444444,
             "#bd3786"
            ],
            [
             0.5555555555555556,
             "#d8576b"
            ],
            [
             0.6666666666666666,
             "#ed7953"
            ],
            [
             0.7777777777777778,
             "#fb9f3a"
            ],
            [
             0.8888888888888888,
             "#fdca26"
            ],
            [
             1,
             "#f0f921"
            ]
           ]
          },
          "colorway": [
           "#636efa",
           "#EF553B",
           "#00cc96",
           "#ab63fa",
           "#FFA15A",
           "#19d3f3",
           "#FF6692",
           "#B6E880",
           "#FF97FF",
           "#FECB52"
          ],
          "font": {
           "color": "#2a3f5f"
          },
          "geo": {
           "bgcolor": "white",
           "lakecolor": "white",
           "landcolor": "#E5ECF6",
           "showlakes": true,
           "showland": true,
           "subunitcolor": "white"
          },
          "hoverlabel": {
           "align": "left"
          },
          "hovermode": "closest",
          "mapbox": {
           "style": "light"
          },
          "paper_bgcolor": "white",
          "plot_bgcolor": "#E5ECF6",
          "polar": {
           "angularaxis": {
            "gridcolor": "white",
            "linecolor": "white",
            "ticks": ""
           },
           "bgcolor": "#E5ECF6",
           "radialaxis": {
            "gridcolor": "white",
            "linecolor": "white",
            "ticks": ""
           }
          },
          "scene": {
           "xaxis": {
            "backgroundcolor": "#E5ECF6",
            "gridcolor": "white",
            "gridwidth": 2,
            "linecolor": "white",
            "showbackground": true,
            "ticks": "",
            "zerolinecolor": "white"
           },
           "yaxis": {
            "backgroundcolor": "#E5ECF6",
            "gridcolor": "white",
            "gridwidth": 2,
            "linecolor": "white",
            "showbackground": true,
            "ticks": "",
            "zerolinecolor": "white"
           },
           "zaxis": {
            "backgroundcolor": "#E5ECF6",
            "gridcolor": "white",
            "gridwidth": 2,
            "linecolor": "white",
            "showbackground": true,
            "ticks": "",
            "zerolinecolor": "white"
           }
          },
          "shapedefaults": {
           "line": {
            "color": "#2a3f5f"
           }
          },
          "ternary": {
           "aaxis": {
            "gridcolor": "white",
            "linecolor": "white",
            "ticks": ""
           },
           "baxis": {
            "gridcolor": "white",
            "linecolor": "white",
            "ticks": ""
           },
           "bgcolor": "#E5ECF6",
           "caxis": {
            "gridcolor": "white",
            "linecolor": "white",
            "ticks": ""
           }
          },
          "title": {
           "x": 0.05
          },
          "xaxis": {
           "automargin": true,
           "gridcolor": "white",
           "linecolor": "white",
           "ticks": "",
           "title": {
            "standoff": 15
           },
           "zerolinecolor": "white",
           "zerolinewidth": 2
          },
          "yaxis": {
           "automargin": true,
           "gridcolor": "white",
           "linecolor": "white",
           "ticks": "",
           "title": {
            "standoff": 15
           },
           "zerolinecolor": "white",
           "zerolinewidth": 2
          }
         }
        },
        "title": {
         "text": "PACF Plot for closed_price"
        },
        "xaxis": {
         "title": {
          "text": "Lag"
         }
        },
        "yaxis": {
         "title": {
          "text": "PACF"
         }
        }
       }
      }
     },
     "metadata": {},
     "output_type": "display_data"
    },
    {
     "data": {
      "application/vnd.plotly.v1+json": {
       "config": {
        "plotlyServerURL": "https://plot.ly"
       },
       "data": [
        {
         "name": "ACF",
         "type": "bar",
         "x": [
          0,
          1,
          2,
          3,
          4,
          5,
          6,
          7,
          8,
          9,
          10,
          11,
          12,
          13,
          14,
          15,
          16,
          17,
          18,
          19,
          20
         ],
         "y": [
          null,
          null,
          null,
          null,
          null,
          null,
          null,
          null,
          null,
          null,
          null,
          null,
          null,
          null,
          null,
          null,
          null,
          null,
          null,
          null,
          null
         ]
        }
       ],
       "layout": {
        "template": {
         "data": {
          "bar": [
           {
            "error_x": {
             "color": "#2a3f5f"
            },
            "error_y": {
             "color": "#2a3f5f"
            },
            "marker": {
             "line": {
              "color": "#E5ECF6",
              "width": 0.5
             },
             "pattern": {
              "fillmode": "overlay",
              "size": 10,
              "solidity": 0.2
             }
            },
            "type": "bar"
           }
          ],
          "barpolar": [
           {
            "marker": {
             "line": {
              "color": "#E5ECF6",
              "width": 0.5
             },
             "pattern": {
              "fillmode": "overlay",
              "size": 10,
              "solidity": 0.2
             }
            },
            "type": "barpolar"
           }
          ],
          "carpet": [
           {
            "aaxis": {
             "endlinecolor": "#2a3f5f",
             "gridcolor": "white",
             "linecolor": "white",
             "minorgridcolor": "white",
             "startlinecolor": "#2a3f5f"
            },
            "baxis": {
             "endlinecolor": "#2a3f5f",
             "gridcolor": "white",
             "linecolor": "white",
             "minorgridcolor": "white",
             "startlinecolor": "#2a3f5f"
            },
            "type": "carpet"
           }
          ],
          "choropleth": [
           {
            "colorbar": {
             "outlinewidth": 0,
             "ticks": ""
            },
            "type": "choropleth"
           }
          ],
          "contour": [
           {
            "colorbar": {
             "outlinewidth": 0,
             "ticks": ""
            },
            "colorscale": [
             [
              0,
              "#0d0887"
             ],
             [
              0.1111111111111111,
              "#46039f"
             ],
             [
              0.2222222222222222,
              "#7201a8"
             ],
             [
              0.3333333333333333,
              "#9c179e"
             ],
             [
              0.4444444444444444,
              "#bd3786"
             ],
             [
              0.5555555555555556,
              "#d8576b"
             ],
             [
              0.6666666666666666,
              "#ed7953"
             ],
             [
              0.7777777777777778,
              "#fb9f3a"
             ],
             [
              0.8888888888888888,
              "#fdca26"
             ],
             [
              1,
              "#f0f921"
             ]
            ],
            "type": "contour"
           }
          ],
          "contourcarpet": [
           {
            "colorbar": {
             "outlinewidth": 0,
             "ticks": ""
            },
            "type": "contourcarpet"
           }
          ],
          "heatmap": [
           {
            "colorbar": {
             "outlinewidth": 0,
             "ticks": ""
            },
            "colorscale": [
             [
              0,
              "#0d0887"
             ],
             [
              0.1111111111111111,
              "#46039f"
             ],
             [
              0.2222222222222222,
              "#7201a8"
             ],
             [
              0.3333333333333333,
              "#9c179e"
             ],
             [
              0.4444444444444444,
              "#bd3786"
             ],
             [
              0.5555555555555556,
              "#d8576b"
             ],
             [
              0.6666666666666666,
              "#ed7953"
             ],
             [
              0.7777777777777778,
              "#fb9f3a"
             ],
             [
              0.8888888888888888,
              "#fdca26"
             ],
             [
              1,
              "#f0f921"
             ]
            ],
            "type": "heatmap"
           }
          ],
          "heatmapgl": [
           {
            "colorbar": {
             "outlinewidth": 0,
             "ticks": ""
            },
            "colorscale": [
             [
              0,
              "#0d0887"
             ],
             [
              0.1111111111111111,
              "#46039f"
             ],
             [
              0.2222222222222222,
              "#7201a8"
             ],
             [
              0.3333333333333333,
              "#9c179e"
             ],
             [
              0.4444444444444444,
              "#bd3786"
             ],
             [
              0.5555555555555556,
              "#d8576b"
             ],
             [
              0.6666666666666666,
              "#ed7953"
             ],
             [
              0.7777777777777778,
              "#fb9f3a"
             ],
             [
              0.8888888888888888,
              "#fdca26"
             ],
             [
              1,
              "#f0f921"
             ]
            ],
            "type": "heatmapgl"
           }
          ],
          "histogram": [
           {
            "marker": {
             "pattern": {
              "fillmode": "overlay",
              "size": 10,
              "solidity": 0.2
             }
            },
            "type": "histogram"
           }
          ],
          "histogram2d": [
           {
            "colorbar": {
             "outlinewidth": 0,
             "ticks": ""
            },
            "colorscale": [
             [
              0,
              "#0d0887"
             ],
             [
              0.1111111111111111,
              "#46039f"
             ],
             [
              0.2222222222222222,
              "#7201a8"
             ],
             [
              0.3333333333333333,
              "#9c179e"
             ],
             [
              0.4444444444444444,
              "#bd3786"
             ],
             [
              0.5555555555555556,
              "#d8576b"
             ],
             [
              0.6666666666666666,
              "#ed7953"
             ],
             [
              0.7777777777777778,
              "#fb9f3a"
             ],
             [
              0.8888888888888888,
              "#fdca26"
             ],
             [
              1,
              "#f0f921"
             ]
            ],
            "type": "histogram2d"
           }
          ],
          "histogram2dcontour": [
           {
            "colorbar": {
             "outlinewidth": 0,
             "ticks": ""
            },
            "colorscale": [
             [
              0,
              "#0d0887"
             ],
             [
              0.1111111111111111,
              "#46039f"
             ],
             [
              0.2222222222222222,
              "#7201a8"
             ],
             [
              0.3333333333333333,
              "#9c179e"
             ],
             [
              0.4444444444444444,
              "#bd3786"
             ],
             [
              0.5555555555555556,
              "#d8576b"
             ],
             [
              0.6666666666666666,
              "#ed7953"
             ],
             [
              0.7777777777777778,
              "#fb9f3a"
             ],
             [
              0.8888888888888888,
              "#fdca26"
             ],
             [
              1,
              "#f0f921"
             ]
            ],
            "type": "histogram2dcontour"
           }
          ],
          "mesh3d": [
           {
            "colorbar": {
             "outlinewidth": 0,
             "ticks": ""
            },
            "type": "mesh3d"
           }
          ],
          "parcoords": [
           {
            "line": {
             "colorbar": {
              "outlinewidth": 0,
              "ticks": ""
             }
            },
            "type": "parcoords"
           }
          ],
          "pie": [
           {
            "automargin": true,
            "type": "pie"
           }
          ],
          "scatter": [
           {
            "fillpattern": {
             "fillmode": "overlay",
             "size": 10,
             "solidity": 0.2
            },
            "type": "scatter"
           }
          ],
          "scatter3d": [
           {
            "line": {
             "colorbar": {
              "outlinewidth": 0,
              "ticks": ""
             }
            },
            "marker": {
             "colorbar": {
              "outlinewidth": 0,
              "ticks": ""
             }
            },
            "type": "scatter3d"
           }
          ],
          "scattercarpet": [
           {
            "marker": {
             "colorbar": {
              "outlinewidth": 0,
              "ticks": ""
             }
            },
            "type": "scattercarpet"
           }
          ],
          "scattergeo": [
           {
            "marker": {
             "colorbar": {
              "outlinewidth": 0,
              "ticks": ""
             }
            },
            "type": "scattergeo"
           }
          ],
          "scattergl": [
           {
            "marker": {
             "colorbar": {
              "outlinewidth": 0,
              "ticks": ""
             }
            },
            "type": "scattergl"
           }
          ],
          "scattermapbox": [
           {
            "marker": {
             "colorbar": {
              "outlinewidth": 0,
              "ticks": ""
             }
            },
            "type": "scattermapbox"
           }
          ],
          "scatterpolar": [
           {
            "marker": {
             "colorbar": {
              "outlinewidth": 0,
              "ticks": ""
             }
            },
            "type": "scatterpolar"
           }
          ],
          "scatterpolargl": [
           {
            "marker": {
             "colorbar": {
              "outlinewidth": 0,
              "ticks": ""
             }
            },
            "type": "scatterpolargl"
           }
          ],
          "scatterternary": [
           {
            "marker": {
             "colorbar": {
              "outlinewidth": 0,
              "ticks": ""
             }
            },
            "type": "scatterternary"
           }
          ],
          "surface": [
           {
            "colorbar": {
             "outlinewidth": 0,
             "ticks": ""
            },
            "colorscale": [
             [
              0,
              "#0d0887"
             ],
             [
              0.1111111111111111,
              "#46039f"
             ],
             [
              0.2222222222222222,
              "#7201a8"
             ],
             [
              0.3333333333333333,
              "#9c179e"
             ],
             [
              0.4444444444444444,
              "#bd3786"
             ],
             [
              0.5555555555555556,
              "#d8576b"
             ],
             [
              0.6666666666666666,
              "#ed7953"
             ],
             [
              0.7777777777777778,
              "#fb9f3a"
             ],
             [
              0.8888888888888888,
              "#fdca26"
             ],
             [
              1,
              "#f0f921"
             ]
            ],
            "type": "surface"
           }
          ],
          "table": [
           {
            "cells": {
             "fill": {
              "color": "#EBF0F8"
             },
             "line": {
              "color": "white"
             }
            },
            "header": {
             "fill": {
              "color": "#C8D4E3"
             },
             "line": {
              "color": "white"
             }
            },
            "type": "table"
           }
          ]
         },
         "layout": {
          "annotationdefaults": {
           "arrowcolor": "#2a3f5f",
           "arrowhead": 0,
           "arrowwidth": 1
          },
          "autotypenumbers": "strict",
          "coloraxis": {
           "colorbar": {
            "outlinewidth": 0,
            "ticks": ""
           }
          },
          "colorscale": {
           "diverging": [
            [
             0,
             "#8e0152"
            ],
            [
             0.1,
             "#c51b7d"
            ],
            [
             0.2,
             "#de77ae"
            ],
            [
             0.3,
             "#f1b6da"
            ],
            [
             0.4,
             "#fde0ef"
            ],
            [
             0.5,
             "#f7f7f7"
            ],
            [
             0.6,
             "#e6f5d0"
            ],
            [
             0.7,
             "#b8e186"
            ],
            [
             0.8,
             "#7fbc41"
            ],
            [
             0.9,
             "#4d9221"
            ],
            [
             1,
             "#276419"
            ]
           ],
           "sequential": [
            [
             0,
             "#0d0887"
            ],
            [
             0.1111111111111111,
             "#46039f"
            ],
            [
             0.2222222222222222,
             "#7201a8"
            ],
            [
             0.3333333333333333,
             "#9c179e"
            ],
            [
             0.4444444444444444,
             "#bd3786"
            ],
            [
             0.5555555555555556,
             "#d8576b"
            ],
            [
             0.6666666666666666,
             "#ed7953"
            ],
            [
             0.7777777777777778,
             "#fb9f3a"
            ],
            [
             0.8888888888888888,
             "#fdca26"
            ],
            [
             1,
             "#f0f921"
            ]
           ],
           "sequentialminus": [
            [
             0,
             "#0d0887"
            ],
            [
             0.1111111111111111,
             "#46039f"
            ],
            [
             0.2222222222222222,
             "#7201a8"
            ],
            [
             0.3333333333333333,
             "#9c179e"
            ],
            [
             0.4444444444444444,
             "#bd3786"
            ],
            [
             0.5555555555555556,
             "#d8576b"
            ],
            [
             0.6666666666666666,
             "#ed7953"
            ],
            [
             0.7777777777777778,
             "#fb9f3a"
            ],
            [
             0.8888888888888888,
             "#fdca26"
            ],
            [
             1,
             "#f0f921"
            ]
           ]
          },
          "colorway": [
           "#636efa",
           "#EF553B",
           "#00cc96",
           "#ab63fa",
           "#FFA15A",
           "#19d3f3",
           "#FF6692",
           "#B6E880",
           "#FF97FF",
           "#FECB52"
          ],
          "font": {
           "color": "#2a3f5f"
          },
          "geo": {
           "bgcolor": "white",
           "lakecolor": "white",
           "landcolor": "#E5ECF6",
           "showlakes": true,
           "showland": true,
           "subunitcolor": "white"
          },
          "hoverlabel": {
           "align": "left"
          },
          "hovermode": "closest",
          "mapbox": {
           "style": "light"
          },
          "paper_bgcolor": "white",
          "plot_bgcolor": "#E5ECF6",
          "polar": {
           "angularaxis": {
            "gridcolor": "white",
            "linecolor": "white",
            "ticks": ""
           },
           "bgcolor": "#E5ECF6",
           "radialaxis": {
            "gridcolor": "white",
            "linecolor": "white",
            "ticks": ""
           }
          },
          "scene": {
           "xaxis": {
            "backgroundcolor": "#E5ECF6",
            "gridcolor": "white",
            "gridwidth": 2,
            "linecolor": "white",
            "showbackground": true,
            "ticks": "",
            "zerolinecolor": "white"
           },
           "yaxis": {
            "backgroundcolor": "#E5ECF6",
            "gridcolor": "white",
            "gridwidth": 2,
            "linecolor": "white",
            "showbackground": true,
            "ticks": "",
            "zerolinecolor": "white"
           },
           "zaxis": {
            "backgroundcolor": "#E5ECF6",
            "gridcolor": "white",
            "gridwidth": 2,
            "linecolor": "white",
            "showbackground": true,
            "ticks": "",
            "zerolinecolor": "white"
           }
          },
          "shapedefaults": {
           "line": {
            "color": "#2a3f5f"
           }
          },
          "ternary": {
           "aaxis": {
            "gridcolor": "white",
            "linecolor": "white",
            "ticks": ""
           },
           "baxis": {
            "gridcolor": "white",
            "linecolor": "white",
            "ticks": ""
           },
           "bgcolor": "#E5ECF6",
           "caxis": {
            "gridcolor": "white",
            "linecolor": "white",
            "ticks": ""
           }
          },
          "title": {
           "x": 0.05
          },
          "xaxis": {
           "automargin": true,
           "gridcolor": "white",
           "linecolor": "white",
           "ticks": "",
           "title": {
            "standoff": 15
           },
           "zerolinecolor": "white",
           "zerolinewidth": 2
          },
          "yaxis": {
           "automargin": true,
           "gridcolor": "white",
           "linecolor": "white",
           "ticks": "",
           "title": {
            "standoff": 15
           },
           "zerolinecolor": "white",
           "zerolinewidth": 2
          }
         }
        },
        "title": {
         "text": "ACF Plot for Log_Return"
        },
        "xaxis": {
         "title": {
          "text": "Lag"
         }
        },
        "yaxis": {
         "title": {
          "text": "ACF"
         }
        }
       }
      }
     },
     "metadata": {},
     "output_type": "display_data"
    },
    {
     "data": {
      "application/vnd.plotly.v1+json": {
       "config": {
        "plotlyServerURL": "https://plot.ly"
       },
       "data": [
        {
         "name": "PACF",
         "type": "bar",
         "x": [
          0,
          1,
          2,
          3,
          4,
          5,
          6,
          7,
          8,
          9,
          10,
          11,
          12,
          13,
          14,
          15,
          16,
          17,
          18,
          19,
          20
         ],
         "y": [
          1,
          null,
          null,
          null,
          null,
          null,
          null,
          null,
          null,
          null,
          null,
          null,
          null,
          null,
          null,
          null,
          null,
          null,
          null,
          null,
          null
         ]
        }
       ],
       "layout": {
        "template": {
         "data": {
          "bar": [
           {
            "error_x": {
             "color": "#2a3f5f"
            },
            "error_y": {
             "color": "#2a3f5f"
            },
            "marker": {
             "line": {
              "color": "#E5ECF6",
              "width": 0.5
             },
             "pattern": {
              "fillmode": "overlay",
              "size": 10,
              "solidity": 0.2
             }
            },
            "type": "bar"
           }
          ],
          "barpolar": [
           {
            "marker": {
             "line": {
              "color": "#E5ECF6",
              "width": 0.5
             },
             "pattern": {
              "fillmode": "overlay",
              "size": 10,
              "solidity": 0.2
             }
            },
            "type": "barpolar"
           }
          ],
          "carpet": [
           {
            "aaxis": {
             "endlinecolor": "#2a3f5f",
             "gridcolor": "white",
             "linecolor": "white",
             "minorgridcolor": "white",
             "startlinecolor": "#2a3f5f"
            },
            "baxis": {
             "endlinecolor": "#2a3f5f",
             "gridcolor": "white",
             "linecolor": "white",
             "minorgridcolor": "white",
             "startlinecolor": "#2a3f5f"
            },
            "type": "carpet"
           }
          ],
          "choropleth": [
           {
            "colorbar": {
             "outlinewidth": 0,
             "ticks": ""
            },
            "type": "choropleth"
           }
          ],
          "contour": [
           {
            "colorbar": {
             "outlinewidth": 0,
             "ticks": ""
            },
            "colorscale": [
             [
              0,
              "#0d0887"
             ],
             [
              0.1111111111111111,
              "#46039f"
             ],
             [
              0.2222222222222222,
              "#7201a8"
             ],
             [
              0.3333333333333333,
              "#9c179e"
             ],
             [
              0.4444444444444444,
              "#bd3786"
             ],
             [
              0.5555555555555556,
              "#d8576b"
             ],
             [
              0.6666666666666666,
              "#ed7953"
             ],
             [
              0.7777777777777778,
              "#fb9f3a"
             ],
             [
              0.8888888888888888,
              "#fdca26"
             ],
             [
              1,
              "#f0f921"
             ]
            ],
            "type": "contour"
           }
          ],
          "contourcarpet": [
           {
            "colorbar": {
             "outlinewidth": 0,
             "ticks": ""
            },
            "type": "contourcarpet"
           }
          ],
          "heatmap": [
           {
            "colorbar": {
             "outlinewidth": 0,
             "ticks": ""
            },
            "colorscale": [
             [
              0,
              "#0d0887"
             ],
             [
              0.1111111111111111,
              "#46039f"
             ],
             [
              0.2222222222222222,
              "#7201a8"
             ],
             [
              0.3333333333333333,
              "#9c179e"
             ],
             [
              0.4444444444444444,
              "#bd3786"
             ],
             [
              0.5555555555555556,
              "#d8576b"
             ],
             [
              0.6666666666666666,
              "#ed7953"
             ],
             [
              0.7777777777777778,
              "#fb9f3a"
             ],
             [
              0.8888888888888888,
              "#fdca26"
             ],
             [
              1,
              "#f0f921"
             ]
            ],
            "type": "heatmap"
           }
          ],
          "heatmapgl": [
           {
            "colorbar": {
             "outlinewidth": 0,
             "ticks": ""
            },
            "colorscale": [
             [
              0,
              "#0d0887"
             ],
             [
              0.1111111111111111,
              "#46039f"
             ],
             [
              0.2222222222222222,
              "#7201a8"
             ],
             [
              0.3333333333333333,
              "#9c179e"
             ],
             [
              0.4444444444444444,
              "#bd3786"
             ],
             [
              0.5555555555555556,
              "#d8576b"
             ],
             [
              0.6666666666666666,
              "#ed7953"
             ],
             [
              0.7777777777777778,
              "#fb9f3a"
             ],
             [
              0.8888888888888888,
              "#fdca26"
             ],
             [
              1,
              "#f0f921"
             ]
            ],
            "type": "heatmapgl"
           }
          ],
          "histogram": [
           {
            "marker": {
             "pattern": {
              "fillmode": "overlay",
              "size": 10,
              "solidity": 0.2
             }
            },
            "type": "histogram"
           }
          ],
          "histogram2d": [
           {
            "colorbar": {
             "outlinewidth": 0,
             "ticks": ""
            },
            "colorscale": [
             [
              0,
              "#0d0887"
             ],
             [
              0.1111111111111111,
              "#46039f"
             ],
             [
              0.2222222222222222,
              "#7201a8"
             ],
             [
              0.3333333333333333,
              "#9c179e"
             ],
             [
              0.4444444444444444,
              "#bd3786"
             ],
             [
              0.5555555555555556,
              "#d8576b"
             ],
             [
              0.6666666666666666,
              "#ed7953"
             ],
             [
              0.7777777777777778,
              "#fb9f3a"
             ],
             [
              0.8888888888888888,
              "#fdca26"
             ],
             [
              1,
              "#f0f921"
             ]
            ],
            "type": "histogram2d"
           }
          ],
          "histogram2dcontour": [
           {
            "colorbar": {
             "outlinewidth": 0,
             "ticks": ""
            },
            "colorscale": [
             [
              0,
              "#0d0887"
             ],
             [
              0.1111111111111111,
              "#46039f"
             ],
             [
              0.2222222222222222,
              "#7201a8"
             ],
             [
              0.3333333333333333,
              "#9c179e"
             ],
             [
              0.4444444444444444,
              "#bd3786"
             ],
             [
              0.5555555555555556,
              "#d8576b"
             ],
             [
              0.6666666666666666,
              "#ed7953"
             ],
             [
              0.7777777777777778,
              "#fb9f3a"
             ],
             [
              0.8888888888888888,
              "#fdca26"
             ],
             [
              1,
              "#f0f921"
             ]
            ],
            "type": "histogram2dcontour"
           }
          ],
          "mesh3d": [
           {
            "colorbar": {
             "outlinewidth": 0,
             "ticks": ""
            },
            "type": "mesh3d"
           }
          ],
          "parcoords": [
           {
            "line": {
             "colorbar": {
              "outlinewidth": 0,
              "ticks": ""
             }
            },
            "type": "parcoords"
           }
          ],
          "pie": [
           {
            "automargin": true,
            "type": "pie"
           }
          ],
          "scatter": [
           {
            "fillpattern": {
             "fillmode": "overlay",
             "size": 10,
             "solidity": 0.2
            },
            "type": "scatter"
           }
          ],
          "scatter3d": [
           {
            "line": {
             "colorbar": {
              "outlinewidth": 0,
              "ticks": ""
             }
            },
            "marker": {
             "colorbar": {
              "outlinewidth": 0,
              "ticks": ""
             }
            },
            "type": "scatter3d"
           }
          ],
          "scattercarpet": [
           {
            "marker": {
             "colorbar": {
              "outlinewidth": 0,
              "ticks": ""
             }
            },
            "type": "scattercarpet"
           }
          ],
          "scattergeo": [
           {
            "marker": {
             "colorbar": {
              "outlinewidth": 0,
              "ticks": ""
             }
            },
            "type": "scattergeo"
           }
          ],
          "scattergl": [
           {
            "marker": {
             "colorbar": {
              "outlinewidth": 0,
              "ticks": ""
             }
            },
            "type": "scattergl"
           }
          ],
          "scattermapbox": [
           {
            "marker": {
             "colorbar": {
              "outlinewidth": 0,
              "ticks": ""
             }
            },
            "type": "scattermapbox"
           }
          ],
          "scatterpolar": [
           {
            "marker": {
             "colorbar": {
              "outlinewidth": 0,
              "ticks": ""
             }
            },
            "type": "scatterpolar"
           }
          ],
          "scatterpolargl": [
           {
            "marker": {
             "colorbar": {
              "outlinewidth": 0,
              "ticks": ""
             }
            },
            "type": "scatterpolargl"
           }
          ],
          "scatterternary": [
           {
            "marker": {
             "colorbar": {
              "outlinewidth": 0,
              "ticks": ""
             }
            },
            "type": "scatterternary"
           }
          ],
          "surface": [
           {
            "colorbar": {
             "outlinewidth": 0,
             "ticks": ""
            },
            "colorscale": [
             [
              0,
              "#0d0887"
             ],
             [
              0.1111111111111111,
              "#46039f"
             ],
             [
              0.2222222222222222,
              "#7201a8"
             ],
             [
              0.3333333333333333,
              "#9c179e"
             ],
             [
              0.4444444444444444,
              "#bd3786"
             ],
             [
              0.5555555555555556,
              "#d8576b"
             ],
             [
              0.6666666666666666,
              "#ed7953"
             ],
             [
              0.7777777777777778,
              "#fb9f3a"
             ],
             [
              0.8888888888888888,
              "#fdca26"
             ],
             [
              1,
              "#f0f921"
             ]
            ],
            "type": "surface"
           }
          ],
          "table": [
           {
            "cells": {
             "fill": {
              "color": "#EBF0F8"
             },
             "line": {
              "color": "white"
             }
            },
            "header": {
             "fill": {
              "color": "#C8D4E3"
             },
             "line": {
              "color": "white"
             }
            },
            "type": "table"
           }
          ]
         },
         "layout": {
          "annotationdefaults": {
           "arrowcolor": "#2a3f5f",
           "arrowhead": 0,
           "arrowwidth": 1
          },
          "autotypenumbers": "strict",
          "coloraxis": {
           "colorbar": {
            "outlinewidth": 0,
            "ticks": ""
           }
          },
          "colorscale": {
           "diverging": [
            [
             0,
             "#8e0152"
            ],
            [
             0.1,
             "#c51b7d"
            ],
            [
             0.2,
             "#de77ae"
            ],
            [
             0.3,
             "#f1b6da"
            ],
            [
             0.4,
             "#fde0ef"
            ],
            [
             0.5,
             "#f7f7f7"
            ],
            [
             0.6,
             "#e6f5d0"
            ],
            [
             0.7,
             "#b8e186"
            ],
            [
             0.8,
             "#7fbc41"
            ],
            [
             0.9,
             "#4d9221"
            ],
            [
             1,
             "#276419"
            ]
           ],
           "sequential": [
            [
             0,
             "#0d0887"
            ],
            [
             0.1111111111111111,
             "#46039f"
            ],
            [
             0.2222222222222222,
             "#7201a8"
            ],
            [
             0.3333333333333333,
             "#9c179e"
            ],
            [
             0.4444444444444444,
             "#bd3786"
            ],
            [
             0.5555555555555556,
             "#d8576b"
            ],
            [
             0.6666666666666666,
             "#ed7953"
            ],
            [
             0.7777777777777778,
             "#fb9f3a"
            ],
            [
             0.8888888888888888,
             "#fdca26"
            ],
            [
             1,
             "#f0f921"
            ]
           ],
           "sequentialminus": [
            [
             0,
             "#0d0887"
            ],
            [
             0.1111111111111111,
             "#46039f"
            ],
            [
             0.2222222222222222,
             "#7201a8"
            ],
            [
             0.3333333333333333,
             "#9c179e"
            ],
            [
             0.4444444444444444,
             "#bd3786"
            ],
            [
             0.5555555555555556,
             "#d8576b"
            ],
            [
             0.6666666666666666,
             "#ed7953"
            ],
            [
             0.7777777777777778,
             "#fb9f3a"
            ],
            [
             0.8888888888888888,
             "#fdca26"
            ],
            [
             1,
             "#f0f921"
            ]
           ]
          },
          "colorway": [
           "#636efa",
           "#EF553B",
           "#00cc96",
           "#ab63fa",
           "#FFA15A",
           "#19d3f3",
           "#FF6692",
           "#B6E880",
           "#FF97FF",
           "#FECB52"
          ],
          "font": {
           "color": "#2a3f5f"
          },
          "geo": {
           "bgcolor": "white",
           "lakecolor": "white",
           "landcolor": "#E5ECF6",
           "showlakes": true,
           "showland": true,
           "subunitcolor": "white"
          },
          "hoverlabel": {
           "align": "left"
          },
          "hovermode": "closest",
          "mapbox": {
           "style": "light"
          },
          "paper_bgcolor": "white",
          "plot_bgcolor": "#E5ECF6",
          "polar": {
           "angularaxis": {
            "gridcolor": "white",
            "linecolor": "white",
            "ticks": ""
           },
           "bgcolor": "#E5ECF6",
           "radialaxis": {
            "gridcolor": "white",
            "linecolor": "white",
            "ticks": ""
           }
          },
          "scene": {
           "xaxis": {
            "backgroundcolor": "#E5ECF6",
            "gridcolor": "white",
            "gridwidth": 2,
            "linecolor": "white",
            "showbackground": true,
            "ticks": "",
            "zerolinecolor": "white"
           },
           "yaxis": {
            "backgroundcolor": "#E5ECF6",
            "gridcolor": "white",
            "gridwidth": 2,
            "linecolor": "white",
            "showbackground": true,
            "ticks": "",
            "zerolinecolor": "white"
           },
           "zaxis": {
            "backgroundcolor": "#E5ECF6",
            "gridcolor": "white",
            "gridwidth": 2,
            "linecolor": "white",
            "showbackground": true,
            "ticks": "",
            "zerolinecolor": "white"
           }
          },
          "shapedefaults": {
           "line": {
            "color": "#2a3f5f"
           }
          },
          "ternary": {
           "aaxis": {
            "gridcolor": "white",
            "linecolor": "white",
            "ticks": ""
           },
           "baxis": {
            "gridcolor": "white",
            "linecolor": "white",
            "ticks": ""
           },
           "bgcolor": "#E5ECF6",
           "caxis": {
            "gridcolor": "white",
            "linecolor": "white",
            "ticks": ""
           }
          },
          "title": {
           "x": 0.05
          },
          "xaxis": {
           "automargin": true,
           "gridcolor": "white",
           "linecolor": "white",
           "ticks": "",
           "title": {
            "standoff": 15
           },
           "zerolinecolor": "white",
           "zerolinewidth": 2
          },
          "yaxis": {
           "automargin": true,
           "gridcolor": "white",
           "linecolor": "white",
           "ticks": "",
           "title": {
            "standoff": 15
           },
           "zerolinecolor": "white",
           "zerolinewidth": 2
          }
         }
        },
        "title": {
         "text": "PACF Plot for Log_Return"
        },
        "xaxis": {
         "title": {
          "text": "Lag"
         }
        },
        "yaxis": {
         "title": {
          "text": "PACF"
         }
        }
       }
      }
     },
     "metadata": {},
     "output_type": "display_data"
    },
    {
     "data": {
      "application/vnd.plotly.v1+json": {
       "config": {
        "plotlyServerURL": "https://plot.ly"
       },
       "data": [
        {
         "name": "ACF",
         "type": "bar",
         "x": [
          0,
          1,
          2,
          3,
          4,
          5,
          6,
          7,
          8,
          9,
          10,
          11,
          12,
          13,
          14,
          15,
          16,
          17,
          18,
          19,
          20
         ],
         "y": [
          null,
          null,
          null,
          null,
          null,
          null,
          null,
          null,
          null,
          null,
          null,
          null,
          null,
          null,
          null,
          null,
          null,
          null,
          null,
          null,
          null
         ]
        }
       ],
       "layout": {
        "template": {
         "data": {
          "bar": [
           {
            "error_x": {
             "color": "#2a3f5f"
            },
            "error_y": {
             "color": "#2a3f5f"
            },
            "marker": {
             "line": {
              "color": "#E5ECF6",
              "width": 0.5
             },
             "pattern": {
              "fillmode": "overlay",
              "size": 10,
              "solidity": 0.2
             }
            },
            "type": "bar"
           }
          ],
          "barpolar": [
           {
            "marker": {
             "line": {
              "color": "#E5ECF6",
              "width": 0.5
             },
             "pattern": {
              "fillmode": "overlay",
              "size": 10,
              "solidity": 0.2
             }
            },
            "type": "barpolar"
           }
          ],
          "carpet": [
           {
            "aaxis": {
             "endlinecolor": "#2a3f5f",
             "gridcolor": "white",
             "linecolor": "white",
             "minorgridcolor": "white",
             "startlinecolor": "#2a3f5f"
            },
            "baxis": {
             "endlinecolor": "#2a3f5f",
             "gridcolor": "white",
             "linecolor": "white",
             "minorgridcolor": "white",
             "startlinecolor": "#2a3f5f"
            },
            "type": "carpet"
           }
          ],
          "choropleth": [
           {
            "colorbar": {
             "outlinewidth": 0,
             "ticks": ""
            },
            "type": "choropleth"
           }
          ],
          "contour": [
           {
            "colorbar": {
             "outlinewidth": 0,
             "ticks": ""
            },
            "colorscale": [
             [
              0,
              "#0d0887"
             ],
             [
              0.1111111111111111,
              "#46039f"
             ],
             [
              0.2222222222222222,
              "#7201a8"
             ],
             [
              0.3333333333333333,
              "#9c179e"
             ],
             [
              0.4444444444444444,
              "#bd3786"
             ],
             [
              0.5555555555555556,
              "#d8576b"
             ],
             [
              0.6666666666666666,
              "#ed7953"
             ],
             [
              0.7777777777777778,
              "#fb9f3a"
             ],
             [
              0.8888888888888888,
              "#fdca26"
             ],
             [
              1,
              "#f0f921"
             ]
            ],
            "type": "contour"
           }
          ],
          "contourcarpet": [
           {
            "colorbar": {
             "outlinewidth": 0,
             "ticks": ""
            },
            "type": "contourcarpet"
           }
          ],
          "heatmap": [
           {
            "colorbar": {
             "outlinewidth": 0,
             "ticks": ""
            },
            "colorscale": [
             [
              0,
              "#0d0887"
             ],
             [
              0.1111111111111111,
              "#46039f"
             ],
             [
              0.2222222222222222,
              "#7201a8"
             ],
             [
              0.3333333333333333,
              "#9c179e"
             ],
             [
              0.4444444444444444,
              "#bd3786"
             ],
             [
              0.5555555555555556,
              "#d8576b"
             ],
             [
              0.6666666666666666,
              "#ed7953"
             ],
             [
              0.7777777777777778,
              "#fb9f3a"
             ],
             [
              0.8888888888888888,
              "#fdca26"
             ],
             [
              1,
              "#f0f921"
             ]
            ],
            "type": "heatmap"
           }
          ],
          "heatmapgl": [
           {
            "colorbar": {
             "outlinewidth": 0,
             "ticks": ""
            },
            "colorscale": [
             [
              0,
              "#0d0887"
             ],
             [
              0.1111111111111111,
              "#46039f"
             ],
             [
              0.2222222222222222,
              "#7201a8"
             ],
             [
              0.3333333333333333,
              "#9c179e"
             ],
             [
              0.4444444444444444,
              "#bd3786"
             ],
             [
              0.5555555555555556,
              "#d8576b"
             ],
             [
              0.6666666666666666,
              "#ed7953"
             ],
             [
              0.7777777777777778,
              "#fb9f3a"
             ],
             [
              0.8888888888888888,
              "#fdca26"
             ],
             [
              1,
              "#f0f921"
             ]
            ],
            "type": "heatmapgl"
           }
          ],
          "histogram": [
           {
            "marker": {
             "pattern": {
              "fillmode": "overlay",
              "size": 10,
              "solidity": 0.2
             }
            },
            "type": "histogram"
           }
          ],
          "histogram2d": [
           {
            "colorbar": {
             "outlinewidth": 0,
             "ticks": ""
            },
            "colorscale": [
             [
              0,
              "#0d0887"
             ],
             [
              0.1111111111111111,
              "#46039f"
             ],
             [
              0.2222222222222222,
              "#7201a8"
             ],
             [
              0.3333333333333333,
              "#9c179e"
             ],
             [
              0.4444444444444444,
              "#bd3786"
             ],
             [
              0.5555555555555556,
              "#d8576b"
             ],
             [
              0.6666666666666666,
              "#ed7953"
             ],
             [
              0.7777777777777778,
              "#fb9f3a"
             ],
             [
              0.8888888888888888,
              "#fdca26"
             ],
             [
              1,
              "#f0f921"
             ]
            ],
            "type": "histogram2d"
           }
          ],
          "histogram2dcontour": [
           {
            "colorbar": {
             "outlinewidth": 0,
             "ticks": ""
            },
            "colorscale": [
             [
              0,
              "#0d0887"
             ],
             [
              0.1111111111111111,
              "#46039f"
             ],
             [
              0.2222222222222222,
              "#7201a8"
             ],
             [
              0.3333333333333333,
              "#9c179e"
             ],
             [
              0.4444444444444444,
              "#bd3786"
             ],
             [
              0.5555555555555556,
              "#d8576b"
             ],
             [
              0.6666666666666666,
              "#ed7953"
             ],
             [
              0.7777777777777778,
              "#fb9f3a"
             ],
             [
              0.8888888888888888,
              "#fdca26"
             ],
             [
              1,
              "#f0f921"
             ]
            ],
            "type": "histogram2dcontour"
           }
          ],
          "mesh3d": [
           {
            "colorbar": {
             "outlinewidth": 0,
             "ticks": ""
            },
            "type": "mesh3d"
           }
          ],
          "parcoords": [
           {
            "line": {
             "colorbar": {
              "outlinewidth": 0,
              "ticks": ""
             }
            },
            "type": "parcoords"
           }
          ],
          "pie": [
           {
            "automargin": true,
            "type": "pie"
           }
          ],
          "scatter": [
           {
            "fillpattern": {
             "fillmode": "overlay",
             "size": 10,
             "solidity": 0.2
            },
            "type": "scatter"
           }
          ],
          "scatter3d": [
           {
            "line": {
             "colorbar": {
              "outlinewidth": 0,
              "ticks": ""
             }
            },
            "marker": {
             "colorbar": {
              "outlinewidth": 0,
              "ticks": ""
             }
            },
            "type": "scatter3d"
           }
          ],
          "scattercarpet": [
           {
            "marker": {
             "colorbar": {
              "outlinewidth": 0,
              "ticks": ""
             }
            },
            "type": "scattercarpet"
           }
          ],
          "scattergeo": [
           {
            "marker": {
             "colorbar": {
              "outlinewidth": 0,
              "ticks": ""
             }
            },
            "type": "scattergeo"
           }
          ],
          "scattergl": [
           {
            "marker": {
             "colorbar": {
              "outlinewidth": 0,
              "ticks": ""
             }
            },
            "type": "scattergl"
           }
          ],
          "scattermapbox": [
           {
            "marker": {
             "colorbar": {
              "outlinewidth": 0,
              "ticks": ""
             }
            },
            "type": "scattermapbox"
           }
          ],
          "scatterpolar": [
           {
            "marker": {
             "colorbar": {
              "outlinewidth": 0,
              "ticks": ""
             }
            },
            "type": "scatterpolar"
           }
          ],
          "scatterpolargl": [
           {
            "marker": {
             "colorbar": {
              "outlinewidth": 0,
              "ticks": ""
             }
            },
            "type": "scatterpolargl"
           }
          ],
          "scatterternary": [
           {
            "marker": {
             "colorbar": {
              "outlinewidth": 0,
              "ticks": ""
             }
            },
            "type": "scatterternary"
           }
          ],
          "surface": [
           {
            "colorbar": {
             "outlinewidth": 0,
             "ticks": ""
            },
            "colorscale": [
             [
              0,
              "#0d0887"
             ],
             [
              0.1111111111111111,
              "#46039f"
             ],
             [
              0.2222222222222222,
              "#7201a8"
             ],
             [
              0.3333333333333333,
              "#9c179e"
             ],
             [
              0.4444444444444444,
              "#bd3786"
             ],
             [
              0.5555555555555556,
              "#d8576b"
             ],
             [
              0.6666666666666666,
              "#ed7953"
             ],
             [
              0.7777777777777778,
              "#fb9f3a"
             ],
             [
              0.8888888888888888,
              "#fdca26"
             ],
             [
              1,
              "#f0f921"
             ]
            ],
            "type": "surface"
           }
          ],
          "table": [
           {
            "cells": {
             "fill": {
              "color": "#EBF0F8"
             },
             "line": {
              "color": "white"
             }
            },
            "header": {
             "fill": {
              "color": "#C8D4E3"
             },
             "line": {
              "color": "white"
             }
            },
            "type": "table"
           }
          ]
         },
         "layout": {
          "annotationdefaults": {
           "arrowcolor": "#2a3f5f",
           "arrowhead": 0,
           "arrowwidth": 1
          },
          "autotypenumbers": "strict",
          "coloraxis": {
           "colorbar": {
            "outlinewidth": 0,
            "ticks": ""
           }
          },
          "colorscale": {
           "diverging": [
            [
             0,
             "#8e0152"
            ],
            [
             0.1,
             "#c51b7d"
            ],
            [
             0.2,
             "#de77ae"
            ],
            [
             0.3,
             "#f1b6da"
            ],
            [
             0.4,
             "#fde0ef"
            ],
            [
             0.5,
             "#f7f7f7"
            ],
            [
             0.6,
             "#e6f5d0"
            ],
            [
             0.7,
             "#b8e186"
            ],
            [
             0.8,
             "#7fbc41"
            ],
            [
             0.9,
             "#4d9221"
            ],
            [
             1,
             "#276419"
            ]
           ],
           "sequential": [
            [
             0,
             "#0d0887"
            ],
            [
             0.1111111111111111,
             "#46039f"
            ],
            [
             0.2222222222222222,
             "#7201a8"
            ],
            [
             0.3333333333333333,
             "#9c179e"
            ],
            [
             0.4444444444444444,
             "#bd3786"
            ],
            [
             0.5555555555555556,
             "#d8576b"
            ],
            [
             0.6666666666666666,
             "#ed7953"
            ],
            [
             0.7777777777777778,
             "#fb9f3a"
            ],
            [
             0.8888888888888888,
             "#fdca26"
            ],
            [
             1,
             "#f0f921"
            ]
           ],
           "sequentialminus": [
            [
             0,
             "#0d0887"
            ],
            [
             0.1111111111111111,
             "#46039f"
            ],
            [
             0.2222222222222222,
             "#7201a8"
            ],
            [
             0.3333333333333333,
             "#9c179e"
            ],
            [
             0.4444444444444444,
             "#bd3786"
            ],
            [
             0.5555555555555556,
             "#d8576b"
            ],
            [
             0.6666666666666666,
             "#ed7953"
            ],
            [
             0.7777777777777778,
             "#fb9f3a"
            ],
            [
             0.8888888888888888,
             "#fdca26"
            ],
            [
             1,
             "#f0f921"
            ]
           ]
          },
          "colorway": [
           "#636efa",
           "#EF553B",
           "#00cc96",
           "#ab63fa",
           "#FFA15A",
           "#19d3f3",
           "#FF6692",
           "#B6E880",
           "#FF97FF",
           "#FECB52"
          ],
          "font": {
           "color": "#2a3f5f"
          },
          "geo": {
           "bgcolor": "white",
           "lakecolor": "white",
           "landcolor": "#E5ECF6",
           "showlakes": true,
           "showland": true,
           "subunitcolor": "white"
          },
          "hoverlabel": {
           "align": "left"
          },
          "hovermode": "closest",
          "mapbox": {
           "style": "light"
          },
          "paper_bgcolor": "white",
          "plot_bgcolor": "#E5ECF6",
          "polar": {
           "angularaxis": {
            "gridcolor": "white",
            "linecolor": "white",
            "ticks": ""
           },
           "bgcolor": "#E5ECF6",
           "radialaxis": {
            "gridcolor": "white",
            "linecolor": "white",
            "ticks": ""
           }
          },
          "scene": {
           "xaxis": {
            "backgroundcolor": "#E5ECF6",
            "gridcolor": "white",
            "gridwidth": 2,
            "linecolor": "white",
            "showbackground": true,
            "ticks": "",
            "zerolinecolor": "white"
           },
           "yaxis": {
            "backgroundcolor": "#E5ECF6",
            "gridcolor": "white",
            "gridwidth": 2,
            "linecolor": "white",
            "showbackground": true,
            "ticks": "",
            "zerolinecolor": "white"
           },
           "zaxis": {
            "backgroundcolor": "#E5ECF6",
            "gridcolor": "white",
            "gridwidth": 2,
            "linecolor": "white",
            "showbackground": true,
            "ticks": "",
            "zerolinecolor": "white"
           }
          },
          "shapedefaults": {
           "line": {
            "color": "#2a3f5f"
           }
          },
          "ternary": {
           "aaxis": {
            "gridcolor": "white",
            "linecolor": "white",
            "ticks": ""
           },
           "baxis": {
            "gridcolor": "white",
            "linecolor": "white",
            "ticks": ""
           },
           "bgcolor": "#E5ECF6",
           "caxis": {
            "gridcolor": "white",
            "linecolor": "white",
            "ticks": ""
           }
          },
          "title": {
           "x": 0.05
          },
          "xaxis": {
           "automargin": true,
           "gridcolor": "white",
           "linecolor": "white",
           "ticks": "",
           "title": {
            "standoff": 15
           },
           "zerolinecolor": "white",
           "zerolinewidth": 2
          },
          "yaxis": {
           "automargin": true,
           "gridcolor": "white",
           "linecolor": "white",
           "ticks": "",
           "title": {
            "standoff": 15
           },
           "zerolinecolor": "white",
           "zerolinewidth": 2
          }
         }
        },
        "title": {
         "text": "ACF Plot for Volatility"
        },
        "xaxis": {
         "title": {
          "text": "Lag"
         }
        },
        "yaxis": {
         "title": {
          "text": "ACF"
         }
        }
       }
      }
     },
     "metadata": {},
     "output_type": "display_data"
    },
    {
     "data": {
      "application/vnd.plotly.v1+json": {
       "config": {
        "plotlyServerURL": "https://plot.ly"
       },
       "data": [
        {
         "name": "PACF",
         "type": "bar",
         "x": [
          0,
          1,
          2,
          3,
          4,
          5,
          6,
          7,
          8,
          9,
          10,
          11,
          12,
          13,
          14,
          15,
          16,
          17,
          18,
          19,
          20
         ],
         "y": [
          1,
          null,
          null,
          null,
          null,
          null,
          null,
          null,
          null,
          null,
          null,
          null,
          null,
          null,
          null,
          null,
          null,
          null,
          null,
          null,
          null
         ]
        }
       ],
       "layout": {
        "template": {
         "data": {
          "bar": [
           {
            "error_x": {
             "color": "#2a3f5f"
            },
            "error_y": {
             "color": "#2a3f5f"
            },
            "marker": {
             "line": {
              "color": "#E5ECF6",
              "width": 0.5
             },
             "pattern": {
              "fillmode": "overlay",
              "size": 10,
              "solidity": 0.2
             }
            },
            "type": "bar"
           }
          ],
          "barpolar": [
           {
            "marker": {
             "line": {
              "color": "#E5ECF6",
              "width": 0.5
             },
             "pattern": {
              "fillmode": "overlay",
              "size": 10,
              "solidity": 0.2
             }
            },
            "type": "barpolar"
           }
          ],
          "carpet": [
           {
            "aaxis": {
             "endlinecolor": "#2a3f5f",
             "gridcolor": "white",
             "linecolor": "white",
             "minorgridcolor": "white",
             "startlinecolor": "#2a3f5f"
            },
            "baxis": {
             "endlinecolor": "#2a3f5f",
             "gridcolor": "white",
             "linecolor": "white",
             "minorgridcolor": "white",
             "startlinecolor": "#2a3f5f"
            },
            "type": "carpet"
           }
          ],
          "choropleth": [
           {
            "colorbar": {
             "outlinewidth": 0,
             "ticks": ""
            },
            "type": "choropleth"
           }
          ],
          "contour": [
           {
            "colorbar": {
             "outlinewidth": 0,
             "ticks": ""
            },
            "colorscale": [
             [
              0,
              "#0d0887"
             ],
             [
              0.1111111111111111,
              "#46039f"
             ],
             [
              0.2222222222222222,
              "#7201a8"
             ],
             [
              0.3333333333333333,
              "#9c179e"
             ],
             [
              0.4444444444444444,
              "#bd3786"
             ],
             [
              0.5555555555555556,
              "#d8576b"
             ],
             [
              0.6666666666666666,
              "#ed7953"
             ],
             [
              0.7777777777777778,
              "#fb9f3a"
             ],
             [
              0.8888888888888888,
              "#fdca26"
             ],
             [
              1,
              "#f0f921"
             ]
            ],
            "type": "contour"
           }
          ],
          "contourcarpet": [
           {
            "colorbar": {
             "outlinewidth": 0,
             "ticks": ""
            },
            "type": "contourcarpet"
           }
          ],
          "heatmap": [
           {
            "colorbar": {
             "outlinewidth": 0,
             "ticks": ""
            },
            "colorscale": [
             [
              0,
              "#0d0887"
             ],
             [
              0.1111111111111111,
              "#46039f"
             ],
             [
              0.2222222222222222,
              "#7201a8"
             ],
             [
              0.3333333333333333,
              "#9c179e"
             ],
             [
              0.4444444444444444,
              "#bd3786"
             ],
             [
              0.5555555555555556,
              "#d8576b"
             ],
             [
              0.6666666666666666,
              "#ed7953"
             ],
             [
              0.7777777777777778,
              "#fb9f3a"
             ],
             [
              0.8888888888888888,
              "#fdca26"
             ],
             [
              1,
              "#f0f921"
             ]
            ],
            "type": "heatmap"
           }
          ],
          "heatmapgl": [
           {
            "colorbar": {
             "outlinewidth": 0,
             "ticks": ""
            },
            "colorscale": [
             [
              0,
              "#0d0887"
             ],
             [
              0.1111111111111111,
              "#46039f"
             ],
             [
              0.2222222222222222,
              "#7201a8"
             ],
             [
              0.3333333333333333,
              "#9c179e"
             ],
             [
              0.4444444444444444,
              "#bd3786"
             ],
             [
              0.5555555555555556,
              "#d8576b"
             ],
             [
              0.6666666666666666,
              "#ed7953"
             ],
             [
              0.7777777777777778,
              "#fb9f3a"
             ],
             [
              0.8888888888888888,
              "#fdca26"
             ],
             [
              1,
              "#f0f921"
             ]
            ],
            "type": "heatmapgl"
           }
          ],
          "histogram": [
           {
            "marker": {
             "pattern": {
              "fillmode": "overlay",
              "size": 10,
              "solidity": 0.2
             }
            },
            "type": "histogram"
           }
          ],
          "histogram2d": [
           {
            "colorbar": {
             "outlinewidth": 0,
             "ticks": ""
            },
            "colorscale": [
             [
              0,
              "#0d0887"
             ],
             [
              0.1111111111111111,
              "#46039f"
             ],
             [
              0.2222222222222222,
              "#7201a8"
             ],
             [
              0.3333333333333333,
              "#9c179e"
             ],
             [
              0.4444444444444444,
              "#bd3786"
             ],
             [
              0.5555555555555556,
              "#d8576b"
             ],
             [
              0.6666666666666666,
              "#ed7953"
             ],
             [
              0.7777777777777778,
              "#fb9f3a"
             ],
             [
              0.8888888888888888,
              "#fdca26"
             ],
             [
              1,
              "#f0f921"
             ]
            ],
            "type": "histogram2d"
           }
          ],
          "histogram2dcontour": [
           {
            "colorbar": {
             "outlinewidth": 0,
             "ticks": ""
            },
            "colorscale": [
             [
              0,
              "#0d0887"
             ],
             [
              0.1111111111111111,
              "#46039f"
             ],
             [
              0.2222222222222222,
              "#7201a8"
             ],
             [
              0.3333333333333333,
              "#9c179e"
             ],
             [
              0.4444444444444444,
              "#bd3786"
             ],
             [
              0.5555555555555556,
              "#d8576b"
             ],
             [
              0.6666666666666666,
              "#ed7953"
             ],
             [
              0.7777777777777778,
              "#fb9f3a"
             ],
             [
              0.8888888888888888,
              "#fdca26"
             ],
             [
              1,
              "#f0f921"
             ]
            ],
            "type": "histogram2dcontour"
           }
          ],
          "mesh3d": [
           {
            "colorbar": {
             "outlinewidth": 0,
             "ticks": ""
            },
            "type": "mesh3d"
           }
          ],
          "parcoords": [
           {
            "line": {
             "colorbar": {
              "outlinewidth": 0,
              "ticks": ""
             }
            },
            "type": "parcoords"
           }
          ],
          "pie": [
           {
            "automargin": true,
            "type": "pie"
           }
          ],
          "scatter": [
           {
            "fillpattern": {
             "fillmode": "overlay",
             "size": 10,
             "solidity": 0.2
            },
            "type": "scatter"
           }
          ],
          "scatter3d": [
           {
            "line": {
             "colorbar": {
              "outlinewidth": 0,
              "ticks": ""
             }
            },
            "marker": {
             "colorbar": {
              "outlinewidth": 0,
              "ticks": ""
             }
            },
            "type": "scatter3d"
           }
          ],
          "scattercarpet": [
           {
            "marker": {
             "colorbar": {
              "outlinewidth": 0,
              "ticks": ""
             }
            },
            "type": "scattercarpet"
           }
          ],
          "scattergeo": [
           {
            "marker": {
             "colorbar": {
              "outlinewidth": 0,
              "ticks": ""
             }
            },
            "type": "scattergeo"
           }
          ],
          "scattergl": [
           {
            "marker": {
             "colorbar": {
              "outlinewidth": 0,
              "ticks": ""
             }
            },
            "type": "scattergl"
           }
          ],
          "scattermapbox": [
           {
            "marker": {
             "colorbar": {
              "outlinewidth": 0,
              "ticks": ""
             }
            },
            "type": "scattermapbox"
           }
          ],
          "scatterpolar": [
           {
            "marker": {
             "colorbar": {
              "outlinewidth": 0,
              "ticks": ""
             }
            },
            "type": "scatterpolar"
           }
          ],
          "scatterpolargl": [
           {
            "marker": {
             "colorbar": {
              "outlinewidth": 0,
              "ticks": ""
             }
            },
            "type": "scatterpolargl"
           }
          ],
          "scatterternary": [
           {
            "marker": {
             "colorbar": {
              "outlinewidth": 0,
              "ticks": ""
             }
            },
            "type": "scatterternary"
           }
          ],
          "surface": [
           {
            "colorbar": {
             "outlinewidth": 0,
             "ticks": ""
            },
            "colorscale": [
             [
              0,
              "#0d0887"
             ],
             [
              0.1111111111111111,
              "#46039f"
             ],
             [
              0.2222222222222222,
              "#7201a8"
             ],
             [
              0.3333333333333333,
              "#9c179e"
             ],
             [
              0.4444444444444444,
              "#bd3786"
             ],
             [
              0.5555555555555556,
              "#d8576b"
             ],
             [
              0.6666666666666666,
              "#ed7953"
             ],
             [
              0.7777777777777778,
              "#fb9f3a"
             ],
             [
              0.8888888888888888,
              "#fdca26"
             ],
             [
              1,
              "#f0f921"
             ]
            ],
            "type": "surface"
           }
          ],
          "table": [
           {
            "cells": {
             "fill": {
              "color": "#EBF0F8"
             },
             "line": {
              "color": "white"
             }
            },
            "header": {
             "fill": {
              "color": "#C8D4E3"
             },
             "line": {
              "color": "white"
             }
            },
            "type": "table"
           }
          ]
         },
         "layout": {
          "annotationdefaults": {
           "arrowcolor": "#2a3f5f",
           "arrowhead": 0,
           "arrowwidth": 1
          },
          "autotypenumbers": "strict",
          "coloraxis": {
           "colorbar": {
            "outlinewidth": 0,
            "ticks": ""
           }
          },
          "colorscale": {
           "diverging": [
            [
             0,
             "#8e0152"
            ],
            [
             0.1,
             "#c51b7d"
            ],
            [
             0.2,
             "#de77ae"
            ],
            [
             0.3,
             "#f1b6da"
            ],
            [
             0.4,
             "#fde0ef"
            ],
            [
             0.5,
             "#f7f7f7"
            ],
            [
             0.6,
             "#e6f5d0"
            ],
            [
             0.7,
             "#b8e186"
            ],
            [
             0.8,
             "#7fbc41"
            ],
            [
             0.9,
             "#4d9221"
            ],
            [
             1,
             "#276419"
            ]
           ],
           "sequential": [
            [
             0,
             "#0d0887"
            ],
            [
             0.1111111111111111,
             "#46039f"
            ],
            [
             0.2222222222222222,
             "#7201a8"
            ],
            [
             0.3333333333333333,
             "#9c179e"
            ],
            [
             0.4444444444444444,
             "#bd3786"
            ],
            [
             0.5555555555555556,
             "#d8576b"
            ],
            [
             0.6666666666666666,
             "#ed7953"
            ],
            [
             0.7777777777777778,
             "#fb9f3a"
            ],
            [
             0.8888888888888888,
             "#fdca26"
            ],
            [
             1,
             "#f0f921"
            ]
           ],
           "sequentialminus": [
            [
             0,
             "#0d0887"
            ],
            [
             0.1111111111111111,
             "#46039f"
            ],
            [
             0.2222222222222222,
             "#7201a8"
            ],
            [
             0.3333333333333333,
             "#9c179e"
            ],
            [
             0.4444444444444444,
             "#bd3786"
            ],
            [
             0.5555555555555556,
             "#d8576b"
            ],
            [
             0.6666666666666666,
             "#ed7953"
            ],
            [
             0.7777777777777778,
             "#fb9f3a"
            ],
            [
             0.8888888888888888,
             "#fdca26"
            ],
            [
             1,
             "#f0f921"
            ]
           ]
          },
          "colorway": [
           "#636efa",
           "#EF553B",
           "#00cc96",
           "#ab63fa",
           "#FFA15A",
           "#19d3f3",
           "#FF6692",
           "#B6E880",
           "#FF97FF",
           "#FECB52"
          ],
          "font": {
           "color": "#2a3f5f"
          },
          "geo": {
           "bgcolor": "white",
           "lakecolor": "white",
           "landcolor": "#E5ECF6",
           "showlakes": true,
           "showland": true,
           "subunitcolor": "white"
          },
          "hoverlabel": {
           "align": "left"
          },
          "hovermode": "closest",
          "mapbox": {
           "style": "light"
          },
          "paper_bgcolor": "white",
          "plot_bgcolor": "#E5ECF6",
          "polar": {
           "angularaxis": {
            "gridcolor": "white",
            "linecolor": "white",
            "ticks": ""
           },
           "bgcolor": "#E5ECF6",
           "radialaxis": {
            "gridcolor": "white",
            "linecolor": "white",
            "ticks": ""
           }
          },
          "scene": {
           "xaxis": {
            "backgroundcolor": "#E5ECF6",
            "gridcolor": "white",
            "gridwidth": 2,
            "linecolor": "white",
            "showbackground": true,
            "ticks": "",
            "zerolinecolor": "white"
           },
           "yaxis": {
            "backgroundcolor": "#E5ECF6",
            "gridcolor": "white",
            "gridwidth": 2,
            "linecolor": "white",
            "showbackground": true,
            "ticks": "",
            "zerolinecolor": "white"
           },
           "zaxis": {
            "backgroundcolor": "#E5ECF6",
            "gridcolor": "white",
            "gridwidth": 2,
            "linecolor": "white",
            "showbackground": true,
            "ticks": "",
            "zerolinecolor": "white"
           }
          },
          "shapedefaults": {
           "line": {
            "color": "#2a3f5f"
           }
          },
          "ternary": {
           "aaxis": {
            "gridcolor": "white",
            "linecolor": "white",
            "ticks": ""
           },
           "baxis": {
            "gridcolor": "white",
            "linecolor": "white",
            "ticks": ""
           },
           "bgcolor": "#E5ECF6",
           "caxis": {
            "gridcolor": "white",
            "linecolor": "white",
            "ticks": ""
           }
          },
          "title": {
           "x": 0.05
          },
          "xaxis": {
           "automargin": true,
           "gridcolor": "white",
           "linecolor": "white",
           "ticks": "",
           "title": {
            "standoff": 15
           },
           "zerolinecolor": "white",
           "zerolinewidth": 2
          },
          "yaxis": {
           "automargin": true,
           "gridcolor": "white",
           "linecolor": "white",
           "ticks": "",
           "title": {
            "standoff": 15
           },
           "zerolinecolor": "white",
           "zerolinewidth": 2
          }
         }
        },
        "title": {
         "text": "PACF Plot for Volatility"
        },
        "xaxis": {
         "title": {
          "text": "Lag"
         }
        },
        "yaxis": {
         "title": {
          "text": "PACF"
         }
        }
       }
      }
     },
     "metadata": {},
     "output_type": "display_data"
    }
   ],
   "source": [
    "# 2.2 Autocorrelation and Stationary Analysis\n",
    "\n",
    "import plotly.graph_objects as go\n",
    "from statsmodels.tsa.stattools import acf, pacf\n",
    "import pandas as pd\n",
    "\n",
    "def create_acf_pacf_plots(data, column_name):\n",
    "    # Calculate ACF and PACF\n",
    "    acf_values = acf(data[column_name], nlags=20)\n",
    "    pacf_values = pacf(data[column_name], nlags=20)\n",
    "\n",
    "    # Create ACF Plot\n",
    "    acf_plot = go.Figure()\n",
    "    acf_plot.add_trace(go.Bar(x=list(range(len(acf_values))), y=acf_values, name='ACF'))\n",
    "    acf_plot.update_layout(title=f'ACF Plot for {column_name}', xaxis_title='Lag', yaxis_title='ACF')\n",
    "    acf_plot.show()\n",
    "\n",
    "    # Create PACF Plot\n",
    "    pacf_plot = go.Figure()\n",
    "    pacf_plot.add_trace(go.Bar(x=list(range(len(pacf_values))), y=pacf_values, name='PACF'))\n",
    "    pacf_plot.update_layout(title=f'PACF Plot for {column_name}', xaxis_title='Lag', yaxis_title='PACF')\n",
    "    pacf_plot.show()\n",
    "\n",
    "\n",
    "# Create ACF and PACF plots for 'Closed'\n",
    "create_acf_pacf_plots(calculateEWMA, 'closed_price')\n",
    "\n",
    "# Create ACF and PACF plots for 'LogReturns'\n",
    "create_acf_pacf_plots(calculateEWMA, 'Log_Return')\n",
    "\n",
    "# Create ACF and PACF plots for 'Volatility'\n",
    "create_acf_pacf_plots(calculateEWMA, 'Volatility')\n"
   ]
  },
  {
   "cell_type": "code",
   "execution_count": 51,
   "metadata": {},
   "outputs": [],
   "source": [
    "# The peaks of ACF plots are important especially the first one representing the autocorrelation at lag 1. \n",
    "# Peaks in the PACF plot represent significant partial autocorrelations, indicating the direct influence \n",
    "# of a specific lag on the current observation. "
   ]
  },
  {
   "cell_type": "code",
   "execution_count": 52,
   "metadata": {},
   "outputs": [
    {
     "name": "stdout",
     "output_type": "stream",
     "text": [
      "ADF Statistic: -3.2619905981609327\n",
      "p-value: 0.016665375159032034\n",
      "Critical Values:\n",
      "   1%: -3.4437936797256317\n",
      "   5%: -2.867468682890213\n",
      "   10%: -2.5699277594606915\n",
      "\n",
      "Results:\n",
      "The null hypothesis (non-stationary) can be rejected. The time series is likely stationary.\n",
      "ADF Statistic: -10.477716209230639\n",
      "p-value: 1.236556875713666e-18\n",
      "Critical Values:\n",
      "   1%: -3.443849184997939\n",
      "   5%: -2.8674931065091105\n",
      "   10%: -2.569940776113236\n",
      "\n",
      "Results:\n",
      "The null hypothesis (non-stationary) can be rejected. The time series is likely stationary.\n",
      "ADF Statistic: -10.088500953976643\n",
      "p-value: 1.1385127163361022e-17\n",
      "Critical Values:\n",
      "   1%: -3.4436298692815304\n",
      "   5%: -2.867396599893435\n",
      "   10%: -2.5698893429241916\n",
      "\n",
      "Results:\n",
      "The null hypothesis (non-stationary) can be rejected. The time series is likely stationary.\n"
     ]
    }
   ],
   "source": [
    "import statsmodels.api as sm\n",
    "\n",
    "def adf_test(df, column_name):\n",
    "\n",
    "    price_data = df.copy()\n",
    "    price_data = price_data.dropna()\n",
    "    result = sm.tsa.adfuller(price_data[column_name], autolag='AIC')\n",
    "    print(f'ADF Statistic: {result[0]}')\n",
    "    print(f'p-value: {result[1]}')\n",
    "    print('Critical Values:')\n",
    "    for key, value in result[4].items():\n",
    "        print(f'   {key}: {value}')\n",
    "\n",
    "    # Interpret the results\n",
    "    print('\\nResults:')\n",
    "    if result[1] <= 0.05:\n",
    "        print(\"The null hypothesis (non-stationary) can be rejected. The time series is likely stationary.\")\n",
    "    else:\n",
    "        print(\"Fail to reject the null hypothesis. The time series may not be stationary.\")\n",
    "\n",
    "adf_test(calculateEWMA, 'closed_price')\n",
    "adf_test(calculateEWMA, 'Log_Return')\n",
    "adf_test(calculateEWMA, 'Volatility')\n"
   ]
  },
  {
   "cell_type": "code",
   "execution_count": 53,
   "metadata": {},
   "outputs": [],
   "source": [
    "# Since in the stationary data the statistical traits remai the same throughout the data the correlation \n",
    "# between observations at different time lags remains the same. Many models think as time series data as \n",
    "# stationary so in order to do some observations we need to change the non-stationary data into stationary.\n",
    "# In summary Stationary data exhibit well-behaved autocorrelation patterns, while non-stationary data may \n",
    "# require transformations to achieve stationarity and simplify the modeling process"
   ]
  },
  {
   "cell_type": "code",
   "execution_count": 54,
   "metadata": {},
   "outputs": [
    {
     "data": {
      "application/vnd.plotly.v1+json": {
       "config": {
        "plotlyServerURL": "https://plot.ly"
       },
       "data": [
        {
         "mode": "lines",
         "name": "Log_Return vs closed_price",
         "type": "scatter",
         "x": [
          0,
          1,
          2,
          3,
          4,
          5,
          6,
          7,
          8,
          9,
          10,
          11,
          12,
          13,
          14,
          15,
          16,
          17,
          18,
          19,
          20,
          21,
          22,
          23,
          24,
          25,
          26,
          27,
          28,
          29,
          30,
          31,
          32,
          33,
          34,
          35,
          36,
          37,
          38,
          39,
          40,
          41,
          42,
          43,
          44,
          45,
          46,
          47,
          48,
          49,
          50,
          51,
          52,
          53,
          54,
          55,
          56,
          57,
          58,
          59,
          60,
          61,
          62,
          63,
          64,
          65,
          66,
          67,
          68,
          69,
          70,
          71,
          72,
          73,
          74,
          75,
          76,
          77,
          78,
          79,
          80,
          81,
          82,
          83,
          84,
          85,
          86,
          87,
          88,
          89,
          90,
          91,
          92,
          93,
          94,
          95,
          96,
          97,
          98,
          99,
          100,
          101,
          102,
          103,
          104,
          105,
          106,
          107,
          108,
          109,
          110,
          111,
          112,
          113,
          114,
          115,
          116,
          117,
          118,
          119,
          120,
          121,
          122,
          123,
          124,
          125,
          126,
          127,
          128,
          129,
          130,
          131,
          132,
          133,
          134,
          135,
          136,
          137,
          138,
          139,
          140,
          141,
          142,
          143,
          144,
          145,
          146,
          147,
          148,
          149,
          150,
          151,
          152,
          153,
          154,
          155,
          156,
          157,
          158,
          159,
          160,
          161,
          162,
          163,
          164,
          165,
          166,
          167,
          168,
          169,
          170,
          171,
          172,
          173,
          174,
          175,
          176,
          177,
          178,
          179,
          180,
          181,
          182,
          183,
          184,
          185,
          186,
          187,
          188,
          189,
          190,
          191,
          192,
          193,
          194,
          195,
          196,
          197,
          198,
          199,
          200,
          201,
          202,
          203,
          204,
          205,
          206,
          207,
          208,
          209,
          210,
          211,
          212,
          213,
          214,
          215,
          216,
          217,
          218,
          219,
          220,
          221,
          222,
          223,
          224,
          225,
          226,
          227,
          228,
          229,
          230,
          231,
          232,
          233,
          234,
          235,
          236,
          237,
          238,
          239,
          240,
          241,
          242,
          243,
          244,
          245,
          246,
          247,
          248,
          249,
          250,
          251,
          252,
          253,
          254,
          255,
          256,
          257,
          258,
          259,
          260,
          261,
          262,
          263,
          264,
          265,
          266,
          267,
          268,
          269,
          270,
          271,
          272,
          273,
          274,
          275,
          276,
          277,
          278,
          279,
          280,
          281,
          282,
          283,
          284,
          285,
          286,
          287,
          288,
          289,
          290,
          291,
          292,
          293,
          294,
          295,
          296,
          297,
          298,
          299,
          300,
          301,
          302,
          303,
          304,
          305,
          306,
          307,
          308,
          309,
          310,
          311,
          312,
          313,
          314,
          315,
          316,
          317,
          318,
          319,
          320,
          321,
          322,
          323,
          324,
          325,
          326,
          327,
          328,
          329,
          330,
          331,
          332,
          333,
          334,
          335,
          336,
          337,
          338,
          339,
          340,
          341,
          342,
          343,
          344,
          345,
          346,
          347,
          348,
          349,
          350,
          351,
          352,
          353,
          354,
          355,
          356,
          357,
          358,
          359,
          360,
          361,
          362,
          363,
          364,
          365,
          366,
          367,
          368,
          369,
          370,
          371,
          372,
          373,
          374,
          375,
          376,
          377,
          378,
          379,
          380,
          381,
          382,
          383,
          384,
          385,
          386,
          387,
          388,
          389,
          390,
          391,
          392,
          393,
          394,
          395,
          396,
          397,
          398,
          399,
          400,
          401,
          402,
          403,
          404,
          405,
          406,
          407,
          408,
          409,
          410,
          411,
          412,
          413,
          414,
          415,
          416,
          417,
          418,
          419,
          420,
          421,
          422,
          423,
          424,
          425,
          426,
          427,
          428,
          429,
          430,
          431,
          432,
          433,
          434,
          435,
          436,
          437,
          438,
          439,
          440,
          441,
          442,
          443,
          444,
          445,
          446,
          447,
          448,
          449,
          450,
          451,
          452,
          453,
          454,
          455,
          456,
          457,
          458,
          459,
          460,
          461,
          462,
          463,
          464,
          465,
          466,
          467,
          468,
          469,
          470,
          471,
          472,
          473,
          474,
          475,
          476,
          477,
          478,
          479,
          480,
          481,
          482,
          483,
          484,
          485,
          486,
          487,
          488,
          489,
          490,
          491,
          492,
          493,
          494,
          495,
          496,
          497,
          498,
          499
         ],
         "y": [
          null,
          null,
          null,
          null,
          null,
          null,
          null,
          null,
          null,
          null,
          null,
          null,
          null,
          null,
          null,
          null,
          null,
          null,
          null,
          null,
          null,
          null,
          null,
          null,
          null,
          null,
          null,
          null,
          null,
          null,
          0.607010705811648,
          0.5383574914520679,
          0.5723554034688279,
          0.5929291379257626,
          0.6339684066781133,
          0.6730991311168395,
          0.6752344614858147,
          0.6244669148905954,
          0.6135732912794352,
          0.6045637636953868,
          0.6051908586709959,
          0.6105574308092809,
          0.5987041616408352,
          0.5622046497628762,
          0.5791729116774973,
          0.6269532542935674,
          0.5830452793801276,
          0.5878844589490249,
          0.57246424542201,
          0.5847457931497742,
          0.5170887612687862,
          0.521880420179182,
          0.49247596178022945,
          0.44618410218832366,
          0.4251858507115848,
          0.412170042526817,
          0.40674399884259654,
          0.4149335174351724,
          0.3897297113419779,
          0.4364298486702902,
          0.42354905950522587,
          0.5393867732000429,
          0.5107140911511732,
          0.4895040716613055,
          0.4282375661938968,
          0.4473439868631159,
          0.4517998843038672,
          0.4609914953699351,
          0.4557902779051591,
          0.4677036056170592,
          0.41269819040603695,
          0.43559454684023863,
          0.4686787725410528,
          0.5210355495942718,
          0.5627473618888109,
          0.6228043622114551,
          0.5810829657456241,
          0.5943468818994424,
          0.5838826699372477,
          0.5239730551996341,
          0.5166219849499889,
          0.5194089311054434,
          0.4837691159283373,
          0.45673269774038294,
          0.4554505687980737,
          0.454253015714284,
          0.47125443945701984,
          0.4604511572678058,
          0.4661293016197227,
          0.4204885731049492,
          0.4711820923656375,
          0.3297057325930961,
          0.3526197348014815,
          0.3857650643226255,
          0.47138651094208395,
          0.5485320296839253,
          0.5538813403756659,
          0.569459849867071,
          0.5554791561260384,
          0.5570708874797592,
          0.4812134926913103,
          0.47036575712302003,
          0.47348025054380943,
          0.473955476594515,
          0.4713621402908976,
          0.4605761935009916,
          0.4710969967719247,
          0.4589752607581189,
          0.4629803196033093,
          0.4808075950116471,
          0.49367134231448984,
          0.4522960714314019,
          0.5074965056835604,
          0.5743569064735925,
          0.5776554069629424,
          0.5757942420567024,
          0.5552011385002255,
          0.5940367980578249,
          0.6516506619480484,
          0.6169390518696191,
          0.5225575929309668,
          0.6218383567764653,
          0.5931301876990689,
          0.6420093460866512,
          0.6032476442059258,
          0.5128392740703166,
          0.5038661838971816,
          0.4435675996474144,
          0.4445429599137836,
          0.42929649842988055,
          0.44438996711457496,
          0.4786048448356263,
          0.44054294276810413,
          0.4309560678195495,
          0.42646622173952536,
          0.4190236602323475,
          0.3953817177487445,
          0.41917612780095276,
          0.4164396421499083,
          0.4388527146612374,
          0.399538576806916,
          0.3937428472511137,
          0.44369909221817366,
          0.4379098363418301,
          0.43130833145291203,
          0.4293350840263223,
          0.4294275897869041,
          0.47999613268328806,
          0.3089200188004585,
          0.36486866568696463,
          0.529918042008529,
          0.6511541637213837,
          0.6100963965670714,
          0.6585702880991846,
          0.6412789403047723,
          0.640182418270899,
          0.6661794267906808,
          0.6385166825554461,
          0.6695088777663681,
          0.8313170789438544,
          0.6768056971247303,
          0.6493261280035327,
          0.648730915970109,
          0.7260214855234621,
          0.6521493733282511,
          0.6358063372156175,
          0.6590668575804519,
          0.642925736534659,
          0.6478389547389077,
          0.6377427726011788,
          0.6455797456478156,
          0.653270050091197,
          0.6449756219323306,
          0.6769325016615951,
          0.7206696888331957,
          0.7138310055493458,
          0.7305946846727677,
          0.728473122785145,
          0.7172737216953593,
          0.7243223396620465,
          0.7418366208579629,
          0.7261733502559555,
          0.7180799970580939,
          0.7177792526343031,
          0.718023291671194,
          0.7162412359685384,
          0.7297111140695026,
          0.7299723416928972,
          0.7340618705768499,
          0.7011037944391642,
          0.7343701638561602,
          0.7071299647881484,
          0.736466260896014,
          0.6885664694027682,
          0.7260124542999181,
          0.7408859678581922,
          0.7193227996608338,
          0.6330765881589806,
          0.6378383192566014,
          0.6458235877772971,
          0.609108654491527,
          0.6193316499853209,
          0.6157563439231865,
          0.6173387110029183,
          0.580762460179368,
          0.5623629777642875,
          0.5402677426369887,
          0.4867636428513822,
          0.5285210941372666,
          0.49179140117136566,
          0.5315131933224597,
          0.5180895660065805,
          0.5601617198010659,
          0.505896886305625,
          0.4812695860563229,
          0.5639142625258564,
          0.5378649104544573,
          0.5314860987163725,
          0.5156999950000187,
          0.4964287574614607,
          0.47787727872245267,
          0.44154306373513375,
          0.46288381584141913,
          0.44062521366873975,
          0.44497752492356357,
          0.4481392004082066,
          0.4269184813993592,
          0.4258544942198342,
          0.4269269305012732,
          0.4038386662676131,
          0.42565387200826654,
          0.4003626097456246,
          0.419290852705162,
          0.3668073593165956,
          0.38058961526337964,
          0.3823405262828232,
          0.3810412933750255,
          0.38932833733810585,
          0.3978036183139254,
          0.45413233173065604,
          0.4162705585319474,
          0.4376428074526678,
          0.3454575518482577,
          0.3867240035622212,
          0.46076802906154213,
          0.43058480076876954,
          0.4463762908075469,
          0.4289846150166717,
          0.5902292579744891,
          0.5427052579041944,
          0.6036172172575685,
          0.6549467113634916,
          0.6274691406749874,
          0.6492007771151859,
          0.6877225442309035,
          0.6480491954750128,
          0.6024785908216173,
          0.6118438395924802,
          0.6340641551557555,
          0.6387049652342004,
          0.5850421872896039,
          0.5085084609625722,
          0.49018675557175,
          0.47988086349109516,
          0.48399373055970163,
          0.48313036413993443,
          0.498240754431684,
          0.4861232888737505,
          0.47246816046071616,
          0.4513828616033368,
          0.45655348087837844,
          0.47653457737978666,
          0.4817628075761769,
          0.5033961164857242,
          0.5114866318035035,
          0.5203756109863427,
          0.5148051483748788,
          0.4994872076418332,
          0.45456913703622465,
          0.4706655447070353,
          0.4460389067278859,
          0.4385829253860452,
          0.4250713960813532,
          0.4704167832717488,
          0.47159413896303587,
          0.47118499258539276,
          0.4890247655176602,
          0.53007772170284,
          0.5162940053158445,
          0.48477467628206095,
          0.499395280649733,
          0.5549708730602213,
          0.5994541872300836,
          0.5873110954867383,
          0.56851402184389,
          0.5753729987663049,
          0.567190291097042,
          0.6080562657516303,
          0.6269184857979164,
          0.6505315168948604,
          0.668746149538899,
          0.6292432011084749,
          0.6333273169451791,
          0.617068732288343,
          0.6079421049580671,
          0.5742634587578891,
          0.617474076709652,
          0.6057468263293548,
          0.6399520064991893,
          0.6260829217361175,
          0.6276369096496571,
          0.617271191851081,
          0.6282982718875125,
          0.5856949444679549,
          0.5581089232033136,
          0.5959330045414933,
          0.5668640981770608,
          0.5191586343751264,
          0.4985603687796031,
          0.5145483323816952,
          0.5323092150121377,
          0.5519950758425582,
          0.5252023617744596,
          0.5511784836028958,
          0.5597955169977165,
          0.5567004145885517,
          0.5686148495982444,
          0.5347016740186602,
          0.5737717862270442,
          0.579212932850812,
          0.5470946072001236,
          0.5799884642396863,
          0.5483080015245234,
          0.5677661689876748,
          0.592117287920128,
          0.6176484460871537,
          0.5892963153193841,
          0.6236516091340955,
          0.5808554409589606,
          0.5824646784609009,
          0.5171318211321666,
          0.5472059101360762,
          0.5474302003123752,
          0.5489247060015343,
          0.5491365639229617,
          0.5011125334791988,
          0.5309934297088148,
          0.5688561205440632,
          0.5946183366027425,
          0.5921549565693602,
          0.5903608370214302,
          0.5442238144477984,
          0.43400374660523194,
          0.4643761878376359,
          0.5187767539731168,
          0.5489459202645118,
          0.46100810302949086,
          0.5088990602415058,
          0.3922248600674019,
          0.44912344444250263,
          0.5451381433761345,
          0.6018477403422025,
          0.5754210822065489,
          0.4917374584482315,
          0.454810368066931,
          0.4577142491428087,
          0.4574983985111095,
          0.3704099698552789,
          0.3740872596111139,
          0.4364376061914329,
          0.4245353154229161,
          0.41419178840079085,
          0.4048035311985874,
          0.4391743829416635,
          0.4385133952907094,
          0.43805399570377646,
          0.4384080104080015,
          0.5203517280526165,
          0.48894076531602554,
          0.46327184043517133,
          0.4541360204077116,
          0.5091351115185144,
          0.5040476772418503,
          0.4649316682510743,
          0.4509023839679756,
          0.4389885791687014,
          0.4286935480384758,
          0.4332113557108618,
          0.4184976987011156,
          0.45263661671615213,
          0.46289947306240853,
          0.44481470238087084,
          0.2798228644804667,
          0.31540218804956127,
          0.45934987184247306,
          0.43165082532907806,
          0.36824042065919765,
          0.3826865885133078,
          0.5476781475227395,
          0.5025058594295241,
          0.5037483244104055,
          0.5054894597254126,
          0.49279438837535794,
          0.5457581743485639,
          0.5151759733746244,
          0.5085857597829412,
          0.5539533103121784,
          0.5601301423224923,
          0.544256702734214,
          0.5313515671613708,
          0.5372224415291426,
          0.597561874261184,
          0.6056506566053201,
          0.5951565248607129,
          0.6156003678765168,
          0.6117001209195249,
          0.6260165599596937,
          0.591418626344459,
          0.5870862381093691,
          0.6035663677182118,
          0.5928129108176139,
          0.5884689612401878,
          0.615182033635115,
          0.6226680324161182,
          0.6234320027929742,
          0.6315358819905195,
          0.6458141606580599,
          0.6434442487466097,
          0.5811337449651803,
          0.6350908660569943,
          0.6299804591188032,
          0.6251226925559901,
          0.6205009650076101,
          0.6155927971017372,
          0.5963110708454777,
          0.6199234095779247,
          0.5786105991723944,
          0.5730299367943882,
          0.5974396575328866,
          0.6200591203183121,
          0.6179785473678518,
          0.6183753483625882,
          0.561838072023736,
          0.6002429371086382,
          0.6007168622888741,
          0.601811698904013,
          0.5787098471969131,
          0.6084319827684507,
          0.6100836031484713,
          0.5587971269472093,
          0.601024952395938,
          0.6301854391596308,
          0.5900093344215718,
          0.6193602273583741,
          0.5467914131031737,
          0.6004648735424449,
          0.558628130397939,
          0.662958159605398,
          0.6458392710995575,
          0.6320921343658172,
          0.6323480039008175,
          0.6276427751828682,
          0.6487677679103865,
          0.6004992696262812,
          0.6380552778278311,
          0.5852922786202105,
          0.6065041354693574,
          0.6249414549992602,
          0.6433479645105316,
          0.6558857793921848,
          0.684963103378745,
          0.6308964932137238,
          0.5990048024906764,
          0.6013627988410973,
          0.5841085601251852,
          0.5615448849933338,
          0.5609020896681453,
          0.5793990612697671,
          0.561539368516927,
          0.5407074592176191,
          0.5273416379134637,
          0.5032938545051806,
          0.4820621432785282,
          0.4867106818240902,
          0.4794134996352746,
          0.5424431080027442,
          0.5211742514054684,
          0.4884796372440614,
          0.5045680543213567,
          0.5407948183167984,
          0.5417480237077904,
          0.5072969645062099,
          0.5083679101998335,
          0.5211646637328589,
          0.4888958619826285,
          0.5230727109837703,
          0.5484815452192642,
          0.5496378413543495,
          0.5003623793745128,
          0.5361374240914122
         ]
        },
        {
         "mode": "lines",
         "name": "Log_Return vs open_time",
         "type": "scatter",
         "x": [
          0,
          1,
          2,
          3,
          4,
          5,
          6,
          7,
          8,
          9,
          10,
          11,
          12,
          13,
          14,
          15,
          16,
          17,
          18,
          19,
          20,
          21,
          22,
          23,
          24,
          25,
          26,
          27,
          28,
          29,
          30,
          31,
          32,
          33,
          34,
          35,
          36,
          37,
          38,
          39,
          40,
          41,
          42,
          43,
          44,
          45,
          46,
          47,
          48,
          49,
          50,
          51,
          52,
          53,
          54,
          55,
          56,
          57,
          58,
          59,
          60,
          61,
          62,
          63,
          64,
          65,
          66,
          67,
          68,
          69,
          70,
          71,
          72,
          73,
          74,
          75,
          76,
          77,
          78,
          79,
          80,
          81,
          82,
          83,
          84,
          85,
          86,
          87,
          88,
          89,
          90,
          91,
          92,
          93,
          94,
          95,
          96,
          97,
          98,
          99,
          100,
          101,
          102,
          103,
          104,
          105,
          106,
          107,
          108,
          109,
          110,
          111,
          112,
          113,
          114,
          115,
          116,
          117,
          118,
          119,
          120,
          121,
          122,
          123,
          124,
          125,
          126,
          127,
          128,
          129,
          130,
          131,
          132,
          133,
          134,
          135,
          136,
          137,
          138,
          139,
          140,
          141,
          142,
          143,
          144,
          145,
          146,
          147,
          148,
          149,
          150,
          151,
          152,
          153,
          154,
          155,
          156,
          157,
          158,
          159,
          160,
          161,
          162,
          163,
          164,
          165,
          166,
          167,
          168,
          169,
          170,
          171,
          172,
          173,
          174,
          175,
          176,
          177,
          178,
          179,
          180,
          181,
          182,
          183,
          184,
          185,
          186,
          187,
          188,
          189,
          190,
          191,
          192,
          193,
          194,
          195,
          196,
          197,
          198,
          199,
          200,
          201,
          202,
          203,
          204,
          205,
          206,
          207,
          208,
          209,
          210,
          211,
          212,
          213,
          214,
          215,
          216,
          217,
          218,
          219,
          220,
          221,
          222,
          223,
          224,
          225,
          226,
          227,
          228,
          229,
          230,
          231,
          232,
          233,
          234,
          235,
          236,
          237,
          238,
          239,
          240,
          241,
          242,
          243,
          244,
          245,
          246,
          247,
          248,
          249,
          250,
          251,
          252,
          253,
          254,
          255,
          256,
          257,
          258,
          259,
          260,
          261,
          262,
          263,
          264,
          265,
          266,
          267,
          268,
          269,
          270,
          271,
          272,
          273,
          274,
          275,
          276,
          277,
          278,
          279,
          280,
          281,
          282,
          283,
          284,
          285,
          286,
          287,
          288,
          289,
          290,
          291,
          292,
          293,
          294,
          295,
          296,
          297,
          298,
          299,
          300,
          301,
          302,
          303,
          304,
          305,
          306,
          307,
          308,
          309,
          310,
          311,
          312,
          313,
          314,
          315,
          316,
          317,
          318,
          319,
          320,
          321,
          322,
          323,
          324,
          325,
          326,
          327,
          328,
          329,
          330,
          331,
          332,
          333,
          334,
          335,
          336,
          337,
          338,
          339,
          340,
          341,
          342,
          343,
          344,
          345,
          346,
          347,
          348,
          349,
          350,
          351,
          352,
          353,
          354,
          355,
          356,
          357,
          358,
          359,
          360,
          361,
          362,
          363,
          364,
          365,
          366,
          367,
          368,
          369,
          370,
          371,
          372,
          373,
          374,
          375,
          376,
          377,
          378,
          379,
          380,
          381,
          382,
          383,
          384,
          385,
          386,
          387,
          388,
          389,
          390,
          391,
          392,
          393,
          394,
          395,
          396,
          397,
          398,
          399,
          400,
          401,
          402,
          403,
          404,
          405,
          406,
          407,
          408,
          409,
          410,
          411,
          412,
          413,
          414,
          415,
          416,
          417,
          418,
          419,
          420,
          421,
          422,
          423,
          424,
          425,
          426,
          427,
          428,
          429,
          430,
          431,
          432,
          433,
          434,
          435,
          436,
          437,
          438,
          439,
          440,
          441,
          442,
          443,
          444,
          445,
          446,
          447,
          448,
          449,
          450,
          451,
          452,
          453,
          454,
          455,
          456,
          457,
          458,
          459,
          460,
          461,
          462,
          463,
          464,
          465,
          466,
          467,
          468,
          469,
          470,
          471,
          472,
          473,
          474,
          475,
          476,
          477,
          478,
          479,
          480,
          481,
          482,
          483,
          484,
          485,
          486,
          487,
          488,
          489,
          490,
          491,
          492,
          493,
          494,
          495,
          496,
          497,
          498,
          499
         ],
         "y": [
          null,
          null,
          null,
          null,
          null,
          null,
          null,
          null,
          null,
          null,
          null,
          null,
          null,
          null,
          null,
          null,
          null,
          null,
          null,
          null,
          null,
          null,
          null,
          null,
          null,
          null,
          null,
          null,
          null,
          null,
          -0.07476895579088016,
          0.05093020585027553,
          0.04533335955482014,
          0.07765214476524096,
          0.005668579560645182,
          0.08820313661629135,
          0.1270204940377081,
          0.0733187759390862,
          0.05111142391374042,
          0.038932662222703376,
          0.011861082578037183,
          -0.03780863308659663,
          -0.04256889441396939,
          -0.09630473048498883,
          -0.11933047234855879,
          0.08147083031128068,
          -0.006274351112276608,
          0.060215100349382274,
          0.12169928485184238,
          0.16981622112395847,
          0.08631148118221588,
          0.06283567136442893,
          0.05633220341716492,
          0.10537898433736412,
          0.02509158443042582,
          -0.015325004428285131,
          -0.03359148786070629,
          -0.05765722330909846,
          0.07154690255840011,
          0.06612602170910017,
          -0.10976341296721605,
          0.057047070497693864,
          0.056567548674449165,
          0.065473766519331,
          -0.04094068650093086,
          0.027697913136618926,
          -0.011508436760615482,
          0.022244858566406643,
          0.002289837329386452,
          -0.0634764491553109,
          -0.12711337008011725,
          -0.11973647006923967,
          -0.1391668014881552,
          -0.12754436133418207,
          -0.1825852653748709,
          -0.11427133974327222,
          -0.0733974966061496,
          -0.09899604987049246,
          -0.10430065055950244,
          -0.016248235701894643,
          -0.07257825186425762,
          -0.06175461404022876,
          -0.041079783568439096,
          0.011325822337118336,
          -0.009650669492086626,
          0.01824002311022644,
          0.07676864738088396,
          -0.009617423013677347,
          0.0216242691059709,
          0.08981201752037654,
          -0.15547715844046361,
          0.1529019702881203,
          0.16029451252408364,
          0.16974374926169936,
          0.11313411049648114,
          -0.004826628243327979,
          0.013238085335917903,
          0.18775430373601712,
          0.1725827949855759,
          0.13590691850686717,
          0.07035474517000379,
          0.03962950537469731,
          0.027210720570277538,
          0.02777239169512512,
          -0.008546801701455806,
          -0.04589189103048339,
          -0.019811960581886754,
          -0.06741372036031261,
          -0.03707945306583,
          -0.014298096357028521,
          -0.08298222338907331,
          -0.15800530786334566,
          -0.09269769566831464,
          -0.017132651269358333,
          0.01813935358109445,
          0.016240276583945244,
          0.07259276123149623,
          0.08348869843742741,
          -0.06267966471784846,
          -0.08889921854642002,
          -0.17016892527910366,
          0.0863612826076079,
          0.004344185401204743,
          0.10185011468600676,
          0.11170536543809506,
          0.023079961886738946,
          0.08528558061059506,
          0.08415085339778547,
          0.08459097012062979,
          0.12360840936910931,
          0.048128835005620214,
          0.07976995115124666,
          0.03691464043689619,
          0.028736575077080398,
          0.028810460200679944,
          0.02327729361724096,
          -0.028467659557640464,
          0.008482751234750598,
          -0.009938018171566339,
          0.04183680593437223,
          -0.02142913888646901,
          -0.08629946784433111,
          0.01853688580993864,
          0.010823695371108935,
          -0.00345090537988342,
          -0.011586947145493503,
          -0.01536478028448372,
          -0.08090590885045618,
          -0.18258482802961046,
          -0.1953689389771207,
          -0.17471275814261486,
          -0.015323997920380325,
          -0.11350876522927782,
          -0.0365583248446338,
          -0.004966266087006433,
          0.06260606580085623,
          0.025210164129883923,
          -0.06435150226726932,
          -0.013152149870066498,
          -0.2146936258963052,
          -0.167736604530504,
          0.07203496691636731,
          0.04098308450597928,
          -0.10933073662187773,
          -0.04261105408754271,
          -0.0026559383887859735,
          -0.08245448013012092,
          0.06797388853072676,
          -0.02078397871915558,
          0.02890684385165522,
          0.03506137090229233,
          -0.006545711750875172,
          0.03604752066911621,
          0.1072240530088498,
          -0.02115491256601011,
          0.03192674031048112,
          0.06071547882090156,
          0.014461006881849675,
          0.019143151431691548,
          0.057309033469654415,
          -0.03087857689052381,
          -0.014433298645558945,
          -0.009311745258084952,
          0.009133671006581124,
          0.012347453793953408,
          0.03915347882046593,
          -0.02086105779274339,
          0.03848064062802005,
          0.07423879921751757,
          -0.13022982946584175,
          -0.09594406376818404,
          0.07501433381241306,
          0.07608414165491305,
          -0.05974305565457806,
          -0.011691964782432993,
          -0.0414459327122478,
          -0.17862361978956823,
          0.013096175247823178,
          -0.026352451238515675,
          -0.071659016337843,
          -0.017253869615759698,
          0.05203247225747836,
          0.050971950294234014,
          0.02827801607333552,
          -0.1281145019708713,
          -0.057797507730757716,
          -0.0273178282455476,
          0.05124526921834166,
          -0.009679973874848924,
          0.11157224908464321,
          -0.0782255590269371,
          -0.048181137616747416,
          -0.12623636976459263,
          -0.04882291668815974,
          -0.03211842529914617,
          0.15960801396829682,
          0.04483350441528842,
          0.15670021090274536,
          0.16383560855966692,
          0.06800550655145081,
          0.06528724238643382,
          0.10751476070625038,
          0.1435872366730179,
          0.11339667856283119,
          0.1148252886470714,
          0.03812438712779616,
          -0.002689448841032389,
          0.02536259808580296,
          -0.0338294302448333,
          -0.09557178698076324,
          0.003324346690421964,
          0.08289921895664,
          0.1263534105479757,
          -0.04942698052974662,
          -0.0231522377532756,
          -0.02937571233353808,
          -0.06930698490390888,
          -0.06858067241604769,
          -0.08582258678928453,
          -0.1033990012760084,
          -0.16963542047223779,
          -0.1519808080344286,
          -0.1611802352748038,
          -0.1560648669911104,
          -0.1678315626880863,
          0.050554840593323026,
          -0.03296304510335233,
          0.1569887066421254,
          -0.0589485009881998,
          0.036524026558022504,
          -0.058213683728210695,
          0.09490202195388407,
          0.0689816045500899,
          0.02678454472531846,
          -0.06607734452323151,
          -0.058519784952056696,
          -0.006092130309621007,
          0.038223645955449394,
          0.0547206789172809,
          0.10720364331280915,
          0.1552775384671452,
          0.06854618903422649,
          0.10543288382192383,
          0.04827762159035378,
          -0.0002648228888807971,
          0.004310592703561945,
          -0.05705595198678239,
          -0.04486561685858073,
          -0.020626276491390757,
          -0.058996210237277955,
          -0.06209352569341829,
          -0.009901684266746622,
          -0.007023549583207497,
          0.07925139560671011,
          0.11119082252083495,
          -0.05302914373328594,
          -0.05051072645185464,
          -0.0005758892716057078,
          -0.12262323688117834,
          -0.00608177539594058,
          -0.053987286544742344,
          0.15615239686589216,
          0.027699932442272666,
          -0.08509034626658576,
          -0.011915346569877146,
          -0.023077653136059285,
          -0.11095238614155073,
          0.02051088580573442,
          0.09800300706631296,
          0.1545216437553595,
          0.10354503560237076,
          0.03170861329618421,
          0.12418230554839384,
          0.08784898924622621,
          -0.0439388860546786,
          -0.060037478238579974,
          -0.0888438398677799,
          -0.027290607148028178,
          -0.01831997688419869,
          -0.059942364973469636,
          -0.11573132988340047,
          0.0021621378509812726,
          0.00911852253156223,
          0.07262237099819972,
          0.10676832606286688,
          -0.08236671027386677,
          -0.1486228584105904,
          -0.09240488630758975,
          -0.14555941033288172,
          -0.09368709952838972,
          0.040504738735105544,
          0.03994867734292447,
          -0.003936379165182771,
          -0.11250181943026082,
          0.03635679145163884,
          -0.026828603946378256,
          -0.1133669293830307,
          -0.023847913347994684,
          0.06162433364405979,
          0.06229666847423864,
          -0.00842608524809561,
          -0.08458929732740737,
          0.15545829920573853,
          0.14158081649134896,
          0.06186904330800307,
          -0.02172148543610561,
          0.045795931210018605,
          0.07287545354878758,
          0.11773438853182673,
          0.0419860290527489,
          -0.08808361793464485,
          0.03451129574507015,
          0.06274370825413551,
          0.06831840057658208,
          0.07378207271882806,
          0.011650405606678071,
          -0.07425038247779757,
          -0.06776161808860942,
          -0.13838517244008974,
          -0.08773710202352332,
          0.07418303649721254,
          0.0017800506347111732,
          0.018488304245237605,
          0.008357883990618813,
          0.008896540322048884,
          -0.09516279970326176,
          -0.11641123876574341,
          -0.11266839677308417,
          -0.029377707081231646,
          -0.03415135473816494,
          -0.03330553181565508,
          -0.12744805012451235,
          0.09071126833204665,
          0.09785715776406334,
          0.0941846306582316,
          -0.028625096795763527,
          0.10804733627208513,
          -0.011721224797235186,
          0.13623556741325055,
          0.1517758606775989,
          0.018631968303824915,
          0.35348363580049985,
          0.19270221502511192,
          0.13985671401227334,
          0.03233956343358497,
          0.00036450193534505915,
          0.0028088038515029137,
          -0.2807016527314223,
          -0.24358348221759896,
          -0.11036831174905332,
          -0.10528433392687851,
          -0.10039001458613392,
          0.04952890910727702,
          -0.04739288578859661,
          0.05208747647532604,
          0.04134712643332617,
          0.005563104445659273,
          -0.12736527968585024,
          -0.11954472075181938,
          -0.11204968721487137,
          0.03330819636109254,
          -0.08884148427189863,
          -0.10851243934478656,
          -0.07723169398442979,
          -0.06735394746077843,
          -0.06058522405927375,
          -0.05434140679724443,
          -0.07759245549849701,
          -0.06953504522547196,
          -0.12146271615581673,
          -0.15504542140668953,
          -0.1047779863735443,
          0.09248896017598003,
          0.08052263677163873,
          -0.08248651277491768,
          -0.08794059234536361,
          0.03849154960860765,
          -0.010240622432355257,
          0.20371939260152203,
          0.013184267755124901,
          0.01656425607544608,
          0.0196737619255213,
          0.06223176645175684,
          -0.046177751659977284,
          -0.008856348540837684,
          0.0694671267370757,
          0.004096183292923279,
          -0.04378129233998991,
          -0.03675196427641814,
          -0.029722636243606815,
          0.1560927319316196,
          0.16140385486057787,
          -0.028406199580546562,
          -0.012264461571269779,
          0.07874182960091458,
          0.07801669586561971,
          0.12537401516428529,
          0.05802511598779762,
          0.05679107742834467,
          -0.052926354510338766,
          -0.06971118176846092,
          -0.03847200880950876,
          -0.037386292442110516,
          0.033872936647654006,
          -0.08324475721516984,
          -0.03798068797982757,
          -0.03586513654283419,
          0.011726614824631316,
          0.15584547656620298,
          0.048813681698434835,
          0.04742715268050268,
          0.04597808668708172,
          0.04457254009837316,
          0.029301216466660174,
          -0.03229426487279569,
          0.06896241217801008,
          0.0062209886705973305,
          -0.04922000879421423,
          -0.0927918185403658,
          -0.0936209848171696,
          0.005837200885646994,
          0.13395754595647708,
          -0.07934946526969691,
          -0.034289052161455925,
          0.027985720025788533,
          0.028649408544391106,
          0.09568647046007143,
          0.01907384572718621,
          0.020374877376529116,
          -0.13120056998799876,
          -0.14900216738026736,
          0.04649519106418735,
          -0.13789173776645505,
          0.04471852801846982,
          -0.08120543066404937,
          0.011526096616314882,
          -0.152714336279796,
          0.025507491258700717,
          0.0610558529540961,
          0.07478106609799044,
          -0.03826388425625462,
          -0.03661202327288237,
          -0.10107596908024692,
          0.07935021484376703,
          0.07541323661212923,
          0.15437426106456828,
          0.05245726634723902,
          -0.0151174010434952,
          0.020575143523423378,
          -0.07485480673221287,
          -0.1371657758527922,
          -0.04072220655471508,
          -0.03977794471223058,
          -0.03125425391869299,
          -0.07164368253983305,
          -0.006632661577110634,
          -0.005039741284526577,
          -0.07613697592446753,
          -0.07164530054017063,
          -0.10300274985410877,
          -0.11639120884493236,
          -0.027168907592061236,
          -0.04049779871941134,
          -0.02161491314612564,
          -0.014216079256999685,
          0.14648916222543457,
          0.024763626753767556,
          0.10509543148539924,
          0.1152999107928054,
          0.19177765383364262,
          0.1018099378625222,
          0.037659798630940246,
          0.027297351058450686,
          -0.023195289913636508,
          0.09484764440175272,
          0.04973263539859925,
          0.0178282825101907,
          0.02991571706028663,
          0.12158876282827882,
          0.05083014240895073
         ]
        },
        {
         "mode": "lines",
         "name": "Log_Return vs Volatility",
         "type": "scatter",
         "x": [
          0,
          1,
          2,
          3,
          4,
          5,
          6,
          7,
          8,
          9,
          10,
          11,
          12,
          13,
          14,
          15,
          16,
          17,
          18,
          19,
          20,
          21,
          22,
          23,
          24,
          25,
          26,
          27,
          28,
          29,
          30,
          31,
          32,
          33,
          34,
          35,
          36,
          37,
          38,
          39,
          40,
          41,
          42,
          43,
          44,
          45,
          46,
          47,
          48,
          49,
          50,
          51,
          52,
          53,
          54,
          55,
          56,
          57,
          58,
          59,
          60,
          61,
          62,
          63,
          64,
          65,
          66,
          67,
          68,
          69,
          70,
          71,
          72,
          73,
          74,
          75,
          76,
          77,
          78,
          79,
          80,
          81,
          82,
          83,
          84,
          85,
          86,
          87,
          88,
          89,
          90,
          91,
          92,
          93,
          94,
          95,
          96,
          97,
          98,
          99,
          100,
          101,
          102,
          103,
          104,
          105,
          106,
          107,
          108,
          109,
          110,
          111,
          112,
          113,
          114,
          115,
          116,
          117,
          118,
          119,
          120,
          121,
          122,
          123,
          124,
          125,
          126,
          127,
          128,
          129,
          130,
          131,
          132,
          133,
          134,
          135,
          136,
          137,
          138,
          139,
          140,
          141,
          142,
          143,
          144,
          145,
          146,
          147,
          148,
          149,
          150,
          151,
          152,
          153,
          154,
          155,
          156,
          157,
          158,
          159,
          160,
          161,
          162,
          163,
          164,
          165,
          166,
          167,
          168,
          169,
          170,
          171,
          172,
          173,
          174,
          175,
          176,
          177,
          178,
          179,
          180,
          181,
          182,
          183,
          184,
          185,
          186,
          187,
          188,
          189,
          190,
          191,
          192,
          193,
          194,
          195,
          196,
          197,
          198,
          199,
          200,
          201,
          202,
          203,
          204,
          205,
          206,
          207,
          208,
          209,
          210,
          211,
          212,
          213,
          214,
          215,
          216,
          217,
          218,
          219,
          220,
          221,
          222,
          223,
          224,
          225,
          226,
          227,
          228,
          229,
          230,
          231,
          232,
          233,
          234,
          235,
          236,
          237,
          238,
          239,
          240,
          241,
          242,
          243,
          244,
          245,
          246,
          247,
          248,
          249,
          250,
          251,
          252,
          253,
          254,
          255,
          256,
          257,
          258,
          259,
          260,
          261,
          262,
          263,
          264,
          265,
          266,
          267,
          268,
          269,
          270,
          271,
          272,
          273,
          274,
          275,
          276,
          277,
          278,
          279,
          280,
          281,
          282,
          283,
          284,
          285,
          286,
          287,
          288,
          289,
          290,
          291,
          292,
          293,
          294,
          295,
          296,
          297,
          298,
          299,
          300,
          301,
          302,
          303,
          304,
          305,
          306,
          307,
          308,
          309,
          310,
          311,
          312,
          313,
          314,
          315,
          316,
          317,
          318,
          319,
          320,
          321,
          322,
          323,
          324,
          325,
          326,
          327,
          328,
          329,
          330,
          331,
          332,
          333,
          334,
          335,
          336,
          337,
          338,
          339,
          340,
          341,
          342,
          343,
          344,
          345,
          346,
          347,
          348,
          349,
          350,
          351,
          352,
          353,
          354,
          355,
          356,
          357,
          358,
          359,
          360,
          361,
          362,
          363,
          364,
          365,
          366,
          367,
          368,
          369,
          370,
          371,
          372,
          373,
          374,
          375,
          376,
          377,
          378,
          379,
          380,
          381,
          382,
          383,
          384,
          385,
          386,
          387,
          388,
          389,
          390,
          391,
          392,
          393,
          394,
          395,
          396,
          397,
          398,
          399,
          400,
          401,
          402,
          403,
          404,
          405,
          406,
          407,
          408,
          409,
          410,
          411,
          412,
          413,
          414,
          415,
          416,
          417,
          418,
          419,
          420,
          421,
          422,
          423,
          424,
          425,
          426,
          427,
          428,
          429,
          430,
          431,
          432,
          433,
          434,
          435,
          436,
          437,
          438,
          439,
          440,
          441,
          442,
          443,
          444,
          445,
          446,
          447,
          448,
          449,
          450,
          451,
          452,
          453,
          454,
          455,
          456,
          457,
          458,
          459,
          460,
          461,
          462,
          463,
          464,
          465,
          466,
          467,
          468,
          469,
          470,
          471,
          472,
          473,
          474,
          475,
          476,
          477,
          478,
          479,
          480,
          481,
          482,
          483,
          484,
          485,
          486,
          487,
          488,
          489,
          490,
          491,
          492,
          493,
          494,
          495,
          496,
          497,
          498,
          499
         ],
         "y": [
          null,
          null,
          null,
          null,
          null,
          null,
          null,
          null,
          null,
          null,
          null,
          null,
          null,
          null,
          null,
          null,
          null,
          null,
          null,
          null,
          null,
          null,
          null,
          null,
          null,
          null,
          null,
          null,
          null,
          null,
          null,
          -0.18610860831212248,
          -0.17948303463226517,
          -0.19344638566190106,
          -0.20785978762068447,
          -0.12416009020838853,
          -0.14066615294850943,
          -0.15946824167864024,
          -0.17184684784789908,
          -0.18171535259982044,
          -0.21491784633117472,
          -0.1867462721503805,
          -0.18769324319891903,
          -0.21335185489063108,
          -0.20270517268229685,
          -0.08279031760173068,
          -0.053639894678846604,
          -0.08635874312233059,
          -0.07892725448234662,
          -0.10097552188674853,
          -0.1456075645077753,
          -0.08067550434123073,
          -0.079761121536507,
          -0.10597799039426999,
          -0.07082885340594944,
          -0.057245683629592425,
          -0.061370887535562184,
          -0.04235490763918461,
          -0.09982567518761043,
          0.22334391202070242,
          -0.1298639439571519,
          0.22836863398776938,
          0.22195299538157584,
          0.23621644684364101,
          0.23859106541780833,
          0.2155590287370643,
          0.22442438930538489,
          0.2695835097200259,
          0.2675981927956063,
          0.2758533396250084,
          0.29493795098790515,
          0.28559769729833656,
          0.2917343552923852,
          0.30112805062180714,
          0.3063628096853993,
          0.2901528586806244,
          0.30206573238603346,
          0.29965439541453015,
          0.32732599179329597,
          0.35080451880876784,
          0.37145758854100325,
          0.3491019238977116,
          0.3503750437208007,
          0.34133635407814916,
          0.30532746222552987,
          0.3011614254381569,
          0.29006251191375093,
          0.2566700343809078,
          0.26106818935998577,
          0.2567240755868003,
          0.5043052543847237,
          0.36792338021029075,
          0.3874635177218616,
          0.3832177100692438,
          0.3683946498188994,
          0.29553845542488877,
          0.4075766490203366,
          0.3118600714028414,
          0.3153698939471134,
          0.3047578545688409,
          0.22928436149864007,
          0.2522295520616484,
          0.24792872972325689,
          0.24758081651187977,
          0.22848519687001842,
          0.2000087376785778,
          0.20046792850590636,
          0.21703675734588163,
          0.19893517848375614,
          0.20075488480757786,
          0.19912251859539587,
          0.20394184277174984,
          0.20312218133017662,
          0.1923184011568648,
          0.21177999590439664,
          0.2081254850729692,
          0.21910953556605975,
          0.2688214768390391,
          -0.09664563050305675,
          -0.09006147579069582,
          -0.08552134496011277,
          -0.16614609051309986,
          -0.2546538911623515,
          -0.12908501860368968,
          -0.13166562406083948,
          -0.11840780398558932,
          -0.20883763893199478,
          -0.1915161254487377,
          -0.19168049219437644,
          -0.18131599943586454,
          -0.1504618655199571,
          -0.14690752094586212,
          -0.161425716211675,
          -0.16417070075669968,
          -0.1701357904933547,
          -0.168911305802006,
          -0.16949726192767148,
          -0.17406420337857767,
          -0.19715490031987953,
          -0.1599411945736819,
          -0.17098068731144972,
          -0.16441555988978435,
          -0.14720852345059787,
          -0.1466708021142559,
          -0.14960780199688967,
          -0.14917800229485276,
          -0.161430760845108,
          -0.2279707751852699,
          0.08950852386034773,
          0.09763554665610642,
          0.10394934158533481,
          0.034690108495526464,
          0.1964330607892514,
          0.03972989766761112,
          0.027897527573320747,
          0.024995359192272363,
          0.021267380348568045,
          0.031131850952478515,
          0.01590885366318292,
          -0.35981293213855997,
          -0.25786001803638436,
          -0.13585867643553426,
          -0.12430184686518381,
          -0.246198067855421,
          -0.15744083984341095,
          -0.16612499643989337,
          -0.19485264384746173,
          -0.05788206327896583,
          -0.07489117444678821,
          -0.08713427085085525,
          -0.08483347146101568,
          -0.09280785787448624,
          -0.09656217257591387,
          -0.09275199136712318,
          -0.21825983495459972,
          -0.16588995596519096,
          -0.16719371838188318,
          -0.16742341199615055,
          -0.22208725494203355,
          -0.21615589029077276,
          -0.25039246140705645,
          -0.24638137377940694,
          -0.24771960529374082,
          -0.27695412163530325,
          -0.2798105983179639,
          -0.26710208700877885,
          -0.2583040050191243,
          -0.24459974428591186,
          -0.23325406649018016,
          -0.12375421919523204,
          -0.15402773118312416,
          -0.21573236511371416,
          -0.21684955279914123,
          -0.13918199685383653,
          -0.2042453462549284,
          -0.18337790582963462,
          -0.1199130297977602,
          -0.2524336420639858,
          -0.22667228630862465,
          -0.21473986922964652,
          -0.203173712359212,
          -0.23341326336154583,
          -0.24201135211439806,
          -0.2765160770554824,
          -0.03655612988164928,
          -0.18703455830345328,
          -0.17836945842970867,
          -0.1517207116963882,
          -0.10779441824056703,
          -0.15768050946987927,
          -0.013182573766488149,
          -0.009823642991211624,
          -0.04542512747605444,
          -0.04328295721268897,
          -0.04487106837496942,
          0.24754013774490508,
          0.13283311211062218,
          0.10516519774950545,
          0.10624135761264239,
          0.14419760133681916,
          0.14698578564079998,
          0.16382748645163753,
          0.16155338489027887,
          0.1639144601547749,
          0.16640067853195054,
          0.17567789327746788,
          0.1290928559413001,
          0.06720894080375951,
          0.08973740461484574,
          0.08944487372822678,
          0.05684236983702292,
          0.08202287839345633,
          0.0719490183082829,
          0.18786031611808313,
          0.1919351314516731,
          0.1927909831877884,
          0.20338354305665143,
          0.20313425543443836,
          0.20977198424915153,
          0.21078855187152462,
          0.25358091376975095,
          0.2511620119745973,
          0.32727181532339283,
          0.32933345264523134,
          0.3296517413243937,
          -0.0759311263341738,
          0.25770877800353,
          0.16989638488877692,
          -0.3626303396704241,
          -0.0763697485542437,
          -0.16511163409599253,
          0.16458881376968834,
          0.044532464566920595,
          0.04992883852020124,
          0.02983157520704216,
          0.033337150344847154,
          0.04642214403287941,
          0.05325616848216474,
          -0.013370135237137011,
          -0.046589173772700124,
          -0.040189785862842164,
          -0.053635188072096045,
          -0.043495957763124225,
          -0.03273872930791132,
          -0.01581761804766129,
          -0.014899558615328795,
          -0.013383142169659974,
          -0.01060816625902312,
          -0.02667703182258235,
          -0.053607638941104166,
          -0.05261456821358791,
          -0.06207469400232096,
          -0.10786840955460796,
          -0.05394324058246015,
          -0.06546474237918638,
          -0.20961013277319912,
          -0.20775406084174058,
          -0.1956087202054041,
          -0.09944685960367969,
          -0.19208445575037028,
          -0.1655101393796239,
          -0.4853772240767151,
          -0.46830294084443974,
          -0.4466877013751347,
          0.01370864760776516,
          0.008594442797062509,
          -0.02164767613077866,
          0.033175375752585,
          0.06903736709792864,
          0.10611366807297648,
          0.11344125888751429,
          0.12235071700545255,
          0.15686303072415944,
          0.1417879676140163,
          0.13206189521036413,
          0.1357103360347019,
          0.1168519713205177,
          0.10401383521028597,
          0.11660702779071463,
          0.14544260480613935,
          0.1823352515584202,
          0.22348252660546902,
          0.2123811031613556,
          0.18568350093716926,
          0.19649050991794892,
          0.3989173284916806,
          0.433271835489783,
          0.45515419164890325,
          0.43518707817280594,
          0.45538122192148184,
          0.49601497005951933,
          0.4600697282740385,
          0.4734244009527143,
          0.46998196662418285,
          0.2643034597204905,
          0.27575347675968537,
          0.3245249204410531,
          0.24241297657747554,
          0.2253206631075492,
          0.23029288468877623,
          0.2312330781268036,
          0.23232867694944234,
          0.3148243039642467,
          0.32261763113489034,
          0.33046433566364336,
          0.33128513018168626,
          0.3609485620168059,
          0.3502204992338839,
          0.36078846597729874,
          0.37060154034603476,
          0.3448648612048931,
          0.3172621217289563,
          0.34783339372308775,
          0.3454069781379359,
          0.3433631863040224,
          0.32685384147669105,
          0.28287128992607574,
          0.2498897309470591,
          0.30424826368037144,
          0.28782179818462794,
          0.18851930005076742,
          0.3476914417533887,
          0.3300982589620137,
          0.32245656102666836,
          0.32055181151585255,
          0.35139070440205705,
          0.35708405149340083,
          0.3590454058256777,
          0.3614622204891299,
          0.35598438444504354,
          0.35257598356037745,
          0.37626213762372024,
          0.0515034660129222,
          0.04734355951309259,
          0.04299793749381705,
          0.0930304778111218,
          -0.08983437579019628,
          0.07791783639716145,
          -0.12998404473272682,
          -0.13883498756725027,
          -0.044108989223751845,
          -0.10894808023110387,
          0.15385735689641913,
          0.1573695071317012,
          0.1375017829745491,
          0.13331959632558463,
          0.134774222236452,
          0.33225561105686513,
          0.3671444363598416,
          0.2656719909110413,
          0.27285216307771853,
          0.27049950735146466,
          0.3096937757462318,
          0.15297839218530435,
          0.24376208632531,
          0.23910857940816949,
          0.23449670987755422,
          0.1075414143767487,
          0.11030370376521535,
          0.11230206413849823,
          0.20024490887818425,
          -0.03713296893027416,
          -0.04323954160688123,
          -0.04409059574754226,
          -0.04190018696162729,
          -0.04171369251276831,
          -0.04187269930930848,
          -0.03313801666806005,
          -0.032617946733498326,
          -0.02567931187570262,
          -0.00013410633370583046,
          -0.1929767532908915,
          0.2914746370916515,
          0.28149721824977936,
          0.1950681917843163,
          0.19413524656139328,
          0.24067780874742156,
          0.2357617367361274,
          0.45659483340112594,
          -0.10624915101996302,
          -0.10171827006545815,
          -0.10261985435669643,
          -0.0931194254012455,
          -0.09606198783521426,
          -0.09880482008992324,
          -0.0802273358381885,
          -0.12072664890035754,
          -0.1288517600842465,
          -0.1287387623348597,
          -0.12845900742925034,
          -0.04960274832853712,
          -0.029997608972986374,
          -0.2606133262457742,
          -0.24656840979141045,
          -0.20511537846155725,
          -0.20945028424489692,
          -0.22251306359604298,
          -0.24719036283495652,
          -0.2526134079586896,
          -0.26982673802547896,
          -0.29213503620272935,
          -0.3089687336412264,
          -0.4003187586395429,
          -0.3318970748019882,
          -0.38075559196691194,
          -0.3608740729472176,
          -0.3513819796406206,
          -0.3460912655170899,
          -0.4173096936658118,
          -0.2911450552369057,
          -0.28171750349908325,
          -0.2749293575910482,
          -0.27305512582837593,
          -0.3048786214937801,
          -0.31341921102616355,
          -0.29907273611468327,
          -0.282776387978009,
          -0.2642382689284535,
          -0.23305225733637636,
          -0.24170317493979462,
          -0.27327911746601885,
          -0.261050462307705,
          -0.06040804058849943,
          -0.051098811258313885,
          -0.0972008644916794,
          -0.09642629984593772,
          -0.0812732381050238,
          -0.043342911094139486,
          -0.04274215067434921,
          0.004514758105505784,
          0.014204444005601195,
          -0.02167158970149515,
          0.07756724074975195,
          -0.021803112073749693,
          0.1571660049473216,
          0.06385037921234735,
          0.14907014685814707,
          0.144256171886829,
          0.1534800729378778,
          0.14103998015893654,
          0.07801686622263743,
          0.08139233394174217,
          0.09493482076040967,
          0.19329106018744022,
          0.21798966346037807,
          0.1705957274849812,
          0.12920994081251158,
          0.13365126455351728,
          0.1204403419888458,
          -0.010592445167565653,
          0.012939950268970182,
          -0.005198107724217446,
          0.04337377010892121,
          -0.022655369595219327,
          -0.007789746807921206,
          -0.017630167859845232,
          -0.017746553755272815,
          -0.01771049225934796,
          -0.017024439245467413,
          -0.04012896126784539,
          -0.052109536364458454,
          -0.08069864235740197,
          -0.025192005640713756,
          -0.12380027659953237,
          -0.1242552945563661,
          0.06074309760744073,
          -0.05466669841204085,
          -0.10921710995129316,
          -0.11247005515574403,
          -0.11703622471313775,
          -0.08284699279516135,
          -0.07195196214965971,
          -0.05844146219959448,
          -0.30867519161304924,
          -0.20071497646203515,
          -0.2098202116484136,
          -0.18896263641209488,
          -0.19240441065478736,
          -0.21251626481853503,
          -0.13683922009552085
         ]
        }
       ],
       "layout": {
        "template": {
         "data": {
          "bar": [
           {
            "error_x": {
             "color": "#2a3f5f"
            },
            "error_y": {
             "color": "#2a3f5f"
            },
            "marker": {
             "line": {
              "color": "#E5ECF6",
              "width": 0.5
             },
             "pattern": {
              "fillmode": "overlay",
              "size": 10,
              "solidity": 0.2
             }
            },
            "type": "bar"
           }
          ],
          "barpolar": [
           {
            "marker": {
             "line": {
              "color": "#E5ECF6",
              "width": 0.5
             },
             "pattern": {
              "fillmode": "overlay",
              "size": 10,
              "solidity": 0.2
             }
            },
            "type": "barpolar"
           }
          ],
          "carpet": [
           {
            "aaxis": {
             "endlinecolor": "#2a3f5f",
             "gridcolor": "white",
             "linecolor": "white",
             "minorgridcolor": "white",
             "startlinecolor": "#2a3f5f"
            },
            "baxis": {
             "endlinecolor": "#2a3f5f",
             "gridcolor": "white",
             "linecolor": "white",
             "minorgridcolor": "white",
             "startlinecolor": "#2a3f5f"
            },
            "type": "carpet"
           }
          ],
          "choropleth": [
           {
            "colorbar": {
             "outlinewidth": 0,
             "ticks": ""
            },
            "type": "choropleth"
           }
          ],
          "contour": [
           {
            "colorbar": {
             "outlinewidth": 0,
             "ticks": ""
            },
            "colorscale": [
             [
              0,
              "#0d0887"
             ],
             [
              0.1111111111111111,
              "#46039f"
             ],
             [
              0.2222222222222222,
              "#7201a8"
             ],
             [
              0.3333333333333333,
              "#9c179e"
             ],
             [
              0.4444444444444444,
              "#bd3786"
             ],
             [
              0.5555555555555556,
              "#d8576b"
             ],
             [
              0.6666666666666666,
              "#ed7953"
             ],
             [
              0.7777777777777778,
              "#fb9f3a"
             ],
             [
              0.8888888888888888,
              "#fdca26"
             ],
             [
              1,
              "#f0f921"
             ]
            ],
            "type": "contour"
           }
          ],
          "contourcarpet": [
           {
            "colorbar": {
             "outlinewidth": 0,
             "ticks": ""
            },
            "type": "contourcarpet"
           }
          ],
          "heatmap": [
           {
            "colorbar": {
             "outlinewidth": 0,
             "ticks": ""
            },
            "colorscale": [
             [
              0,
              "#0d0887"
             ],
             [
              0.1111111111111111,
              "#46039f"
             ],
             [
              0.2222222222222222,
              "#7201a8"
             ],
             [
              0.3333333333333333,
              "#9c179e"
             ],
             [
              0.4444444444444444,
              "#bd3786"
             ],
             [
              0.5555555555555556,
              "#d8576b"
             ],
             [
              0.6666666666666666,
              "#ed7953"
             ],
             [
              0.7777777777777778,
              "#fb9f3a"
             ],
             [
              0.8888888888888888,
              "#fdca26"
             ],
             [
              1,
              "#f0f921"
             ]
            ],
            "type": "heatmap"
           }
          ],
          "heatmapgl": [
           {
            "colorbar": {
             "outlinewidth": 0,
             "ticks": ""
            },
            "colorscale": [
             [
              0,
              "#0d0887"
             ],
             [
              0.1111111111111111,
              "#46039f"
             ],
             [
              0.2222222222222222,
              "#7201a8"
             ],
             [
              0.3333333333333333,
              "#9c179e"
             ],
             [
              0.4444444444444444,
              "#bd3786"
             ],
             [
              0.5555555555555556,
              "#d8576b"
             ],
             [
              0.6666666666666666,
              "#ed7953"
             ],
             [
              0.7777777777777778,
              "#fb9f3a"
             ],
             [
              0.8888888888888888,
              "#fdca26"
             ],
             [
              1,
              "#f0f921"
             ]
            ],
            "type": "heatmapgl"
           }
          ],
          "histogram": [
           {
            "marker": {
             "pattern": {
              "fillmode": "overlay",
              "size": 10,
              "solidity": 0.2
             }
            },
            "type": "histogram"
           }
          ],
          "histogram2d": [
           {
            "colorbar": {
             "outlinewidth": 0,
             "ticks": ""
            },
            "colorscale": [
             [
              0,
              "#0d0887"
             ],
             [
              0.1111111111111111,
              "#46039f"
             ],
             [
              0.2222222222222222,
              "#7201a8"
             ],
             [
              0.3333333333333333,
              "#9c179e"
             ],
             [
              0.4444444444444444,
              "#bd3786"
             ],
             [
              0.5555555555555556,
              "#d8576b"
             ],
             [
              0.6666666666666666,
              "#ed7953"
             ],
             [
              0.7777777777777778,
              "#fb9f3a"
             ],
             [
              0.8888888888888888,
              "#fdca26"
             ],
             [
              1,
              "#f0f921"
             ]
            ],
            "type": "histogram2d"
           }
          ],
          "histogram2dcontour": [
           {
            "colorbar": {
             "outlinewidth": 0,
             "ticks": ""
            },
            "colorscale": [
             [
              0,
              "#0d0887"
             ],
             [
              0.1111111111111111,
              "#46039f"
             ],
             [
              0.2222222222222222,
              "#7201a8"
             ],
             [
              0.3333333333333333,
              "#9c179e"
             ],
             [
              0.4444444444444444,
              "#bd3786"
             ],
             [
              0.5555555555555556,
              "#d8576b"
             ],
             [
              0.6666666666666666,
              "#ed7953"
             ],
             [
              0.7777777777777778,
              "#fb9f3a"
             ],
             [
              0.8888888888888888,
              "#fdca26"
             ],
             [
              1,
              "#f0f921"
             ]
            ],
            "type": "histogram2dcontour"
           }
          ],
          "mesh3d": [
           {
            "colorbar": {
             "outlinewidth": 0,
             "ticks": ""
            },
            "type": "mesh3d"
           }
          ],
          "parcoords": [
           {
            "line": {
             "colorbar": {
              "outlinewidth": 0,
              "ticks": ""
             }
            },
            "type": "parcoords"
           }
          ],
          "pie": [
           {
            "automargin": true,
            "type": "pie"
           }
          ],
          "scatter": [
           {
            "fillpattern": {
             "fillmode": "overlay",
             "size": 10,
             "solidity": 0.2
            },
            "type": "scatter"
           }
          ],
          "scatter3d": [
           {
            "line": {
             "colorbar": {
              "outlinewidth": 0,
              "ticks": ""
             }
            },
            "marker": {
             "colorbar": {
              "outlinewidth": 0,
              "ticks": ""
             }
            },
            "type": "scatter3d"
           }
          ],
          "scattercarpet": [
           {
            "marker": {
             "colorbar": {
              "outlinewidth": 0,
              "ticks": ""
             }
            },
            "type": "scattercarpet"
           }
          ],
          "scattergeo": [
           {
            "marker": {
             "colorbar": {
              "outlinewidth": 0,
              "ticks": ""
             }
            },
            "type": "scattergeo"
           }
          ],
          "scattergl": [
           {
            "marker": {
             "colorbar": {
              "outlinewidth": 0,
              "ticks": ""
             }
            },
            "type": "scattergl"
           }
          ],
          "scattermapbox": [
           {
            "marker": {
             "colorbar": {
              "outlinewidth": 0,
              "ticks": ""
             }
            },
            "type": "scattermapbox"
           }
          ],
          "scatterpolar": [
           {
            "marker": {
             "colorbar": {
              "outlinewidth": 0,
              "ticks": ""
             }
            },
            "type": "scatterpolar"
           }
          ],
          "scatterpolargl": [
           {
            "marker": {
             "colorbar": {
              "outlinewidth": 0,
              "ticks": ""
             }
            },
            "type": "scatterpolargl"
           }
          ],
          "scatterternary": [
           {
            "marker": {
             "colorbar": {
              "outlinewidth": 0,
              "ticks": ""
             }
            },
            "type": "scatterternary"
           }
          ],
          "surface": [
           {
            "colorbar": {
             "outlinewidth": 0,
             "ticks": ""
            },
            "colorscale": [
             [
              0,
              "#0d0887"
             ],
             [
              0.1111111111111111,
              "#46039f"
             ],
             [
              0.2222222222222222,
              "#7201a8"
             ],
             [
              0.3333333333333333,
              "#9c179e"
             ],
             [
              0.4444444444444444,
              "#bd3786"
             ],
             [
              0.5555555555555556,
              "#d8576b"
             ],
             [
              0.6666666666666666,
              "#ed7953"
             ],
             [
              0.7777777777777778,
              "#fb9f3a"
             ],
             [
              0.8888888888888888,
              "#fdca26"
             ],
             [
              1,
              "#f0f921"
             ]
            ],
            "type": "surface"
           }
          ],
          "table": [
           {
            "cells": {
             "fill": {
              "color": "#EBF0F8"
             },
             "line": {
              "color": "white"
             }
            },
            "header": {
             "fill": {
              "color": "#C8D4E3"
             },
             "line": {
              "color": "white"
             }
            },
            "type": "table"
           }
          ]
         },
         "layout": {
          "annotationdefaults": {
           "arrowcolor": "#2a3f5f",
           "arrowhead": 0,
           "arrowwidth": 1
          },
          "autotypenumbers": "strict",
          "coloraxis": {
           "colorbar": {
            "outlinewidth": 0,
            "ticks": ""
           }
          },
          "colorscale": {
           "diverging": [
            [
             0,
             "#8e0152"
            ],
            [
             0.1,
             "#c51b7d"
            ],
            [
             0.2,
             "#de77ae"
            ],
            [
             0.3,
             "#f1b6da"
            ],
            [
             0.4,
             "#fde0ef"
            ],
            [
             0.5,
             "#f7f7f7"
            ],
            [
             0.6,
             "#e6f5d0"
            ],
            [
             0.7,
             "#b8e186"
            ],
            [
             0.8,
             "#7fbc41"
            ],
            [
             0.9,
             "#4d9221"
            ],
            [
             1,
             "#276419"
            ]
           ],
           "sequential": [
            [
             0,
             "#0d0887"
            ],
            [
             0.1111111111111111,
             "#46039f"
            ],
            [
             0.2222222222222222,
             "#7201a8"
            ],
            [
             0.3333333333333333,
             "#9c179e"
            ],
            [
             0.4444444444444444,
             "#bd3786"
            ],
            [
             0.5555555555555556,
             "#d8576b"
            ],
            [
             0.6666666666666666,
             "#ed7953"
            ],
            [
             0.7777777777777778,
             "#fb9f3a"
            ],
            [
             0.8888888888888888,
             "#fdca26"
            ],
            [
             1,
             "#f0f921"
            ]
           ],
           "sequentialminus": [
            [
             0,
             "#0d0887"
            ],
            [
             0.1111111111111111,
             "#46039f"
            ],
            [
             0.2222222222222222,
             "#7201a8"
            ],
            [
             0.3333333333333333,
             "#9c179e"
            ],
            [
             0.4444444444444444,
             "#bd3786"
            ],
            [
             0.5555555555555556,
             "#d8576b"
            ],
            [
             0.6666666666666666,
             "#ed7953"
            ],
            [
             0.7777777777777778,
             "#fb9f3a"
            ],
            [
             0.8888888888888888,
             "#fdca26"
            ],
            [
             1,
             "#f0f921"
            ]
           ]
          },
          "colorway": [
           "#636efa",
           "#EF553B",
           "#00cc96",
           "#ab63fa",
           "#FFA15A",
           "#19d3f3",
           "#FF6692",
           "#B6E880",
           "#FF97FF",
           "#FECB52"
          ],
          "font": {
           "color": "#2a3f5f"
          },
          "geo": {
           "bgcolor": "white",
           "lakecolor": "white",
           "landcolor": "#E5ECF6",
           "showlakes": true,
           "showland": true,
           "subunitcolor": "white"
          },
          "hoverlabel": {
           "align": "left"
          },
          "hovermode": "closest",
          "mapbox": {
           "style": "light"
          },
          "paper_bgcolor": "white",
          "plot_bgcolor": "#E5ECF6",
          "polar": {
           "angularaxis": {
            "gridcolor": "white",
            "linecolor": "white",
            "ticks": ""
           },
           "bgcolor": "#E5ECF6",
           "radialaxis": {
            "gridcolor": "white",
            "linecolor": "white",
            "ticks": ""
           }
          },
          "scene": {
           "xaxis": {
            "backgroundcolor": "#E5ECF6",
            "gridcolor": "white",
            "gridwidth": 2,
            "linecolor": "white",
            "showbackground": true,
            "ticks": "",
            "zerolinecolor": "white"
           },
           "yaxis": {
            "backgroundcolor": "#E5ECF6",
            "gridcolor": "white",
            "gridwidth": 2,
            "linecolor": "white",
            "showbackground": true,
            "ticks": "",
            "zerolinecolor": "white"
           },
           "zaxis": {
            "backgroundcolor": "#E5ECF6",
            "gridcolor": "white",
            "gridwidth": 2,
            "linecolor": "white",
            "showbackground": true,
            "ticks": "",
            "zerolinecolor": "white"
           }
          },
          "shapedefaults": {
           "line": {
            "color": "#2a3f5f"
           }
          },
          "ternary": {
           "aaxis": {
            "gridcolor": "white",
            "linecolor": "white",
            "ticks": ""
           },
           "baxis": {
            "gridcolor": "white",
            "linecolor": "white",
            "ticks": ""
           },
           "bgcolor": "#E5ECF6",
           "caxis": {
            "gridcolor": "white",
            "linecolor": "white",
            "ticks": ""
           }
          },
          "title": {
           "x": 0.05
          },
          "xaxis": {
           "automargin": true,
           "gridcolor": "white",
           "linecolor": "white",
           "ticks": "",
           "title": {
            "standoff": 15
           },
           "zerolinecolor": "white",
           "zerolinewidth": 2
          },
          "yaxis": {
           "automargin": true,
           "gridcolor": "white",
           "linecolor": "white",
           "ticks": "",
           "title": {
            "standoff": 15
           },
           "zerolinecolor": "white",
           "zerolinewidth": 2
          }
         }
        },
        "title": {
         "text": "Rolling Cross-Correlation with Lag of 0 Day(s) (Window Size: 30 days)"
        },
        "xaxis": {
         "title": {
          "text": "Date"
         }
        },
        "yaxis": {
         "title": {
          "text": "Cross-Correlation"
         }
        }
       }
      }
     },
     "metadata": {},
     "output_type": "display_data"
    },
    {
     "data": {
      "application/vnd.plotly.v1+json": {
       "config": {
        "plotlyServerURL": "https://plot.ly"
       },
       "data": [
        {
         "mode": "lines",
         "name": "Log_Return vs closed_price",
         "type": "scatter",
         "x": [
          0,
          1,
          2,
          3,
          4,
          5,
          6,
          7,
          8,
          9,
          10,
          11,
          12,
          13,
          14,
          15,
          16,
          17,
          18,
          19,
          20,
          21,
          22,
          23,
          24,
          25,
          26,
          27,
          28,
          29,
          30,
          31,
          32,
          33,
          34,
          35,
          36,
          37,
          38,
          39,
          40,
          41,
          42,
          43,
          44,
          45,
          46,
          47,
          48,
          49,
          50,
          51,
          52,
          53,
          54,
          55,
          56,
          57,
          58,
          59,
          60,
          61,
          62,
          63,
          64,
          65,
          66,
          67,
          68,
          69,
          70,
          71,
          72,
          73,
          74,
          75,
          76,
          77,
          78,
          79,
          80,
          81,
          82,
          83,
          84,
          85,
          86,
          87,
          88,
          89,
          90,
          91,
          92,
          93,
          94,
          95,
          96,
          97,
          98,
          99,
          100,
          101,
          102,
          103,
          104,
          105,
          106,
          107,
          108,
          109,
          110,
          111,
          112,
          113,
          114,
          115,
          116,
          117,
          118,
          119,
          120,
          121,
          122,
          123,
          124,
          125,
          126,
          127,
          128,
          129,
          130,
          131,
          132,
          133,
          134,
          135,
          136,
          137,
          138,
          139,
          140,
          141,
          142,
          143,
          144,
          145,
          146,
          147,
          148,
          149,
          150,
          151,
          152,
          153,
          154,
          155,
          156,
          157,
          158,
          159,
          160,
          161,
          162,
          163,
          164,
          165,
          166,
          167,
          168,
          169,
          170,
          171,
          172,
          173,
          174,
          175,
          176,
          177,
          178,
          179,
          180,
          181,
          182,
          183,
          184,
          185,
          186,
          187,
          188,
          189,
          190,
          191,
          192,
          193,
          194,
          195,
          196,
          197,
          198,
          199,
          200,
          201,
          202,
          203,
          204,
          205,
          206,
          207,
          208,
          209,
          210,
          211,
          212,
          213,
          214,
          215,
          216,
          217,
          218,
          219,
          220,
          221,
          222,
          223,
          224,
          225,
          226,
          227,
          228,
          229,
          230,
          231,
          232,
          233,
          234,
          235,
          236,
          237,
          238,
          239,
          240,
          241,
          242,
          243,
          244,
          245,
          246,
          247,
          248,
          249,
          250,
          251,
          252,
          253,
          254,
          255,
          256,
          257,
          258,
          259,
          260,
          261,
          262,
          263,
          264,
          265,
          266,
          267,
          268,
          269,
          270,
          271,
          272,
          273,
          274,
          275,
          276,
          277,
          278,
          279,
          280,
          281,
          282,
          283,
          284,
          285,
          286,
          287,
          288,
          289,
          290,
          291,
          292,
          293,
          294,
          295,
          296,
          297,
          298,
          299,
          300,
          301,
          302,
          303,
          304,
          305,
          306,
          307,
          308,
          309,
          310,
          311,
          312,
          313,
          314,
          315,
          316,
          317,
          318,
          319,
          320,
          321,
          322,
          323,
          324,
          325,
          326,
          327,
          328,
          329,
          330,
          331,
          332,
          333,
          334,
          335,
          336,
          337,
          338,
          339,
          340,
          341,
          342,
          343,
          344,
          345,
          346,
          347,
          348,
          349,
          350,
          351,
          352,
          353,
          354,
          355,
          356,
          357,
          358,
          359,
          360,
          361,
          362,
          363,
          364,
          365,
          366,
          367,
          368,
          369,
          370,
          371,
          372,
          373,
          374,
          375,
          376,
          377,
          378,
          379,
          380,
          381,
          382,
          383,
          384,
          385,
          386,
          387,
          388,
          389,
          390,
          391,
          392,
          393,
          394,
          395,
          396,
          397,
          398,
          399,
          400,
          401,
          402,
          403,
          404,
          405,
          406,
          407,
          408,
          409,
          410,
          411,
          412,
          413,
          414,
          415,
          416,
          417,
          418,
          419,
          420,
          421,
          422,
          423,
          424,
          425,
          426,
          427,
          428,
          429,
          430,
          431,
          432,
          433,
          434,
          435,
          436,
          437,
          438,
          439,
          440,
          441,
          442,
          443,
          444,
          445,
          446,
          447,
          448,
          449,
          450,
          451,
          452,
          453,
          454,
          455,
          456,
          457,
          458,
          459,
          460,
          461,
          462,
          463,
          464,
          465,
          466,
          467,
          468,
          469,
          470,
          471,
          472,
          473,
          474,
          475,
          476,
          477,
          478,
          479,
          480,
          481,
          482,
          483,
          484,
          485,
          486,
          487,
          488,
          489,
          490,
          491,
          492,
          493,
          494,
          495,
          496,
          497,
          498,
          499
         ],
         "y": [
          null,
          null,
          null,
          null,
          null,
          null,
          null,
          null,
          null,
          null,
          null,
          null,
          null,
          null,
          null,
          null,
          null,
          null,
          null,
          null,
          null,
          null,
          null,
          null,
          null,
          null,
          null,
          null,
          null,
          null,
          -0.5961774915170497,
          -0.5955464441309204,
          -0.607109714178041,
          -0.6360427327748944,
          -0.6381731799818289,
          -0.6568849209712674,
          -0.598908245864658,
          -0.6076670964806291,
          -0.598529440825708,
          -0.5902779151102526,
          -0.6167935371114871,
          -0.5891558707799902,
          -0.5776288628214467,
          -0.5856957907058886,
          -0.5881075757446069,
          -0.58745433685862,
          -0.588322311791801,
          -0.5541406035784677,
          -0.5245521839018761,
          -0.448309829592382,
          -0.49095633555459667,
          -0.4253542440319719,
          -0.40496548767683416,
          -0.3901212299014964,
          -0.42509589085042926,
          -0.42306036263296776,
          -0.43525942393327705,
          -0.44492909677578846,
          -0.4142323782588294,
          -0.34843221971925137,
          -0.4583633243477552,
          -0.45419931562763144,
          -0.4331596347226866,
          -0.41129045277150444,
          -0.4722596524186641,
          -0.4345598914298957,
          -0.44690465918459216,
          -0.4516139921358511,
          -0.4548299676290264,
          -0.4607307739240465,
          -0.5044529336161087,
          -0.5370515344711095,
          -0.5760848907990395,
          -0.6030399286393568,
          -0.6586786305819868,
          -0.5543843196931065,
          -0.5768316481279321,
          -0.5451667935286806,
          -0.49371557587268333,
          -0.5078485737614872,
          -0.47907498158624656,
          -0.42708045701069447,
          -0.42149870921534655,
          -0.4635827996359807,
          -0.45677961872415956,
          -0.45502259504227993,
          -0.44572798437259337,
          -0.4614973116937812,
          -0.45854323294135524,
          -0.4755887798053234,
          -0.3976329369973412,
          -0.46976876384606775,
          -0.5076603097100428,
          -0.5571914398743889,
          -0.5335975714370454,
          -0.542104295223929,
          -0.5520261586471303,
          -0.5274546815493345,
          -0.5000359779287498,
          -0.3949158048427117,
          -0.4609538057521921,
          -0.47671464133042096,
          -0.4751444719531095,
          -0.47565520299852976,
          -0.47308953032092765,
          -0.4836844885041927,
          -0.46875232400888917,
          -0.474084548444634,
          -0.49852815094844816,
          -0.49044188486442925,
          -0.5080334714346381,
          -0.5630684294674414,
          -0.6225322954610711,
          -0.584809034148397,
          -0.574081944855344,
          -0.5726194457023444,
          -0.5810190373171559,
          -0.5338672012551222,
          -0.5956864751315268,
          -0.5587518557330136,
          -0.5958256244580341,
          -0.5599355112672223,
          -0.5926704605822627,
          -0.5495640942128284,
          -0.48583243615501503,
          -0.46971010788700424,
          -0.40751528578120016,
          -0.4475836796228158,
          -0.44858435118894374,
          -0.4677465564559227,
          -0.4325794961651661,
          -0.39044951872634887,
          -0.40916191023105514,
          -0.40675616458439984,
          -0.4007013681215065,
          -0.39886825084486244,
          -0.4219681721944165,
          -0.4087074767797985,
          -0.4200778461474085,
          -0.40529340560608307,
          -0.4264126122123593,
          -0.46870116558755315,
          -0.4290696973949279,
          -0.42944033037218576,
          -0.4343528301875468,
          -0.4392482515577288,
          -0.4446429975276669,
          -0.44797041801480186,
          -0.5589422991142442,
          -0.6523140080542102,
          -0.7420324433164073,
          -0.654836946130765,
          -0.715399022279244,
          -0.6412007313585206,
          -0.6381070421998865,
          -0.6700544018948129,
          -0.679347298313036,
          -0.6642731516860633,
          -0.6802001668774342,
          -0.6554209992798262,
          -0.5687869590088823,
          -0.651275911142105,
          -0.6406147902829044,
          -0.6267151647374816,
          -0.6276245115067013,
          -0.6355372782423486,
          -0.5981305451354914,
          -0.6540783334421866,
          -0.6473968340912395,
          -0.6497542372205451,
          -0.6612406185386681,
          -0.6529179382380618,
          -0.6606173010472931,
          -0.664847558646926,
          -0.7050763465390425,
          -0.7276215623732581,
          -0.7519709774334526,
          -0.7199399205836765,
          -0.7198346903849465,
          -0.7155694077583725,
          -0.728856312606107,
          -0.7190535030913874,
          -0.7136117924350178,
          -0.7185355704612733,
          -0.7185868827845413,
          -0.7224007650342517,
          -0.7219645815735102,
          -0.7350065949866149,
          -0.7534675583791985,
          -0.7340225047384413,
          -0.746646963070065,
          -0.7325291597411333,
          -0.7620050375797649,
          -0.7335970248187642,
          -0.7306198397177118,
          -0.726717366068517,
          -0.6691322405206942,
          -0.6435379931997862,
          -0.6267235688537681,
          -0.5868151108104023,
          -0.6020611910277041,
          -0.6138828469693005,
          -0.6104496425737742,
          -0.6543742626371294,
          -0.558564866015594,
          -0.5237009250454376,
          -0.5171329179598771,
          -0.5587714171574497,
          -0.5201680264140117,
          -0.5902515368219599,
          -0.5061587802375503,
          -0.512762470068668,
          -0.46667055200419283,
          -0.443976435175686,
          -0.4399356919646777,
          -0.5286702508734934,
          -0.5204473528225607,
          -0.4949928386971794,
          -0.4886645965289384,
          -0.44499653056655264,
          -0.439506037828737,
          -0.45143227889553783,
          -0.4318542261387869,
          -0.45773902706570174,
          -0.462393953951752,
          -0.4324613143296816,
          -0.4300305237740206,
          -0.4154369802222391,
          -0.4266151148335217,
          -0.44283117012557976,
          -0.42430309716150566,
          -0.4248817650303684,
          -0.41936260584732576,
          -0.4021033224553053,
          -0.40170928839001774,
          -0.40883102601908294,
          -0.4294488618156636,
          -0.4416797188930572,
          -0.45836141684886833,
          -0.4209375451013487,
          -0.4389163906522647,
          -0.41452116220408375,
          -0.5289274366342653,
          -0.5930488550306157,
          -0.6902583227209292,
          -0.4763677220842975,
          -0.43705898889443806,
          -0.46625342491448823,
          -0.49122513891800235,
          -0.5711708679933992,
          -0.5257948987037252,
          -0.6168786878102538,
          -0.66013707902637,
          -0.6527249751250656,
          -0.6318149104753003,
          -0.5973808656356814,
          -0.5949220532286421,
          -0.6207296201668797,
          -0.5909219017468098,
          -0.5034707866644454,
          -0.4264557503424101,
          -0.47453708087222635,
          -0.4690299535639476,
          -0.4677067580656444,
          -0.4837511418567628,
          -0.48521358784490093,
          -0.46380644444459396,
          -0.4570686216463739,
          -0.46463264249423214,
          -0.4717079792933482,
          -0.47803444494712205,
          -0.48546666797020793,
          -0.4808535377058652,
          -0.47668958439776465,
          -0.4445453962971645,
          -0.5053350407949987,
          -0.5005248341618513,
          -0.49916373954485355,
          -0.4842976195219427,
          -0.4717531073041184,
          -0.4894029026425642,
          -0.4162857484903183,
          -0.4199909022798098,
          -0.4178022924827156,
          -0.4851367727881259,
          -0.4972614274159575,
          -0.543364936324739,
          -0.5200173615053388,
          -0.5058159266403303,
          -0.5343224920441096,
          -0.5940518813639409,
          -0.5728608136413587,
          -0.578097193807236,
          -0.5675694395812841,
          -0.5795833326081681,
          -0.5837904712187004,
          -0.6106696669784454,
          -0.6348490648617605,
          -0.6403039492838237,
          -0.6519951215758564,
          -0.6204956127119314,
          -0.6300765953440679,
          -0.6287724383831215,
          -0.6160598565796427,
          -0.6331084514562652,
          -0.60634426227655,
          -0.5975783564526403,
          -0.6321296606708571,
          -0.6212518890158658,
          -0.5769688998622835,
          -0.6191497677853914,
          -0.6379255381968985,
          -0.6273287214144482,
          -0.6445601061980433,
          -0.5817267041933148,
          -0.5644415380673724,
          -0.5108093137663365,
          -0.4937149370094366,
          -0.5411138689329349,
          -0.5589621741049616,
          -0.5308143222232676,
          -0.5115502510302458,
          -0.5706355252864578,
          -0.5753144475768255,
          -0.5392424214546192,
          -0.555479701258599,
          -0.5541383651135504,
          -0.5842407687000274,
          -0.5981971267985268,
          -0.5626667789225427,
          -0.5947415294065905,
          -0.5659218675105965,
          -0.5883453374904924,
          -0.6113637737900876,
          -0.6389895099526837,
          -0.6189625704729135,
          -0.6263631517510595,
          -0.5878931721301288,
          -0.584054169238608,
          -0.6185721041394721,
          -0.5799783347659951,
          -0.5474631390154325,
          -0.5499680477321256,
          -0.5492469148224248,
          -0.5494920749666502,
          -0.568620456277572,
          -0.5998788618058778,
          -0.6279447052621903,
          -0.59024262369477,
          -0.5885531030991553,
          -0.5868415887107761,
          -0.6201878028742299,
          -0.5368578206582637,
          -0.5801980577955768,
          -0.6177964185932168,
          -0.5464247176902509,
          -0.5818577281358015,
          -0.5061767393101204,
          -0.5711874120737935,
          -0.6513831994653796,
          -0.5499537395537498,
          -0.5670061968650342,
          -0.3716978641951371,
          -0.39369093635529834,
          -0.45554342081319843,
          -0.4577076585925425,
          -0.45813959433891366,
          -0.46468163573076604,
          -0.5179732380872837,
          -0.3822353248723228,
          -0.3738252966816956,
          -0.3660624812210775,
          -0.4062434479697506,
          -0.40507784098229493,
          -0.4400663210186059,
          -0.44259142602963847,
          -0.4374605632771534,
          -0.4111158553820651,
          -0.3893356830952141,
          -0.37268906975673544,
          -0.44777464336086314,
          -0.4446190131688797,
          -0.40557868134734604,
          -0.4134463401177752,
          -0.40495647209957353,
          -0.3980583985372978,
          -0.3924811146276781,
          -0.36997649784168923,
          -0.3628041873687653,
          -0.3032980268247069,
          -0.23544263764037107,
          -0.12498282674092692,
          -0.4291886086356352,
          -0.4358250794769949,
          -0.3133498715650048,
          -0.2948587356031241,
          -0.39830162368829036,
          -0.37816807075183506,
          -0.3568305421720573,
          -0.5072505186572055,
          -0.5097592674356991,
          -0.512654905523979,
          -0.5337266213230557,
          -0.5016028210161311,
          -0.5034413764754552,
          -0.5561084041395188,
          -0.5588338215427262,
          -0.5247024974868811,
          -0.5146392736628789,
          -0.507486251744868,
          -0.577912221450932,
          -0.48835332318152924,
          -0.5906116913965745,
          -0.5876460129405655,
          -0.609139916689345,
          -0.6052913142811621,
          -0.5669593255737203,
          -0.5832590846365986,
          -0.579099264802045,
          -0.5873938369407206,
          -0.5814838431916287,
          -0.6196497840568778,
          -0.6034398985822974,
          -0.6151484572581705,
          -0.6285146428433342,
          -0.6472345981416708,
          -0.6347247361483312,
          -0.6431146653107069,
          -0.687809120096769,
          -0.6275142334169875,
          -0.6225999318498121,
          -0.6179401331272224,
          -0.6135306999720497,
          -0.587255434036952,
          -0.6177275466066838,
          -0.5780280424715682,
          -0.572173418402734,
          -0.6073635010789821,
          -0.6331216441477867,
          -0.6575100182031852,
          -0.6205260136533612,
          -0.6574199277314368,
          -0.6113341600690333,
          -0.6346681450394853,
          -0.6026682253430454,
          -0.6037949734294832,
          -0.6321470361751977,
          -0.6112877911421871,
          -0.6131321545344336,
          -0.625386692484095,
          -0.6597370415676324,
          -0.6238834659390091,
          -0.6516018125549926,
          -0.6128048471197386,
          -0.6370182950222179,
          -0.5936202236722462,
          -0.673147113207605,
          -0.6430423119693421,
          -0.6162539514754217,
          -0.5820840447221947,
          -0.6250862264964531,
          -0.620677588026472,
          -0.5764298307028873,
          -0.6384475927158048,
          -0.5929061019111301,
          -0.583824412613381,
          -0.6461845605250109,
          -0.6215643979535632,
          -0.6232073315177282,
          -0.6702730231344596,
          -0.6492920721493658,
          -0.5889906226871706,
          -0.5968662133800504,
          -0.5695333768019766,
          -0.5370535704013961,
          -0.5603140619718183,
          -0.5599636180576064,
          -0.5399738221381079,
          -0.5245809810907218,
          -0.5146629427736058,
          -0.5112397038848093,
          -0.48121342144201534,
          -0.4893242249964551,
          -0.46901504068551997,
          -0.4678078269528972,
          -0.5048532179065368,
          -0.5164247105975407,
          -0.5303998499332103,
          -0.5448468358662468,
          -0.5447966845394406,
          -0.4704448828257339,
          -0.4978424780595231,
          -0.47683744882260287,
          -0.5075607917671697,
          -0.5510313298168391,
          -0.5751976971594843,
          -0.5480772149508909,
          -0.5460665521776235,
          -0.5764635322584188,
          -0.5241048863818275
         ]
        },
        {
         "mode": "lines",
         "name": "Log_Return vs open_time",
         "type": "scatter",
         "x": [
          0,
          1,
          2,
          3,
          4,
          5,
          6,
          7,
          8,
          9,
          10,
          11,
          12,
          13,
          14,
          15,
          16,
          17,
          18,
          19,
          20,
          21,
          22,
          23,
          24,
          25,
          26,
          27,
          28,
          29,
          30,
          31,
          32,
          33,
          34,
          35,
          36,
          37,
          38,
          39,
          40,
          41,
          42,
          43,
          44,
          45,
          46,
          47,
          48,
          49,
          50,
          51,
          52,
          53,
          54,
          55,
          56,
          57,
          58,
          59,
          60,
          61,
          62,
          63,
          64,
          65,
          66,
          67,
          68,
          69,
          70,
          71,
          72,
          73,
          74,
          75,
          76,
          77,
          78,
          79,
          80,
          81,
          82,
          83,
          84,
          85,
          86,
          87,
          88,
          89,
          90,
          91,
          92,
          93,
          94,
          95,
          96,
          97,
          98,
          99,
          100,
          101,
          102,
          103,
          104,
          105,
          106,
          107,
          108,
          109,
          110,
          111,
          112,
          113,
          114,
          115,
          116,
          117,
          118,
          119,
          120,
          121,
          122,
          123,
          124,
          125,
          126,
          127,
          128,
          129,
          130,
          131,
          132,
          133,
          134,
          135,
          136,
          137,
          138,
          139,
          140,
          141,
          142,
          143,
          144,
          145,
          146,
          147,
          148,
          149,
          150,
          151,
          152,
          153,
          154,
          155,
          156,
          157,
          158,
          159,
          160,
          161,
          162,
          163,
          164,
          165,
          166,
          167,
          168,
          169,
          170,
          171,
          172,
          173,
          174,
          175,
          176,
          177,
          178,
          179,
          180,
          181,
          182,
          183,
          184,
          185,
          186,
          187,
          188,
          189,
          190,
          191,
          192,
          193,
          194,
          195,
          196,
          197,
          198,
          199,
          200,
          201,
          202,
          203,
          204,
          205,
          206,
          207,
          208,
          209,
          210,
          211,
          212,
          213,
          214,
          215,
          216,
          217,
          218,
          219,
          220,
          221,
          222,
          223,
          224,
          225,
          226,
          227,
          228,
          229,
          230,
          231,
          232,
          233,
          234,
          235,
          236,
          237,
          238,
          239,
          240,
          241,
          242,
          243,
          244,
          245,
          246,
          247,
          248,
          249,
          250,
          251,
          252,
          253,
          254,
          255,
          256,
          257,
          258,
          259,
          260,
          261,
          262,
          263,
          264,
          265,
          266,
          267,
          268,
          269,
          270,
          271,
          272,
          273,
          274,
          275,
          276,
          277,
          278,
          279,
          280,
          281,
          282,
          283,
          284,
          285,
          286,
          287,
          288,
          289,
          290,
          291,
          292,
          293,
          294,
          295,
          296,
          297,
          298,
          299,
          300,
          301,
          302,
          303,
          304,
          305,
          306,
          307,
          308,
          309,
          310,
          311,
          312,
          313,
          314,
          315,
          316,
          317,
          318,
          319,
          320,
          321,
          322,
          323,
          324,
          325,
          326,
          327,
          328,
          329,
          330,
          331,
          332,
          333,
          334,
          335,
          336,
          337,
          338,
          339,
          340,
          341,
          342,
          343,
          344,
          345,
          346,
          347,
          348,
          349,
          350,
          351,
          352,
          353,
          354,
          355,
          356,
          357,
          358,
          359,
          360,
          361,
          362,
          363,
          364,
          365,
          366,
          367,
          368,
          369,
          370,
          371,
          372,
          373,
          374,
          375,
          376,
          377,
          378,
          379,
          380,
          381,
          382,
          383,
          384,
          385,
          386,
          387,
          388,
          389,
          390,
          391,
          392,
          393,
          394,
          395,
          396,
          397,
          398,
          399,
          400,
          401,
          402,
          403,
          404,
          405,
          406,
          407,
          408,
          409,
          410,
          411,
          412,
          413,
          414,
          415,
          416,
          417,
          418,
          419,
          420,
          421,
          422,
          423,
          424,
          425,
          426,
          427,
          428,
          429,
          430,
          431,
          432,
          433,
          434,
          435,
          436,
          437,
          438,
          439,
          440,
          441,
          442,
          443,
          444,
          445,
          446,
          447,
          448,
          449,
          450,
          451,
          452,
          453,
          454,
          455,
          456,
          457,
          458,
          459,
          460,
          461,
          462,
          463,
          464,
          465,
          466,
          467,
          468,
          469,
          470,
          471,
          472,
          473,
          474,
          475,
          476,
          477,
          478,
          479,
          480,
          481,
          482,
          483,
          484,
          485,
          486,
          487,
          488,
          489,
          490,
          491,
          492,
          493,
          494,
          495,
          496,
          497,
          498,
          499
         ],
         "y": [
          null,
          null,
          null,
          null,
          null,
          null,
          null,
          null,
          null,
          null,
          null,
          null,
          null,
          null,
          null,
          null,
          null,
          null,
          null,
          null,
          null,
          null,
          null,
          null,
          null,
          null,
          null,
          null,
          null,
          null,
          -0.07476895581434548,
          0.05093020585027553,
          0.04533335955482014,
          0.07765214474840137,
          0.005668579560645182,
          0.08820313661629135,
          0.12702049400639856,
          0.07331877595454227,
          0.05111142392921084,
          0.038932662207224134,
          0.011861082578037183,
          -0.03780863314792693,
          -0.04256889445997733,
          -0.0963047305085764,
          -0.11933047237600752,
          0.08147083028159915,
          -0.006274351142566878,
          0.060215100318695675,
          0.12169928483639682,
          0.16981622106302935,
          0.08631148118221588,
          0.06283567136442893,
          0.05633220341716492,
          0.10537898433736412,
          0.025091584458696796,
          -0.015325004366133628,
          -0.03359148782957596,
          -0.05765722327814799,
          0.07154690255840011,
          0.06612602170910017,
          -0.10976341295229794,
          0.05704707044581953,
          0.056567548674449165,
          0.06547376657125115,
          -0.040940686552448174,
          0.02769791311005928,
          -0.011508436799525559,
          0.022244858515521403,
          0.002289837278535444,
          -0.06347644920507291,
          -0.12711337013160542,
          -0.11973647009497017,
          -0.1391668014881552,
          -0.12754436133418207,
          -0.18258526542611295,
          -0.11427133979745979,
          -0.07339749667629626,
          -0.09899604995005935,
          -0.10430065058598983,
          -0.016248235755237907,
          -0.07257825191852936,
          -0.06175461409491095,
          -0.041079783568439096,
          0.011325822284062568,
          -0.009650669572574327,
          0.018240023034470882,
          0.07676864730134092,
          -0.009617423092258881,
          0.021624269040799858,
          0.089812017411455,
          -0.15547715858015362,
          0.15290197019624516,
          0.16029451234032366,
          0.16974374907794254,
          0.11313411030911007,
          -0.004826628478190039,
          0.013238085148355203,
          0.18775430355028302,
          0.17258279481395847,
          0.13590691833117532,
          0.07035474504295379,
          0.03962950522084131,
          0.02721072042329152,
          0.027772391544639435,
          -0.00854680184235489,
          -0.04589189117245275,
          -0.019811960746992086,
          -0.06741372053449811,
          -0.037079453237462756,
          -0.014298096529439908,
          -0.08298222355053965,
          -0.1580053080360282,
          -0.09269769583721392,
          -0.01713265144395756,
          0.018139353412172692,
          0.016240276415023798,
          0.07259276105170259,
          0.08348869828880377,
          -0.0626796648706964,
          -0.08889921872549789,
          -0.17016892542743883,
          0.08636128247969997,
          0.0043441852460411115,
          0.10185011454463636,
          0.11170536529685812,
          0.0230799616891414,
          0.08528558040686482,
          0.08415085322921706,
          0.0845909699504711,
          0.12360840918974747,
          0.04812883482068541,
          0.07976995094415787,
          0.03691464017985,
          0.028736574871443446,
          0.028810460097861788,
          0.023277293411622334,
          -0.028467659712178673,
          0.008482750979429849,
          -0.00993801833555879,
          0.04183680581036414,
          -0.021429139038277426,
          -0.08629946804306081,
          0.018536885610022626,
          0.01082369519618116,
          -0.0034509055298904637,
          -0.011586947345504245,
          -0.015364780484565816,
          -0.08090590906131222,
          -0.1825848282377902,
          -0.1953689391853005,
          -0.17471275835152716,
          -0.015323998126349872,
          -0.113508765413587,
          -0.0365583250441346,
          -0.0049662663541251845,
          0.06260606556926261,
          0.02521016389856401,
          -0.06435150249405959,
          -0.013152150145265466,
          -0.21469362610563977,
          -0.16773660468614912,
          0.07203496676845937,
          0.04098308435736409,
          -0.1093307367060621,
          -0.042611054211971464,
          -0.002655938502036701,
          -0.08245448025081144,
          0.06797388843555344,
          -0.02078397882577396,
          0.028906843754683515,
          0.03506137078590901,
          -0.006545711853615395,
          0.03604752057043349,
          0.10722405290790966,
          -0.02115491260150709,
          0.03192674024037748,
          0.06071547876838806,
          0.014461006845636646,
          0.01914315139992644,
          0.05730903345163742,
          -0.030878576907851236,
          -0.014433298680247307,
          -0.009311745292773304,
          0.00913367097320264,
          0.012347453761619612,
          0.039153478785917746,
          -0.020861057826905668,
          0.03848064057316308,
          0.0742387991836334,
          -0.13022982952063766,
          -0.09594406382772505,
          0.07501433375426544,
          0.07608414159676476,
          -0.059743055697634134,
          -0.011691964847865572,
          -0.041445932755183795,
          -0.17862361982204966,
          0.013096175224889624,
          -0.026352451238515675,
          -0.071659016337843,
          -0.017253869615759698,
          0.05203247225197689,
          0.050971950288732554,
          0.028278016030216867,
          -0.12811450203775324,
          -0.05779750780542508,
          -0.02731782832048839,
          0.05124526921834166,
          -0.009679973901073894,
          0.11157224903223469,
          -0.0782255590551612,
          -0.04818113764485485,
          -0.12623636976459263,
          -0.048822916632285655,
          -0.03211842524324859,
          0.15960801394532986,
          0.04483350442691402,
          0.1567002109380135,
          0.16383560859494609,
          0.06800550655145081,
          0.0652872424108911,
          0.10751476073118107,
          0.1435872366977496,
          0.11339667858737817,
          0.11482528867775513,
          0.03812438714045308,
          -0.002689448944755018,
          0.0253625980726178,
          -0.033829430273883306,
          -0.09557178702034903,
          0.0033243466638577207,
          0.08289921891536775,
          0.12635341049591972,
          -0.0494269806196136,
          -0.02315223787262376,
          -0.029375712363372324,
          -0.06930698499283204,
          -0.0685806725049683,
          -0.08582258690774092,
          -0.10339900134903211,
          -0.16963542055422173,
          -0.15198080810175676,
          -0.161180235395374,
          -0.15606486711163112,
          -0.16783156280860703,
          0.05055484041729193,
          -0.0329630452289919,
          0.15698870651722102,
          -0.05894850113393286,
          0.03652402641972917,
          -0.05821368392805569,
          0.09490202185548462,
          0.06898160445309207,
          0.026784544627378247,
          -0.06607734465685494,
          -0.05851978503223075,
          -0.0060921304177599615,
          0.03822364588315738,
          0.05472067886530124,
          0.10720364326169937,
          0.15527753841567848,
          0.06854618895911775,
          0.10543288377779429,
          0.04827762153981814,
          -0.00026482296283203655,
          0.004310592604960293,
          -0.05705595203588553,
          -0.044865616907703514,
          -0.02062627654029933,
          -0.05899621028710444,
          -0.062093525743244726,
          -0.009901684364473834,
          -0.007023549613808372,
          0.07925139558288362,
          0.11119082249715018,
          -0.05302914378714888,
          -0.050510726484172395,
          -0.0005758893151979488,
          -0.12262323689287044,
          -0.006081775407701189,
          -0.053987286544742344,
          0.15615239683280843,
          0.027699932389101928,
          -0.08509034634117683,
          -0.011915346661331863,
          -0.02307765318178409,
          -0.11095238618558913,
          0.02051088573969869,
          0.09800300701018913,
          0.1545216436983644,
          0.103545035557631,
          0.031708613250664076,
          0.12418230552120645,
          0.08784898922444923,
          -0.043938886043765744,
          -0.06003747824403004,
          -0.0888438398677799,
          -0.027290607148028178,
          -0.018319976905732376,
          -0.05994236501042735,
          -0.11573132990416561,
          0.002162137830244416,
          0.009118522510911227,
          0.07262237098173471,
          0.10676832605227123,
          -0.08236671025097748,
          -0.14862285838263975,
          -0.09240488628556161,
          -0.14555941030032749,
          -0.09368709955038837,
          0.04050473878680476,
          0.039948677363598764,
          -0.0039363791025131155,
          -0.11250181934262414,
          0.036356791525550505,
          -0.02682860384994449,
          -0.11336692935798351,
          -0.023847913296204348,
          0.06162433366944275,
          0.06229666847423864,
          -0.00842608524809561,
          -0.08458929730176037,
          0.1554582991683042,
          0.14158081642264245,
          0.061869043231018085,
          -0.021721485497413522,
          0.045795931148122054,
          0.07287545347325208,
          0.11773438846975884,
          0.041986028975981644,
          -0.08808361803829737,
          0.034511295666400876,
          0.06274370812057425,
          0.06831840046973307,
          0.07378207261197872,
          0.011650405483931628,
          -0.07425038263320646,
          -0.06776161825892052,
          -0.13838517260191205,
          -0.0877371021671637,
          0.0741830362678933,
          0.0017800503986730761,
          0.01848830400528397,
          0.008357883748422156,
          0.008896540079852227,
          -0.09516279995134655,
          -0.11641123897802683,
          -0.11266839700309511,
          -0.02937770730629043,
          -0.03415135496325312,
          -0.03330553204074325,
          -0.12744805033497691,
          0.09071126808706546,
          0.09785715751905663,
          0.09418463041313833,
          -0.028625097048547325,
          0.10804733598219035,
          -0.011721225109889906,
          0.1362355670690871,
          0.15177586026473,
          0.018631967892353274,
          0.3534836353761952,
          0.19270221458822848,
          0.13985671354086765,
          0.0323395630323577,
          0.0003645015362357423,
          0.0028088034523935964,
          -0.28070165316809575,
          -0.2435834826723051,
          -0.11036831223826624,
          -0.10528433443938337,
          -0.10039001505205543,
          0.04952890864825437,
          -0.04739288616891647,
          0.052087476072471287,
          0.04134712603574968,
          0.0055631040302859475,
          -0.1273652800162221,
          -0.11954472108219125,
          -0.11204968758194685,
          0.03330819602831803,
          -0.08884148464081823,
          -0.10851243968204104,
          -0.07723169425904737,
          -0.06735394779648034,
          -0.06058522436446001,
          -0.05434140716346494,
          -0.07759245580283537,
          -0.06953504552981032,
          -0.1214627164544067,
          -0.15504542170272514,
          -0.10477798650339296,
          0.092488959966988,
          0.08052263656228639,
          -0.08248651297658538,
          -0.08794059244625874,
          0.03849154946752413,
          -0.01024062264685093,
          0.203719392451716,
          0.013184267674543353,
          0.01656425597874805,
          0.01967376182882333,
          0.06223176638677704,
          -0.046177751755336234,
          -0.008856348669103311,
          0.06946712661278343,
          0.004096183110822652,
          -0.043781292401510796,
          -0.03675196436869947,
          -0.0297226363051277,
          0.15609273185944597,
          0.16140385480304617,
          -0.028406199655486953,
          -0.012264461621275036,
          0.07874182951697044,
          0.07801669577567957,
          0.1253740150932194,
          0.05802511588268016,
          0.056791077329067075,
          -0.052926354600810764,
          -0.06971118185907432,
          -0.03847200892061965,
          -0.0373862925866729,
          0.033872936517532704,
          -0.0832447573543668,
          -0.03798068810698612,
          -0.03586513668073096,
          0.011726614673812212,
          0.15584547634246776,
          0.04881368147772689,
          0.04742715245979472,
          0.04597808646637369,
          0.04457253987766513,
          0.029301216177975854,
          -0.0322942650628873,
          0.06896241191578668,
          0.006220988476340341,
          -0.04922000896192984,
          -0.09279181874225167,
          -0.0936209850309334,
          0.0058372006602167,
          0.13395754572052238,
          -0.07934946546701158,
          -0.03428905241226449,
          0.02798571979995684,
          0.02864940831855946,
          0.09568647022207824,
          0.019073845499306578,
          0.020374877148649485,
          -0.13120057021434617,
          -0.14900216760632942,
          0.04649519086355343,
          -0.13789173797444101,
          0.04471852777100334,
          -0.08120543093543295,
          0.011526096375761536,
          -0.15271433648354402,
          0.02550749101559035,
          0.061055852729637906,
          0.07478106587389825,
          -0.0382638844286651,
          -0.03661202344529286,
          -0.10107596923000135,
          0.07935021467956828,
          0.07541323642915007,
          0.15437426089495035,
          0.05245726613209277,
          -0.015117401236433785,
          0.02057514330910653,
          -0.07485480689393399,
          -0.13716577601136443,
          -0.04072220669479526,
          -0.0397779448675411,
          -0.0312542540946449,
          -0.07164368271747061,
          -0.006632661760045149,
          -0.0050397414500387575,
          -0.07613697607880457,
          -0.07164530069450767,
          -0.10300275002650733,
          -0.11639120900887395,
          -0.02716890773583105,
          -0.04049779885537141,
          -0.02161491329304087,
          -0.01421607936718611,
          0.14648916208671967,
          0.024763626623901316,
          0.10509543136826828,
          0.11529991070917013,
          0.1917776537257159,
          0.10180993772487089,
          0.03765979849580212,
          0.027297350854444555,
          -0.02319529004199692,
          0.09484764424048915,
          0.04973263523917076,
          0.017828282385790182,
          0.0299157169380195,
          0.1215887626581892,
          0.05083014224036804
         ]
        },
        {
         "mode": "lines",
         "name": "Log_Return vs Volatility",
         "type": "scatter",
         "x": [
          0,
          1,
          2,
          3,
          4,
          5,
          6,
          7,
          8,
          9,
          10,
          11,
          12,
          13,
          14,
          15,
          16,
          17,
          18,
          19,
          20,
          21,
          22,
          23,
          24,
          25,
          26,
          27,
          28,
          29,
          30,
          31,
          32,
          33,
          34,
          35,
          36,
          37,
          38,
          39,
          40,
          41,
          42,
          43,
          44,
          45,
          46,
          47,
          48,
          49,
          50,
          51,
          52,
          53,
          54,
          55,
          56,
          57,
          58,
          59,
          60,
          61,
          62,
          63,
          64,
          65,
          66,
          67,
          68,
          69,
          70,
          71,
          72,
          73,
          74,
          75,
          76,
          77,
          78,
          79,
          80,
          81,
          82,
          83,
          84,
          85,
          86,
          87,
          88,
          89,
          90,
          91,
          92,
          93,
          94,
          95,
          96,
          97,
          98,
          99,
          100,
          101,
          102,
          103,
          104,
          105,
          106,
          107,
          108,
          109,
          110,
          111,
          112,
          113,
          114,
          115,
          116,
          117,
          118,
          119,
          120,
          121,
          122,
          123,
          124,
          125,
          126,
          127,
          128,
          129,
          130,
          131,
          132,
          133,
          134,
          135,
          136,
          137,
          138,
          139,
          140,
          141,
          142,
          143,
          144,
          145,
          146,
          147,
          148,
          149,
          150,
          151,
          152,
          153,
          154,
          155,
          156,
          157,
          158,
          159,
          160,
          161,
          162,
          163,
          164,
          165,
          166,
          167,
          168,
          169,
          170,
          171,
          172,
          173,
          174,
          175,
          176,
          177,
          178,
          179,
          180,
          181,
          182,
          183,
          184,
          185,
          186,
          187,
          188,
          189,
          190,
          191,
          192,
          193,
          194,
          195,
          196,
          197,
          198,
          199,
          200,
          201,
          202,
          203,
          204,
          205,
          206,
          207,
          208,
          209,
          210,
          211,
          212,
          213,
          214,
          215,
          216,
          217,
          218,
          219,
          220,
          221,
          222,
          223,
          224,
          225,
          226,
          227,
          228,
          229,
          230,
          231,
          232,
          233,
          234,
          235,
          236,
          237,
          238,
          239,
          240,
          241,
          242,
          243,
          244,
          245,
          246,
          247,
          248,
          249,
          250,
          251,
          252,
          253,
          254,
          255,
          256,
          257,
          258,
          259,
          260,
          261,
          262,
          263,
          264,
          265,
          266,
          267,
          268,
          269,
          270,
          271,
          272,
          273,
          274,
          275,
          276,
          277,
          278,
          279,
          280,
          281,
          282,
          283,
          284,
          285,
          286,
          287,
          288,
          289,
          290,
          291,
          292,
          293,
          294,
          295,
          296,
          297,
          298,
          299,
          300,
          301,
          302,
          303,
          304,
          305,
          306,
          307,
          308,
          309,
          310,
          311,
          312,
          313,
          314,
          315,
          316,
          317,
          318,
          319,
          320,
          321,
          322,
          323,
          324,
          325,
          326,
          327,
          328,
          329,
          330,
          331,
          332,
          333,
          334,
          335,
          336,
          337,
          338,
          339,
          340,
          341,
          342,
          343,
          344,
          345,
          346,
          347,
          348,
          349,
          350,
          351,
          352,
          353,
          354,
          355,
          356,
          357,
          358,
          359,
          360,
          361,
          362,
          363,
          364,
          365,
          366,
          367,
          368,
          369,
          370,
          371,
          372,
          373,
          374,
          375,
          376,
          377,
          378,
          379,
          380,
          381,
          382,
          383,
          384,
          385,
          386,
          387,
          388,
          389,
          390,
          391,
          392,
          393,
          394,
          395,
          396,
          397,
          398,
          399,
          400,
          401,
          402,
          403,
          404,
          405,
          406,
          407,
          408,
          409,
          410,
          411,
          412,
          413,
          414,
          415,
          416,
          417,
          418,
          419,
          420,
          421,
          422,
          423,
          424,
          425,
          426,
          427,
          428,
          429,
          430,
          431,
          432,
          433,
          434,
          435,
          436,
          437,
          438,
          439,
          440,
          441,
          442,
          443,
          444,
          445,
          446,
          447,
          448,
          449,
          450,
          451,
          452,
          453,
          454,
          455,
          456,
          457,
          458,
          459,
          460,
          461,
          462,
          463,
          464,
          465,
          466,
          467,
          468,
          469,
          470,
          471,
          472,
          473,
          474,
          475,
          476,
          477,
          478,
          479,
          480,
          481,
          482,
          483,
          484,
          485,
          486,
          487,
          488,
          489,
          490,
          491,
          492,
          493,
          494,
          495,
          496,
          497,
          498,
          499
         ],
         "y": [
          null,
          null,
          null,
          null,
          null,
          null,
          null,
          null,
          null,
          null,
          null,
          null,
          null,
          null,
          null,
          null,
          null,
          null,
          null,
          null,
          null,
          null,
          null,
          null,
          null,
          null,
          null,
          null,
          null,
          null,
          null,
          null,
          -0.03147176216430743,
          -0.05159055073965645,
          -0.02636628810010625,
          -0.02684472649538844,
          0.007810068666349581,
          0.017456251638188845,
          0.00360624102294841,
          -0.0039279986459187025,
          0.13975560694988295,
          0.14648187124768733,
          0.15389067182255672,
          0.11806359653165172,
          0.12962459753399097,
          0.07611823476310677,
          0.06076687990435597,
          0.03485877237628711,
          0.00747538686745221,
          -0.029988096025232485,
          -0.0011223128482921497,
          -0.026717028356465576,
          -0.02472907159768127,
          -0.03541601348520698,
          -0.018314938843442378,
          -0.0133451681033855,
          -0.012140694873956038,
          0.006449793604861854,
          0.06296971915872002,
          0.06186032526246216,
          0.015427487432415878,
          0.31700039935285185,
          0.23473384929208382,
          0.23355666535866265,
          0.22666749393307004,
          0.2465783123860294,
          0.24481745967495114,
          0.2282044845064513,
          0.21363084722128925,
          0.2047475913250951,
          0.15553120303184823,
          0.1570216144139429,
          0.16317005165480095,
          0.17322287322557764,
          0.18211809070970872,
          0.2529957483455024,
          0.22043328893638978,
          0.20903629345066893,
          0.21261451579450277,
          0.22938851218688505,
          0.20877436125369508,
          0.21328485764407426,
          0.2087161427900813,
          0.18946311457073156,
          0.18177573993764196,
          0.194139802327608,
          0.17500635406098533,
          0.1720997219959092,
          0.18218091612464601,
          0.2369012977821202,
          0.28437577065875735,
          0.04815635871091857,
          0.050685619234724005,
          0.050934839493201316,
          0.02630633494004005,
          0.10923578832587293,
          0.13167299667562082,
          0.24459916285394262,
          0.27158215887428966,
          0.30627198670761724,
          0.3253665075769457,
          0.2867448439467299,
          0.28240527527421927,
          0.28474771786364467,
          0.2615522558620861,
          0.2395652466010679,
          0.3033934225267303,
          0.31601982726323136,
          0.2912476413785774,
          0.3111910761353935,
          0.30461821984977966,
          0.2863065012236887,
          0.27513011731188525,
          0.2883876280629859,
          0.28215832701755206,
          0.27958618570544436,
          0.29953001217878794,
          0.2369287318461205,
          0.16178209522654666,
          0.1496437086479234,
          0.18068381854925278,
          0.14726190758105995,
          0.11860923534772916,
          0.24707536292681645,
          0.2485444584590494,
          0.20400952527418778,
          0.20028250896486471,
          0.1550263428327712,
          0.1554540780488475,
          0.15092637836165312,
          0.13162583219484408,
          0.10297501547705663,
          0.09584534249528351,
          0.09270384129548341,
          0.09013424555833047,
          0.09219665018698205,
          0.08638132310081091,
          0.06263854463495237,
          0.09020231211829552,
          0.11234647928069391,
          0.10644046903720938,
          0.11186735381340797,
          0.11812571784207712,
          0.11625894522429248,
          0.11569958330398447,
          0.11549320639279577,
          0.10294533818823451,
          0.20855831883883102,
          0.27302513684915347,
          0.28071877165604775,
          0.26783972170740056,
          0.3151663528681861,
          0.37156706995605904,
          0.24469328484066066,
          0.22706544024721825,
          0.20918707646955786,
          0.20888977165771885,
          0.18336005005087821,
          0.16386958817911132,
          0.18427895591635968,
          0.22811325332671803,
          0.44998037821423953,
          0.44417635343848444,
          0.2796712323054929,
          0.3199258821909403,
          0.3449540716003833,
          0.35095180791645053,
          0.3954854244795081,
          0.32988891390433234,
          0.3215608673259488,
          0.31972800092474063,
          0.30646589611804925,
          0.31083141691781146,
          0.25163816739765316,
          0.23102339050496992,
          0.27483745442026525,
          0.29289327403948134,
          0.23212855410166586,
          0.23844238296286172,
          0.2503282803610233,
          0.23107787679107697,
          0.2420518709089638,
          0.2490020602668216,
          0.20402899135073424,
          0.2043553939850703,
          0.21736344069186522,
          0.24079571605720831,
          0.2310159161831992,
          0.2549820117918342,
          0.21203043700614244,
          0.19669497241555042,
          0.099360665439797,
          0.09893749643505732,
          0.16547555145516865,
          0.13352208412257008,
          0.14105594568577684,
          0.12774997127155613,
          0.045759305021500635,
          0.10049961612080477,
          0.10472915764980556,
          0.09420828973819868,
          0.10892731946751841,
          0.11108145657907365,
          0.19447242280218632,
          0.22304946741799273,
          0.13300387827037227,
          0.09808523035979969,
          0.10518011701143314,
          0.07223921113003716,
          -0.028303081432878293,
          0.06490729794037847,
          0.08396059460296887,
          0.0693833603413111,
          0.11174175721598295,
          0.11274113696940906,
          -0.02864558389102798,
          -0.14613296800235528,
          -0.049414197837370555,
          -0.05594508603907699,
          -0.06753114909475451,
          -0.062165978784414586,
          -0.06368372738184161,
          -0.08364854971786939,
          -0.08221702556823902,
          -0.08279067532364037,
          -0.13520780345051506,
          -0.15239824059009296,
          -0.10396943261011149,
          -0.11155083210592676,
          -0.10684053709738792,
          -0.11095883594018875,
          -0.15438369461560578,
          -0.16100093467579088,
          -0.14737295230167577,
          -0.14702402390899214,
          -0.14917257626005798,
          -0.13679361044593352,
          -0.14179108466904422,
          -0.1422093295644999,
          -0.05542967801897289,
          -0.06115416150834023,
          -0.07937087242497604,
          -0.10016074300840558,
          -0.0948972034701407,
          -0.0940087265826373,
          0.031353163705997486,
          0.20667725075337012,
          -0.11315892636001357,
          -0.1660979454981518,
          0.13669705478741406,
          -0.06889610780435952,
          0.10363416370277366,
          -0.011564927406411083,
          -0.008389483958496688,
          -0.01212929683698552,
          -0.010347326969334863,
          0.020224605564867288,
          -0.03542176515594047,
          -0.025918835971222482,
          -0.05795979261950653,
          -0.056225019933484666,
          -0.04085546157142401,
          -0.03235401196139968,
          -0.04073469415974313,
          -0.0049385267248547565,
          -0.004991869276563872,
          -0.016677232826680294,
          -0.013608735102757317,
          -0.026061550383742634,
          -0.07973612703314426,
          -0.07734529404143006,
          -0.10068199949729867,
          -0.06083558186065827,
          -0.01661391762266941,
          0.005545661591325905,
          0.03322252680753122,
          0.03370746790086964,
          0.06308637416914595,
          0.030719303018068123,
          -0.06557141201291007,
          0.003376033290754381,
          -0.11358827188399978,
          0.00841284951260971,
          -0.060511941264157806,
          -0.0348671235169086,
          -0.037975702074917,
          -0.10992002083655467,
          -0.05646291404605566,
          -0.045716744603129,
          -0.01566187270993935,
          0.025661213890840515,
          0.008657190311357624,
          -0.014832352982055468,
          -0.023730178725565564,
          -0.08213353819987866,
          -0.08032247235877595,
          -0.08666426785840546,
          -0.11615731581355884,
          -0.10644841778162539,
          -0.09147516995126867,
          -0.08453355700475025,
          -0.09229946494219558,
          -0.073262036155751,
          -0.10001829217373435,
          -0.1195338967273243,
          -0.14450292316997757,
          -0.13463300572292802,
          -0.16518956728276604,
          -0.1936575150680397,
          -0.15988522139245992,
          -0.1696818537389926,
          -0.17008111494763453,
          -0.19088710275817622,
          -0.1771908168252531,
          -0.16158008116333153,
          -0.13735633169304953,
          -0.05539472373949939,
          -0.09234227400020693,
          -0.16517736664459673,
          -0.1646357625283073,
          -0.21746144531707678,
          -0.16471963938659268,
          -0.15600603118045345,
          -0.13282899190691183,
          -0.0992144598862924,
          -0.06793919053708032,
          -0.07407737292954704,
          -0.06797975280746305,
          -0.046564063596965424,
          -0.040092875404795,
          -0.02532710055778699,
          0.010286085751978697,
          -0.07205999844673461,
          -0.07038268695544835,
          -0.070853765374067,
          -0.11869280843656783,
          -0.13097698342946945,
          -0.03420868937975739,
          0.01788962656803511,
          0.010085496974798984,
          0.023028831847597207,
          0.0906037771725776,
          0.08825808311662797,
          0.08737021571529414,
          0.08690289263834997,
          0.02544519665310158,
          0.03880643932434534,
          0.03833035554157269,
          0.07707718493840046,
          0.07569203017801951,
          0.07407229485280557,
          0.03998703911473472,
          0.011029794213285189,
          0.0014599809765564098,
          0.012765164395216006,
          0.011327758471434647,
          -0.03797399344957469,
          0.14157204740359944,
          -0.04066827587779214,
          -0.057963557792100225,
          0.02885686865303686,
          -0.1507566497797729,
          0.08187841251429598,
          0.02867718418637548,
          0.019626143721395737,
          0.015663420261815428,
          0.0162924961633523,
          -0.04996323048003984,
          -0.04108638515071912,
          -0.23803067383997584,
          -0.2529208327860675,
          -0.2659870450133163,
          -0.2873757733161308,
          -0.3196824155281158,
          -0.16308292801768173,
          -0.16575126883896635,
          -0.1822371568213392,
          -0.1325794557429064,
          -0.12548497970360564,
          -0.11968696231850089,
          -0.13834309032302367,
          -0.215159175286977,
          -0.22354202970056056,
          -0.21453013652141792,
          -0.21425015430950364,
          -0.2154173688594983,
          -0.21590528959871347,
          -0.2008171808232011,
          -0.20217076825425764,
          -0.17039198255778082,
          -0.16672770808570567,
          0.002602404274721925,
          0.02782953866696689,
          0.058960227689953834,
          -0.06094554569956729,
          -0.05867785256941421,
          -0.010702834602092128,
          -0.030916113837263715,
          0.05024339065454884,
          -0.20276880596819785,
          -0.13451566174619675,
          -0.1295409484277102,
          -0.10964306429020756,
          -0.07824276025892386,
          -0.08140614619347174,
          -0.0795981078651708,
          -0.09039753747783318,
          -0.11514992266667073,
          -0.11471303354763801,
          -0.11473834593836035,
          -0.14942076992091444,
          -0.11836624113687665,
          -0.08644527037446041,
          -0.07010899153574107,
          0.008820191001437943,
          0.008561093498101784,
          0.016508838937510425,
          0.01915503018360483,
          0.018870414024663933,
          0.02024689640901672,
          0.011036133867036457,
          -0.021074882334986927,
          0.011994700040184955,
          0.06957286666946183,
          0.01616369360373088,
          0.04501291486514275,
          0.0477747261357263,
          0.05274654215193864,
          0.10967338434737439,
          0.15333510747302104,
          0.17476603357726672,
          0.1705801612531428,
          0.1668148328566822,
          0.07794537202981,
          0.09219738777592365,
          0.11807957106348092,
          0.11083963776321643,
          0.1284404951000167,
          0.13898498852958618,
          0.13704446777451956,
          0.24242133194213353,
          0.16553003783801498,
          0.13515423492174927,
          0.17468331815029117,
          0.08272853747099301,
          0.08328326242049741,
          0.07070926644572208,
          0.06357702457562525,
          0.0618503245680942,
          0.07028592030626782,
          0.07795696273231452,
          -0.0025881435781206275,
          0.03297726375846454,
          -0.06714294536994737,
          0.08425674431143346,
          -0.026386162919644043,
          0.12417962827348199,
          0.05366636989994516,
          0.01689014875602896,
          0.018581224532724733,
          0.0714145416338999,
          0.0731633580714094,
          0.058392257405943844,
          0.11311141535138237,
          0.16477045240157023,
          0.11961072508140128,
          0.12416579524717848,
          0.12507332728867518,
          0.14356347145162707,
          0.109190387155645,
          0.022660605324779873,
          0.10401780314986897,
          0.10317643465044916,
          0.054726893593286335,
          0.08270130314965865,
          0.06678156921144601,
          0.06730604400811512,
          0.0722099144632565,
          0.07625961396929164,
          0.048232628453222,
          0.037063563460141766,
          0.11274191427228852,
          0.06884809505231192,
          0.008291684995820925,
          0.00702147200717483,
          -0.02816120323944975,
          -0.13890683145365745,
          -0.11566652081146776,
          -0.11965460215649801,
          -0.15578270035420672,
          -0.22863808879516404,
          -0.2122450072736374,
          -0.20941048649547958,
          -0.24195802079488551,
          -0.21062771522229917,
          -0.24971478067429673,
          -0.2582029644217631,
          -0.2547162720108087,
          -0.26832499448672564,
          -0.26955946771850464
         ]
        }
       ],
       "layout": {
        "template": {
         "data": {
          "bar": [
           {
            "error_x": {
             "color": "#2a3f5f"
            },
            "error_y": {
             "color": "#2a3f5f"
            },
            "marker": {
             "line": {
              "color": "#E5ECF6",
              "width": 0.5
             },
             "pattern": {
              "fillmode": "overlay",
              "size": 10,
              "solidity": 0.2
             }
            },
            "type": "bar"
           }
          ],
          "barpolar": [
           {
            "marker": {
             "line": {
              "color": "#E5ECF6",
              "width": 0.5
             },
             "pattern": {
              "fillmode": "overlay",
              "size": 10,
              "solidity": 0.2
             }
            },
            "type": "barpolar"
           }
          ],
          "carpet": [
           {
            "aaxis": {
             "endlinecolor": "#2a3f5f",
             "gridcolor": "white",
             "linecolor": "white",
             "minorgridcolor": "white",
             "startlinecolor": "#2a3f5f"
            },
            "baxis": {
             "endlinecolor": "#2a3f5f",
             "gridcolor": "white",
             "linecolor": "white",
             "minorgridcolor": "white",
             "startlinecolor": "#2a3f5f"
            },
            "type": "carpet"
           }
          ],
          "choropleth": [
           {
            "colorbar": {
             "outlinewidth": 0,
             "ticks": ""
            },
            "type": "choropleth"
           }
          ],
          "contour": [
           {
            "colorbar": {
             "outlinewidth": 0,
             "ticks": ""
            },
            "colorscale": [
             [
              0,
              "#0d0887"
             ],
             [
              0.1111111111111111,
              "#46039f"
             ],
             [
              0.2222222222222222,
              "#7201a8"
             ],
             [
              0.3333333333333333,
              "#9c179e"
             ],
             [
              0.4444444444444444,
              "#bd3786"
             ],
             [
              0.5555555555555556,
              "#d8576b"
             ],
             [
              0.6666666666666666,
              "#ed7953"
             ],
             [
              0.7777777777777778,
              "#fb9f3a"
             ],
             [
              0.8888888888888888,
              "#fdca26"
             ],
             [
              1,
              "#f0f921"
             ]
            ],
            "type": "contour"
           }
          ],
          "contourcarpet": [
           {
            "colorbar": {
             "outlinewidth": 0,
             "ticks": ""
            },
            "type": "contourcarpet"
           }
          ],
          "heatmap": [
           {
            "colorbar": {
             "outlinewidth": 0,
             "ticks": ""
            },
            "colorscale": [
             [
              0,
              "#0d0887"
             ],
             [
              0.1111111111111111,
              "#46039f"
             ],
             [
              0.2222222222222222,
              "#7201a8"
             ],
             [
              0.3333333333333333,
              "#9c179e"
             ],
             [
              0.4444444444444444,
              "#bd3786"
             ],
             [
              0.5555555555555556,
              "#d8576b"
             ],
             [
              0.6666666666666666,
              "#ed7953"
             ],
             [
              0.7777777777777778,
              "#fb9f3a"
             ],
             [
              0.8888888888888888,
              "#fdca26"
             ],
             [
              1,
              "#f0f921"
             ]
            ],
            "type": "heatmap"
           }
          ],
          "heatmapgl": [
           {
            "colorbar": {
             "outlinewidth": 0,
             "ticks": ""
            },
            "colorscale": [
             [
              0,
              "#0d0887"
             ],
             [
              0.1111111111111111,
              "#46039f"
             ],
             [
              0.2222222222222222,
              "#7201a8"
             ],
             [
              0.3333333333333333,
              "#9c179e"
             ],
             [
              0.4444444444444444,
              "#bd3786"
             ],
             [
              0.5555555555555556,
              "#d8576b"
             ],
             [
              0.6666666666666666,
              "#ed7953"
             ],
             [
              0.7777777777777778,
              "#fb9f3a"
             ],
             [
              0.8888888888888888,
              "#fdca26"
             ],
             [
              1,
              "#f0f921"
             ]
            ],
            "type": "heatmapgl"
           }
          ],
          "histogram": [
           {
            "marker": {
             "pattern": {
              "fillmode": "overlay",
              "size": 10,
              "solidity": 0.2
             }
            },
            "type": "histogram"
           }
          ],
          "histogram2d": [
           {
            "colorbar": {
             "outlinewidth": 0,
             "ticks": ""
            },
            "colorscale": [
             [
              0,
              "#0d0887"
             ],
             [
              0.1111111111111111,
              "#46039f"
             ],
             [
              0.2222222222222222,
              "#7201a8"
             ],
             [
              0.3333333333333333,
              "#9c179e"
             ],
             [
              0.4444444444444444,
              "#bd3786"
             ],
             [
              0.5555555555555556,
              "#d8576b"
             ],
             [
              0.6666666666666666,
              "#ed7953"
             ],
             [
              0.7777777777777778,
              "#fb9f3a"
             ],
             [
              0.8888888888888888,
              "#fdca26"
             ],
             [
              1,
              "#f0f921"
             ]
            ],
            "type": "histogram2d"
           }
          ],
          "histogram2dcontour": [
           {
            "colorbar": {
             "outlinewidth": 0,
             "ticks": ""
            },
            "colorscale": [
             [
              0,
              "#0d0887"
             ],
             [
              0.1111111111111111,
              "#46039f"
             ],
             [
              0.2222222222222222,
              "#7201a8"
             ],
             [
              0.3333333333333333,
              "#9c179e"
             ],
             [
              0.4444444444444444,
              "#bd3786"
             ],
             [
              0.5555555555555556,
              "#d8576b"
             ],
             [
              0.6666666666666666,
              "#ed7953"
             ],
             [
              0.7777777777777778,
              "#fb9f3a"
             ],
             [
              0.8888888888888888,
              "#fdca26"
             ],
             [
              1,
              "#f0f921"
             ]
            ],
            "type": "histogram2dcontour"
           }
          ],
          "mesh3d": [
           {
            "colorbar": {
             "outlinewidth": 0,
             "ticks": ""
            },
            "type": "mesh3d"
           }
          ],
          "parcoords": [
           {
            "line": {
             "colorbar": {
              "outlinewidth": 0,
              "ticks": ""
             }
            },
            "type": "parcoords"
           }
          ],
          "pie": [
           {
            "automargin": true,
            "type": "pie"
           }
          ],
          "scatter": [
           {
            "fillpattern": {
             "fillmode": "overlay",
             "size": 10,
             "solidity": 0.2
            },
            "type": "scatter"
           }
          ],
          "scatter3d": [
           {
            "line": {
             "colorbar": {
              "outlinewidth": 0,
              "ticks": ""
             }
            },
            "marker": {
             "colorbar": {
              "outlinewidth": 0,
              "ticks": ""
             }
            },
            "type": "scatter3d"
           }
          ],
          "scattercarpet": [
           {
            "marker": {
             "colorbar": {
              "outlinewidth": 0,
              "ticks": ""
             }
            },
            "type": "scattercarpet"
           }
          ],
          "scattergeo": [
           {
            "marker": {
             "colorbar": {
              "outlinewidth": 0,
              "ticks": ""
             }
            },
            "type": "scattergeo"
           }
          ],
          "scattergl": [
           {
            "marker": {
             "colorbar": {
              "outlinewidth": 0,
              "ticks": ""
             }
            },
            "type": "scattergl"
           }
          ],
          "scattermapbox": [
           {
            "marker": {
             "colorbar": {
              "outlinewidth": 0,
              "ticks": ""
             }
            },
            "type": "scattermapbox"
           }
          ],
          "scatterpolar": [
           {
            "marker": {
             "colorbar": {
              "outlinewidth": 0,
              "ticks": ""
             }
            },
            "type": "scatterpolar"
           }
          ],
          "scatterpolargl": [
           {
            "marker": {
             "colorbar": {
              "outlinewidth": 0,
              "ticks": ""
             }
            },
            "type": "scatterpolargl"
           }
          ],
          "scatterternary": [
           {
            "marker": {
             "colorbar": {
              "outlinewidth": 0,
              "ticks": ""
             }
            },
            "type": "scatterternary"
           }
          ],
          "surface": [
           {
            "colorbar": {
             "outlinewidth": 0,
             "ticks": ""
            },
            "colorscale": [
             [
              0,
              "#0d0887"
             ],
             [
              0.1111111111111111,
              "#46039f"
             ],
             [
              0.2222222222222222,
              "#7201a8"
             ],
             [
              0.3333333333333333,
              "#9c179e"
             ],
             [
              0.4444444444444444,
              "#bd3786"
             ],
             [
              0.5555555555555556,
              "#d8576b"
             ],
             [
              0.6666666666666666,
              "#ed7953"
             ],
             [
              0.7777777777777778,
              "#fb9f3a"
             ],
             [
              0.8888888888888888,
              "#fdca26"
             ],
             [
              1,
              "#f0f921"
             ]
            ],
            "type": "surface"
           }
          ],
          "table": [
           {
            "cells": {
             "fill": {
              "color": "#EBF0F8"
             },
             "line": {
              "color": "white"
             }
            },
            "header": {
             "fill": {
              "color": "#C8D4E3"
             },
             "line": {
              "color": "white"
             }
            },
            "type": "table"
           }
          ]
         },
         "layout": {
          "annotationdefaults": {
           "arrowcolor": "#2a3f5f",
           "arrowhead": 0,
           "arrowwidth": 1
          },
          "autotypenumbers": "strict",
          "coloraxis": {
           "colorbar": {
            "outlinewidth": 0,
            "ticks": ""
           }
          },
          "colorscale": {
           "diverging": [
            [
             0,
             "#8e0152"
            ],
            [
             0.1,
             "#c51b7d"
            ],
            [
             0.2,
             "#de77ae"
            ],
            [
             0.3,
             "#f1b6da"
            ],
            [
             0.4,
             "#fde0ef"
            ],
            [
             0.5,
             "#f7f7f7"
            ],
            [
             0.6,
             "#e6f5d0"
            ],
            [
             0.7,
             "#b8e186"
            ],
            [
             0.8,
             "#7fbc41"
            ],
            [
             0.9,
             "#4d9221"
            ],
            [
             1,
             "#276419"
            ]
           ],
           "sequential": [
            [
             0,
             "#0d0887"
            ],
            [
             0.1111111111111111,
             "#46039f"
            ],
            [
             0.2222222222222222,
             "#7201a8"
            ],
            [
             0.3333333333333333,
             "#9c179e"
            ],
            [
             0.4444444444444444,
             "#bd3786"
            ],
            [
             0.5555555555555556,
             "#d8576b"
            ],
            [
             0.6666666666666666,
             "#ed7953"
            ],
            [
             0.7777777777777778,
             "#fb9f3a"
            ],
            [
             0.8888888888888888,
             "#fdca26"
            ],
            [
             1,
             "#f0f921"
            ]
           ],
           "sequentialminus": [
            [
             0,
             "#0d0887"
            ],
            [
             0.1111111111111111,
             "#46039f"
            ],
            [
             0.2222222222222222,
             "#7201a8"
            ],
            [
             0.3333333333333333,
             "#9c179e"
            ],
            [
             0.4444444444444444,
             "#bd3786"
            ],
            [
             0.5555555555555556,
             "#d8576b"
            ],
            [
             0.6666666666666666,
             "#ed7953"
            ],
            [
             0.7777777777777778,
             "#fb9f3a"
            ],
            [
             0.8888888888888888,
             "#fdca26"
            ],
            [
             1,
             "#f0f921"
            ]
           ]
          },
          "colorway": [
           "#636efa",
           "#EF553B",
           "#00cc96",
           "#ab63fa",
           "#FFA15A",
           "#19d3f3",
           "#FF6692",
           "#B6E880",
           "#FF97FF",
           "#FECB52"
          ],
          "font": {
           "color": "#2a3f5f"
          },
          "geo": {
           "bgcolor": "white",
           "lakecolor": "white",
           "landcolor": "#E5ECF6",
           "showlakes": true,
           "showland": true,
           "subunitcolor": "white"
          },
          "hoverlabel": {
           "align": "left"
          },
          "hovermode": "closest",
          "mapbox": {
           "style": "light"
          },
          "paper_bgcolor": "white",
          "plot_bgcolor": "#E5ECF6",
          "polar": {
           "angularaxis": {
            "gridcolor": "white",
            "linecolor": "white",
            "ticks": ""
           },
           "bgcolor": "#E5ECF6",
           "radialaxis": {
            "gridcolor": "white",
            "linecolor": "white",
            "ticks": ""
           }
          },
          "scene": {
           "xaxis": {
            "backgroundcolor": "#E5ECF6",
            "gridcolor": "white",
            "gridwidth": 2,
            "linecolor": "white",
            "showbackground": true,
            "ticks": "",
            "zerolinecolor": "white"
           },
           "yaxis": {
            "backgroundcolor": "#E5ECF6",
            "gridcolor": "white",
            "gridwidth": 2,
            "linecolor": "white",
            "showbackground": true,
            "ticks": "",
            "zerolinecolor": "white"
           },
           "zaxis": {
            "backgroundcolor": "#E5ECF6",
            "gridcolor": "white",
            "gridwidth": 2,
            "linecolor": "white",
            "showbackground": true,
            "ticks": "",
            "zerolinecolor": "white"
           }
          },
          "shapedefaults": {
           "line": {
            "color": "#2a3f5f"
           }
          },
          "ternary": {
           "aaxis": {
            "gridcolor": "white",
            "linecolor": "white",
            "ticks": ""
           },
           "baxis": {
            "gridcolor": "white",
            "linecolor": "white",
            "ticks": ""
           },
           "bgcolor": "#E5ECF6",
           "caxis": {
            "gridcolor": "white",
            "linecolor": "white",
            "ticks": ""
           }
          },
          "title": {
           "x": 0.05
          },
          "xaxis": {
           "automargin": true,
           "gridcolor": "white",
           "linecolor": "white",
           "ticks": "",
           "title": {
            "standoff": 15
           },
           "zerolinecolor": "white",
           "zerolinewidth": 2
          },
          "yaxis": {
           "automargin": true,
           "gridcolor": "white",
           "linecolor": "white",
           "ticks": "",
           "title": {
            "standoff": 15
           },
           "zerolinecolor": "white",
           "zerolinewidth": 2
          }
         }
        },
        "title": {
         "text": "Rolling Cross-Correlation with Lag of 1 Day(s) (Window Size: 30 days)"
        },
        "xaxis": {
         "title": {
          "text": "Date"
         }
        },
        "yaxis": {
         "title": {
          "text": "Cross-Correlation"
         }
        }
       }
      }
     },
     "metadata": {},
     "output_type": "display_data"
    }
   ],
   "source": [
    "import plotly.graph_objects as go\n",
    "\n",
    "def rolling_cross_correlation_with_lag(df, window_size, lag):\n",
    "    data = df.copy()\n",
    "    traces = []\n",
    "\n",
    "    for col in data.columns:\n",
    "        if col != 'Log_Return':\n",
    "            data[f'{\"Log_Return\"}_{col}_correlation'] = data[\"Log_Return\"].rolling(window=window_size).corr(data[col].shift(lag))\n",
    "\n",
    "            # Create a scatter plot for each pair\n",
    "            trace = go.Scatter(\n",
    "                x=data.index,\n",
    "                y=data[f'{\"Log_Return\"}_{col}_correlation'],\n",
    "                mode='lines',\n",
    "                name=f'{\"Log_Return\"} vs {col}'\n",
    "            )\n",
    "            traces.append(trace)\n",
    "\n",
    "    return traces\n",
    "\n",
    "# Set the rolling window size\n",
    "window_size = 30\n",
    "\n",
    "# Set the lag for one-time interval. zero for synchronous Correlation and 1 for Lagged correlation.\n",
    "lag = 0\n",
    "cross_correlation_traces = rolling_cross_correlation_with_lag(calculateEWMA, window_size, lag)\n",
    "\n",
    "# Create layout\n",
    "layout = go.Layout(\n",
    "    title=f'Rolling Cross-Correlation with Lag of {lag} Day(s) (Window Size: {window_size} days)',\n",
    "    xaxis=dict(title='Date'),\n",
    "    yaxis=dict(title='Cross-Correlation'),\n",
    ")\n",
    "\n",
    "# Create figure\n",
    "fig = go.Figure(data=cross_correlation_traces, layout=layout)\n",
    "\n",
    "# Show the figure\n",
    "fig.show()\n",
    "\n",
    "\n",
    "lag = 1\n",
    "cross_correlation_traces_1 = rolling_cross_correlation_with_lag(calculateEWMA, window_size, lag)\n",
    "\n",
    "# Create layout\n",
    "layout = go.Layout(\n",
    "    title=f'Rolling Cross-Correlation with Lag of {lag} Day(s) (Window Size: {window_size} days)',\n",
    "    xaxis=dict(title='Date'),\n",
    "    yaxis=dict(title='Cross-Correlation'),\n",
    ")\n",
    "\n",
    "# Create figure\n",
    "fig = go.Figure(data=cross_correlation_traces_1, layout=layout)\n",
    "\n",
    "# Show the figure\n",
    "fig.show()"
   ]
  },
  {
   "cell_type": "code",
   "execution_count": 55,
   "metadata": {},
   "outputs": [
    {
     "name": "stdout",
     "output_type": "stream",
     "text": [
      "Correlation with Prices:\n",
      " [[1.         0.40834946]\n",
      " [0.40834946 1.        ]]\n",
      "Correlation with Times:\n",
      " [[ 1.00000000e+00 -7.22112916e-04]\n",
      " [-7.22112916e-04  1.00000000e+00]]\n",
      "Correlation with Volatilities:\n",
      " [[ 1.        -0.0040097]\n",
      " [-0.0040097  1.       ]]\n"
     ]
    }
   ],
   "source": [
    "import numpy as np\n",
    "\n",
    "new_df = calculateEWMA.copy()\n",
    "new_df = new_df.dropna()\n",
    "correlation_log_returns_prices = np.corrcoef(new_df['Log_Return'], new_df['closed_price'])\n",
    "correlation_log_returns_times = np.corrcoef(new_df['Log_Return'].values, new_df['open_time'].values)\n",
    "correlation_log_returns_volatilities = np.corrcoef(new_df['Log_Return'].values, new_df['Volatility'].values)\n",
    "\n",
    "print(f\"Correlation with Prices:\\n {correlation_log_returns_prices}\")\n",
    "print(f\"Correlation with Times:\\n {correlation_log_returns_times}\")\n",
    "print(f\"Correlation with Volatilities:\\n {correlation_log_returns_volatilities}\")"
   ]
  },
  {
   "cell_type": "code",
   "execution_count": 56,
   "metadata": {},
   "outputs": [],
   "source": [
    "# Since corelation does not mean causation and I don't know what type of goal are we pursuing here I am gonna leave the \n",
    "# code as it is for now."
   ]
  },
  {
   "cell_type": "code",
   "execution_count": 57,
   "metadata": {},
   "outputs": [],
   "source": [
    "# Seriously? 4 tasks? :(((\n",
    "# If someone is reading this, go get hydrated and make your spine happy by walking or doing a speedy yoga, LOL :D"
   ]
  },
  {
   "cell_type": "code",
   "execution_count": 58,
   "metadata": {},
   "outputs": [],
   "source": [
    "# 3 Cointegration Analysis\n",
    "\n",
    "# Apparantly If my data is already stationary, it implies that there is no need for cointegration testing \n",
    "# because the variables are not exhibiting long-term relationships that need to be adjusted for. and the \n",
    "# data provided here is stationary so no need of this task LOL :))))\n",
    "\n",
    "# if we wanted to analysepercentage chage we could use log-transformed price, also it can help achieve stationarity \n",
    "# if the original data is non-stationary.\n",
    "\n",
    "# Also, both here and in Task 2, I did not understand why I had three prices for one pair and assumed I needed to \n",
    "# consider different time windows. Apparently, that was not the case, so I am just going to put the code here.\n"
   ]
  },
  {
   "cell_type": "code",
   "execution_count": 59,
   "metadata": {},
   "outputs": [
    {
     "name": "stdout",
     "output_type": "stream",
     "text": [
      "\n",
      "ADF Statistic for Residuals (Price1 - Price2): -2.9560087625902676\n",
      "p-value for Residuals (Price1 - Price2): 0.03921189214204608\n",
      "Critical Values for Residuals (Price1 - Price2): {'1%': -3.4989097606014496, '5%': -2.891516256916761, '10%': -2.5827604414827157}\n"
     ]
    }
   ],
   "source": [
    "import pandas as pd\n",
    "from statsmodels.tsa.stattools import adfuller\n",
    "import plotly.graph_objects as go\n",
    "\n",
    "# The choice of cointegration analysis method depends on the nature of the data, number of time series involved\n",
    "# and our goal. For now the introduced ADF sounds like an okay test.\n",
    "\n",
    "result_pairwise_1_2 = adfuller(calculateEWMA['closed_price'].head(100).values - calculateEWMA_5['closed_price'].values)\n",
    "print('\\nADF Statistic for Residuals (Price1 - Price2):', result_pairwise_1_2[0])\n",
    "print('p-value for Residuals (Price1 - Price2):', result_pairwise_1_2[1])\n",
    "print('Critical Values for Residuals (Price1 - Price2):', result_pairwise_1_2[4])\n",
    "\n"
   ]
  },
  {
   "cell_type": "code",
   "execution_count": 60,
   "metadata": {},
   "outputs": [
    {
     "name": "stdout",
     "output_type": "stream",
     "text": [
      "Segment 1:\n",
      "\n",
      "ADF Statistic: -3.2619905981609327\n",
      "p-value: 0.016665375159032034\n",
      "Critical Values: {'1%': -3.4437936797256317, '5%': -2.867468682890213, '10%': -2.5699277594606915}\n",
      "\n",
      "\n"
     ]
    }
   ],
   "source": [
    "import pandas as pd\n",
    "from statsmodels.tsa.stattools import adfuller\n",
    "\n",
    "# Assuming you have a DataFrame df with your time series data\n",
    "# Load your data or replace this with your actual DataFrame\n",
    "# df = pd.read_csv('your_data.csv', parse_dates=True, index_col='Date')\n",
    "\n",
    "# Ensure that the DataFrame has a datetime index\n",
    "df = calculateEWMA.copy()\n",
    "df = df.dropna()\n",
    "df.index = pd.to_datetime(df.index)\n",
    "\n",
    "# Define the frequency of segmentation (e.g., 'M' for monthly)\n",
    "segment_frequency = 'M'\n",
    "\n",
    "# Split the dataset into monthly segments\n",
    "monthly_segments = [group for _, group in df.groupby(pd.Grouper(freq=segment_frequency))]\n",
    "\n",
    "# Perform cointegration tests on each segment\n",
    "for i, segment in enumerate(monthly_segments):\n",
    "    print(f\"Segment {i + 1}:\")\n",
    "    \n",
    "  \n",
    "    \n",
    "    # Perform Johansen cointegration test\n",
    "    result = adfuller(segment['closed_price'])\n",
    "    # result2 = adfuller(calculateEWMA['closed_price'])\n",
    "    print('\\nADF Statistic:', result[0])\n",
    "    print('p-value:', result[1])\n",
    "    print('Critical Values:', result[4])\n",
    "    print(\"\\n\")\n"
   ]
  },
  {
   "cell_type": "code",
   "execution_count": 61,
   "metadata": {},
   "outputs": [
    {
     "name": "stdout",
     "output_type": "stream",
     "text": [
      "Segment 1:\n",
      "ADF Test for Residuals:\n",
      "ADF Statistic: -10.55430629725934\n",
      "p-value: 8.025876302095002e-19\n",
      "Critical Values: {'1%': -3.4438771098680196, '5%': -2.867505393939065, '10%': -2.569947324764179}\n",
      "\n",
      "\n"
     ]
    }
   ],
   "source": [
    "from statsmodels.tsa.stattools import adfuller\n",
    "import statsmodels.api as sm\n",
    "\n",
    "\n",
    "# Ensure that the DataFrame has a datetime index\n",
    "df = calculateEWMA.copy()\n",
    "df.index = pd.to_datetime(df.index)\n",
    "\n",
    "# Define the frequency of segmentation (e.g., 'M' for monthly)\n",
    "segment_frequency = 'M'\n",
    "\n",
    "# Split the dataset into monthly segments\n",
    "monthly_segments = [group for _, group in df.groupby(pd.Grouper(freq=segment_frequency))]\n",
    "\n",
    "# Function to perform Engle-Granger Two-Step Cointegration Test\n",
    "def engle_granger_cointegration_test(segment):\n",
    "    # Take the first difference\n",
    "    stationary_segment = segment.diff().dropna()\n",
    "\n",
    "    # Regress one time series on the other and check if the residuals are stationary\n",
    "    y = stationary_segment[stationary_segment.columns[0]]\n",
    "    x = stationary_segment[stationary_segment.columns[1]]\n",
    "    x = sm.add_constant(x)  # Add a constant term for the intercept\n",
    "    model = sm.OLS(y, x)\n",
    "    results = model.fit()\n",
    "    residuals = results.resid\n",
    "\n",
    "    result_residual = adfuller(residuals)\n",
    "    print('ADF Test for Residuals:')\n",
    "    print(f'ADF Statistic: {result_residual[0]}')\n",
    "    print(f'p-value: {result_residual[1]}')\n",
    "    print(f'Critical Values: {result_residual[4]}')\n",
    "    print(\"\\n\")\n",
    "\n",
    "# Perform Engle-Granger Two-Step Cointegration Test for each monthly segment\n",
    "for i, segment in enumerate(monthly_segments):\n",
    "    print(f\"Segment {i + 1}:\")\n",
    "    engle_granger_cointegration_test(segment)\n"
   ]
  },
  {
   "cell_type": "code",
   "execution_count": 75,
   "metadata": {},
   "outputs": [
    {
     "name": "stdout",
     "output_type": "stream",
     "text": [
      "Not enough data for consecutive months.\n"
     ]
    },
    {
     "ename": "NameError",
     "evalue": "name 'consecutive_month_pairs' is not defined",
     "output_type": "error",
     "traceback": [
      "\u001b[0;31m---------------------------------------------------------------------------\u001b[0m",
      "\u001b[0;31mNameError\u001b[0m                                 Traceback (most recent call last)",
      "Cell \u001b[0;32mIn[75], line 25\u001b[0m\n\u001b[1;32m     22\u001b[0m     \u001b[38;5;28mprint\u001b[39m(\u001b[38;5;124m\"\u001b[39m\u001b[38;5;124mNot enough data for consecutive months.\u001b[39m\u001b[38;5;124m\"\u001b[39m)\n\u001b[1;32m     24\u001b[0m \u001b[38;5;66;03m# Perform cointegration analysis for each pair of consecutive months\u001b[39;00m\n\u001b[0;32m---> 25\u001b[0m \u001b[38;5;28;01mfor\u001b[39;00m (name1, group1), (name2, group2) \u001b[38;5;129;01min\u001b[39;00m \u001b[43mconsecutive_month_pairs\u001b[49m:\n\u001b[1;32m     26\u001b[0m     \u001b[38;5;66;03m# Assuming 'Series1' and 'Series2' are the columns you want to test for cointegration\u001b[39;00m\n\u001b[1;32m     27\u001b[0m     result \u001b[38;5;241m=\u001b[39m coint(group1[\u001b[38;5;124m'\u001b[39m\u001b[38;5;124mSeries1\u001b[39m\u001b[38;5;124m'\u001b[39m], group1[\u001b[38;5;124m'\u001b[39m\u001b[38;5;124mSeries2\u001b[39m\u001b[38;5;124m'\u001b[39m])\n\u001b[1;32m     29\u001b[0m     \u001b[38;5;66;03m# Extract cointegration coefficients\u001b[39;00m\n",
      "\u001b[0;31mNameError\u001b[0m: name 'consecutive_month_pairs' is not defined"
     ]
    }
   ],
   "source": [
    "import pandas as pd\n",
    "from statsmodels.tsa.stattools import coint\n",
    "\n",
    "\n",
    "# Assuming your DataFrame has a 'Date' column, make sure it's in datetime format\n",
    "df = calculateEWMA.copy()\n",
    "df['open_time'] = pd.to_datetime(df['open_time'])\n",
    "\n",
    "# Set the 'Date' column as the index\n",
    "df.set_index('open_time', inplace=True)\n",
    "\n",
    "monthly_segments = df.resample('M')\n",
    "\n",
    "\n",
    "# Now, you can iterate over the monthly groups or access a specific month\n",
    "if len(monthly_segments) >= 2:\n",
    "    consecutive_month_pairs = zip(monthly_segments.resample('M'), monthly_segments.resample('M')[1:])\n",
    "    for (name1, group1), (name2, group2) in consecutive_month_pairs:\n",
    "        print(f\"Pair: {name1} and {name2}\")\n",
    "        # Your further analysis code here\n",
    "else:\n",
    "    print(\"Not enough data for consecutive months.\")\n",
    "    \n",
    "# Perform cointegration analysis for each pair of consecutive months\n",
    "for (name1, group1), (name2, group2) in consecutive_month_pairs:\n",
    "    # Assuming 'Series1' and 'Series2' are the columns you want to test for cointegration\n",
    "    result = coint(group1['Series1'], group1['Series2'])\n",
    "\n",
    "    # Extract cointegration coefficients\n",
    "    alpha, beta = result[:2]\n",
    "\n",
    "    # Print the results\n",
    "    print(f\"Cointegration analysis between {name1} and {name2}\")\n",
    "    print(f\"Alpha (intercept): {alpha}\")\n",
    "    print(f\"Beta (coefficient): {beta}\")\n",
    "\n",
    "    # Add a line break for better readability\n",
    "    print('-' * 40)"
   ]
  },
  {
   "cell_type": "code",
   "execution_count": null,
   "metadata": {},
   "outputs": [],
   "source": [
    "# 4 Error Correction Model\n",
    "# Again, since I don't have enough data I just provide the code and hope it works :)))\n",
    "# Also my data is stationary so this ECM isn't even neccessary but anyways.\n",
    "\n",
    "import numpy as np\n",
    "\n",
    "def estimate_ecm_parameters(Y, X, lag=1):\n",
    "    \"\"\"\n",
    "    Estimate ECM parameters for a cointegrated pair (Y, X).\n",
    "\n",
    "    Parameters:\n",
    "    - Y: Dependent variable (numpy array)\n",
    "    - X: Independent variable (numpy array)\n",
    "    - lag: Number of lags for the differences (default is 1)\n",
    "\n",
    "    Returns:\n",
    "    - alpha: Adjustment coefficient\n",
    "    - beta: Cointegration coefficient\n",
    "    - gamma: Coefficients of lagged differences\n",
    "    \"\"\"\n",
    "\n",
    "    # Take differences\n",
    "    diff_Y = np.diff(Y, lag)\n",
    "    diff_X = np.diff(X, lag)\n",
    "\n",
    "    # Lagged differences\n",
    "    lag_diff_Y = diff_Y[:-lag]\n",
    "    lag_diff_X = diff_X[:-lag]\n",
    "\n",
    "    # Stack lagged differences\n",
    "    lagged_diffs = np.column_stack((lag_diff_Y, lag_diff_X))\n",
    "\n",
    "    # Add a constant for intercept\n",
    "    lagged_diffs_with_const = np.column_stack((np.ones_like(lag_diff_Y), lagged_diffs))\n",
    "\n",
    "    # Estimate ECM parameters using OLS\n",
    "    params = np.linalg.lstsq(lagged_diffs_with_const, diff_Y[lag:], rcond=None)[0]\n",
    "\n",
    "    # Extract parameters\n",
    "    alpha = params[0]\n",
    "    beta = params[1]\n",
    "    gamma = params[2:]\n",
    "\n",
    "    return alpha, beta, gamma\n",
    "\n",
    "def error_correction_model(Y, X, alpha, beta, gamma):\n",
    "    \"\"\"\n",
    "    Implement the Error Correction Model.\n",
    "\n",
    "    Parameters:\n",
    "    - Y: Dependent variable (numpy array)\n",
    "    - X: Independent variable (numpy array)\n",
    "    - alpha: Adjustment coefficient\n",
    "    - beta: Cointegration coefficient\n",
    "    - gamma: Coefficients of lagged differences\n",
    "\n",
    "    Returns:\n",
    "    - Residuals: Model residuals\n",
    "    \"\"\"\n",
    "\n",
    "    # Take differences\n",
    "    diff_Y = np.diff(Y)\n",
    "    diff_X = np.diff(X)\n",
    "\n",
    "    # Construct lagged differences\n",
    "    lag_diff_Y = np.roll(diff_Y, shift=1)\n",
    "    lag_diff_X = np.roll(diff_X, shift=1)\n",
    "\n",
    "    # First differences for the lagged differences\n",
    "    diff_lag_diff_Y = np.diff(lag_diff_Y)\n",
    "    diff_lag_diff_X = np.diff(lag_diff_X)\n",
    "\n",
    "    # Calculate the error correction term\n",
    "    ecm_term = alpha * (Y[:-1] - beta * X[:-1])\n",
    "\n",
    "    # Calculate the predicted differences using the estimated coefficients\n",
    "    predicted_diff_Y = alpha + beta * X[:-1] + gamma[0] * lag_diff_Y + gamma[1] * lag_diff_X\n",
    "\n",
    "    # Model residuals\n",
    "    residuals = diff_Y[1:] - predicted_diff_Y - ecm_term[1:] + diff_lag_diff_Y + gamma[2] * diff_lag_diff_X\n",
    "\n",
    "    return residuals\n",
    "\n",
    "# Example usage:\n",
    "# Assuming Y and X are numpy arrays representing time series data\n",
    "# Y = ...\n",
    "# X = ...\n",
    "\n",
    "# Estimate ECM parameters\n",
    "alpha_hat, beta_hat, gamma_hat = estimate_ecm_parameters(Y, X)\n",
    "\n",
    "# Implement ECM\n",
    "residuals = error_correction_model(Y, X, alpha_hat, beta_hat, gamma_hat)\n"
   ]
  },
  {
   "cell_type": "code",
   "execution_count": null,
   "metadata": {},
   "outputs": [],
   "source": [
    "# Thank you for the insightful entry task! It was a great learning experience, and I'm excited about the \n",
    "# possibility of contributing to financial data analysis in this company. While I may not know everything, \n",
    "# I'm eager to learn and be part of your dynamic team at Hermes Capital. Looking forward to the next steps!"
   ]
  }
 ],
 "metadata": {
  "kernelspec": {
   "display_name": "Python 3",
   "language": "python",
   "name": "python3"
  },
  "language_info": {
   "codemirror_mode": {
    "name": "ipython",
    "version": 3
   },
   "file_extension": ".py",
   "mimetype": "text/x-python",
   "name": "python",
   "nbconvert_exporter": "python",
   "pygments_lexer": "ipython3",
   "version": "3.10.6"
  }
 },
 "nbformat": 4,
 "nbformat_minor": 2
}
